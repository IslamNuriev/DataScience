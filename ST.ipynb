{
 "cells": [
  {
   "cell_type": "markdown",
   "id": "c053b606",
   "metadata": {},
   "source": [
    "# Импрортируем библиотеки"
   ]
  },
  {
   "cell_type": "code",
   "execution_count": 5,
   "id": "159d33bb",
   "metadata": {},
   "outputs": [],
   "source": [
    "import pandas as pd \n",
    "import numpy as np\n",
    "import matplotlib.pyplot as plt\n",
    "import seaborn as sns\n",
    "import scipy.stats as scs\n",
    "import scipy.signal as sig\n",
    "import statsmodels.api as sm\n",
    "from sklearn.model_selection import train_test_split\n",
    "from statsmodels.tsa.seasonal import seasonal_decompose\n",
    "from sklearn.linear_model import LinearRegression\n",
    "from sklearn.metrics import r2_score\n",
    "from sklearn import metrics\n",
    "from math import sqrt\n",
    "import math"
   ]
  },
  {
   "cell_type": "code",
   "execution_count": 6,
   "id": "fedb54e7",
   "metadata": {},
   "outputs": [],
   "source": [
    "# Метрики качества прогноза\n",
    "def MAPE(y_pred, y_true):\n",
    "    n = len(y_pred)\n",
    "    return 1 / n * sum(abs((y_true - y_pred) / y_true))\n",
    "\n",
    "def RMSE(y_pred, y_true):\n",
    "    n = len(y_pred)\n",
    "    return  np.sqrt(1 / n * sum((y_pred - y_true) ** 2))"
   ]
  },
  {
   "cell_type": "markdown",
   "id": "173a0cb1",
   "metadata": {},
   "source": [
    "# Подгрузим данные"
   ]
  },
  {
   "cell_type": "code",
   "execution_count": 4,
   "id": "f030be57",
   "metadata": {},
   "outputs": [
    {
     "ename": "URLError",
     "evalue": "<urlopen error [Errno 8] nodename nor servname provided, or not known>",
     "output_type": "error",
     "traceback": [
      "\u001b[0;31m---------------------------------------------------------------------------\u001b[0m",
      "\u001b[0;31mgaierror\u001b[0m                                  Traceback (most recent call last)",
      "\u001b[0;32m/opt/anaconda3/lib/python3.9/urllib/request.py\u001b[0m in \u001b[0;36mdo_open\u001b[0;34m(self, http_class, req, **http_conn_args)\u001b[0m\n\u001b[1;32m   1345\u001b[0m             \u001b[0;32mtry\u001b[0m\u001b[0;34m:\u001b[0m\u001b[0;34m\u001b[0m\u001b[0;34m\u001b[0m\u001b[0m\n\u001b[0;32m-> 1346\u001b[0;31m                 h.request(req.get_method(), req.selector, req.data, headers,\n\u001b[0m\u001b[1;32m   1347\u001b[0m                           encode_chunked=req.has_header('Transfer-encoding'))\n",
      "\u001b[0;32m/opt/anaconda3/lib/python3.9/http/client.py\u001b[0m in \u001b[0;36mrequest\u001b[0;34m(self, method, url, body, headers, encode_chunked)\u001b[0m\n\u001b[1;32m   1278\u001b[0m         \u001b[0;34m\"\"\"Send a complete request to the server.\"\"\"\u001b[0m\u001b[0;34m\u001b[0m\u001b[0;34m\u001b[0m\u001b[0m\n\u001b[0;32m-> 1279\u001b[0;31m         \u001b[0mself\u001b[0m\u001b[0;34m.\u001b[0m\u001b[0m_send_request\u001b[0m\u001b[0;34m(\u001b[0m\u001b[0mmethod\u001b[0m\u001b[0;34m,\u001b[0m \u001b[0murl\u001b[0m\u001b[0;34m,\u001b[0m \u001b[0mbody\u001b[0m\u001b[0;34m,\u001b[0m \u001b[0mheaders\u001b[0m\u001b[0;34m,\u001b[0m \u001b[0mencode_chunked\u001b[0m\u001b[0;34m)\u001b[0m\u001b[0;34m\u001b[0m\u001b[0;34m\u001b[0m\u001b[0m\n\u001b[0m\u001b[1;32m   1280\u001b[0m \u001b[0;34m\u001b[0m\u001b[0m\n",
      "\u001b[0;32m/opt/anaconda3/lib/python3.9/http/client.py\u001b[0m in \u001b[0;36m_send_request\u001b[0;34m(self, method, url, body, headers, encode_chunked)\u001b[0m\n\u001b[1;32m   1324\u001b[0m             \u001b[0mbody\u001b[0m \u001b[0;34m=\u001b[0m \u001b[0m_encode\u001b[0m\u001b[0;34m(\u001b[0m\u001b[0mbody\u001b[0m\u001b[0;34m,\u001b[0m \u001b[0;34m'body'\u001b[0m\u001b[0;34m)\u001b[0m\u001b[0;34m\u001b[0m\u001b[0;34m\u001b[0m\u001b[0m\n\u001b[0;32m-> 1325\u001b[0;31m         \u001b[0mself\u001b[0m\u001b[0;34m.\u001b[0m\u001b[0mendheaders\u001b[0m\u001b[0;34m(\u001b[0m\u001b[0mbody\u001b[0m\u001b[0;34m,\u001b[0m \u001b[0mencode_chunked\u001b[0m\u001b[0;34m=\u001b[0m\u001b[0mencode_chunked\u001b[0m\u001b[0;34m)\u001b[0m\u001b[0;34m\u001b[0m\u001b[0;34m\u001b[0m\u001b[0m\n\u001b[0m\u001b[1;32m   1326\u001b[0m \u001b[0;34m\u001b[0m\u001b[0m\n",
      "\u001b[0;32m/opt/anaconda3/lib/python3.9/http/client.py\u001b[0m in \u001b[0;36mendheaders\u001b[0;34m(self, message_body, encode_chunked)\u001b[0m\n\u001b[1;32m   1273\u001b[0m             \u001b[0;32mraise\u001b[0m \u001b[0mCannotSendHeader\u001b[0m\u001b[0;34m(\u001b[0m\u001b[0;34m)\u001b[0m\u001b[0;34m\u001b[0m\u001b[0;34m\u001b[0m\u001b[0m\n\u001b[0;32m-> 1274\u001b[0;31m         \u001b[0mself\u001b[0m\u001b[0;34m.\u001b[0m\u001b[0m_send_output\u001b[0m\u001b[0;34m(\u001b[0m\u001b[0mmessage_body\u001b[0m\u001b[0;34m,\u001b[0m \u001b[0mencode_chunked\u001b[0m\u001b[0;34m=\u001b[0m\u001b[0mencode_chunked\u001b[0m\u001b[0;34m)\u001b[0m\u001b[0;34m\u001b[0m\u001b[0;34m\u001b[0m\u001b[0m\n\u001b[0m\u001b[1;32m   1275\u001b[0m \u001b[0;34m\u001b[0m\u001b[0m\n",
      "\u001b[0;32m/opt/anaconda3/lib/python3.9/http/client.py\u001b[0m in \u001b[0;36m_send_output\u001b[0;34m(self, message_body, encode_chunked)\u001b[0m\n\u001b[1;32m   1033\u001b[0m         \u001b[0;32mdel\u001b[0m \u001b[0mself\u001b[0m\u001b[0;34m.\u001b[0m\u001b[0m_buffer\u001b[0m\u001b[0;34m[\u001b[0m\u001b[0;34m:\u001b[0m\u001b[0;34m]\u001b[0m\u001b[0;34m\u001b[0m\u001b[0;34m\u001b[0m\u001b[0m\n\u001b[0;32m-> 1034\u001b[0;31m         \u001b[0mself\u001b[0m\u001b[0;34m.\u001b[0m\u001b[0msend\u001b[0m\u001b[0;34m(\u001b[0m\u001b[0mmsg\u001b[0m\u001b[0;34m)\u001b[0m\u001b[0;34m\u001b[0m\u001b[0;34m\u001b[0m\u001b[0m\n\u001b[0m\u001b[1;32m   1035\u001b[0m \u001b[0;34m\u001b[0m\u001b[0m\n",
      "\u001b[0;32m/opt/anaconda3/lib/python3.9/http/client.py\u001b[0m in \u001b[0;36msend\u001b[0;34m(self, data)\u001b[0m\n\u001b[1;32m    973\u001b[0m             \u001b[0;32mif\u001b[0m \u001b[0mself\u001b[0m\u001b[0;34m.\u001b[0m\u001b[0mauto_open\u001b[0m\u001b[0;34m:\u001b[0m\u001b[0;34m\u001b[0m\u001b[0;34m\u001b[0m\u001b[0m\n\u001b[0;32m--> 974\u001b[0;31m                 \u001b[0mself\u001b[0m\u001b[0;34m.\u001b[0m\u001b[0mconnect\u001b[0m\u001b[0;34m(\u001b[0m\u001b[0;34m)\u001b[0m\u001b[0;34m\u001b[0m\u001b[0;34m\u001b[0m\u001b[0m\n\u001b[0m\u001b[1;32m    975\u001b[0m             \u001b[0;32melse\u001b[0m\u001b[0;34m:\u001b[0m\u001b[0;34m\u001b[0m\u001b[0;34m\u001b[0m\u001b[0m\n",
      "\u001b[0;32m/opt/anaconda3/lib/python3.9/http/client.py\u001b[0m in \u001b[0;36mconnect\u001b[0;34m(self)\u001b[0m\n\u001b[1;32m   1440\u001b[0m \u001b[0;34m\u001b[0m\u001b[0m\n\u001b[0;32m-> 1441\u001b[0;31m             \u001b[0msuper\u001b[0m\u001b[0;34m(\u001b[0m\u001b[0;34m)\u001b[0m\u001b[0;34m.\u001b[0m\u001b[0mconnect\u001b[0m\u001b[0;34m(\u001b[0m\u001b[0;34m)\u001b[0m\u001b[0;34m\u001b[0m\u001b[0;34m\u001b[0m\u001b[0m\n\u001b[0m\u001b[1;32m   1442\u001b[0m \u001b[0;34m\u001b[0m\u001b[0m\n",
      "\u001b[0;32m/opt/anaconda3/lib/python3.9/http/client.py\u001b[0m in \u001b[0;36mconnect\u001b[0;34m(self)\u001b[0m\n\u001b[1;32m    944\u001b[0m         \u001b[0;34m\"\"\"Connect to the host and port specified in __init__.\"\"\"\u001b[0m\u001b[0;34m\u001b[0m\u001b[0;34m\u001b[0m\u001b[0m\n\u001b[0;32m--> 945\u001b[0;31m         self.sock = self._create_connection(\n\u001b[0m\u001b[1;32m    946\u001b[0m             (self.host,self.port), self.timeout, self.source_address)\n",
      "\u001b[0;32m/opt/anaconda3/lib/python3.9/socket.py\u001b[0m in \u001b[0;36mcreate_connection\u001b[0;34m(address, timeout, source_address)\u001b[0m\n\u001b[1;32m    822\u001b[0m     \u001b[0merr\u001b[0m \u001b[0;34m=\u001b[0m \u001b[0;32mNone\u001b[0m\u001b[0;34m\u001b[0m\u001b[0;34m\u001b[0m\u001b[0m\n\u001b[0;32m--> 823\u001b[0;31m     \u001b[0;32mfor\u001b[0m \u001b[0mres\u001b[0m \u001b[0;32min\u001b[0m \u001b[0mgetaddrinfo\u001b[0m\u001b[0;34m(\u001b[0m\u001b[0mhost\u001b[0m\u001b[0;34m,\u001b[0m \u001b[0mport\u001b[0m\u001b[0;34m,\u001b[0m \u001b[0;36m0\u001b[0m\u001b[0;34m,\u001b[0m \u001b[0mSOCK_STREAM\u001b[0m\u001b[0;34m)\u001b[0m\u001b[0;34m:\u001b[0m\u001b[0;34m\u001b[0m\u001b[0;34m\u001b[0m\u001b[0m\n\u001b[0m\u001b[1;32m    824\u001b[0m         \u001b[0maf\u001b[0m\u001b[0;34m,\u001b[0m \u001b[0msocktype\u001b[0m\u001b[0;34m,\u001b[0m \u001b[0mproto\u001b[0m\u001b[0;34m,\u001b[0m \u001b[0mcanonname\u001b[0m\u001b[0;34m,\u001b[0m \u001b[0msa\u001b[0m \u001b[0;34m=\u001b[0m \u001b[0mres\u001b[0m\u001b[0;34m\u001b[0m\u001b[0;34m\u001b[0m\u001b[0m\n",
      "\u001b[0;32m/opt/anaconda3/lib/python3.9/socket.py\u001b[0m in \u001b[0;36mgetaddrinfo\u001b[0;34m(host, port, family, type, proto, flags)\u001b[0m\n\u001b[1;32m    953\u001b[0m     \u001b[0maddrlist\u001b[0m \u001b[0;34m=\u001b[0m \u001b[0;34m[\u001b[0m\u001b[0;34m]\u001b[0m\u001b[0;34m\u001b[0m\u001b[0;34m\u001b[0m\u001b[0m\n\u001b[0;32m--> 954\u001b[0;31m     \u001b[0;32mfor\u001b[0m \u001b[0mres\u001b[0m \u001b[0;32min\u001b[0m \u001b[0m_socket\u001b[0m\u001b[0;34m.\u001b[0m\u001b[0mgetaddrinfo\u001b[0m\u001b[0;34m(\u001b[0m\u001b[0mhost\u001b[0m\u001b[0;34m,\u001b[0m \u001b[0mport\u001b[0m\u001b[0;34m,\u001b[0m \u001b[0mfamily\u001b[0m\u001b[0;34m,\u001b[0m \u001b[0mtype\u001b[0m\u001b[0;34m,\u001b[0m \u001b[0mproto\u001b[0m\u001b[0;34m,\u001b[0m \u001b[0mflags\u001b[0m\u001b[0;34m)\u001b[0m\u001b[0;34m:\u001b[0m\u001b[0;34m\u001b[0m\u001b[0;34m\u001b[0m\u001b[0m\n\u001b[0m\u001b[1;32m    955\u001b[0m         \u001b[0maf\u001b[0m\u001b[0;34m,\u001b[0m \u001b[0msocktype\u001b[0m\u001b[0;34m,\u001b[0m \u001b[0mproto\u001b[0m\u001b[0;34m,\u001b[0m \u001b[0mcanonname\u001b[0m\u001b[0;34m,\u001b[0m \u001b[0msa\u001b[0m \u001b[0;34m=\u001b[0m \u001b[0mres\u001b[0m\u001b[0;34m\u001b[0m\u001b[0;34m\u001b[0m\u001b[0m\n",
      "\u001b[0;31mgaierror\u001b[0m: [Errno 8] nodename nor servname provided, or not known",
      "\nDuring handling of the above exception, another exception occurred:\n",
      "\u001b[0;31mURLError\u001b[0m                                  Traceback (most recent call last)",
      "\u001b[0;32m/var/folders/xg/h722qvkn3v52q98vgjfm47280000gn/T/ipykernel_32110/1360145959.py\u001b[0m in \u001b[0;36m<module>\u001b[0;34m\u001b[0m\n\u001b[0;32m----> 1\u001b[0;31m \u001b[0mdf\u001b[0m \u001b[0;34m=\u001b[0m \u001b[0mpd\u001b[0m\u001b[0;34m.\u001b[0m\u001b[0mread_csv\u001b[0m\u001b[0;34m(\u001b[0m\u001b[0;34m'https://raw.githubusercontent.com/selva86/datasets/master/a10.csv'\u001b[0m\u001b[0;34m,\u001b[0m \u001b[0mparse_dates\u001b[0m\u001b[0;34m=\u001b[0m\u001b[0;34m[\u001b[0m\u001b[0;34m'date'\u001b[0m\u001b[0;34m]\u001b[0m\u001b[0;34m,\u001b[0m \u001b[0mindex_col\u001b[0m\u001b[0;34m=\u001b[0m\u001b[0;34m'date'\u001b[0m\u001b[0;34m)\u001b[0m\u001b[0;34m\u001b[0m\u001b[0;34m\u001b[0m\u001b[0m\n\u001b[0m\u001b[1;32m      2\u001b[0m \u001b[0;34m\u001b[0m\u001b[0m\n\u001b[1;32m      3\u001b[0m \u001b[0;32mdef\u001b[0m \u001b[0mplot_df\u001b[0m\u001b[0;34m(\u001b[0m\u001b[0mdf\u001b[0m\u001b[0;34m,\u001b[0m \u001b[0mx\u001b[0m\u001b[0;34m,\u001b[0m \u001b[0my\u001b[0m\u001b[0;34m,\u001b[0m \u001b[0mtitle\u001b[0m\u001b[0;34m=\u001b[0m\u001b[0;34m\"\"\u001b[0m\u001b[0;34m,\u001b[0m \u001b[0mxlabel\u001b[0m\u001b[0;34m=\u001b[0m\u001b[0;34m'Date'\u001b[0m\u001b[0;34m,\u001b[0m \u001b[0mylabel\u001b[0m\u001b[0;34m=\u001b[0m\u001b[0;34m'Value'\u001b[0m\u001b[0;34m,\u001b[0m \u001b[0mdpi\u001b[0m\u001b[0;34m=\u001b[0m\u001b[0;36m100\u001b[0m\u001b[0;34m,\u001b[0m \u001b[0mstyle\u001b[0m \u001b[0;34m=\u001b[0m \u001b[0;34m'bmh'\u001b[0m\u001b[0;34m)\u001b[0m\u001b[0;34m:\u001b[0m\u001b[0;34m\u001b[0m\u001b[0;34m\u001b[0m\u001b[0m\n\u001b[1;32m      4\u001b[0m     \u001b[0;32mwith\u001b[0m \u001b[0mplt\u001b[0m\u001b[0;34m.\u001b[0m\u001b[0mstyle\u001b[0m\u001b[0;34m.\u001b[0m\u001b[0mcontext\u001b[0m\u001b[0;34m(\u001b[0m\u001b[0mstyle\u001b[0m\u001b[0;34m)\u001b[0m\u001b[0;34m:\u001b[0m\u001b[0;34m\u001b[0m\u001b[0;34m\u001b[0m\u001b[0m\n\u001b[1;32m      5\u001b[0m         \u001b[0mplt\u001b[0m\u001b[0;34m.\u001b[0m\u001b[0mfigure\u001b[0m\u001b[0;34m(\u001b[0m\u001b[0mfigsize\u001b[0m\u001b[0;34m=\u001b[0m\u001b[0;34m(\u001b[0m\u001b[0;36m16\u001b[0m\u001b[0;34m,\u001b[0m\u001b[0;36m5\u001b[0m\u001b[0;34m)\u001b[0m\u001b[0;34m,\u001b[0m \u001b[0mdpi\u001b[0m\u001b[0;34m=\u001b[0m\u001b[0mdpi\u001b[0m\u001b[0;34m)\u001b[0m\u001b[0;34m\u001b[0m\u001b[0;34m\u001b[0m\u001b[0m\n",
      "\u001b[0;32m/opt/anaconda3/lib/python3.9/site-packages/pandas/util/_decorators.py\u001b[0m in \u001b[0;36mwrapper\u001b[0;34m(*args, **kwargs)\u001b[0m\n\u001b[1;32m    209\u001b[0m                 \u001b[0;32melse\u001b[0m\u001b[0;34m:\u001b[0m\u001b[0;34m\u001b[0m\u001b[0;34m\u001b[0m\u001b[0m\n\u001b[1;32m    210\u001b[0m                     \u001b[0mkwargs\u001b[0m\u001b[0;34m[\u001b[0m\u001b[0mnew_arg_name\u001b[0m\u001b[0;34m]\u001b[0m \u001b[0;34m=\u001b[0m \u001b[0mnew_arg_value\u001b[0m\u001b[0;34m\u001b[0m\u001b[0;34m\u001b[0m\u001b[0m\n\u001b[0;32m--> 211\u001b[0;31m             \u001b[0;32mreturn\u001b[0m \u001b[0mfunc\u001b[0m\u001b[0;34m(\u001b[0m\u001b[0;34m*\u001b[0m\u001b[0margs\u001b[0m\u001b[0;34m,\u001b[0m \u001b[0;34m**\u001b[0m\u001b[0mkwargs\u001b[0m\u001b[0;34m)\u001b[0m\u001b[0;34m\u001b[0m\u001b[0;34m\u001b[0m\u001b[0m\n\u001b[0m\u001b[1;32m    212\u001b[0m \u001b[0;34m\u001b[0m\u001b[0m\n\u001b[1;32m    213\u001b[0m         \u001b[0;32mreturn\u001b[0m \u001b[0mcast\u001b[0m\u001b[0;34m(\u001b[0m\u001b[0mF\u001b[0m\u001b[0;34m,\u001b[0m \u001b[0mwrapper\u001b[0m\u001b[0;34m)\u001b[0m\u001b[0;34m\u001b[0m\u001b[0;34m\u001b[0m\u001b[0m\n",
      "\u001b[0;32m/opt/anaconda3/lib/python3.9/site-packages/pandas/util/_decorators.py\u001b[0m in \u001b[0;36mwrapper\u001b[0;34m(*args, **kwargs)\u001b[0m\n\u001b[1;32m    329\u001b[0m                     \u001b[0mstacklevel\u001b[0m\u001b[0;34m=\u001b[0m\u001b[0mfind_stack_level\u001b[0m\u001b[0;34m(\u001b[0m\u001b[0;34m)\u001b[0m\u001b[0;34m,\u001b[0m\u001b[0;34m\u001b[0m\u001b[0;34m\u001b[0m\u001b[0m\n\u001b[1;32m    330\u001b[0m                 )\n\u001b[0;32m--> 331\u001b[0;31m             \u001b[0;32mreturn\u001b[0m \u001b[0mfunc\u001b[0m\u001b[0;34m(\u001b[0m\u001b[0;34m*\u001b[0m\u001b[0margs\u001b[0m\u001b[0;34m,\u001b[0m \u001b[0;34m**\u001b[0m\u001b[0mkwargs\u001b[0m\u001b[0;34m)\u001b[0m\u001b[0;34m\u001b[0m\u001b[0;34m\u001b[0m\u001b[0m\n\u001b[0m\u001b[1;32m    332\u001b[0m \u001b[0;34m\u001b[0m\u001b[0m\n\u001b[1;32m    333\u001b[0m         \u001b[0;31m# error: \"Callable[[VarArg(Any), KwArg(Any)], Any]\" has no\u001b[0m\u001b[0;34m\u001b[0m\u001b[0;34m\u001b[0m\u001b[0m\n",
      "\u001b[0;32m/opt/anaconda3/lib/python3.9/site-packages/pandas/io/parsers/readers.py\u001b[0m in \u001b[0;36mread_csv\u001b[0;34m(filepath_or_buffer, sep, delimiter, header, names, index_col, usecols, squeeze, prefix, mangle_dupe_cols, dtype, engine, converters, true_values, false_values, skipinitialspace, skiprows, skipfooter, nrows, na_values, keep_default_na, na_filter, verbose, skip_blank_lines, parse_dates, infer_datetime_format, keep_date_col, date_parser, dayfirst, cache_dates, iterator, chunksize, compression, thousands, decimal, lineterminator, quotechar, quoting, doublequote, escapechar, comment, encoding, encoding_errors, dialect, error_bad_lines, warn_bad_lines, on_bad_lines, delim_whitespace, low_memory, memory_map, float_precision, storage_options)\u001b[0m\n\u001b[1;32m    948\u001b[0m     \u001b[0mkwds\u001b[0m\u001b[0;34m.\u001b[0m\u001b[0mupdate\u001b[0m\u001b[0;34m(\u001b[0m\u001b[0mkwds_defaults\u001b[0m\u001b[0;34m)\u001b[0m\u001b[0;34m\u001b[0m\u001b[0;34m\u001b[0m\u001b[0m\n\u001b[1;32m    949\u001b[0m \u001b[0;34m\u001b[0m\u001b[0m\n\u001b[0;32m--> 950\u001b[0;31m     \u001b[0;32mreturn\u001b[0m \u001b[0m_read\u001b[0m\u001b[0;34m(\u001b[0m\u001b[0mfilepath_or_buffer\u001b[0m\u001b[0;34m,\u001b[0m \u001b[0mkwds\u001b[0m\u001b[0;34m)\u001b[0m\u001b[0;34m\u001b[0m\u001b[0;34m\u001b[0m\u001b[0m\n\u001b[0m\u001b[1;32m    951\u001b[0m \u001b[0;34m\u001b[0m\u001b[0m\n\u001b[1;32m    952\u001b[0m \u001b[0;34m\u001b[0m\u001b[0m\n",
      "\u001b[0;32m/opt/anaconda3/lib/python3.9/site-packages/pandas/io/parsers/readers.py\u001b[0m in \u001b[0;36m_read\u001b[0;34m(filepath_or_buffer, kwds)\u001b[0m\n\u001b[1;32m    603\u001b[0m \u001b[0;34m\u001b[0m\u001b[0m\n\u001b[1;32m    604\u001b[0m     \u001b[0;31m# Create the parser.\u001b[0m\u001b[0;34m\u001b[0m\u001b[0;34m\u001b[0m\u001b[0m\n\u001b[0;32m--> 605\u001b[0;31m     \u001b[0mparser\u001b[0m \u001b[0;34m=\u001b[0m \u001b[0mTextFileReader\u001b[0m\u001b[0;34m(\u001b[0m\u001b[0mfilepath_or_buffer\u001b[0m\u001b[0;34m,\u001b[0m \u001b[0;34m**\u001b[0m\u001b[0mkwds\u001b[0m\u001b[0;34m)\u001b[0m\u001b[0;34m\u001b[0m\u001b[0;34m\u001b[0m\u001b[0m\n\u001b[0m\u001b[1;32m    606\u001b[0m \u001b[0;34m\u001b[0m\u001b[0m\n\u001b[1;32m    607\u001b[0m     \u001b[0;32mif\u001b[0m \u001b[0mchunksize\u001b[0m \u001b[0;32mor\u001b[0m \u001b[0miterator\u001b[0m\u001b[0;34m:\u001b[0m\u001b[0;34m\u001b[0m\u001b[0;34m\u001b[0m\u001b[0m\n",
      "\u001b[0;32m/opt/anaconda3/lib/python3.9/site-packages/pandas/io/parsers/readers.py\u001b[0m in \u001b[0;36m__init__\u001b[0;34m(self, f, engine, **kwds)\u001b[0m\n\u001b[1;32m   1440\u001b[0m \u001b[0;34m\u001b[0m\u001b[0m\n\u001b[1;32m   1441\u001b[0m         \u001b[0mself\u001b[0m\u001b[0;34m.\u001b[0m\u001b[0mhandles\u001b[0m\u001b[0;34m:\u001b[0m \u001b[0mIOHandles\u001b[0m \u001b[0;34m|\u001b[0m \u001b[0;32mNone\u001b[0m \u001b[0;34m=\u001b[0m \u001b[0;32mNone\u001b[0m\u001b[0;34m\u001b[0m\u001b[0;34m\u001b[0m\u001b[0m\n\u001b[0;32m-> 1442\u001b[0;31m         \u001b[0mself\u001b[0m\u001b[0;34m.\u001b[0m\u001b[0m_engine\u001b[0m \u001b[0;34m=\u001b[0m \u001b[0mself\u001b[0m\u001b[0;34m.\u001b[0m\u001b[0m_make_engine\u001b[0m\u001b[0;34m(\u001b[0m\u001b[0mf\u001b[0m\u001b[0;34m,\u001b[0m \u001b[0mself\u001b[0m\u001b[0;34m.\u001b[0m\u001b[0mengine\u001b[0m\u001b[0;34m)\u001b[0m\u001b[0;34m\u001b[0m\u001b[0;34m\u001b[0m\u001b[0m\n\u001b[0m\u001b[1;32m   1443\u001b[0m \u001b[0;34m\u001b[0m\u001b[0m\n\u001b[1;32m   1444\u001b[0m     \u001b[0;32mdef\u001b[0m \u001b[0mclose\u001b[0m\u001b[0;34m(\u001b[0m\u001b[0mself\u001b[0m\u001b[0;34m)\u001b[0m \u001b[0;34m->\u001b[0m \u001b[0;32mNone\u001b[0m\u001b[0;34m:\u001b[0m\u001b[0;34m\u001b[0m\u001b[0;34m\u001b[0m\u001b[0m\n",
      "\u001b[0;32m/opt/anaconda3/lib/python3.9/site-packages/pandas/io/parsers/readers.py\u001b[0m in \u001b[0;36m_make_engine\u001b[0;34m(self, f, engine)\u001b[0m\n\u001b[1;32m   1733\u001b[0m                 \u001b[0;32mif\u001b[0m \u001b[0;34m\"b\"\u001b[0m \u001b[0;32mnot\u001b[0m \u001b[0;32min\u001b[0m \u001b[0mmode\u001b[0m\u001b[0;34m:\u001b[0m\u001b[0;34m\u001b[0m\u001b[0;34m\u001b[0m\u001b[0m\n\u001b[1;32m   1734\u001b[0m                     \u001b[0mmode\u001b[0m \u001b[0;34m+=\u001b[0m \u001b[0;34m\"b\"\u001b[0m\u001b[0;34m\u001b[0m\u001b[0;34m\u001b[0m\u001b[0m\n\u001b[0;32m-> 1735\u001b[0;31m             self.handles = get_handle(\n\u001b[0m\u001b[1;32m   1736\u001b[0m                 \u001b[0mf\u001b[0m\u001b[0;34m,\u001b[0m\u001b[0;34m\u001b[0m\u001b[0;34m\u001b[0m\u001b[0m\n\u001b[1;32m   1737\u001b[0m                 \u001b[0mmode\u001b[0m\u001b[0;34m,\u001b[0m\u001b[0;34m\u001b[0m\u001b[0;34m\u001b[0m\u001b[0m\n",
      "\u001b[0;32m/opt/anaconda3/lib/python3.9/site-packages/pandas/io/common.py\u001b[0m in \u001b[0;36mget_handle\u001b[0;34m(path_or_buf, mode, encoding, compression, memory_map, is_text, errors, storage_options)\u001b[0m\n\u001b[1;32m    711\u001b[0m \u001b[0;34m\u001b[0m\u001b[0m\n\u001b[1;32m    712\u001b[0m     \u001b[0;31m# open URLs\u001b[0m\u001b[0;34m\u001b[0m\u001b[0;34m\u001b[0m\u001b[0m\n\u001b[0;32m--> 713\u001b[0;31m     ioargs = _get_filepath_or_buffer(\n\u001b[0m\u001b[1;32m    714\u001b[0m         \u001b[0mpath_or_buf\u001b[0m\u001b[0;34m,\u001b[0m\u001b[0;34m\u001b[0m\u001b[0;34m\u001b[0m\u001b[0m\n\u001b[1;32m    715\u001b[0m         \u001b[0mencoding\u001b[0m\u001b[0;34m=\u001b[0m\u001b[0mencoding\u001b[0m\u001b[0;34m,\u001b[0m\u001b[0;34m\u001b[0m\u001b[0;34m\u001b[0m\u001b[0m\n",
      "\u001b[0;32m/opt/anaconda3/lib/python3.9/site-packages/pandas/io/common.py\u001b[0m in \u001b[0;36m_get_filepath_or_buffer\u001b[0;34m(filepath_or_buffer, encoding, compression, mode, storage_options)\u001b[0m\n\u001b[1;32m    361\u001b[0m         \u001b[0;31m# assuming storage_options is to be interpreted as headers\u001b[0m\u001b[0;34m\u001b[0m\u001b[0;34m\u001b[0m\u001b[0m\n\u001b[1;32m    362\u001b[0m         \u001b[0mreq_info\u001b[0m \u001b[0;34m=\u001b[0m \u001b[0murllib\u001b[0m\u001b[0;34m.\u001b[0m\u001b[0mrequest\u001b[0m\u001b[0;34m.\u001b[0m\u001b[0mRequest\u001b[0m\u001b[0;34m(\u001b[0m\u001b[0mfilepath_or_buffer\u001b[0m\u001b[0;34m,\u001b[0m \u001b[0mheaders\u001b[0m\u001b[0;34m=\u001b[0m\u001b[0mstorage_options\u001b[0m\u001b[0;34m)\u001b[0m\u001b[0;34m\u001b[0m\u001b[0;34m\u001b[0m\u001b[0m\n\u001b[0;32m--> 363\u001b[0;31m         \u001b[0;32mwith\u001b[0m \u001b[0murlopen\u001b[0m\u001b[0;34m(\u001b[0m\u001b[0mreq_info\u001b[0m\u001b[0;34m)\u001b[0m \u001b[0;32mas\u001b[0m \u001b[0mreq\u001b[0m\u001b[0;34m:\u001b[0m\u001b[0;34m\u001b[0m\u001b[0;34m\u001b[0m\u001b[0m\n\u001b[0m\u001b[1;32m    364\u001b[0m             \u001b[0mcontent_encoding\u001b[0m \u001b[0;34m=\u001b[0m \u001b[0mreq\u001b[0m\u001b[0;34m.\u001b[0m\u001b[0mheaders\u001b[0m\u001b[0;34m.\u001b[0m\u001b[0mget\u001b[0m\u001b[0;34m(\u001b[0m\u001b[0;34m\"Content-Encoding\"\u001b[0m\u001b[0;34m,\u001b[0m \u001b[0;32mNone\u001b[0m\u001b[0;34m)\u001b[0m\u001b[0;34m\u001b[0m\u001b[0;34m\u001b[0m\u001b[0m\n\u001b[1;32m    365\u001b[0m             \u001b[0;32mif\u001b[0m \u001b[0mcontent_encoding\u001b[0m \u001b[0;34m==\u001b[0m \u001b[0;34m\"gzip\"\u001b[0m\u001b[0;34m:\u001b[0m\u001b[0;34m\u001b[0m\u001b[0;34m\u001b[0m\u001b[0m\n",
      "\u001b[0;32m/opt/anaconda3/lib/python3.9/site-packages/pandas/io/common.py\u001b[0m in \u001b[0;36murlopen\u001b[0;34m(*args, **kwargs)\u001b[0m\n\u001b[1;32m    263\u001b[0m     \u001b[0;32mimport\u001b[0m \u001b[0murllib\u001b[0m\u001b[0;34m.\u001b[0m\u001b[0mrequest\u001b[0m\u001b[0;34m\u001b[0m\u001b[0;34m\u001b[0m\u001b[0m\n\u001b[1;32m    264\u001b[0m \u001b[0;34m\u001b[0m\u001b[0m\n\u001b[0;32m--> 265\u001b[0;31m     \u001b[0;32mreturn\u001b[0m \u001b[0murllib\u001b[0m\u001b[0;34m.\u001b[0m\u001b[0mrequest\u001b[0m\u001b[0;34m.\u001b[0m\u001b[0murlopen\u001b[0m\u001b[0;34m(\u001b[0m\u001b[0;34m*\u001b[0m\u001b[0margs\u001b[0m\u001b[0;34m,\u001b[0m \u001b[0;34m**\u001b[0m\u001b[0mkwargs\u001b[0m\u001b[0;34m)\u001b[0m\u001b[0;34m\u001b[0m\u001b[0;34m\u001b[0m\u001b[0m\n\u001b[0m\u001b[1;32m    266\u001b[0m \u001b[0;34m\u001b[0m\u001b[0m\n\u001b[1;32m    267\u001b[0m \u001b[0;34m\u001b[0m\u001b[0m\n",
      "\u001b[0;32m/opt/anaconda3/lib/python3.9/urllib/request.py\u001b[0m in \u001b[0;36murlopen\u001b[0;34m(url, data, timeout, cafile, capath, cadefault, context)\u001b[0m\n\u001b[1;32m    212\u001b[0m     \u001b[0;32melse\u001b[0m\u001b[0;34m:\u001b[0m\u001b[0;34m\u001b[0m\u001b[0;34m\u001b[0m\u001b[0m\n\u001b[1;32m    213\u001b[0m         \u001b[0mopener\u001b[0m \u001b[0;34m=\u001b[0m \u001b[0m_opener\u001b[0m\u001b[0;34m\u001b[0m\u001b[0;34m\u001b[0m\u001b[0m\n\u001b[0;32m--> 214\u001b[0;31m     \u001b[0;32mreturn\u001b[0m \u001b[0mopener\u001b[0m\u001b[0;34m.\u001b[0m\u001b[0mopen\u001b[0m\u001b[0;34m(\u001b[0m\u001b[0murl\u001b[0m\u001b[0;34m,\u001b[0m \u001b[0mdata\u001b[0m\u001b[0;34m,\u001b[0m \u001b[0mtimeout\u001b[0m\u001b[0;34m)\u001b[0m\u001b[0;34m\u001b[0m\u001b[0;34m\u001b[0m\u001b[0m\n\u001b[0m\u001b[1;32m    215\u001b[0m \u001b[0;34m\u001b[0m\u001b[0m\n\u001b[1;32m    216\u001b[0m \u001b[0;32mdef\u001b[0m \u001b[0minstall_opener\u001b[0m\u001b[0;34m(\u001b[0m\u001b[0mopener\u001b[0m\u001b[0;34m)\u001b[0m\u001b[0;34m:\u001b[0m\u001b[0;34m\u001b[0m\u001b[0;34m\u001b[0m\u001b[0m\n",
      "\u001b[0;32m/opt/anaconda3/lib/python3.9/urllib/request.py\u001b[0m in \u001b[0;36mopen\u001b[0;34m(self, fullurl, data, timeout)\u001b[0m\n\u001b[1;32m    515\u001b[0m \u001b[0;34m\u001b[0m\u001b[0m\n\u001b[1;32m    516\u001b[0m         \u001b[0msys\u001b[0m\u001b[0;34m.\u001b[0m\u001b[0maudit\u001b[0m\u001b[0;34m(\u001b[0m\u001b[0;34m'urllib.Request'\u001b[0m\u001b[0;34m,\u001b[0m \u001b[0mreq\u001b[0m\u001b[0;34m.\u001b[0m\u001b[0mfull_url\u001b[0m\u001b[0;34m,\u001b[0m \u001b[0mreq\u001b[0m\u001b[0;34m.\u001b[0m\u001b[0mdata\u001b[0m\u001b[0;34m,\u001b[0m \u001b[0mreq\u001b[0m\u001b[0;34m.\u001b[0m\u001b[0mheaders\u001b[0m\u001b[0;34m,\u001b[0m \u001b[0mreq\u001b[0m\u001b[0;34m.\u001b[0m\u001b[0mget_method\u001b[0m\u001b[0;34m(\u001b[0m\u001b[0;34m)\u001b[0m\u001b[0;34m)\u001b[0m\u001b[0;34m\u001b[0m\u001b[0;34m\u001b[0m\u001b[0m\n\u001b[0;32m--> 517\u001b[0;31m         \u001b[0mresponse\u001b[0m \u001b[0;34m=\u001b[0m \u001b[0mself\u001b[0m\u001b[0;34m.\u001b[0m\u001b[0m_open\u001b[0m\u001b[0;34m(\u001b[0m\u001b[0mreq\u001b[0m\u001b[0;34m,\u001b[0m \u001b[0mdata\u001b[0m\u001b[0;34m)\u001b[0m\u001b[0;34m\u001b[0m\u001b[0;34m\u001b[0m\u001b[0m\n\u001b[0m\u001b[1;32m    518\u001b[0m \u001b[0;34m\u001b[0m\u001b[0m\n\u001b[1;32m    519\u001b[0m         \u001b[0;31m# post-process response\u001b[0m\u001b[0;34m\u001b[0m\u001b[0;34m\u001b[0m\u001b[0m\n",
      "\u001b[0;32m/opt/anaconda3/lib/python3.9/urllib/request.py\u001b[0m in \u001b[0;36m_open\u001b[0;34m(self, req, data)\u001b[0m\n\u001b[1;32m    532\u001b[0m \u001b[0;34m\u001b[0m\u001b[0m\n\u001b[1;32m    533\u001b[0m         \u001b[0mprotocol\u001b[0m \u001b[0;34m=\u001b[0m \u001b[0mreq\u001b[0m\u001b[0;34m.\u001b[0m\u001b[0mtype\u001b[0m\u001b[0;34m\u001b[0m\u001b[0;34m\u001b[0m\u001b[0m\n\u001b[0;32m--> 534\u001b[0;31m         result = self._call_chain(self.handle_open, protocol, protocol +\n\u001b[0m\u001b[1;32m    535\u001b[0m                                   '_open', req)\n\u001b[1;32m    536\u001b[0m         \u001b[0;32mif\u001b[0m \u001b[0mresult\u001b[0m\u001b[0;34m:\u001b[0m\u001b[0;34m\u001b[0m\u001b[0;34m\u001b[0m\u001b[0m\n",
      "\u001b[0;32m/opt/anaconda3/lib/python3.9/urllib/request.py\u001b[0m in \u001b[0;36m_call_chain\u001b[0;34m(self, chain, kind, meth_name, *args)\u001b[0m\n\u001b[1;32m    492\u001b[0m         \u001b[0;32mfor\u001b[0m \u001b[0mhandler\u001b[0m \u001b[0;32min\u001b[0m \u001b[0mhandlers\u001b[0m\u001b[0;34m:\u001b[0m\u001b[0;34m\u001b[0m\u001b[0;34m\u001b[0m\u001b[0m\n\u001b[1;32m    493\u001b[0m             \u001b[0mfunc\u001b[0m \u001b[0;34m=\u001b[0m \u001b[0mgetattr\u001b[0m\u001b[0;34m(\u001b[0m\u001b[0mhandler\u001b[0m\u001b[0;34m,\u001b[0m \u001b[0mmeth_name\u001b[0m\u001b[0;34m)\u001b[0m\u001b[0;34m\u001b[0m\u001b[0;34m\u001b[0m\u001b[0m\n\u001b[0;32m--> 494\u001b[0;31m             \u001b[0mresult\u001b[0m \u001b[0;34m=\u001b[0m \u001b[0mfunc\u001b[0m\u001b[0;34m(\u001b[0m\u001b[0;34m*\u001b[0m\u001b[0margs\u001b[0m\u001b[0;34m)\u001b[0m\u001b[0;34m\u001b[0m\u001b[0;34m\u001b[0m\u001b[0m\n\u001b[0m\u001b[1;32m    495\u001b[0m             \u001b[0;32mif\u001b[0m \u001b[0mresult\u001b[0m \u001b[0;32mis\u001b[0m \u001b[0;32mnot\u001b[0m \u001b[0;32mNone\u001b[0m\u001b[0;34m:\u001b[0m\u001b[0;34m\u001b[0m\u001b[0;34m\u001b[0m\u001b[0m\n\u001b[1;32m    496\u001b[0m                 \u001b[0;32mreturn\u001b[0m \u001b[0mresult\u001b[0m\u001b[0;34m\u001b[0m\u001b[0;34m\u001b[0m\u001b[0m\n",
      "\u001b[0;32m/opt/anaconda3/lib/python3.9/urllib/request.py\u001b[0m in \u001b[0;36mhttps_open\u001b[0;34m(self, req)\u001b[0m\n\u001b[1;32m   1387\u001b[0m \u001b[0;34m\u001b[0m\u001b[0m\n\u001b[1;32m   1388\u001b[0m         \u001b[0;32mdef\u001b[0m \u001b[0mhttps_open\u001b[0m\u001b[0;34m(\u001b[0m\u001b[0mself\u001b[0m\u001b[0;34m,\u001b[0m \u001b[0mreq\u001b[0m\u001b[0;34m)\u001b[0m\u001b[0;34m:\u001b[0m\u001b[0;34m\u001b[0m\u001b[0;34m\u001b[0m\u001b[0m\n\u001b[0;32m-> 1389\u001b[0;31m             return self.do_open(http.client.HTTPSConnection, req,\n\u001b[0m\u001b[1;32m   1390\u001b[0m                 context=self._context, check_hostname=self._check_hostname)\n\u001b[1;32m   1391\u001b[0m \u001b[0;34m\u001b[0m\u001b[0m\n",
      "\u001b[0;32m/opt/anaconda3/lib/python3.9/urllib/request.py\u001b[0m in \u001b[0;36mdo_open\u001b[0;34m(self, http_class, req, **http_conn_args)\u001b[0m\n\u001b[1;32m   1347\u001b[0m                           encode_chunked=req.has_header('Transfer-encoding'))\n\u001b[1;32m   1348\u001b[0m             \u001b[0;32mexcept\u001b[0m \u001b[0mOSError\u001b[0m \u001b[0;32mas\u001b[0m \u001b[0merr\u001b[0m\u001b[0;34m:\u001b[0m \u001b[0;31m# timeout error\u001b[0m\u001b[0;34m\u001b[0m\u001b[0;34m\u001b[0m\u001b[0m\n\u001b[0;32m-> 1349\u001b[0;31m                 \u001b[0;32mraise\u001b[0m \u001b[0mURLError\u001b[0m\u001b[0;34m(\u001b[0m\u001b[0merr\u001b[0m\u001b[0;34m)\u001b[0m\u001b[0;34m\u001b[0m\u001b[0;34m\u001b[0m\u001b[0m\n\u001b[0m\u001b[1;32m   1350\u001b[0m             \u001b[0mr\u001b[0m \u001b[0;34m=\u001b[0m \u001b[0mh\u001b[0m\u001b[0;34m.\u001b[0m\u001b[0mgetresponse\u001b[0m\u001b[0;34m(\u001b[0m\u001b[0;34m)\u001b[0m\u001b[0;34m\u001b[0m\u001b[0;34m\u001b[0m\u001b[0m\n\u001b[1;32m   1351\u001b[0m         \u001b[0;32mexcept\u001b[0m\u001b[0;34m:\u001b[0m\u001b[0;34m\u001b[0m\u001b[0;34m\u001b[0m\u001b[0m\n",
      "\u001b[0;31mURLError\u001b[0m: <urlopen error [Errno 8] nodename nor servname provided, or not known>"
     ]
    }
   ],
   "source": [
    "df = pd.read_csv('https://raw.githubusercontent.com/selva86/datasets/master/a10.csv', parse_dates=['date'], index_col='date')\n",
    "\n",
    "def plot_df(df, x, y, title=\"\", xlabel='Date', ylabel='Value', dpi=100, style = 'bmh'):\n",
    "    with plt.style.context(style):\n",
    "        plt.figure(figsize=(16,5), dpi=dpi)\n",
    "        plt.plot(x, y, color='tab:blue')\n",
    "        plt.gca().set(title=title, xlabel=xlabel, ylabel=ylabel)\n",
    "        plt.show()\n",
    "\n",
    "plot_df(df, x=df.index, y=df.value, title='Monthly anti-diabetic drug sales in Australia from 1992 to 2008.')"
   ]
  },
  {
   "cell_type": "markdown",
   "id": "fa3d10ce",
   "metadata": {},
   "source": [
    "### Предобработка данных"
   ]
  },
  {
   "cell_type": "markdown",
   "id": "152b6239",
   "metadata": {},
   "source": [
    "#### Переменные тренда"
   ]
  },
  {
   "cell_type": "code",
   "execution_count": 5,
   "id": "211ecc6e",
   "metadata": {},
   "outputs": [],
   "source": [
    "trend_features = pd.DataFrame(index=df.index)\n",
    "trend_features['t'] = [x for x in range(1,len(df)+1)]\n",
    "trend_features['t2'] = [x**2 for x in range(1,len(df)+1)]"
   ]
  },
  {
   "cell_type": "markdown",
   "id": "5fa72726",
   "metadata": {},
   "source": [
    "#### Переменные сезонности"
   ]
  },
  {
   "cell_type": "code",
   "execution_count": 45,
   "id": "2b9486f1",
   "metadata": {},
   "outputs": [],
   "source": [
    "df['month'] = [x.month_name() for x in df.reset_index()['date']]\n",
    "seasonal_features = pd.get_dummies(df['month'],drop_first = True)"
   ]
  },
  {
   "cell_type": "markdown",
   "id": "e5ef4073",
   "metadata": {},
   "source": [
    "#### Итоговый датасет"
   ]
  },
  {
   "cell_type": "code",
   "execution_count": 60,
   "id": "82719f5a",
   "metadata": {},
   "outputs": [
    {
     "data": {
      "text/plain": [
       "1.0986122886681098"
      ]
     },
     "execution_count": 60,
     "metadata": {},
     "output_type": "execute_result"
    }
   ],
   "source": [
    "np.log(3)"
   ]
  },
  {
   "cell_type": "code",
   "execution_count": 53,
   "id": "2df5f86d",
   "metadata": {},
   "outputs": [
    {
     "data": {
      "text/html": [
       "<div>\n",
       "<style scoped>\n",
       "    .dataframe tbody tr th:only-of-type {\n",
       "        vertical-align: middle;\n",
       "    }\n",
       "\n",
       "    .dataframe tbody tr th {\n",
       "        vertical-align: top;\n",
       "    }\n",
       "\n",
       "    .dataframe thead th {\n",
       "        text-align: right;\n",
       "    }\n",
       "</style>\n",
       "<table border=\"1\" class=\"dataframe\">\n",
       "  <thead>\n",
       "    <tr style=\"text-align: right;\">\n",
       "      <th></th>\n",
       "      <th>August</th>\n",
       "      <th>December</th>\n",
       "      <th>February</th>\n",
       "      <th>January</th>\n",
       "      <th>July</th>\n",
       "      <th>June</th>\n",
       "      <th>March</th>\n",
       "      <th>May</th>\n",
       "      <th>November</th>\n",
       "      <th>October</th>\n",
       "      <th>September</th>\n",
       "    </tr>\n",
       "    <tr>\n",
       "      <th>date</th>\n",
       "      <th></th>\n",
       "      <th></th>\n",
       "      <th></th>\n",
       "      <th></th>\n",
       "      <th></th>\n",
       "      <th></th>\n",
       "      <th></th>\n",
       "      <th></th>\n",
       "      <th></th>\n",
       "      <th></th>\n",
       "      <th></th>\n",
       "    </tr>\n",
       "  </thead>\n",
       "  <tbody>\n",
       "    <tr>\n",
       "      <th>1991-07-01</th>\n",
       "      <td>0</td>\n",
       "      <td>0</td>\n",
       "      <td>0</td>\n",
       "      <td>0</td>\n",
       "      <td>1</td>\n",
       "      <td>0</td>\n",
       "      <td>0</td>\n",
       "      <td>0</td>\n",
       "      <td>0</td>\n",
       "      <td>0</td>\n",
       "      <td>0</td>\n",
       "    </tr>\n",
       "    <tr>\n",
       "      <th>1991-08-01</th>\n",
       "      <td>1</td>\n",
       "      <td>0</td>\n",
       "      <td>0</td>\n",
       "      <td>0</td>\n",
       "      <td>0</td>\n",
       "      <td>0</td>\n",
       "      <td>0</td>\n",
       "      <td>0</td>\n",
       "      <td>0</td>\n",
       "      <td>0</td>\n",
       "      <td>0</td>\n",
       "    </tr>\n",
       "    <tr>\n",
       "      <th>1991-09-01</th>\n",
       "      <td>0</td>\n",
       "      <td>0</td>\n",
       "      <td>0</td>\n",
       "      <td>0</td>\n",
       "      <td>0</td>\n",
       "      <td>0</td>\n",
       "      <td>0</td>\n",
       "      <td>0</td>\n",
       "      <td>0</td>\n",
       "      <td>0</td>\n",
       "      <td>1</td>\n",
       "    </tr>\n",
       "    <tr>\n",
       "      <th>1991-10-01</th>\n",
       "      <td>0</td>\n",
       "      <td>0</td>\n",
       "      <td>0</td>\n",
       "      <td>0</td>\n",
       "      <td>0</td>\n",
       "      <td>0</td>\n",
       "      <td>0</td>\n",
       "      <td>0</td>\n",
       "      <td>0</td>\n",
       "      <td>1</td>\n",
       "      <td>0</td>\n",
       "    </tr>\n",
       "    <tr>\n",
       "      <th>1991-11-01</th>\n",
       "      <td>0</td>\n",
       "      <td>0</td>\n",
       "      <td>0</td>\n",
       "      <td>0</td>\n",
       "      <td>0</td>\n",
       "      <td>0</td>\n",
       "      <td>0</td>\n",
       "      <td>0</td>\n",
       "      <td>1</td>\n",
       "      <td>0</td>\n",
       "      <td>0</td>\n",
       "    </tr>\n",
       "    <tr>\n",
       "      <th>...</th>\n",
       "      <td>...</td>\n",
       "      <td>...</td>\n",
       "      <td>...</td>\n",
       "      <td>...</td>\n",
       "      <td>...</td>\n",
       "      <td>...</td>\n",
       "      <td>...</td>\n",
       "      <td>...</td>\n",
       "      <td>...</td>\n",
       "      <td>...</td>\n",
       "      <td>...</td>\n",
       "    </tr>\n",
       "    <tr>\n",
       "      <th>2008-02-01</th>\n",
       "      <td>0</td>\n",
       "      <td>0</td>\n",
       "      <td>1</td>\n",
       "      <td>0</td>\n",
       "      <td>0</td>\n",
       "      <td>0</td>\n",
       "      <td>0</td>\n",
       "      <td>0</td>\n",
       "      <td>0</td>\n",
       "      <td>0</td>\n",
       "      <td>0</td>\n",
       "    </tr>\n",
       "    <tr>\n",
       "      <th>2008-03-01</th>\n",
       "      <td>0</td>\n",
       "      <td>0</td>\n",
       "      <td>0</td>\n",
       "      <td>0</td>\n",
       "      <td>0</td>\n",
       "      <td>0</td>\n",
       "      <td>1</td>\n",
       "      <td>0</td>\n",
       "      <td>0</td>\n",
       "      <td>0</td>\n",
       "      <td>0</td>\n",
       "    </tr>\n",
       "    <tr>\n",
       "      <th>2008-04-01</th>\n",
       "      <td>0</td>\n",
       "      <td>0</td>\n",
       "      <td>0</td>\n",
       "      <td>0</td>\n",
       "      <td>0</td>\n",
       "      <td>0</td>\n",
       "      <td>0</td>\n",
       "      <td>0</td>\n",
       "      <td>0</td>\n",
       "      <td>0</td>\n",
       "      <td>0</td>\n",
       "    </tr>\n",
       "    <tr>\n",
       "      <th>2008-05-01</th>\n",
       "      <td>0</td>\n",
       "      <td>0</td>\n",
       "      <td>0</td>\n",
       "      <td>0</td>\n",
       "      <td>0</td>\n",
       "      <td>0</td>\n",
       "      <td>0</td>\n",
       "      <td>1</td>\n",
       "      <td>0</td>\n",
       "      <td>0</td>\n",
       "      <td>0</td>\n",
       "    </tr>\n",
       "    <tr>\n",
       "      <th>2008-06-01</th>\n",
       "      <td>0</td>\n",
       "      <td>0</td>\n",
       "      <td>0</td>\n",
       "      <td>0</td>\n",
       "      <td>0</td>\n",
       "      <td>1</td>\n",
       "      <td>0</td>\n",
       "      <td>0</td>\n",
       "      <td>0</td>\n",
       "      <td>0</td>\n",
       "      <td>0</td>\n",
       "    </tr>\n",
       "  </tbody>\n",
       "</table>\n",
       "<p>204 rows × 11 columns</p>\n",
       "</div>"
      ],
      "text/plain": [
       "            August  December  February  January  July  June  March  May  \\\n",
       "date                                                                      \n",
       "1991-07-01       0         0         0        0     1     0      0    0   \n",
       "1991-08-01       1         0         0        0     0     0      0    0   \n",
       "1991-09-01       0         0         0        0     0     0      0    0   \n",
       "1991-10-01       0         0         0        0     0     0      0    0   \n",
       "1991-11-01       0         0         0        0     0     0      0    0   \n",
       "...            ...       ...       ...      ...   ...   ...    ...  ...   \n",
       "2008-02-01       0         0         1        0     0     0      0    0   \n",
       "2008-03-01       0         0         0        0     0     0      1    0   \n",
       "2008-04-01       0         0         0        0     0     0      0    0   \n",
       "2008-05-01       0         0         0        0     0     0      0    1   \n",
       "2008-06-01       0         0         0        0     0     1      0    0   \n",
       "\n",
       "            November  October  September  \n",
       "date                                      \n",
       "1991-07-01         0        0          0  \n",
       "1991-08-01         0        0          0  \n",
       "1991-09-01         0        0          1  \n",
       "1991-10-01         0        1          0  \n",
       "1991-11-01         1        0          0  \n",
       "...              ...      ...        ...  \n",
       "2008-02-01         0        0          0  \n",
       "2008-03-01         0        0          0  \n",
       "2008-04-01         0        0          0  \n",
       "2008-05-01         0        0          0  \n",
       "2008-06-01         0        0          0  \n",
       "\n",
       "[204 rows x 11 columns]"
      ]
     },
     "execution_count": 53,
     "metadata": {},
     "output_type": "execute_result"
    }
   ],
   "source": [
    "seasonal_features"
   ]
  },
  {
   "cell_type": "code",
   "execution_count": 7,
   "id": "29493efa",
   "metadata": {},
   "outputs": [],
   "source": [
    "X=pd.concat([trend_features,seasonal_features],axis=1)\n",
    "y=df['value']\n",
    "\n",
    "y_log=np.log(y) # для реализации модели log-lin\n",
    "\n",
    "data = pd.concat([X,y],axis=1) # DataFrame для кросс-валидации "
   ]
  },
  {
   "cell_type": "markdown",
   "id": "8018364c",
   "metadata": {},
   "source": [
    "#### Выделение обучающей и тестовой выборки"
   ]
  },
  {
   "cell_type": "code",
   "execution_count": 64,
   "id": "2a743cec",
   "metadata": {},
   "outputs": [
    {
     "data": {
      "text/html": [
       "<div>\n",
       "<style scoped>\n",
       "    .dataframe tbody tr th:only-of-type {\n",
       "        vertical-align: middle;\n",
       "    }\n",
       "\n",
       "    .dataframe tbody tr th {\n",
       "        vertical-align: top;\n",
       "    }\n",
       "\n",
       "    .dataframe thead th {\n",
       "        text-align: right;\n",
       "    }\n",
       "</style>\n",
       "<table border=\"1\" class=\"dataframe\">\n",
       "  <thead>\n",
       "    <tr style=\"text-align: right;\">\n",
       "      <th></th>\n",
       "      <th>value</th>\n",
       "      <th>month</th>\n",
       "    </tr>\n",
       "    <tr>\n",
       "      <th>date</th>\n",
       "      <th></th>\n",
       "      <th></th>\n",
       "    </tr>\n",
       "  </thead>\n",
       "  <tbody>\n",
       "    <tr>\n",
       "      <th>1991-07-01</th>\n",
       "      <td>3.526591</td>\n",
       "      <td>July</td>\n",
       "    </tr>\n",
       "    <tr>\n",
       "      <th>1991-08-01</th>\n",
       "      <td>3.180891</td>\n",
       "      <td>August</td>\n",
       "    </tr>\n",
       "    <tr>\n",
       "      <th>1991-09-01</th>\n",
       "      <td>3.252221</td>\n",
       "      <td>September</td>\n",
       "    </tr>\n",
       "    <tr>\n",
       "      <th>1991-10-01</th>\n",
       "      <td>3.611003</td>\n",
       "      <td>October</td>\n",
       "    </tr>\n",
       "    <tr>\n",
       "      <th>1991-11-01</th>\n",
       "      <td>3.565869</td>\n",
       "      <td>November</td>\n",
       "    </tr>\n",
       "    <tr>\n",
       "      <th>...</th>\n",
       "      <td>...</td>\n",
       "      <td>...</td>\n",
       "    </tr>\n",
       "    <tr>\n",
       "      <th>2008-02-01</th>\n",
       "      <td>21.654285</td>\n",
       "      <td>February</td>\n",
       "    </tr>\n",
       "    <tr>\n",
       "      <th>2008-03-01</th>\n",
       "      <td>18.264945</td>\n",
       "      <td>March</td>\n",
       "    </tr>\n",
       "    <tr>\n",
       "      <th>2008-04-01</th>\n",
       "      <td>23.107677</td>\n",
       "      <td>April</td>\n",
       "    </tr>\n",
       "    <tr>\n",
       "      <th>2008-05-01</th>\n",
       "      <td>22.912510</td>\n",
       "      <td>May</td>\n",
       "    </tr>\n",
       "    <tr>\n",
       "      <th>2008-06-01</th>\n",
       "      <td>19.431740</td>\n",
       "      <td>June</td>\n",
       "    </tr>\n",
       "  </tbody>\n",
       "</table>\n",
       "<p>204 rows × 2 columns</p>\n",
       "</div>"
      ],
      "text/plain": [
       "                value      month\n",
       "date                            \n",
       "1991-07-01   3.526591       July\n",
       "1991-08-01   3.180891     August\n",
       "1991-09-01   3.252221  September\n",
       "1991-10-01   3.611003    October\n",
       "1991-11-01   3.565869   November\n",
       "...               ...        ...\n",
       "2008-02-01  21.654285   February\n",
       "2008-03-01  18.264945      March\n",
       "2008-04-01  23.107677      April\n",
       "2008-05-01  22.912510        May\n",
       "2008-06-01  19.431740       June\n",
       "\n",
       "[204 rows x 2 columns]"
      ]
     },
     "execution_count": 64,
     "metadata": {},
     "output_type": "execute_result"
    }
   ],
   "source": [
    "df"
   ]
  },
  {
   "cell_type": "code",
   "execution_count": 8,
   "id": "5d7c8ac3",
   "metadata": {},
   "outputs": [],
   "source": [
    "horizon = 12\n",
    "# Обучающая выборка\n",
    "X_train = X.head(-horizon) # или X[:-horizon]\n",
    "y_train = y.head(-horizon) \n",
    "\n",
    "y_train_log = y_log.head(-horizon)\n",
    "y_test_log = y_log.tail(horizon)\n",
    "\n",
    "# Выборка на валидацию (проверка качества) модели (тестовая выборка)\n",
    "X_test = X.tail(horizon) # или X[-horizon:]\n",
    "y_test = y.tail(horizon)"
   ]
  },
  {
   "cell_type": "markdown",
   "id": "92242382",
   "metadata": {},
   "source": [
    "### Построение моделей"
   ]
  },
  {
   "cell_type": "markdown",
   "id": "8e9c3f0d",
   "metadata": {},
   "source": [
    "#### Списки названий факторов"
   ]
  },
  {
   "cell_type": "code",
   "execution_count": 9,
   "id": "b6c48c64",
   "metadata": {},
   "outputs": [],
   "source": [
    "features_list1 = ['t']\n",
    "features_list2 = ['t','t2']\n",
    "features_list3 = features_list1 + seasonal_features.columns.to_list()\n",
    "features_list4 = features_list2 + seasonal_features.columns.to_list()"
   ]
  },
  {
   "cell_type": "markdown",
   "id": "34c62b7a",
   "metadata": {},
   "source": [
    "#### Модели в абсолютных значениях"
   ]
  },
  {
   "cell_type": "code",
   "execution_count": 79,
   "id": "99d1de41",
   "metadata": {},
   "outputs": [],
   "source": [
    "model_1 = LinearRegression().fit(X_train[features_list1],y_train) # линейный тренд\n",
    "model_2 = LinearRegression().fit(X_train[features_list2],y_train) # квадратичный тренд\n",
    "model_3 = LinearRegression().fit(X_train[features_list3],y_train) # линейный тренд + сез.фиктив. переменные\n",
    "model_4 = LinearRegression().fit(X_train[features_list4],y_train) # квадратичный тренд + сез.фиктив. переменные\n",
    "\n",
    "predict_1 = model_1.predict(X_test[features_list1])\n",
    "predict_2 = model_2.predict(X_test[features_list2])\n",
    "predict_3 = model_3.predict(X_test[features_list3])\n",
    "predict_4 = model_4.predict(X_test[features_list4])"
   ]
  },
  {
   "cell_type": "code",
   "execution_count": 81,
   "id": "5c9813e0",
   "metadata": {},
   "outputs": [
    {
     "data": {
      "text/plain": [
       "['t',\n",
       " 'August',\n",
       " 'December',\n",
       " 'February',\n",
       " 'January',\n",
       " 'July',\n",
       " 'June',\n",
       " 'March',\n",
       " 'May',\n",
       " 'November',\n",
       " 'October',\n",
       " 'September']"
      ]
     },
     "execution_count": 81,
     "metadata": {},
     "output_type": "execute_result"
    }
   ],
   "source": [
    "features_list3"
   ]
  },
  {
   "cell_type": "code",
   "execution_count": 80,
   "id": "72176a71",
   "metadata": {},
   "outputs": [
    {
     "name": "stdout",
     "output_type": "stream",
     "text": [
      "MAPE: 18.658%\n",
      "MAPE: 12.387%\n",
      "MAPE: 18.439%\n",
      "MAPE: 11.107%\n"
     ]
    }
   ],
   "source": [
    "print(f'MAPE: {round(MAPE(y_pred = predict_1, y_true = y_test)*100,3)}%')\n",
    "print(f'MAPE: {round(MAPE(y_pred = predict_2, y_true = y_test)*100,3)}%')\n",
    "print(f'MAPE: {round(MAPE(y_pred = predict_3, y_true = y_test)*100,3)}%')\n",
    "print(f'MAPE: {round(MAPE(y_pred = predict_4, y_true = y_test)*100,3)}%')"
   ]
  },
  {
   "cell_type": "markdown",
   "id": "7aec814e",
   "metadata": {},
   "source": [
    "**Функция кросс-валидации**"
   ]
  },
  {
   "cell_type": "code",
   "execution_count": 11,
   "id": "da258b3f",
   "metadata": {},
   "outputs": [],
   "source": [
    "def rolling_cv(model_obj, X, y, folds, horizon, logs=False,shift=True):\n",
    "    mape_mean=0\n",
    "    for i in range(folds):\n",
    "        if shift==True:\n",
    "            train_ind_start,train_ind_end=0,len(X)-(i+1)*horizon\n",
    "        else:\n",
    "            train_ind_start,train_ind_end=0,len(X)-(i+horizon)\n",
    "            \n",
    "        test_ind_start,test_ind_end=train_ind_end,train_ind_end+horizon\n",
    "        \n",
    "        X_train,y_train=X[train_ind_start:train_ind_end],y[train_ind_start:train_ind_end]\n",
    "        X_test,y_test=X[test_ind_start:test_ind_end],y[test_ind_start:test_ind_end]\n",
    "        \n",
    "        print(f'Train: [{train_ind_start}:{train_ind_end}),Test: [{test_ind_start}:{test_ind_end})')\n",
    "        \n",
    "        model=model_obj.fit(X_train,y_train)\n",
    "        if logs==False:\n",
    "            mape_i=MAPE(y_true=y_test,y_pred=model.predict(X_test))\n",
    "        else:\n",
    "            mape_i=MAPE(y_true=np.exp(y_test),y_pred=np.exp(model.predict(X_test)))\n",
    "            \n",
    "        print(f'MAPE on Fold {i+1}: {round(mape_i,4)}')\n",
    "        \n",
    "        mape_mean += mape_i\n",
    "    return round(mape_mean/folds,4)"
   ]
  },
  {
   "cell_type": "code",
   "execution_count": 12,
   "id": "f9c480c8",
   "metadata": {},
   "outputs": [
    {
     "name": "stdout",
     "output_type": "stream",
     "text": [
      "Train: [0:180),Test: [180:192)\n",
      "MAPE on Fold 1: 0.1017\n",
      "Train: [0:179),Test: [179:191)\n",
      "MAPE on Fold 2: 0.0981\n",
      "Train: [0:178),Test: [178:190)\n",
      "MAPE on Fold 3: 0.0923\n",
      "Train: [0:177),Test: [177:189)\n",
      "MAPE on Fold 4: 0.0976\n",
      "Train: [0:176),Test: [176:188)\n",
      "MAPE on Fold 5: 0.0957\n",
      "Train: [0:175),Test: [175:187)\n",
      "MAPE on Fold 6: 0.1159\n"
     ]
    },
    {
     "data": {
      "text/plain": [
       "0.1002"
      ]
     },
     "execution_count": 12,
     "metadata": {},
     "output_type": "execute_result"
    }
   ],
   "source": [
    "rolling_cv(LinearRegression(),X_train,y_train,6,12,shift=False)"
   ]
  },
  {
   "cell_type": "code",
   "execution_count": 13,
   "id": "4124cb3d",
   "metadata": {},
   "outputs": [],
   "source": [
    "Xtr = pd.concat([X_train, y_train],axis = 1)"
   ]
  },
  {
   "cell_type": "code",
   "execution_count": 14,
   "id": "68386aae",
   "metadata": {},
   "outputs": [
    {
     "ename": "NameError",
     "evalue": "name 'calc_metric' is not defined",
     "output_type": "error",
     "traceback": [
      "\u001b[0;31m---------------------------------------------------------------------------\u001b[0m",
      "\u001b[0;31mNameError\u001b[0m                                 Traceback (most recent call last)",
      "\u001b[0;32m/var/folders/xg/h722qvkn3v52q98vgjfm47280000gn/T/ipykernel_3175/2362737214.py\u001b[0m in \u001b[0;36m<module>\u001b[0;34m\u001b[0m\n\u001b[0;32m----> 1\u001b[0;31m \u001b[0mcalc_metric\u001b[0m\u001b[0;34m(\u001b[0m\u001b[0mfeatures\u001b[0m\u001b[0;34m,\u001b[0m \u001b[0mXtr\u001b[0m\u001b[0;34m,\u001b[0m\u001b[0mtarget\u001b[0m\u001b[0;34m=\u001b[0m\u001b[0;34m'value'\u001b[0m\u001b[0;34m,\u001b[0m\u001b[0mfolds\u001b[0m \u001b[0;34m=\u001b[0m \u001b[0;36m4\u001b[0m\u001b[0;34m,\u001b[0m \u001b[0mh\u001b[0m \u001b[0;34m=\u001b[0m \u001b[0;36m12\u001b[0m\u001b[0;34m)\u001b[0m\u001b[0;34m\u001b[0m\u001b[0;34m\u001b[0m\u001b[0m\n\u001b[0m",
      "\u001b[0;31mNameError\u001b[0m: name 'calc_metric' is not defined"
     ]
    }
   ],
   "source": [
    "calc_metric(features, Xtr,target='value',folds = 4, h = 12)"
   ]
  },
  {
   "cell_type": "code",
   "execution_count": 15,
   "id": "a24c8a59",
   "metadata": {},
   "outputs": [],
   "source": [
    "# Чтобы функция работала верно, необходимо чтобы models_name[i] соответствовал features[i]\n",
    "\n",
    "models_name = ['Linear', 'Quadratic', 'Linear with Dummy', 'Quadratic with Dummy']\n",
    "features = [features_list1, features_list2, features_list3, features_list4] \n",
    "\n",
    "def calc_metric(features, data,target,folds, h):\n",
    "    TestModels = pd.DataFrame()\n",
    "    tmp = {} \n",
    "    \n",
    "    for feature in features:\n",
    "        if feature == features[0]:\n",
    "            cv1 = []\n",
    "            cv2 = []\n",
    "            m = models_name[0]\n",
    "            tmp['Model'] = m\n",
    "        \n",
    "            for i in range(1,folds + 1):\n",
    "\n",
    "\n",
    "                l = len(data) - i*h # h = 12, i = 1, то l = 192\n",
    "                \n",
    "                train_data = data[0:l]\n",
    "                test_data = data[l:l+h]\n",
    "\n",
    "                model_i = LinearRegression().fit(train_data[feature],train_data[target])\n",
    "                pred_i = model_i.predict(test_data[feature])\n",
    "\n",
    "                cv1.append(round(RMSE(pred_i,np.array(test_data[target])),4))\n",
    "                cv2.append(round(MAPE(pred_i,np.array(test_data[target])),4))\n",
    "        \n",
    "            tmp['RMSE'] = np.mean(cv1)\n",
    "            tmp['MAPE'] = np.mean(cv2)\n",
    "            \n",
    "        if feature == features[1]:\n",
    "            cv1 = []\n",
    "            cv2 = []\n",
    "            m = models_name[1]\n",
    "            tmp['Model'] = m\n",
    "        \n",
    "            for i in list(range(1,folds + 1)):\n",
    "\n",
    "\n",
    "                l = len(data) - i*h\n",
    "                \n",
    "                train_data = data[0:l]\n",
    "                test_data = data[l:l+h]\n",
    "\n",
    "                model_i = LinearRegression().fit(train_data[feature],train_data[target])\n",
    "                pred_i = model_i.predict(test_data[feature])\n",
    "\n",
    "                cv1.append(round(RMSE(pred_i,np.array(test_data[target])),4))\n",
    "                cv2.append(round(MAPE(pred_i,np.array(test_data[target])),4))\n",
    "        \n",
    "            tmp['RMSE'] = np.mean(cv1)\n",
    "            tmp['MAPE'] = np.mean(cv2)\n",
    "            \n",
    "\n",
    "        if feature == features[2]:\n",
    "            cv1 = []\n",
    "            cv2 = []\n",
    "            m = models_name[2]\n",
    "            tmp['Model'] = m\n",
    "        \n",
    "            for i in list(range(1,folds + 1)):\n",
    "\n",
    "\n",
    "                l = len(data) - i*h\n",
    "                \n",
    "                train_data = data[0:l]\n",
    "                test_data = data[l:l+h]\n",
    "\n",
    "                model_i = LinearRegression().fit(train_data[feature],train_data[target])\n",
    "                pred_i = model_i.predict(test_data[feature])\n",
    "\n",
    "                cv1.append(round(RMSE(pred_i,np.array(test_data[target])),4))\n",
    "                cv2.append(round(MAPE(pred_i,np.array(test_data[target])),4))\n",
    "                \n",
    "            tmp['RMSE'] = np.mean(cv1)\n",
    "            tmp['MAPE'] = np.mean(cv2)\n",
    "\n",
    "        if feature == features[3]:\n",
    "            cv1 = []\n",
    "            cv2 = []\n",
    "            m = models_name[3]\n",
    "            tmp['Model'] = m\n",
    "        \n",
    "            for i in list(range(1,folds + 1)):\n",
    "\n",
    "\n",
    "                l = len(data) - i*h\n",
    "                \n",
    "                train_data = data[0:l]\n",
    "                test_data = data[l:l+h]\n",
    "                \n",
    "                print(f'Train: [{0}:{l}),Test: [{l}:{l+h})')\n",
    "\n",
    "                model_i = LinearRegression().fit(train_data[feature],train_data[target])\n",
    "                pred_i = model_i.predict(test_data[feature])\n",
    "\n",
    "                cv1.append(round(RMSE(pred_i,np.array(test_data[target])),4))\n",
    "                cv2.append(round(MAPE(pred_i,np.array(test_data[target])),4))\n",
    "                \n",
    "            tmp['RMSE'] = np.mean(cv1)\n",
    "            tmp['MAPE'] = np.mean(cv2)\n",
    "            \n",
    "        TestModels = TestModels.append([tmp])\n",
    "    TestModels.set_index('Model',inplace = True)\n",
    "    \n",
    "    return TestModels\n",
    "    \n",
    "#     horizon = [1,3,6,9,12] "
   ]
  },
  {
   "cell_type": "code",
   "execution_count": 16,
   "id": "6760ec96",
   "metadata": {},
   "outputs": [
    {
     "name": "stdout",
     "output_type": "stream",
     "text": [
      "Train: [0:192),Test: [192:204)\n",
      "Train: [0:180),Test: [180:192)\n",
      "Train: [0:168),Test: [168:180)\n",
      "Train: [0:156),Test: [156:168)\n"
     ]
    },
    {
     "data": {
      "text/html": [
       "<div>\n",
       "<style scoped>\n",
       "    .dataframe tbody tr th:only-of-type {\n",
       "        vertical-align: middle;\n",
       "    }\n",
       "\n",
       "    .dataframe tbody tr th {\n",
       "        vertical-align: top;\n",
       "    }\n",
       "\n",
       "    .dataframe thead th {\n",
       "        text-align: right;\n",
       "    }\n",
       "</style>\n",
       "<table border=\"1\" class=\"dataframe\">\n",
       "  <thead>\n",
       "    <tr style=\"text-align: right;\">\n",
       "      <th></th>\n",
       "      <th>RMSE</th>\n",
       "      <th>MAPE</th>\n",
       "    </tr>\n",
       "    <tr>\n",
       "      <th>Model</th>\n",
       "      <th></th>\n",
       "      <th></th>\n",
       "    </tr>\n",
       "  </thead>\n",
       "  <tbody>\n",
       "    <tr>\n",
       "      <th>Linear</th>\n",
       "      <td>4.103625</td>\n",
       "      <td>0.155775</td>\n",
       "    </tr>\n",
       "    <tr>\n",
       "      <th>Quadratic</th>\n",
       "      <td>3.167425</td>\n",
       "      <td>0.126800</td>\n",
       "    </tr>\n",
       "    <tr>\n",
       "      <th>Linear with Dummy</th>\n",
       "      <td>3.369225</td>\n",
       "      <td>0.138850</td>\n",
       "    </tr>\n",
       "    <tr>\n",
       "      <th>Quadratic with Dummy</th>\n",
       "      <td>2.172250</td>\n",
       "      <td>0.092700</td>\n",
       "    </tr>\n",
       "  </tbody>\n",
       "</table>\n",
       "</div>"
      ],
      "text/plain": [
       "                          RMSE      MAPE\n",
       "Model                                   \n",
       "Linear                4.103625  0.155775\n",
       "Quadratic             3.167425  0.126800\n",
       "Linear with Dummy     3.369225  0.138850\n",
       "Quadratic with Dummy  2.172250  0.092700"
      ]
     },
     "execution_count": 16,
     "metadata": {},
     "output_type": "execute_result"
    }
   ],
   "source": [
    "Xtr = pd.concat([X,y],axis = 1)\n",
    "calc_metric(features, Xtr,target = 'value',folds = 4, h = 12)"
   ]
  },
  {
   "cell_type": "code",
   "execution_count": 17,
   "id": "1383a27a",
   "metadata": {},
   "outputs": [
    {
     "data": {
      "text/html": [
       "<div>\n",
       "<style scoped>\n",
       "    .dataframe tbody tr th:only-of-type {\n",
       "        vertical-align: middle;\n",
       "    }\n",
       "\n",
       "    .dataframe tbody tr th {\n",
       "        vertical-align: top;\n",
       "    }\n",
       "\n",
       "    .dataframe thead th {\n",
       "        text-align: right;\n",
       "    }\n",
       "</style>\n",
       "<table border=\"1\" class=\"dataframe\">\n",
       "  <thead>\n",
       "    <tr style=\"text-align: right;\">\n",
       "      <th></th>\n",
       "      <th>RMSE</th>\n",
       "      <th>MAPE</th>\n",
       "      <th>Accuracy</th>\n",
       "    </tr>\n",
       "    <tr>\n",
       "      <th>Model</th>\n",
       "      <th></th>\n",
       "      <th></th>\n",
       "      <th></th>\n",
       "    </tr>\n",
       "  </thead>\n",
       "  <tbody>\n",
       "    <tr>\n",
       "      <th>Linear</th>\n",
       "      <td>5.3502</td>\n",
       "      <td>0.1866</td>\n",
       "      <td>0.7691</td>\n",
       "    </tr>\n",
       "    <tr>\n",
       "      <th>Quadratic</th>\n",
       "      <td>3.6246</td>\n",
       "      <td>0.1239</td>\n",
       "      <td>0.8436</td>\n",
       "    </tr>\n",
       "    <tr>\n",
       "      <th>Linear with Dummy</th>\n",
       "      <td>4.8223</td>\n",
       "      <td>0.1844</td>\n",
       "      <td>0.7919</td>\n",
       "    </tr>\n",
       "    <tr>\n",
       "      <th>Quadratic with Dummy</th>\n",
       "      <td>2.7891</td>\n",
       "      <td>0.1111</td>\n",
       "      <td>0.8796</td>\n",
       "    </tr>\n",
       "  </tbody>\n",
       "</table>\n",
       "</div>"
      ],
      "text/plain": [
       "                        RMSE    MAPE  Accuracy\n",
       "Model                                         \n",
       "Linear                5.3502  0.1866    0.7691\n",
       "Quadratic             3.6246  0.1239    0.8436\n",
       "Linear with Dummy     4.8223  0.1844    0.7919\n",
       "Quadratic with Dummy  2.7891  0.1111    0.8796"
      ]
     },
     "execution_count": 17,
     "metadata": {},
     "output_type": "execute_result"
    }
   ],
   "source": [
    "# Создаем временные структуры\n",
    "TestModels_test = pd.DataFrame()\n",
    "tmp = {} # В словаре будут храниться параметры после обучения\n",
    "score = [] # В списке будут результаты\n",
    "\n",
    "for model in models_name:\n",
    "    if model == models_name[0]:\n",
    "        m = models_name[0]\n",
    "        tmp['Model'] = m\n",
    "        \n",
    "        tmp['RMSE'] = round(RMSE(predict_1,np.array(y_test)),4)\n",
    "        tmp['MAPE'] = round(MAPE(predict_1,np.array(y_test)),4)\n",
    "        tmp['Accuracy'] = round(1 - tmp['RMSE']/np.mean(y_test),4)\n",
    "\n",
    "    if model == models_name[1]:\n",
    "        m = models_name[1]\n",
    "        tmp['Model'] = m\n",
    "        \n",
    "        tmp['RMSE'] = round(RMSE(predict_2,np.array(y_test)),4)\n",
    "        tmp['MAPE'] = round(MAPE(predict_2,np.array(y_test)),4)\n",
    "        tmp['Accuracy'] = round(1 - tmp['RMSE']/np.mean(y_test),4)\n",
    "        \n",
    "    if model == models_name[2]:\n",
    "        m = models_name[2]\n",
    "        \n",
    "        tmp['Model'] = m\n",
    "        \n",
    "        tmp['RMSE'] = round(RMSE(predict_3,np.array(y_test)),4)\n",
    "        tmp['MAPE'] = round(MAPE(predict_3,np.array(y_test)),4)\n",
    "        tmp['Accuracy'] = round(1 - tmp['RMSE']/np.mean(y_test),4)\n",
    "\n",
    "    if model == models_name[3]:\n",
    "        m = models_name[3]\n",
    "        \n",
    "        tmp['Model'] = m\n",
    "        \n",
    "        tmp['RMSE'] = round(RMSE(predict_4,np.array(y_test)),4)\n",
    "        tmp['MAPE'] = round(MAPE(predict_4,np.array(y_test)),4)\n",
    "        tmp['Accuracy'] = round(1 - tmp['RMSE']/np.mean(y_test),4)\n",
    "    # Записываем данные и итоговый результат DataFrame\n",
    "    TestModels_test = TestModels_test.append([tmp])\n",
    "    \n",
    "# Делаем индекс по названию модели\n",
    "TestModels_test.set_index('Model',inplace = True)\n",
    "TestModels_test"
   ]
  },
  {
   "cell_type": "markdown",
   "id": "64d6e80d",
   "metadata": {},
   "source": [
    "**Проверяем качество аппроксимации (оценки модели) на обучающей выборке**"
   ]
  },
  {
   "cell_type": "code",
   "execution_count": 1,
   "id": "7e9bbe67",
   "metadata": {},
   "outputs": [
    {
     "ename": "NameError",
     "evalue": "name 'model_1' is not defined",
     "output_type": "error",
     "traceback": [
      "\u001b[0;31m---------------------------------------------------------------------------\u001b[0m",
      "\u001b[0;31mNameError\u001b[0m                                 Traceback (most recent call last)",
      "\u001b[0;32m/var/folders/xg/h722qvkn3v52q98vgjfm47280000gn/T/ipykernel_32110/1905772187.py\u001b[0m in \u001b[0;36m<module>\u001b[0;34m\u001b[0m\n\u001b[1;32m      1\u001b[0m \u001b[0;31m# Расчетные значения целевой переменной (y_t)\u001b[0m\u001b[0;34m\u001b[0m\u001b[0;34m\u001b[0m\u001b[0m\n\u001b[1;32m      2\u001b[0m \u001b[0;34m\u001b[0m\u001b[0m\n\u001b[0;32m----> 3\u001b[0;31m \u001b[0mCalc_value_1\u001b[0m \u001b[0;34m=\u001b[0m \u001b[0mmodel_1\u001b[0m\u001b[0;34m.\u001b[0m\u001b[0mpredict\u001b[0m\u001b[0;34m(\u001b[0m\u001b[0mX_train\u001b[0m\u001b[0;34m[\u001b[0m\u001b[0mfeatures_list1\u001b[0m\u001b[0;34m]\u001b[0m\u001b[0;34m)\u001b[0m\u001b[0;34m\u001b[0m\u001b[0;34m\u001b[0m\u001b[0m\n\u001b[0m\u001b[1;32m      4\u001b[0m \u001b[0mCalc_value_2\u001b[0m \u001b[0;34m=\u001b[0m \u001b[0mmodel_2\u001b[0m\u001b[0;34m.\u001b[0m\u001b[0mpredict\u001b[0m\u001b[0;34m(\u001b[0m\u001b[0mX_train\u001b[0m\u001b[0;34m[\u001b[0m\u001b[0mfeatures_list2\u001b[0m\u001b[0;34m]\u001b[0m\u001b[0;34m)\u001b[0m\u001b[0;34m\u001b[0m\u001b[0;34m\u001b[0m\u001b[0m\n\u001b[1;32m      5\u001b[0m \u001b[0mCalc_value_3\u001b[0m \u001b[0;34m=\u001b[0m \u001b[0mmodel_3\u001b[0m\u001b[0;34m.\u001b[0m\u001b[0mpredict\u001b[0m\u001b[0;34m(\u001b[0m\u001b[0mX_train\u001b[0m\u001b[0;34m[\u001b[0m\u001b[0mfeatures_list3\u001b[0m\u001b[0;34m]\u001b[0m\u001b[0;34m)\u001b[0m\u001b[0;34m\u001b[0m\u001b[0;34m\u001b[0m\u001b[0m\n",
      "\u001b[0;31mNameError\u001b[0m: name 'model_1' is not defined"
     ]
    }
   ],
   "source": [
    "# Расчетные значения целевой переменной (y_t)\n",
    "\n",
    "Calc_value_1 = model_1.predict(X_train[features_list1]) \n",
    "Calc_value_2 = model_2.predict(X_train[features_list2])\n",
    "Calc_value_3 = model_3.predict(X_train[features_list3])\n",
    "Calc_value_4 = model_4.predict(X_train[features_list4])"
   ]
  },
  {
   "cell_type": "code",
   "execution_count": 19,
   "id": "b530f25b",
   "metadata": {},
   "outputs": [
    {
     "ename": "NameError",
     "evalue": "name 'Calc_value_1' is not defined",
     "output_type": "error",
     "traceback": [
      "\u001b[0;31m---------------------------------------------------------------------------\u001b[0m",
      "\u001b[0;31mNameError\u001b[0m                                 Traceback (most recent call last)",
      "\u001b[0;32m/var/folders/xg/h722qvkn3v52q98vgjfm47280000gn/T/ipykernel_3175/2169939562.py\u001b[0m in \u001b[0;36m<module>\u001b[0;34m\u001b[0m\n\u001b[1;32m     11\u001b[0m         \u001b[0mtmp\u001b[0m\u001b[0;34m[\u001b[0m\u001b[0;34m'Model'\u001b[0m\u001b[0;34m]\u001b[0m \u001b[0;34m=\u001b[0m \u001b[0mm\u001b[0m\u001b[0;34m\u001b[0m\u001b[0;34m\u001b[0m\u001b[0m\n\u001b[1;32m     12\u001b[0m \u001b[0;34m\u001b[0m\u001b[0m\n\u001b[0;32m---> 13\u001b[0;31m         \u001b[0mtmp\u001b[0m\u001b[0;34m[\u001b[0m\u001b[0;34m'RSS'\u001b[0m\u001b[0;34m]\u001b[0m \u001b[0;34m=\u001b[0m \u001b[0mround\u001b[0m\u001b[0;34m(\u001b[0m\u001b[0mnp\u001b[0m\u001b[0;34m.\u001b[0m\u001b[0msum\u001b[0m\u001b[0;34m(\u001b[0m\u001b[0;34m(\u001b[0m\u001b[0mnp\u001b[0m\u001b[0;34m.\u001b[0m\u001b[0marray\u001b[0m\u001b[0;34m(\u001b[0m\u001b[0my_train\u001b[0m\u001b[0;34m)\u001b[0m \u001b[0;34m-\u001b[0m \u001b[0mCalc_value_1\u001b[0m\u001b[0;34m)\u001b[0m\u001b[0;34m**\u001b[0m\u001b[0;36m2\u001b[0m\u001b[0;34m)\u001b[0m\u001b[0;34m,\u001b[0m\u001b[0;36m2\u001b[0m\u001b[0;34m)\u001b[0m\u001b[0;34m\u001b[0m\u001b[0;34m\u001b[0m\u001b[0m\n\u001b[0m\u001b[1;32m     14\u001b[0m         \u001b[0mtmp\u001b[0m\u001b[0;34m[\u001b[0m\u001b[0;34m'TSS'\u001b[0m\u001b[0;34m]\u001b[0m \u001b[0;34m=\u001b[0m \u001b[0mround\u001b[0m\u001b[0;34m(\u001b[0m\u001b[0mnp\u001b[0m\u001b[0;34m.\u001b[0m\u001b[0msum\u001b[0m\u001b[0;34m(\u001b[0m\u001b[0;34m(\u001b[0m\u001b[0mnp\u001b[0m\u001b[0;34m.\u001b[0m\u001b[0marray\u001b[0m\u001b[0;34m(\u001b[0m\u001b[0my_train\u001b[0m\u001b[0;34m)\u001b[0m \u001b[0;34m-\u001b[0m \u001b[0mnp\u001b[0m\u001b[0;34m.\u001b[0m\u001b[0mmean\u001b[0m\u001b[0;34m(\u001b[0m\u001b[0my_train\u001b[0m\u001b[0;34m)\u001b[0m\u001b[0;34m)\u001b[0m\u001b[0;34m**\u001b[0m\u001b[0;36m2\u001b[0m\u001b[0;34m)\u001b[0m\u001b[0;34m,\u001b[0m\u001b[0;36m2\u001b[0m\u001b[0;34m)\u001b[0m\u001b[0;34m\u001b[0m\u001b[0;34m\u001b[0m\u001b[0m\n\u001b[1;32m     15\u001b[0m         \u001b[0mtmp\u001b[0m\u001b[0;34m[\u001b[0m\u001b[0;34m'ESS'\u001b[0m\u001b[0;34m]\u001b[0m \u001b[0;34m=\u001b[0m \u001b[0mround\u001b[0m\u001b[0;34m(\u001b[0m\u001b[0mnp\u001b[0m\u001b[0;34m.\u001b[0m\u001b[0msum\u001b[0m\u001b[0;34m(\u001b[0m\u001b[0;34m(\u001b[0m\u001b[0mCalc_value_1\u001b[0m \u001b[0;34m-\u001b[0m \u001b[0mnp\u001b[0m\u001b[0;34m.\u001b[0m\u001b[0mmean\u001b[0m\u001b[0;34m(\u001b[0m\u001b[0my_train\u001b[0m\u001b[0;34m)\u001b[0m\u001b[0;34m)\u001b[0m\u001b[0;34m**\u001b[0m\u001b[0;36m2\u001b[0m\u001b[0;34m)\u001b[0m\u001b[0;34m,\u001b[0m\u001b[0;36m2\u001b[0m\u001b[0;34m)\u001b[0m\u001b[0;34m\u001b[0m\u001b[0;34m\u001b[0m\u001b[0m\n",
      "\u001b[0;31mNameError\u001b[0m: name 'Calc_value_1' is not defined"
     ]
    }
   ],
   "source": [
    "TestModels_train = pd.DataFrame()\n",
    "tmp = {} # В словаре будут храниться параметры после обучения\n",
    "T = len(X_train) # T - длина обучающей выборки\n",
    "\n",
    "models_name = ['Linear', 'Quadratic', 'Linear with Dummy', 'Quadratic with Dummy']\n",
    "\n",
    "for model in models_name:\n",
    "    if model == models_name[0]:\n",
    "        n = 1 # n - количество факторов\n",
    "        m = models_name[0]\n",
    "        tmp['Model'] = m\n",
    "        \n",
    "        tmp['RSS'] = round(np.sum((np.array(y_train) - Calc_value_1)**2),2)\n",
    "        tmp['TSS'] = round(np.sum((np.array(y_train) - np.mean(y_train))**2),2)\n",
    "        tmp['ESS'] = round(np.sum((Calc_value_1 - np.mean(y_train))**2),2)\n",
    "        \n",
    "        tmp['AIC'] = round(np.log(tmp['RSS']/T) + 2*(n+1)/T,2)\n",
    "        tmp['BIC'] = round(np.log(tmp['RSS']/T) + np.log(T)*(n+1)/T,2)\n",
    "        \n",
    "        tmp['R^2'] = round(tmp['ESS'] / tmp['TSS'],2)\n",
    "#         tmp['R^2'] = r2_score(list(y_train), Calc_value_1)\n",
    "\n",
    "    if model == models_name[1]:\n",
    "        n = 2\n",
    "        m = models_name[1]\n",
    "        tmp['Model'] = m\n",
    "        \n",
    "        tmp['RSS'] = round(np.sum((np.array(y_train) - Calc_value_2)**2),2)\n",
    "        tmp['TSS'] = round(np.sum((np.array(y_train) - np.mean(y_train))**2),2)\n",
    "        tmp['ESS'] = round(np.sum((Calc_value_2 - np.mean(y_train))**2),2)\n",
    "        tmp['AIC'] = round(np.log(tmp['RSS']/T) + 2*(n+1)/T,2)\n",
    "        tmp['BIC'] = round(np.log(tmp['RSS']/T) + np.log(T)*(n+1)/T,2)\n",
    "        \n",
    "        tmp['R^2'] = round(tmp['ESS'] / tmp['TSS'],2)\n",
    "        #tmp['R^2'] = r2_score(list(y_train), Calc_value_2)\n",
    "\n",
    "    if model == models_name[2]:\n",
    "        n = 12\n",
    "        m = models_name[2]\n",
    "        tmp['Model'] = m\n",
    "        \n",
    "        tmp['RSS'] = round(np.sum((np.array(y_train) - Calc_value_3)**2),2)\n",
    "        tmp['TSS'] = round(np.sum((np.array(y_train) - np.mean(y_train))**2),2)\n",
    "        tmp['ESS'] = round(np.sum((Calc_value_3 - np.mean(y_train))**2),2)\n",
    "        tmp['AIC'] = round(np.log(tmp['RSS']/T) + 2*(n+1)/T,2)\n",
    "        tmp['BIC'] = round(np.log(tmp['RSS']/T) + np.log(T)*(n+1)/T,2)\n",
    "        \n",
    "        tmp['R^2'] = round(tmp['ESS'] / tmp['TSS'],2)\n",
    "        #tmp['R^2'] = r2_score(list(y_train), Calc_value_3)\n",
    "        \n",
    "    if model == models_name[3]:\n",
    "        m = models_name[3]\n",
    "        tmp['Model'] = m\n",
    "        \n",
    "        tmp['RSS'] = round(np.sum((np.array(y_train) - Calc_value_4)**2),2)\n",
    "        tmp['TSS'] = round(np.sum((np.array(y_train) - np.mean(y_train))**2),2)\n",
    "        tmp['ESS'] = round(np.sum((Calc_value_4 - np.mean(y_train))**2),2)\n",
    "        tmp['AIC'] = round(np.log(tmp['RSS']/T) + 2*(n+1)/T,2)\n",
    "        tmp['BIC'] = round(np.log(tmp['RSS']/T) + np.log(T)*(n+1)/T,2)\n",
    "        \n",
    "        tmp['R^2'] = round(tmp['ESS'] / tmp['TSS'],2)\n",
    "        #tmp['R^2'] = r2_score(list(y_train), Calc_value_4)\n",
    "        \n",
    "    TestModels_train = TestModels_train.append([tmp])\n",
    "    \n",
    "TestModels_train.set_index('Model',inplace = True)\n",
    "TestModels_train"
   ]
  },
  {
   "cell_type": "markdown",
   "id": "46edc4fb",
   "metadata": {},
   "source": [
    "#### Проверим статистическую значимость моделей "
   ]
  },
  {
   "cell_type": "code",
   "execution_count": 20,
   "id": "b9f9d3a9",
   "metadata": {},
   "outputs": [],
   "source": [
    "df1 = pd.concat([X_train,y_train], axis =1)"
   ]
  },
  {
   "cell_type": "code",
   "execution_count": 21,
   "id": "5451dad9",
   "metadata": {
    "scrolled": true
   },
   "outputs": [
    {
     "data": {
      "text/html": [
       "<table class=\"simpletable\">\n",
       "<caption>OLS Regression Results</caption>\n",
       "<tr>\n",
       "  <th>Dep. Variable:</th>          <td>value</td>      <th>  R-squared:         </th> <td>   0.853</td>\n",
       "</tr>\n",
       "<tr>\n",
       "  <th>Model:</th>                   <td>OLS</td>       <th>  Adj. R-squared:    </th> <td>   0.852</td>\n",
       "</tr>\n",
       "<tr>\n",
       "  <th>Method:</th>             <td>Least Squares</td>  <th>  F-statistic:       </th> <td>   1104.</td>\n",
       "</tr>\n",
       "<tr>\n",
       "  <th>Date:</th>             <td>Sat, 08 Oct 2022</td> <th>  Prob (F-statistic):</th> <td>4.48e-81</td>\n",
       "</tr>\n",
       "<tr>\n",
       "  <th>Time:</th>                 <td>11:52:25</td>     <th>  Log-Likelihood:    </th> <td> -403.54</td>\n",
       "</tr>\n",
       "<tr>\n",
       "  <th>No. Observations:</th>      <td>   192</td>      <th>  AIC:               </th> <td>   811.1</td>\n",
       "</tr>\n",
       "<tr>\n",
       "  <th>Df Residuals:</th>          <td>   190</td>      <th>  BIC:               </th> <td>   817.6</td>\n",
       "</tr>\n",
       "<tr>\n",
       "  <th>Df Model:</th>              <td>     1</td>      <th>                     </th>     <td> </td>   \n",
       "</tr>\n",
       "<tr>\n",
       "  <th>Covariance Type:</th>      <td>nonrobust</td>    <th>                     </th>     <td> </td>   \n",
       "</tr>\n",
       "</table>\n",
       "<table class=\"simpletable\">\n",
       "<tr>\n",
       "      <td></td>         <th>coef</th>     <th>std err</th>      <th>t</th>      <th>P>|t|</th>  <th>[0.025</th>    <th>0.975]</th>  \n",
       "</tr>\n",
       "<tr>\n",
       "  <th>Intercept</th> <td>    1.6079</td> <td>    0.288</td> <td>    5.577</td> <td> 0.000</td> <td>    1.039</td> <td>    2.177</td>\n",
       "</tr>\n",
       "<tr>\n",
       "  <th>t</th>         <td>    0.0861</td> <td>    0.003</td> <td>   33.223</td> <td> 0.000</td> <td>    0.081</td> <td>    0.091</td>\n",
       "</tr>\n",
       "</table>\n",
       "<table class=\"simpletable\">\n",
       "<tr>\n",
       "  <th>Omnibus:</th>       <td>58.489</td> <th>  Durbin-Watson:     </th> <td>   1.167</td>\n",
       "</tr>\n",
       "<tr>\n",
       "  <th>Prob(Omnibus):</th> <td> 0.000</td> <th>  Jarque-Bera (JB):  </th> <td> 172.940</td>\n",
       "</tr>\n",
       "<tr>\n",
       "  <th>Skew:</th>          <td> 1.250</td> <th>  Prob(JB):          </th> <td>2.80e-38</td>\n",
       "</tr>\n",
       "<tr>\n",
       "  <th>Kurtosis:</th>      <td> 6.920</td> <th>  Cond. No.          </th> <td>    223.</td>\n",
       "</tr>\n",
       "</table><br/><br/>Notes:<br/>[1] Standard Errors assume that the covariance matrix of the errors is correctly specified."
      ],
      "text/plain": [
       "<class 'statsmodels.iolib.summary.Summary'>\n",
       "\"\"\"\n",
       "                            OLS Regression Results                            \n",
       "==============================================================================\n",
       "Dep. Variable:                  value   R-squared:                       0.853\n",
       "Model:                            OLS   Adj. R-squared:                  0.852\n",
       "Method:                 Least Squares   F-statistic:                     1104.\n",
       "Date:                Sat, 08 Oct 2022   Prob (F-statistic):           4.48e-81\n",
       "Time:                        11:52:25   Log-Likelihood:                -403.54\n",
       "No. Observations:                 192   AIC:                             811.1\n",
       "Df Residuals:                     190   BIC:                             817.6\n",
       "Df Model:                           1                                         \n",
       "Covariance Type:            nonrobust                                         \n",
       "==============================================================================\n",
       "                 coef    std err          t      P>|t|      [0.025      0.975]\n",
       "------------------------------------------------------------------------------\n",
       "Intercept      1.6079      0.288      5.577      0.000       1.039       2.177\n",
       "t              0.0861      0.003     33.223      0.000       0.081       0.091\n",
       "==============================================================================\n",
       "Omnibus:                       58.489   Durbin-Watson:                   1.167\n",
       "Prob(Omnibus):                  0.000   Jarque-Bera (JB):              172.940\n",
       "Skew:                           1.250   Prob(JB):                     2.80e-38\n",
       "Kurtosis:                       6.920   Cond. No.                         223.\n",
       "==============================================================================\n",
       "\n",
       "Notes:\n",
       "[1] Standard Errors assume that the covariance matrix of the errors is correctly specified.\n",
       "\"\"\""
      ]
     },
     "execution_count": 21,
     "metadata": {},
     "output_type": "execute_result"
    }
   ],
   "source": [
    "import statsmodels.formula.api as smf\n",
    "model_stats_1 = smf.ols('value ~ t', data=df1)\n",
    "res1 = model_stats_1.fit()\n",
    "res1.summary()"
   ]
  },
  {
   "cell_type": "code",
   "execution_count": 22,
   "id": "0785c284",
   "metadata": {},
   "outputs": [
    {
     "data": {
      "text/html": [
       "<table class=\"simpletable\">\n",
       "<caption>OLS Regression Results</caption>\n",
       "<tr>\n",
       "  <th>Dep. Variable:</th>          <td>value</td>      <th>  R-squared:         </th> <td>   0.862</td>\n",
       "</tr>\n",
       "<tr>\n",
       "  <th>Model:</th>                   <td>OLS</td>       <th>  Adj. R-squared:    </th> <td>   0.861</td>\n",
       "</tr>\n",
       "<tr>\n",
       "  <th>Method:</th>             <td>Least Squares</td>  <th>  F-statistic:       </th> <td>   592.2</td>\n",
       "</tr>\n",
       "<tr>\n",
       "  <th>Date:</th>             <td>Sat, 08 Oct 2022</td> <th>  Prob (F-statistic):</th> <td>4.03e-82</td>\n",
       "</tr>\n",
       "<tr>\n",
       "  <th>Time:</th>                 <td>11:52:26</td>     <th>  Log-Likelihood:    </th> <td> -397.30</td>\n",
       "</tr>\n",
       "<tr>\n",
       "  <th>No. Observations:</th>      <td>   192</td>      <th>  AIC:               </th> <td>   800.6</td>\n",
       "</tr>\n",
       "<tr>\n",
       "  <th>Df Residuals:</th>          <td>   189</td>      <th>  BIC:               </th> <td>   810.4</td>\n",
       "</tr>\n",
       "<tr>\n",
       "  <th>Df Model:</th>              <td>     2</td>      <th>                     </th>     <td> </td>   \n",
       "</tr>\n",
       "<tr>\n",
       "  <th>Covariance Type:</th>      <td>nonrobust</td>    <th>                     </th>     <td> </td>   \n",
       "</tr>\n",
       "</table>\n",
       "<table class=\"simpletable\">\n",
       "<tr>\n",
       "      <td></td>         <th>coef</th>     <th>std err</th>      <th>t</th>      <th>P>|t|</th>  <th>[0.025</th>    <th>0.975]</th>  \n",
       "</tr>\n",
       "<tr>\n",
       "  <th>Intercept</th> <td>    1.6079</td> <td>    0.280</td> <td>    5.746</td> <td> 0.000</td> <td>    1.056</td> <td>    2.160</td>\n",
       "</tr>\n",
       "<tr>\n",
       "  <th>t</th>         <td>    0.3343</td> <td>    0.070</td> <td>    4.794</td> <td> 0.000</td> <td>    0.197</td> <td>    0.472</td>\n",
       "</tr>\n",
       "<tr>\n",
       "  <th>t ^ 2</th>     <td>   -0.2482</td> <td>    0.070</td> <td>   -3.562</td> <td> 0.000</td> <td>   -0.386</td> <td>   -0.111</td>\n",
       "</tr>\n",
       "</table>\n",
       "<table class=\"simpletable\">\n",
       "<tr>\n",
       "  <th>Omnibus:</th>       <td>54.243</td> <th>  Durbin-Watson:     </th> <td>   1.111</td>\n",
       "</tr>\n",
       "<tr>\n",
       "  <th>Prob(Omnibus):</th> <td> 0.000</td> <th>  Jarque-Bera (JB):  </th> <td> 149.739</td>\n",
       "</tr>\n",
       "<tr>\n",
       "  <th>Skew:</th>          <td> 1.181</td> <th>  Prob(JB):          </th> <td>3.05e-33</td>\n",
       "</tr>\n",
       "<tr>\n",
       "  <th>Kurtosis:</th>      <td> 6.624</td> <th>  Cond. No.          </th> <td>    316.</td>\n",
       "</tr>\n",
       "</table><br/><br/>Notes:<br/>[1] Standard Errors assume that the covariance matrix of the errors is correctly specified."
      ],
      "text/plain": [
       "<class 'statsmodels.iolib.summary.Summary'>\n",
       "\"\"\"\n",
       "                            OLS Regression Results                            \n",
       "==============================================================================\n",
       "Dep. Variable:                  value   R-squared:                       0.862\n",
       "Model:                            OLS   Adj. R-squared:                  0.861\n",
       "Method:                 Least Squares   F-statistic:                     592.2\n",
       "Date:                Sat, 08 Oct 2022   Prob (F-statistic):           4.03e-82\n",
       "Time:                        11:52:26   Log-Likelihood:                -397.30\n",
       "No. Observations:                 192   AIC:                             800.6\n",
       "Df Residuals:                     189   BIC:                             810.4\n",
       "Df Model:                           2                                         \n",
       "Covariance Type:            nonrobust                                         \n",
       "==============================================================================\n",
       "                 coef    std err          t      P>|t|      [0.025      0.975]\n",
       "------------------------------------------------------------------------------\n",
       "Intercept      1.6079      0.280      5.746      0.000       1.056       2.160\n",
       "t              0.3343      0.070      4.794      0.000       0.197       0.472\n",
       "t ^ 2         -0.2482      0.070     -3.562      0.000      -0.386      -0.111\n",
       "==============================================================================\n",
       "Omnibus:                       54.243   Durbin-Watson:                   1.111\n",
       "Prob(Omnibus):                  0.000   Jarque-Bera (JB):              149.739\n",
       "Skew:                           1.181   Prob(JB):                     3.05e-33\n",
       "Kurtosis:                       6.624   Cond. No.                         316.\n",
       "==============================================================================\n",
       "\n",
       "Notes:\n",
       "[1] Standard Errors assume that the covariance matrix of the errors is correctly specified.\n",
       "\"\"\""
      ]
     },
     "execution_count": 22,
     "metadata": {},
     "output_type": "execute_result"
    }
   ],
   "source": [
    "model_stats_2 = smf.ols('value ~ t + t^2', data=df1)\n",
    "res2 = model_stats_2.fit()\n",
    "res2.summary()"
   ]
  },
  {
   "cell_type": "code",
   "execution_count": 23,
   "id": "5b95265c",
   "metadata": {},
   "outputs": [
    {
     "data": {
      "text/html": [
       "<table class=\"simpletable\">\n",
       "<caption>OLS Regression Results</caption>\n",
       "<tr>\n",
       "  <th>Dep. Variable:</th>          <td>value</td>      <th>  R-squared:         </th> <td>   0.932</td>\n",
       "</tr>\n",
       "<tr>\n",
       "  <th>Model:</th>                   <td>OLS</td>       <th>  Adj. R-squared:    </th> <td>   0.928</td>\n",
       "</tr>\n",
       "<tr>\n",
       "  <th>Method:</th>             <td>Least Squares</td>  <th>  F-statistic:       </th> <td>   205.5</td>\n",
       "</tr>\n",
       "<tr>\n",
       "  <th>Date:</th>             <td>Sat, 08 Oct 2022</td> <th>  Prob (F-statistic):</th> <td>8.24e-98</td>\n",
       "</tr>\n",
       "<tr>\n",
       "  <th>Time:</th>                 <td>11:52:26</td>     <th>  Log-Likelihood:    </th> <td> -329.14</td>\n",
       "</tr>\n",
       "<tr>\n",
       "  <th>No. Observations:</th>      <td>   192</td>      <th>  AIC:               </th> <td>   684.3</td>\n",
       "</tr>\n",
       "<tr>\n",
       "  <th>Df Residuals:</th>          <td>   179</td>      <th>  BIC:               </th> <td>   726.6</td>\n",
       "</tr>\n",
       "<tr>\n",
       "  <th>Df Model:</th>              <td>    12</td>      <th>                     </th>     <td> </td>   \n",
       "</tr>\n",
       "<tr>\n",
       "  <th>Covariance Type:</th>      <td>nonrobust</td>    <th>                     </th>     <td> </td>   \n",
       "</tr>\n",
       "</table>\n",
       "<table class=\"simpletable\">\n",
       "<tr>\n",
       "      <td></td>         <th>coef</th>     <th>std err</th>      <th>t</th>      <th>P>|t|</th>  <th>[0.025</th>    <th>0.975]</th>  \n",
       "</tr>\n",
       "<tr>\n",
       "  <th>Intercept</th> <td>    0.0494</td> <td>    0.392</td> <td>    0.126</td> <td> 0.900</td> <td>   -0.725</td> <td>    0.824</td>\n",
       "</tr>\n",
       "<tr>\n",
       "  <th>t</th>         <td>    0.0866</td> <td>    0.002</td> <td>   47.684</td> <td> 0.000</td> <td>    0.083</td> <td>    0.090</td>\n",
       "</tr>\n",
       "<tr>\n",
       "  <th>January</th>   <td>    4.7569</td> <td>    0.492</td> <td>    9.668</td> <td> 0.000</td> <td>    3.786</td> <td>    5.728</td>\n",
       "</tr>\n",
       "<tr>\n",
       "  <th>February</th>  <td>   -0.7351</td> <td>    0.492</td> <td>   -1.494</td> <td> 0.137</td> <td>   -1.706</td> <td>    0.236</td>\n",
       "</tr>\n",
       "<tr>\n",
       "  <th>March</th>     <td>    0.3218</td> <td>    0.492</td> <td>    0.654</td> <td> 0.514</td> <td>   -0.649</td> <td>    1.293</td>\n",
       "</tr>\n",
       "<tr>\n",
       "  <th>May</th>       <td>    0.9993</td> <td>    0.492</td> <td>    2.031</td> <td> 0.044</td> <td>    0.029</td> <td>    1.970</td>\n",
       "</tr>\n",
       "<tr>\n",
       "  <th>June</th>      <td>    0.7676</td> <td>    0.492</td> <td>    1.560</td> <td> 0.120</td> <td>   -0.203</td> <td>    1.738</td>\n",
       "</tr>\n",
       "<tr>\n",
       "  <th>July</th>      <td>    1.3186</td> <td>    0.492</td> <td>    2.679</td> <td> 0.008</td> <td>    0.347</td> <td>    2.290</td>\n",
       "</tr>\n",
       "<tr>\n",
       "  <th>August</th>    <td>    1.3972</td> <td>    0.492</td> <td>    2.839</td> <td> 0.005</td> <td>    0.426</td> <td>    2.368</td>\n",
       "</tr>\n",
       "<tr>\n",
       "  <th>September</th> <td>    1.3405</td> <td>    0.492</td> <td>    2.724</td> <td> 0.007</td> <td>    0.369</td> <td>    2.312</td>\n",
       "</tr>\n",
       "<tr>\n",
       "  <th>October</th>   <td>    2.0654</td> <td>    0.492</td> <td>    4.197</td> <td> 0.000</td> <td>    1.094</td> <td>    3.036</td>\n",
       "</tr>\n",
       "<tr>\n",
       "  <th>November</th>  <td>    2.3529</td> <td>    0.492</td> <td>    4.782</td> <td> 0.000</td> <td>    1.382</td> <td>    3.324</td>\n",
       "</tr>\n",
       "<tr>\n",
       "  <th>December</th>  <td>    3.5548</td> <td>    0.492</td> <td>    7.225</td> <td> 0.000</td> <td>    2.584</td> <td>    4.526</td>\n",
       "</tr>\n",
       "</table>\n",
       "<table class=\"simpletable\">\n",
       "<tr>\n",
       "  <th>Omnibus:</th>       <td>70.101</td> <th>  Durbin-Watson:     </th> <td>   0.857</td>\n",
       "</tr>\n",
       "<tr>\n",
       "  <th>Prob(Omnibus):</th> <td> 0.000</td> <th>  Jarque-Bera (JB):  </th> <td> 215.814</td>\n",
       "</tr>\n",
       "<tr>\n",
       "  <th>Skew:</th>          <td> 1.505</td> <th>  Prob(JB):          </th> <td>1.37e-47</td>\n",
       "</tr>\n",
       "<tr>\n",
       "  <th>Kurtosis:</th>      <td> 7.232</td> <th>  Cond. No.          </th> <td>1.39e+03</td>\n",
       "</tr>\n",
       "</table><br/><br/>Notes:<br/>[1] Standard Errors assume that the covariance matrix of the errors is correctly specified.<br/>[2] The condition number is large, 1.39e+03. This might indicate that there are<br/>strong multicollinearity or other numerical problems."
      ],
      "text/plain": [
       "<class 'statsmodels.iolib.summary.Summary'>\n",
       "\"\"\"\n",
       "                            OLS Regression Results                            \n",
       "==============================================================================\n",
       "Dep. Variable:                  value   R-squared:                       0.932\n",
       "Model:                            OLS   Adj. R-squared:                  0.928\n",
       "Method:                 Least Squares   F-statistic:                     205.5\n",
       "Date:                Sat, 08 Oct 2022   Prob (F-statistic):           8.24e-98\n",
       "Time:                        11:52:26   Log-Likelihood:                -329.14\n",
       "No. Observations:                 192   AIC:                             684.3\n",
       "Df Residuals:                     179   BIC:                             726.6\n",
       "Df Model:                          12                                         \n",
       "Covariance Type:            nonrobust                                         \n",
       "==============================================================================\n",
       "                 coef    std err          t      P>|t|      [0.025      0.975]\n",
       "------------------------------------------------------------------------------\n",
       "Intercept      0.0494      0.392      0.126      0.900      -0.725       0.824\n",
       "t              0.0866      0.002     47.684      0.000       0.083       0.090\n",
       "January        4.7569      0.492      9.668      0.000       3.786       5.728\n",
       "February      -0.7351      0.492     -1.494      0.137      -1.706       0.236\n",
       "March          0.3218      0.492      0.654      0.514      -0.649       1.293\n",
       "May            0.9993      0.492      2.031      0.044       0.029       1.970\n",
       "June           0.7676      0.492      1.560      0.120      -0.203       1.738\n",
       "July           1.3186      0.492      2.679      0.008       0.347       2.290\n",
       "August         1.3972      0.492      2.839      0.005       0.426       2.368\n",
       "September      1.3405      0.492      2.724      0.007       0.369       2.312\n",
       "October        2.0654      0.492      4.197      0.000       1.094       3.036\n",
       "November       2.3529      0.492      4.782      0.000       1.382       3.324\n",
       "December       3.5548      0.492      7.225      0.000       2.584       4.526\n",
       "==============================================================================\n",
       "Omnibus:                       70.101   Durbin-Watson:                   0.857\n",
       "Prob(Omnibus):                  0.000   Jarque-Bera (JB):              215.814\n",
       "Skew:                           1.505   Prob(JB):                     1.37e-47\n",
       "Kurtosis:                       7.232   Cond. No.                     1.39e+03\n",
       "==============================================================================\n",
       "\n",
       "Notes:\n",
       "[1] Standard Errors assume that the covariance matrix of the errors is correctly specified.\n",
       "[2] The condition number is large, 1.39e+03. This might indicate that there are\n",
       "strong multicollinearity or other numerical problems.\n",
       "\"\"\""
      ]
     },
     "execution_count": 23,
     "metadata": {},
     "output_type": "execute_result"
    }
   ],
   "source": [
    "model_stats_3 = smf.ols('value ~ t + January + February+March+May+June+July+August+September+October+November+December ', data=df1)\n",
    "res3 = model_stats_3.fit()\n",
    "res3.summary()"
   ]
  },
  {
   "cell_type": "code",
   "execution_count": 24,
   "id": "9594c5e4",
   "metadata": {
    "scrolled": true
   },
   "outputs": [
    {
     "data": {
      "text/html": [
       "<table class=\"simpletable\">\n",
       "<caption>OLS Regression Results</caption>\n",
       "<tr>\n",
       "  <th>Dep. Variable:</th>          <td>value</td>      <th>  R-squared:         </th> <td>   0.932</td>\n",
       "</tr>\n",
       "<tr>\n",
       "  <th>Model:</th>                   <td>OLS</td>       <th>  Adj. R-squared:    </th> <td>   0.928</td>\n",
       "</tr>\n",
       "<tr>\n",
       "  <th>Method:</th>             <td>Least Squares</td>  <th>  F-statistic:       </th> <td>   205.5</td>\n",
       "</tr>\n",
       "<tr>\n",
       "  <th>Date:</th>             <td>Sat, 08 Oct 2022</td> <th>  Prob (F-statistic):</th> <td>8.24e-98</td>\n",
       "</tr>\n",
       "<tr>\n",
       "  <th>Time:</th>                 <td>11:52:26</td>     <th>  Log-Likelihood:    </th> <td> -329.14</td>\n",
       "</tr>\n",
       "<tr>\n",
       "  <th>No. Observations:</th>      <td>   192</td>      <th>  AIC:               </th> <td>   684.3</td>\n",
       "</tr>\n",
       "<tr>\n",
       "  <th>Df Residuals:</th>          <td>   179</td>      <th>  BIC:               </th> <td>   726.6</td>\n",
       "</tr>\n",
       "<tr>\n",
       "  <th>Df Model:</th>              <td>    12</td>      <th>                     </th>     <td> </td>   \n",
       "</tr>\n",
       "<tr>\n",
       "  <th>Covariance Type:</th>      <td>nonrobust</td>    <th>                     </th>     <td> </td>   \n",
       "</tr>\n",
       "</table>\n",
       "<table class=\"simpletable\">\n",
       "<tr>\n",
       "      <td></td>         <th>coef</th>     <th>std err</th>      <th>t</th>      <th>P>|t|</th>  <th>[0.025</th>    <th>0.975]</th>  \n",
       "</tr>\n",
       "<tr>\n",
       "  <th>Intercept</th> <td>    0.5269</td> <td>    0.251</td> <td>    2.101</td> <td> 0.037</td> <td>    0.032</td> <td>    1.022</td>\n",
       "</tr>\n",
       "<tr>\n",
       "  <th>t</th>         <td>   -0.1522</td> <td>    0.095</td> <td>   -1.605</td> <td> 0.110</td> <td>   -0.339</td> <td>    0.035</td>\n",
       "</tr>\n",
       "<tr>\n",
       "  <th>t ^ 2</th>     <td>    0.2387</td> <td>    0.095</td> <td>    2.516</td> <td> 0.013</td> <td>    0.051</td> <td>    0.426</td>\n",
       "</tr>\n",
       "<tr>\n",
       "  <th>January</th>   <td>    4.7569</td> <td>    0.492</td> <td>    9.668</td> <td> 0.000</td> <td>    3.786</td> <td>    5.728</td>\n",
       "</tr>\n",
       "<tr>\n",
       "  <th>February</th>  <td>   -1.6901</td> <td>    0.318</td> <td>   -5.312</td> <td> 0.000</td> <td>   -2.318</td> <td>   -1.062</td>\n",
       "</tr>\n",
       "<tr>\n",
       "  <th>March</th>     <td>   -0.6332</td> <td>    0.318</td> <td>   -1.989</td> <td> 0.048</td> <td>   -1.261</td> <td>   -0.005</td>\n",
       "</tr>\n",
       "<tr>\n",
       "  <th>May</th>       <td>    0.9993</td> <td>    0.492</td> <td>    2.031</td> <td> 0.044</td> <td>    0.029</td> <td>    1.970</td>\n",
       "</tr>\n",
       "<tr>\n",
       "  <th>June</th>      <td>   -0.1874</td> <td>    0.319</td> <td>   -0.588</td> <td> 0.557</td> <td>   -0.816</td> <td>    0.441</td>\n",
       "</tr>\n",
       "<tr>\n",
       "  <th>July</th>      <td>    0.3636</td> <td>    0.318</td> <td>    1.144</td> <td> 0.254</td> <td>   -0.263</td> <td>    0.991</td>\n",
       "</tr>\n",
       "<tr>\n",
       "  <th>August</th>    <td>    1.3972</td> <td>    0.492</td> <td>    2.839</td> <td> 0.005</td> <td>    0.426</td> <td>    2.368</td>\n",
       "</tr>\n",
       "<tr>\n",
       "  <th>September</th> <td>    1.3405</td> <td>    0.492</td> <td>    2.724</td> <td> 0.007</td> <td>    0.369</td> <td>    2.312</td>\n",
       "</tr>\n",
       "<tr>\n",
       "  <th>October</th>   <td>    1.1104</td> <td>    0.318</td> <td>    3.493</td> <td> 0.001</td> <td>    0.483</td> <td>    1.738</td>\n",
       "</tr>\n",
       "<tr>\n",
       "  <th>November</th>  <td>    1.3979</td> <td>    0.318</td> <td>    4.397</td> <td> 0.000</td> <td>    0.770</td> <td>    2.025</td>\n",
       "</tr>\n",
       "<tr>\n",
       "  <th>December</th>  <td>    3.5548</td> <td>    0.492</td> <td>    7.225</td> <td> 0.000</td> <td>    2.584</td> <td>    4.526</td>\n",
       "</tr>\n",
       "</table>\n",
       "<table class=\"simpletable\">\n",
       "<tr>\n",
       "  <th>Omnibus:</th>       <td>70.101</td> <th>  Durbin-Watson:     </th> <td>   0.857</td>\n",
       "</tr>\n",
       "<tr>\n",
       "  <th>Prob(Omnibus):</th> <td> 0.000</td> <th>  Jarque-Bera (JB):  </th> <td> 215.814</td>\n",
       "</tr>\n",
       "<tr>\n",
       "  <th>Skew:</th>          <td> 1.505</td> <th>  Prob(JB):          </th> <td>1.37e-47</td>\n",
       "</tr>\n",
       "<tr>\n",
       "  <th>Kurtosis:</th>      <td> 7.232</td> <th>  Cond. No.          </th> <td>1.02e+17</td>\n",
       "</tr>\n",
       "</table><br/><br/>Notes:<br/>[1] Standard Errors assume that the covariance matrix of the errors is correctly specified.<br/>[2] The smallest eigenvalue is 4.6e-28. This might indicate that there are<br/>strong multicollinearity problems or that the design matrix is singular."
      ],
      "text/plain": [
       "<class 'statsmodels.iolib.summary.Summary'>\n",
       "\"\"\"\n",
       "                            OLS Regression Results                            \n",
       "==============================================================================\n",
       "Dep. Variable:                  value   R-squared:                       0.932\n",
       "Model:                            OLS   Adj. R-squared:                  0.928\n",
       "Method:                 Least Squares   F-statistic:                     205.5\n",
       "Date:                Sat, 08 Oct 2022   Prob (F-statistic):           8.24e-98\n",
       "Time:                        11:52:26   Log-Likelihood:                -329.14\n",
       "No. Observations:                 192   AIC:                             684.3\n",
       "Df Residuals:                     179   BIC:                             726.6\n",
       "Df Model:                          12                                         \n",
       "Covariance Type:            nonrobust                                         \n",
       "==============================================================================\n",
       "                 coef    std err          t      P>|t|      [0.025      0.975]\n",
       "------------------------------------------------------------------------------\n",
       "Intercept      0.5269      0.251      2.101      0.037       0.032       1.022\n",
       "t             -0.1522      0.095     -1.605      0.110      -0.339       0.035\n",
       "t ^ 2          0.2387      0.095      2.516      0.013       0.051       0.426\n",
       "January        4.7569      0.492      9.668      0.000       3.786       5.728\n",
       "February      -1.6901      0.318     -5.312      0.000      -2.318      -1.062\n",
       "March         -0.6332      0.318     -1.989      0.048      -1.261      -0.005\n",
       "May            0.9993      0.492      2.031      0.044       0.029       1.970\n",
       "June          -0.1874      0.319     -0.588      0.557      -0.816       0.441\n",
       "July           0.3636      0.318      1.144      0.254      -0.263       0.991\n",
       "August         1.3972      0.492      2.839      0.005       0.426       2.368\n",
       "September      1.3405      0.492      2.724      0.007       0.369       2.312\n",
       "October        1.1104      0.318      3.493      0.001       0.483       1.738\n",
       "November       1.3979      0.318      4.397      0.000       0.770       2.025\n",
       "December       3.5548      0.492      7.225      0.000       2.584       4.526\n",
       "==============================================================================\n",
       "Omnibus:                       70.101   Durbin-Watson:                   0.857\n",
       "Prob(Omnibus):                  0.000   Jarque-Bera (JB):              215.814\n",
       "Skew:                           1.505   Prob(JB):                     1.37e-47\n",
       "Kurtosis:                       7.232   Cond. No.                     1.02e+17\n",
       "==============================================================================\n",
       "\n",
       "Notes:\n",
       "[1] Standard Errors assume that the covariance matrix of the errors is correctly specified.\n",
       "[2] The smallest eigenvalue is 4.6e-28. This might indicate that there are\n",
       "strong multicollinearity problems or that the design matrix is singular.\n",
       "\"\"\""
      ]
     },
     "execution_count": 24,
     "metadata": {},
     "output_type": "execute_result"
    }
   ],
   "source": [
    "model_stats_4 = smf.ols('value ~ t + t^2 + January + February+March+May+June+July+August+September+October+November+December', data=df1)\n",
    "\n",
    "res1 = model_stats_4.fit()\n",
    "res1.summary()"
   ]
  },
  {
   "cell_type": "markdown",
   "id": "f4b30d18",
   "metadata": {},
   "source": [
    "$R^2$ у модели с квадратичном трендом больше, но это ни о чем не говорит, т.к. качество модели нужно оценивать на независимой выборке, хотя \"высокий\" $R^2$ является необходимым признаком качества модели"
   ]
  },
  {
   "cell_type": "markdown",
   "id": "eb866a71",
   "metadata": {},
   "source": [
    "# Тест гиперпараметров"
   ]
  },
  {
   "cell_type": "code",
   "execution_count": 57,
   "id": "a20a3996",
   "metadata": {},
   "outputs": [],
   "source": [
    "ps = range(1, 4)\n",
    "d=0\n",
    "qs = range(1, 4)\n",
    "Ps = range(1, 4)\n",
    "D=1\n",
    "Qs = range(1, 4)"
   ]
  },
  {
   "cell_type": "code",
   "execution_count": 58,
   "id": "263e3035",
   "metadata": {},
   "outputs": [
    {
     "data": {
      "text/plain": [
       "81"
      ]
     },
     "execution_count": 58,
     "metadata": {},
     "output_type": "execute_result"
    }
   ],
   "source": [
    "parameters = product(ps, qs, Ps, Qs)\n",
    "parameters_list = list(parameters)\n",
    "len(parameters_list)"
   ]
  },
  {
   "cell_type": "code",
   "execution_count": 59,
   "id": "29d8bc7b",
   "metadata": {},
   "outputs": [
    {
     "name": "stdout",
     "output_type": "stream",
     "text": [
      "Wall time: 5h 41min 42s\n"
     ]
    }
   ],
   "source": [
    "%%time\n",
    "results = []\n",
    "best_aic = float(\"inf\")\n",
    "warnings.filterwarnings('ignore')\n",
    "\n",
    "for param in parameters_list:\n",
    "    #try except нужен, потому что на некоторых наборах параметров модель не обучается\n",
    "    try:\n",
    "        model=sm.tsa.statespace.SARIMAX(endog = tra,\n",
    "                                        exog = exog_train,\n",
    "                                        order=(param[0], d, param[1]), \n",
    "                                        seasonal_order=(param[2], D, param[3], 30),\n",
    "                                       enforce_stationarity = False,\n",
    "                                       enforce_invertibility = False).fit(disp=-1)\n",
    "    #выводим параметры, на которых модель не обучается и переходим к следующему набору\n",
    "    except ValueError:\n",
    "        print('wrong parameters:', param)\n",
    "        continue\n",
    "    aic = model.aic\n",
    "    #сохраняем лучшую модель, aic, параметры\n",
    "    if aic < best_aic:\n",
    "        best_model = model\n",
    "        best_aic = aic\n",
    "        best_param = param\n",
    "    results.append([param, model.aic])\n",
    "    \n",
    "warnings.filterwarnings('default')"
   ]
  },
  {
   "cell_type": "code",
   "execution_count": 60,
   "id": "17d67fcd",
   "metadata": {},
   "outputs": [
    {
     "name": "stdout",
     "output_type": "stream",
     "text": [
      "      parameters           aic\n",
      "53  (2, 3, 3, 3)  39076.515508\n",
      "26  (1, 3, 3, 3)  39078.644726\n",
      "50  (2, 3, 2, 3)  39079.642618\n",
      "80  (3, 3, 3, 3)  39082.098950\n",
      "77  (3, 3, 2, 3)  39083.062177\n"
     ]
    }
   ],
   "source": [
    "result_table = pd.DataFrame(results)\n",
    "result_table.columns = ['parameters', 'aic']\n",
    "print(result_table.sort_values(by = 'aic', ascending=True).head())"
   ]
  },
  {
   "cell_type": "code",
   "execution_count": 116,
   "id": "0c0a9347",
   "metadata": {},
   "outputs": [
    {
     "name": "stdout",
     "output_type": "stream",
     "text": [
      "Критерий Стьюдента: p=0.037299\n",
      "Критерий Дики-Фуллера: p=0.000000\n"
     ]
    },
    {
     "data": {
      "image/png": "[encoded data removed]",
      "text/plain": [
       "<Figure size 1080x576 with 2 Axes>"
      ]
     },
     "metadata": {
      "needs_background": "light"
     },
     "output_type": "display_data"
    }
   ],
   "source": [
    "plt.figure(figsize(15,8))\n",
    "plt.subplot(211)\n",
    "best_model.resid[13:].plot()\n",
    "plt.ylabel(u'Residuals')\n",
    "\n",
    "ax = plt.subplot(212)\n",
    "sm.graphics.tsa.plot_acf(best_model.resid[13:].values.squeeze(), lags=48, ax=ax)\n",
    "\n",
    "print(\"Критерий Стьюдента: p=%f\" % stats.ttest_1samp(best_model.resid[13:], 0)[1])\n",
    "print(\"Критерий Дики-Фуллера: p=%f\" % sm.tsa.stattools.adfuller(best_model.resid[13:])[1])"
   ]
  },
  {
   "cell_type": "markdown",
   "id": "b938e6e4",
   "metadata": {},
   "source": [
    "Остатки стационарны (подтверждается ADF-тестом), \"немного\" автокоррелированы (подтверждается коррелограммой)"
   ]
  },
  {
   "cell_type": "code",
   "execution_count": 114,
   "id": "abe454b7",
   "metadata": {
    "scrolled": true
   },
   "outputs": [],
   "source": [
    "pred = sarimax1.predict(tr_end, te_end, exog = exog_test)[1:]"
   ]
  },
  {
   "cell_type": "code",
   "execution_count": 116,
   "id": "914cc1dd",
   "metadata": {},
   "outputs": [
    {
     "name": "stdout",
     "output_type": "stream",
     "text": [
      "Итоговый MAE = 15.178904192168545 млрд. рублей\n"
     ]
    }
   ],
   "source": [
    "print(\"Итоговый MAE = {} млрд. рублей\".format(mean_absolute_error(pred, tes)/1e9))"
   ]
  },
  {
   "cell_type": "code",
   "execution_count": 11,
   "id": "4e67e213",
   "metadata": {},
   "outputs": [],
   "source": [
    "pred = sarimax.predict(tr_end, te_end, exog = exog_test)[1:]"
   ]
  },
  {
   "cell_type": "code",
   "execution_count": 21,
   "id": "dbcffc58",
   "metadata": {},
   "outputs": [
    {
     "data": {
      "text/plain": [
       "2020-12-01    2.607501e+11\n",
       "2020-12-02    2.671966e+11\n",
       "2020-12-03    2.700459e+11\n",
       "2020-12-04    2.765517e+11\n",
       "2020-12-05    2.747698e+11\n",
       "                  ...     \n",
       "2021-03-31    2.417291e+11\n",
       "2021-04-01    2.560726e+11\n",
       "2021-04-02    2.588274e+11\n",
       "2021-04-03    2.621052e+11\n",
       "2021-04-04    2.630563e+11\n",
       "Freq: D, Name: predicted_mean, Length: 125, dtype: float64"
      ]
     },
     "execution_count": 21,
     "metadata": {},
     "output_type": "execute_result"
    }
   ],
   "source": [
    "pred"
   ]
  },
  {
   "cell_type": "code",
   "execution_count": 139,
   "id": "92034eaf",
   "metadata": {},
   "outputs": [
    {
     "data": {
      "image/png": "[encoded data removed]",
      "text/plain": [
       "<Figure size 1440x720 with 1 Axes>"
      ]
     },
     "metadata": {},
     "output_type": "display_data"
    }
   ],
   "source": [
    "fig, ax = plt.subplots(figsize = (20,10))\n",
    "ax.plot(df_y_test, '-ok', linewidth = 2, label = 'fact')\n",
    "ax.plot(pred, '-or',  linewidth = 2, label = 'plan')\n",
    "ax.legend()\n",
    "ax.grid(True)"
   ]
  },
  {
   "cell_type": "code",
   "execution_count": 16,
   "id": "369af09e",
   "metadata": {},
   "outputs": [
    {
     "name": "stdout",
     "output_type": "stream",
     "text": [
      "Итоговы MAE = 15.48559343396159 млрд. рублей\n"
     ]
    }
   ],
   "source": [
    "print(\"Итоговы MAE = {} млрд. рублей\".format(mean_absolute_error(pred, tes)/1e9))"
   ]
  }
 ],
 "metadata": {
  "kernelspec": {
   "display_name": "Python 3 (ipykernel)",
   "language": "python",
   "name": "python3"
  },
  "language_info": {
   "codemirror_mode": {
    "name": "ipython",
    "version": 3
   },
   "file_extension": ".py",
   "mimetype": "text/x-python",
   "name": "python",
   "nbconvert_exporter": "python",
   "pygments_lexer": "ipython3",
   "version": "3.9.7"
  }
 },
 "nbformat": 4,
 "nbformat_minor": 5
}
