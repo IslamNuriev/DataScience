{
 "cells": [
  {
   "cell_type": "markdown",
   "id": "d6b4c0bc-e37f-42b4-9dc8-c4490ca6ed72",
   "metadata": {},
   "source": [
    "**Экономисты ЭФ НГУ, 22.03.2023**"
   ]
  },
  {
   "cell_type": "markdown",
   "id": "21a02264-3152-49ae-b19f-d1d355bec2aa",
   "metadata": {
    "tags": []
   },
   "source": [
    "### Актуальность"
   ]
  },
  {
   "cell_type": "markdown",
   "id": "6ebda60f-2175-40be-a835-2644fe318170",
   "metadata": {},
   "source": [
    "Почему важно уметь производить матричное дифференцирование? Во-первых, намного удобнее и эстетичнее работать с матрицами, чем с объектами этой матрицы, во-вторых, производительность матричного дифференцирования обычно очень хорошо оптимизирована в библиотеках и имеет преимущество в сравнении с циклическими вычислениями i,j,s,m. Поэтому цель данного занятия научиться вычислять производные в удобном, векторно-матричном виде. Для начала мы должны ввести ясную систему обозначений, составляющую ядро техники матричного дифференцирования."
   ]
  },
  {
   "cell_type": "markdown",
   "id": "4d701b33-9df1-4b06-8942-ff35f1927a8f",
   "metadata": {
    "tags": []
   },
   "source": [
    "### Основные обозначения:"
   ]
  },
  {
   "cell_type": "markdown",
   "id": "5e037b71-38fb-4f17-ab54-6fecd6b6ce7b",
   "metadata": {
    "jp-MarkdownHeadingCollapsed": true,
    "tags": []
   },
   "source": [
    "Определение производной функции $$f∶ \\mathbb R^m→\\mathbb R^n.$$ \n",
    "\n",
    "- Функция $f(x)$ дифференцируема в точке $x_0$, если \n",
    "\n",
    "$$f(x_0+∆x)=f(x_0 )+[D_{x_0} f](∆x)+o ̿(‖∆x‖),$$\n",
    "\n",
    "- где $[D_{x_0} f]$ – дифференциал функции f, т.е. такое линейное отображение, которое «малое приращение $h=∆x$» переводит в «малое приращение $∆f$»:\n",
    "\n",
    "$$f(x_0+∆x)-f(x_0 )≈[D_{x_0} f](∆x)$$\n",
    "\n",
    "- Дифференциал зависит от точки $x_0$, в которой он берется: $[D_{x_0} f](∆x)$.\n"
   ]
  },
  {
   "cell_type": "markdown",
   "id": "e7ff58c3-3402-41fc-b288-4bda92253877",
   "metadata": {
    "tags": []
   },
   "source": [
    "### Пример"
   ]
  },
  {
   "cell_type": "markdown",
   "id": "cd0be393-9d30-4459-893e-09a901859eef",
   "metadata": {
    "jp-MarkdownHeadingCollapsed": true,
    "tags": []
   },
   "source": [
    "**Вычислим градиент функции:**  $$f(x) = ||Ax-b||^2, \\\\ A - \\text{константная матрица,  }b - \\text{постоянный вектор}$$\n",
    "\n",
    "- **Распишем квадрат модуля в виде скалярного произведения**\n",
    "\n",
    "$$||Ax-b||^2 = \\langle Ax-b, Ax-b \\rangle$$\n",
    "\n",
    "- **Применим формулу дифференциала произведения и воспользуемся симметричностью скалярного произведения:**\n",
    "\n",
    "$$[D_{x_0}\\langle Ax-b, Ax-b \\rangle](h) =\\langle [D_{x_0}(Ax-b)](h), Ax_0 - b\\rangle + \\langle Ax_0 - b, [D_{x_0}(Ax-b)](h)\\rangle\\\\ = 2\\langle Ax_0 - b, [D_{x_0}(Ax-b)](h)\\rangle = 2\\langle Ax_0 - b, Ah\\rangle = \\langle 2A^T(Ax_0-b),h\\rangle$$\n",
    "\n",
    "- **Получаем, что**\n",
    "\n",
    "$$\\nabla_{x_0}f = 2A^T(Ax_0-b)$$\n",
    "\n",
    "- **Мы можем запоздоздрить, что минимум достигается в точке, где градиент обращается в ноль:**\n",
    "\n",
    "$$x_* = (A^TA)^{-1}A^Tb$$\n",
    "\n",
    "**Отметим, что обратная матрица существует, так как $rk(A^TA) = rkA$, а столбцы $A$ по условию линейно независимы и, следовательно, $rk(A^TA)$ равен размеру этой матрицы.**"
   ]
  },
  {
   "cell_type": "markdown",
   "id": "f5a0b5e2-e469-4322-9f2b-78da3da02446",
   "metadata": {
    "tags": []
   },
   "source": [
    "### Метод наименьших квадратов"
   ]
  },
  {
   "cell_type": "markdown",
   "id": "678cf09c-82e0-41dc-abe2-b28a96e835cb",
   "metadata": {},
   "source": [
    "**Вычислим в матричном виде точную формулу для нахождения оценок множественной регрессии** \n",
    "\n",
    "$$f(x)=||Xw-y||^2= \\langle Xw-y, Xw-y \\rangle$$\n",
    "\n",
    "$$[D_{w_0}\\langle Xw-y, Xw-y \\rangle](h) =\\langle [D_{w_0}(Xw-y)](h), Xw_0-y\\rangle + \\langle Xw_0-y, [D_{w_0}(Xw-y)](h)\\rangle = 2\\langle Xw_0-y, [D_{w_0}(Xw_0-y)](h)\\rangle = 2\\langle Xw_0-y, Xh\\rangle = \\langle 2X^T(Xw_0-y),h\\rangle$$"
   ]
  },
  {
   "cell_type": "markdown",
   "id": "481db62b-a4bb-4e87-9076-3589cdff0de1",
   "metadata": {},
   "source": [
    "$$\\nabla_{w_0}f = 2X^T(Xw_0-y)$$\n",
    "\n",
    "Приравняем производную $f(x)$ к нулю и найдем $w_*$:\n",
    "\n",
    "$$w_* = (X^TX)^{-1}X^Ty$$\n",
    "\n"
   ]
  },
  {
   "cell_type": "markdown",
   "id": "979b3800-c76f-41ba-9231-f92277cee460",
   "metadata": {},
   "source": [
    "**Вопрос:** Для вычисления $w_*$ нам приходится обращать (квадратную) матрицу $X^TX$, что возможно, только если она невырожденна. Что это значит с точки зрения анализа данных? Почему мы верим, что это выполняется во всех разумных ситуациях?"
   ]
  },
  {
   "cell_type": "markdown",
   "id": "af84e758-e52d-4a63-a99c-2f56d0b40ddf",
   "metadata": {},
   "source": [
    "Для вещественной матрицы $X$ ранги матриц $X$ и $X^TX$ совпадают. Матрица $X^TX$ невырожденна (ненулевой определитель) тогда и только тогда, когда её ранг равен числу её столбцов, что равно числу столбцов матрицы $X$. Иными словами, формула регрессии поломается, только если столбцы матрицы X линейно зависимы. Столбцы матрицы $X$\n",
    " – это факторы (признаки). А если наши признаки линейно зависимы, то, наверное, что-то идёт не так и мы должны исключить часть из них, чтобы остались только линейно независимые. Другое дело, что зачастую признаки могут быть приближённо линейно зависимы, особенно если их много. Тогда матрица $X^TX$ будет близка к вырожденной, и это, как мы дальше увидим, будет вести к разным, в том числе вычислительным проблемам."
   ]
  },
  {
   "cell_type": "markdown",
   "id": "4a4dd962-1d87-4b59-93d8-3182f47b4844",
   "metadata": {
    "tags": []
   },
   "source": [
    "## Регуляризация"
   ]
  },
  {
   "cell_type": "markdown",
   "id": "be794ca5-8091-42b5-8844-d4924b18da0e",
   "metadata": {},
   "source": [
    "Всегда ли решение задачи регрессии единственно? Вообще говоря, нет. Так, если в выборке два признака будут линейно зависимы  (и следовательно, ранг матрицы будет меньше числа факторов),то гарантировано найдётся такой вектор весов $\\nu$, что $\\langle \\nu, x_i \\rangle = 0 \\: \\forall x_i$. В этом случае, если какой-то $w$ является решением оптимизационной задачи, то и $w+\\alpha \\nu$ тоже является решением для любого $\\alpha$. То есть решение не только не обязано быть уникальным, так ещё может быть сколь угодно большим по модулю. Это создаёт вычислительные трудности. Малые погрешности признаков сильно возрастают при предсказании ответа, а в градиентном спуске накапливается погрешность из-за операций со слишком большими числами."
   ]
  },
  {
   "cell_type": "markdown",
   "id": "46292723-46b4-43e5-a9e9-668f06cf030d",
   "metadata": {},
   "source": [
    "Конечно, в жизни редко бывает так, что признаки строго линейно зависимы, а вот быть приближённо линейно зависимыми они вполне могут. Такая ситуация называется мультиколлинеарностью. В этом случае у нас всё равно возникают проблемы, близкие к описанным выше. Дело в том, что $X \\nu \\sim 0$ для вектора $\\nu$\n",
    ", состоящего из коэффициентов приближённой линейной зависимости, и, соответственно, $X^TX \\nu ≈ 0$, то есть матрица $X^TX$ снова будет близка к вырожденной. Как и любая симметричная матрица, она диагонализуется в некотором ортонормированном базисе, и некоторые из собственных значений $\\lambda_i$ близки к нулю."
   ]
  },
  {
   "cell_type": "markdown",
   "id": "1c494e05-83e8-49c0-a43b-fd69ec5ca7a9",
   "metadata": {},
   "source": [
    "Важно ещё отметить, что в случае, когда несколько признаков линейно зависимы, веса $w_i$ при них теряют физический смысл. Может даже оказаться, что вес признака, с ростом которого таргет, казалось бы, должен увеличиваться, станет отрицательным. Это делает модель не только неточной, но и принципиально не интерпретируемой. Вообще, неадекватность знаков или величины весов – хорошее указание на мультиколлинеарность.\n",
    "\n",
    "Для того, чтобы справиться с этой проблемой, задачу обычно регуляризуют, то есть добавляют к ней дополнительное ограничение на вектор весов. Это ограничение можно, как и исходный лосс, задавать по-разному, но, как правило, ничего сложнее, чем $L_1$ и $L_2$ нормы, не требуется.\n",
    "\n",
    "Вместо исходной задачи теперь предлагается решить такую:\n",
    "\n"
   ]
  },
  {
   "cell_type": "markdown",
   "id": "403c3ffc-9420-4ede-837c-0bb3697b2918",
   "metadata": {},
   "source": [
    "$$\\min\\limits_{w} L(f,X,y) = \\min\\limits_{w}(|Xw-y|_2^2 + \\lambda|w|_k^k),$$"
   ]
  },
  {
   "cell_type": "markdown",
   "id": "9cc56f74-b1e2-483c-ba25-7ccce22ef772",
   "metadata": {},
   "source": [
    "$\\lambda$ - экзогенный параметр (гиперпараметр),"
   ]
  },
  {
   "cell_type": "markdown",
   "id": "1fe8f612-ad36-4763-b811-c6deb2e5004d",
   "metadata": {},
   "source": [
    "$w_k^k$ - один из двух вариантов:"
   ]
  },
  {
   "cell_type": "markdown",
   "id": "9fcf2662-48b2-4422-991d-137e56571e3d",
   "metadata": {},
   "source": [
    "$$w_2^2 = w_1^2 + w_2^2 + \\dots + w_D^2,$$"
   ]
  },
  {
   "cell_type": "markdown",
   "id": "088f9ea0-7ae0-48bd-acb7-2fa5f6cf92b0",
   "metadata": {},
   "source": [
    "$$w_1^1 = |w_1| + |w_2| + \\dots + |w_D|$$"
   ]
  },
  {
   "cell_type": "markdown",
   "id": "a2d2a106-130d-405b-847f-5de7c88bd473",
   "metadata": {},
   "source": [
    "Добавка $\\lambda|w|_k^k$ называется регуляризационным членом или регуляризаторов, а число $\\lambda$ - коэффициентом регуляризации"
   ]
  },
  {
   "cell_type": "markdown",
   "id": "9b40b912-05aa-442f-ac7c-279b5892b0b1",
   "metadata": {},
   "source": [
    "- Параметр $\\lambda$ является гиперпараметром модели и достаточно сильно влияет на качество итогового решения. Его подбирают на дополнительной **валидационной** выборке, а качество проверяют на тестовой, чтобы исключить переобучение."
   ]
  },
  {
   "cell_type": "markdown",
   "id": "b83a537f-d2c8-4326-ae7f-d399971c7a68",
   "metadata": {},
   "source": [
    "- Отдельно нужно отметить, что вес $w_0$ соответствующий отступу от начала координат (то есть признаку из всех единиц), регуляризовать не нужно, потому что это не имеет смысла: потому что наша регрессия может быть на любом расстоянии на оси ординат"
   ]
  },
  {
   "cell_type": "markdown",
   "id": "04c222ac-199b-494d-b80d-320bf2caa49a",
   "metadata": {},
   "source": [
    "### Точное решение МНК для гребневой регрессии"
   ]
  },
  {
   "cell_type": "markdown",
   "id": "740d2bab-541c-4cfd-96e9-12aab21b6824",
   "metadata": {},
   "source": [
    "**$L_2$-регуляризация (гребневая регрессия)**"
   ]
  },
  {
   "cell_type": "markdown",
   "id": "a5698a40-3497-43bb-b24c-eb68299b7006",
   "metadata": {},
   "source": [
    "$$\\min\\limits_{w} L(f,X,y) = \\min\\limits_{w}(|Xw-y|_2^2 + \\lambda|w|_2^2),$$"
   ]
  },
  {
   "cell_type": "markdown",
   "id": "434b4737-e7e7-44f3-a123-7415b1f1ac87",
   "metadata": {},
   "source": [
    "$$f(x)=||Xw-y|| +\\lambda||w||^2 = (Xw-y)^T(Xw-y)+\\lambda \\cdot w^Tw \\\\= \\langle Xw-y, Xw-y \\rangle +\\lambda \\cdot \\langle w,w \\rangle$$\n",
    "\n",
    "- Дифференциал суммы равна сумме дифференциалов, поэтому посчитаем по отдельности и сложим. Дифференциал первого слагаемого мы считали выше, поэтому просто запишем, чему он равен\n",
    "\n",
    "$$[D_{w_0}\\langle Xw-y, Xw-y \\rangle](h) = \\langle 2X^T(Xw_0-y),h\\rangle$$\n",
    "\n",
    "$$\\lambda[D_{w_0}\\langle w,w \\rangle](h)=\\lambda\\langle [D_{w_0}(w)](h), w_0\\rangle + \\lambda\\langle w_0, [D_{w_0}(w)](h)\\rangle = 2\\lambda\\langle w_0, [D_{w_0}(w)](h)\\rangle = 2\\lambda\\langle w_0,h\\rangle$$\n",
    "\n",
    "- Получаем, что градиент функции $f$ равен:\n",
    "\n",
    "$$\\nabla_{w_0}f = 2X^T(Xw_0-y) + 2\\lambda w_0$$\n",
    "\n",
    "- Приравняем производную $f(x)$ к нулю и найдем $w_*$:\n",
    "\n",
    "$$w_* = (X^TX + \\lambda I_{D*D})^{-1}X^Ty$$"
   ]
  },
  {
   "cell_type": "markdown",
   "id": "aafacab0-cf45-4584-9f8e-066c3ed8ceef",
   "metadata": {},
   "source": [
    "- Здесь уже видно, какую роль играет $L_2$-регуляризация. Если матрица $X^TX$ плохо обусловлена, т.е. есть близкие к линейной зависимости признаки, то прибавка $\\lambda I$ ведет к тому, что к каждому диагональному элементу матрицы $X^TX$ будет добавляться некоторое значение $\\lambda$. Это и помогает решить проблему мультиколлинеарности признаков."
   ]
  },
  {
   "cell_type": "code",
   "execution_count": 1,
   "id": "531dbe05-5a0a-4499-bbc9-dbcfee0bc3bc",
   "metadata": {},
   "outputs": [],
   "source": [
    "import numpy as np\n",
    "from matplotlib import pyplot as plt"
   ]
  },
  {
   "cell_type": "code",
   "execution_count": 5,
   "id": "73b17011-9d8c-4bb3-ad33-4ba2ae6bc1e9",
   "metadata": {},
   "outputs": [
    {
     "data": {
      "text/plain": [
       "array([[ 0,  0,  0,  0,  0,  0,  0,  0,  0,  0,  0,  0,  0],\n",
       "       [ 0, 21,  0,  0,  0,  0,  0,  0,  0,  0,  0,  0,  0],\n",
       "       [ 0,  0, 21,  0,  0,  0,  0,  0,  0,  0,  0,  0,  0],\n",
       "       [ 0,  0,  0, 21,  0,  0,  0,  0,  0,  0,  0,  0,  0],\n",
       "       [ 0,  0,  0,  0, 21,  0,  0,  0,  0,  0,  0,  0,  0],\n",
       "       [ 0,  0,  0,  0,  0, 21,  0,  0,  0,  0,  0,  0,  0],\n",
       "       [ 0,  0,  0,  0,  0,  0, 21,  0,  0,  0,  0,  0,  0],\n",
       "       [ 0,  0,  0,  0,  0,  0,  0, 21,  0,  0,  0,  0,  0],\n",
       "       [ 0,  0,  0,  0,  0,  0,  0,  0, 21,  0,  0,  0,  0],\n",
       "       [ 0,  0,  0,  0,  0,  0,  0,  0,  0, 21,  0,  0,  0],\n",
       "       [ 0,  0,  0,  0,  0,  0,  0,  0,  0,  0, 21,  0,  0],\n",
       "       [ 0,  0,  0,  0,  0,  0,  0,  0,  0,  0,  0, 21,  0],\n",
       "       [ 0,  0,  0,  0,  0,  0,  0,  0,  0,  0,  0,  0, 21]])"
      ]
     },
     "execution_count": 5,
     "metadata": {},
     "output_type": "execute_result"
    }
   ],
   "source": [
    "IL"
   ]
  },
  {
   "cell_type": "code",
   "execution_count": 4,
   "id": "120231d1-07f9-4fe7-9d92-028b48261752",
   "metadata": {},
   "outputs": [
    {
     "name": "stdout",
     "output_type": "stream",
     "text": [
      "[ 4.97749059e+02 -5.83841616e-01 -9.86881274e-01 -1.26079402e+00\n",
      " -1.08696520e+00 -1.92496467e-01  6.57243140e-01 -3.00964437e-01\n",
      "  6.78282510e-02 -8.81518482e-03  6.73805494e-04 -2.82357810e-05\n",
      "  5.01820097e-07]\n"
     ]
    }
   ],
   "source": [
    "x = np.arange(0,10.1, 0.1)\n",
    "y = np.array([a**3 - 10*a**2 + 3*a + 500 for a in x])\n",
    "x_train, y_train = x[::2], y[::2]\n",
    "D = 13 # размер признакового пространства\n",
    "L = 21 # lambda\n",
    "\n",
    "X = np.array([[a**i for i in range(D)] for a in x])\n",
    "IL = np.array([[L if i==j else 0 for j in range(D)] for i in range(D)]) # матрица lambda*I\n",
    "\n",
    "IL[0][0] = 0 # первый коэффициент не регуляризуем\n",
    "X_train = X[::2] # обучающая выборка признаков\n",
    "Y = y_train # обучаюшие ответы\n",
    "\n",
    "# Вычисление коэффициентов по формуле w_*:\n",
    "A = np.linalg.inv(X_train.T @ X_train + IL)\n",
    "w = Y @ X_train @ A # @ - матричное умножение\n",
    "# w = A @ X_train.T @ Y # @ - матричное умножение\n",
    "\n",
    "print(w)"
   ]
  },
  {
   "cell_type": "code",
   "execution_count": 10,
   "id": "6ea387fd-b7d2-484e-879b-633b76d89a84",
   "metadata": {},
   "outputs": [
    {
     "data": {
      "text/plain": [
       "array([[1., 0., 0., 0., 0.],\n",
       "       [0., 1., 0., 0., 0.],\n",
       "       [0., 0., 1., 0., 0.],\n",
       "       [0., 0., 0., 1., 0.],\n",
       "       [0., 0., 0., 0., 1.]])"
      ]
     },
     "execution_count": 10,
     "metadata": {},
     "output_type": "execute_result"
    }
   ],
   "source": [
    "np.eye(5)"
   ]
  },
  {
   "cell_type": "code",
   "execution_count": 7,
   "id": "430b4080-1f6b-463b-8108-5a07a9437902",
   "metadata": {},
   "outputs": [
    {
     "data": {
      "text/plain": [
       "True"
      ]
     },
     "execution_count": 7,
     "metadata": {},
     "output_type": "execute_result"
    }
   ],
   "source": [
    "from numpy.linalg import inv\n",
    "\n",
    "a = np.array([[1., 2.], [3., 4.]])\n",
    "ainv = inv(a)\n",
    "np.allclose(np.dot(a, ainv), np.eye(2))"
   ]
  },
  {
   "cell_type": "code",
   "execution_count": 8,
   "id": "c4af76d7-7fc0-493a-8e08-ad89338f3f6a",
   "metadata": {},
   "outputs": [
    {
     "data": {
      "text/plain": [
       "True"
      ]
     },
     "execution_count": 8,
     "metadata": {},
     "output_type": "execute_result"
    }
   ],
   "source": [
    "np.allclose(np.dot(ainv, a), np.eye(2))"
   ]
  },
  {
   "cell_type": "code",
   "execution_count": 6,
   "id": "cf2190d1-cc19-4e15-b0f0-9321c27b61b0",
   "metadata": {},
   "outputs": [
    {
     "data": {
      "image/png": "[encoded data removed]",
      "text/plain": [
       "<Figure size 864x504 with 1 Axes>"
      ]
     },
     "metadata": {
      "needs_background": "light"
     },
     "output_type": "display_data"
    }
   ],
   "source": [
    "# Отображение исходного графика и прогноза\n",
    "yy = [np.dot(w,x) for x in X]\n",
    "plt.figure(figsize=(12, 7))\n",
    "plt.plot(x,yy)\n",
    "plt.plot(x,y)\n",
    "plt.grid(True)\n",
    "plt.legend(['Истинная','Прогноз'])\n",
    "plt.show()"
   ]
  }
 ],
 "metadata": {
  "kernelspec": {
   "display_name": "Python 3 (ipykernel)",
   "language": "python",
   "name": "python3"
  },
  "language_info": {
   "codemirror_mode": {
    "name": "ipython",
    "version": 3
   },
   "file_extension": ".py",
   "mimetype": "text/x-python",
   "name": "python",
   "nbconvert_exporter": "python",
   "pygments_lexer": "ipython3",
   "version": "3.9.7"
  }
 },
 "nbformat": 4,
 "nbformat_minor": 5
}
