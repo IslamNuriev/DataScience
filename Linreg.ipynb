{
 "cells": [
  {
   "cell_type": "markdown",
   "id": "6fb0b81b-bb66-467c-a6e7-2d3c18509e81",
   "metadata": {},
   "source": [
    "**Экономисты ЭФ НГУ, 22.03.2023**"
   ]
  },
  {
   "cell_type": "markdown",
   "id": "fdf62bc2-adc4-4567-ac30-837572eafbcd",
   "metadata": {
    "tags": []
   },
   "source": [
    "## Метод наименьших квадратов"
   ]
  },
  {
   "cell_type": "markdown",
   "id": "0784ca4e-eb2c-4e74-98b7-80a0bbc95b2f",
   "metadata": {},
   "source": [
    "$$f(x) =kx+b$$"
   ]
  },
  {
   "cell_type": "markdown",
   "id": "4a2b40a9-46a5-4fa0-a2fd-39f69dbef61e",
   "metadata": {},
   "source": [
    "$$y = f(x) + e$$"
   ]
  },
  {
   "cell_type": "markdown",
   "id": "d95172cb-2e23-4198-bb82-dc3c4b60ad8b",
   "metadata": {},
   "source": [
    "**Минимизация суммы квадратов остатков:**"
   ]
  },
  {
   "cell_type": "markdown",
   "id": "8c51a56b-53f4-44f6-8779-5a9c44239018",
   "metadata": {},
   "source": [
    "$$MSE = S_e^2=\\frac1n\\sum\\limits_{i=1}^n(y_i-kx_i-b)^2) \\rightarrow \\min\\limits_{k,b}$$"
   ]
  },
  {
   "cell_type": "markdown",
   "id": "2e31c120-015a-4509-a348-70f3cb2c661b",
   "metadata": {},
   "source": [
    "**Условия первого порядка (First order conditions - FOC):**"
   ]
  },
  {
   "cell_type": "markdown",
   "id": "646b83b3-5023-4495-af52-373f7781a21f",
   "metadata": {},
   "source": [
    "$$\\begin{equation}\n",
    "    \\begin{matrix}\n",
    "    \\left\\{\n",
    "    \\begin{matrix}\n",
    "    \\sum\\limits_{i=1}^n(y_i - kx_i-b)x_i=0\\\\\n",
    "    \\sum\\limits_{i=1}^n(y_i - kx_i-b)=0\n",
    "    \\end{matrix} \\right.\n",
    "    \\end{matrix}\n",
    "\\end{equation}$$"
   ]
  },
  {
   "cell_type": "markdown",
   "id": "d1f50c56-cdbe-4c30-893f-4cd82729a853",
   "metadata": {},
   "source": [
    "$$\\Rightarrow\\begin{equation}\n",
    "    \\begin{matrix}\n",
    "    \\left\\{\n",
    "    \\begin{matrix}\n",
    "    \\\\cov(e_i,x_i)=0\\\\\n",
    "    \\sum\\limits_{i=1}^ne_i=0\n",
    "    \\end{matrix} \\right.\n",
    "    \\end{matrix}\n",
    "\\end{equation}$$"
   ]
  },
  {
   "cell_type": "markdown",
   "id": "b8f657fb-dec4-4228-aba7-bf990780ba4e",
   "metadata": {},
   "source": [
    "**Из FOC получаем,что остатки на коррелируют с фактором и сумма остатков равна нулю** "
   ]
  },
  {
   "cell_type": "markdown",
   "id": "91b03f0d-0bc2-4471-a3cc-6c944cd33fe6",
   "metadata": {},
   "source": [
    "**Из второго уравнения системы получаем:**$$b=\\bar y - k \\bar x$$"
   ]
  },
  {
   "cell_type": "markdown",
   "id": "f0e8beeb-895b-493f-9877-9ce25e489359",
   "metadata": {},
   "source": [
    "$$\\sum\\limits_{i=1}^ny_ix_i-\\bar y\\sum\\limits_{i=1}^nx_i - k\\sum\\limits_{i=1}^nx_i^2-\\bar x\\sum\\limits_{i=1}^nx_i$$"
   ]
  },
  {
   "cell_type": "markdown",
   "id": "298749f3-5abb-4a0d-b89f-03b36fbae6d0",
   "metadata": {},
   "source": [
    "**Подставляем в первое уравнение, получаем:** $$\\sum\\limits_{i=1}^n(y_i - kx_i-\\bar y + k \\bar x)x_i=\\sum\\limits_{i=1}^n((y_i-\\bar y) - k(x_i-\\bar x))x_i=\\sum\\limits_{i=1}^ny_ix_i-\\bar y\\sum\\limits_{i=1}^nx_i - k(\\sum\\limits_{i=1}^nx_i^2-\\bar x\\sum\\limits_{i=1}^nx_i)=0$$"
   ]
  },
  {
   "cell_type": "markdown",
   "id": "31fcc4ca-2b8c-4064-b603-21c96517b726",
   "metadata": {},
   "source": [
    "$$k=\\frac{\\sum\\limits_{i=1}^ny_ix_i-\\bar y\\sum\\limits_{i=1}^nx_i}{\\sum\\limits_{i=1}^nx_i^2-\\bar x\\sum\\limits_{i=1}^nx_i} = \\frac{\\overline{yx}-\\bar y\\bar x}{\\overline{x^2}-\\overline{x}^2}=\\frac{cov(y,x)}{var(x)}$$"
   ]
  },
  {
   "cell_type": "markdown",
   "id": "8d2b400f-00ee-406a-9c97-e60f68cebfb0",
   "metadata": {},
   "source": [
    "$$b=\\bar y - k \\bar x\\\\k = \\frac{cov(y,x)}{var(x)}$$"
   ]
  },
  {
   "cell_type": "code",
   "execution_count": 1,
   "id": "ab870765-c7e4-4e05-88a9-73737943954a",
   "metadata": {},
   "outputs": [],
   "source": [
    "import numpy as np\n",
    "from matplotlib import pyplot as plt"
   ]
  },
  {
   "cell_type": "code",
   "execution_count": 65,
   "id": "200a6a40-69ca-4de1-aecf-a6aa79ae7ec0",
   "metadata": {},
   "outputs": [],
   "source": [
    "n = 100 # число наблюдений\n",
    "sigma = 3 # стандартное отклонение наблюдаемых значений\n",
    "k = 0.5 # теоретическое значение k\n",
    "b = 2 # теоретическое значение b"
   ]
  },
  {
   "cell_type": "code",
   "execution_count": 70,
   "id": "7ed38412-ed00-4c2f-8696-8a519b053953",
   "metadata": {},
   "outputs": [],
   "source": [
    "np.random.seed(36313) # мы фиксируем случайные значения\n",
    "f = np.array([k*x+b for x in range(0,n)]) # теоретическая прямая\n",
    "y = f + np.random.normal(0,sigma,n) # значения целевой переменной"
   ]
  },
  {
   "cell_type": "code",
   "execution_count": 71,
   "id": "90e1cbfc-34c9-4c74-84c4-f32da0c3a29e",
   "metadata": {},
   "outputs": [
    {
     "data": {
      "image/png": "[encoded data removed]",
      "text/plain": [
       "<Figure size 432x288 with 1 Axes>"
      ]
     },
     "metadata": {
      "needs_background": "light"
     },
     "output_type": "display_data"
    }
   ],
   "source": [
    "x = np.array(range(n)) # значения от 0 до 99\n",
    "plt.plot(f)\n",
    "plt.scatter(x,y,s=2,c='red')\n",
    "plt.grid(True)\n",
    "plt.show()"
   ]
  },
  {
   "cell_type": "markdown",
   "id": "8fc4d793-e12a-4b4b-a2a7-8c8fc2d253e8",
   "metadata": {},
   "source": [
    "**Теперь представим, что значения k и b нам неизвестны, а лишь известны значения целевой переменной y,попробуем найти оценки**"
   ]
  },
  {
   "cell_type": "markdown",
   "id": "c145d101-be2b-4671-a894-27b8752c1671",
   "metadata": {},
   "source": [
    "$$k_* = \\frac{\\overline{yx}-\\bar y\\bar x}{\\overline{x^2}-\\overline{x}^2}$$"
   ]
  },
  {
   "cell_type": "code",
   "execution_count": 72,
   "id": "64bd4baf-34ff-4185-bfcc-59b87fe828f8",
   "metadata": {},
   "outputs": [],
   "source": [
    "y_mean = y.sum()/n\n",
    "x_mean = x.sum()/n\n",
    "yx_mean = np.dot(x.T,y)/n \n",
    "mean_x_sq = np.dot(x.T,x)/n\n",
    "\n",
    "k_estimate = (yx_mean - y_mean*x_mean)/(mean_x_sq-x_mean**2)\n",
    "b_estimate = y_mean-k_estimate*x_mean"
   ]
  },
  {
   "cell_type": "code",
   "execution_count": 44,
   "id": "01339e2b-b7d4-43c1-9545-32d2f253ddf4",
   "metadata": {},
   "outputs": [],
   "source": [
    "y_pred = k_estimate*x+b_estimate # расчетные значения"
   ]
  },
  {
   "cell_type": "code",
   "execution_count": 75,
   "id": "69921838-ce8f-4b1f-8713-7ff62fa4baac",
   "metadata": {},
   "outputs": [
    {
     "data": {
      "image/png": "[encoded data removed]",
      "text/plain": [
       "<Figure size 432x288 with 1 Axes>"
      ]
     },
     "metadata": {
      "needs_background": "light"
     },
     "output_type": "display_data"
    }
   ],
   "source": [
    "x = np.array(range(n))\n",
    "plt.plot(f,c='yellow')\n",
    "plt.plot(y_pred,c='black')\n",
    "plt.scatter(x,y,s=2,c='red')\n",
    "plt.grid(True)\n",
    "plt.legend(['Теоретическая прямая','Регрессия МНК','Реальные данные'])\n",
    "plt.xlabel('x')\n",
    "plt.ylabel('y')\n",
    "plt.title('Линейная модель')\n",
    "plt.show()"
   ]
  },
  {
   "cell_type": "markdown",
   "id": "a856db8f-10c8-4552-a5c4-ea3dc01dffc5",
   "metadata": {},
   "source": [
    "## Метод градиентного спуска"
   ]
  },
  {
   "cell_type": "markdown",
   "id": "eee286da-8947-4bf0-afff-848f626a2f50",
   "metadata": {},
   "source": [
    "Алгоритм направленного поиска \n",
    "\n",
    "$$x_{n+1} = x_n - \\alpha\\frac{\\partial f(x_n)}{\\partial x_n}$$"
   ]
  },
  {
   "cell_type": "markdown",
   "id": "46067222-ee3b-4625-b67c-f333b95cb50e",
   "metadata": {},
   "source": [
    "$$\\alpha  - шаг\\:обучения\\:(learning\\:rate)$$"
   ]
  },
  {
   "cell_type": "markdown",
   "id": "6fe1a103-e143-4eab-8551-f6d3b1fad47c",
   "metadata": {},
   "source": [
    "**Градиент показывает, в каком направлении нужно двигаться, чтобы найти точку экстремума**"
   ]
  },
  {
   "cell_type": "markdown",
   "id": "d10ddfa5-ab64-4e82-b97f-3a77058635e8",
   "metadata": {},
   "source": [
    "**Суть градиентного спуска состоит в том, что рассматриваемые значения (параметры модели) рекурсивно двигаются в сторону антиградиента**"
   ]
  },
  {
   "cell_type": "markdown",
   "id": "d98d5d1b-eecc-41e0-bb7c-dba911ff067f",
   "metadata": {},
   "source": [
    "Рассмотрим функцию: $$f(x) = x^2 - 5x + 5\\\\$$\n",
    "$$\\frac{\\partial f(x)}{\\partial x}=2x-5$$"
   ]
  },
  {
   "cell_type": "code",
   "execution_count": 22,
   "id": "14747bbd-f1df-4a6b-b3aa-987bfbb96f6f",
   "metadata": {},
   "outputs": [],
   "source": [
    "# инициализируем функции\n",
    "def f(x):\n",
    "    return x**2 - 5*x + 5\n",
    "def df(x):\n",
    "    return 2*x - 5"
   ]
  },
  {
   "cell_type": "code",
   "execution_count": 42,
   "id": "e01d19d3-039b-44e1-8cad-4cdc37548dad",
   "metadata": {},
   "outputs": [],
   "source": [
    "n = 200 # число итераций\n",
    "x = 0 # начальное значение\n",
    "alpha  = 0.1 # шаг сходимости (шаг обучения или learning rate)"
   ]
  },
  {
   "cell_type": "code",
   "execution_count": 43,
   "id": "51b72ca3-8658-466e-a35b-2c3d4ac7057d",
   "metadata": {},
   "outputs": [],
   "source": [
    "# Для визуализации процесса\n",
    "x_plt = np.arange(0,5.0,0.1) # диапазон значений x (отображаемая область определения)\n",
    "f_plt = [f(x) for x in x_plt]"
   ]
  },
  {
   "cell_type": "code",
   "execution_count": 44,
   "id": "65272577-2e1c-4480-9f2b-cfc91507977f",
   "metadata": {},
   "outputs": [
    {
     "data": {
      "image/png": "[encoded data removed]",
      "text/plain": [
       "<Figure size 432x288 with 1 Axes>"
      ]
     },
     "metadata": {
      "needs_background": "light"
     },
     "output_type": "display_data"
    }
   ],
   "source": [
    "# plt.ion() # включение интерактивного режима отображения графиков\n",
    "fig, ax = plt.subplots() # Создание окна и осей для графика\n",
    "ax.grid(True) # отображение сетки на графике\n",
    "\n",
    "ax.plot(x_plt,f_plt,c = 'black') # Отображение параболы\n",
    "point = ax.scatter(x,f(x),c = 'red') # отображение точки красным цветом"
   ]
  },
  {
   "cell_type": "code",
   "execution_count": 45,
   "id": "c5f74c5c-875d-488e-8abf-9fa98f570016",
   "metadata": {},
   "outputs": [
    {
     "name": "stdout",
     "output_type": "stream",
     "text": [
      "Стационарная точка x = 2.499999999999999\n"
     ]
    },
    {
     "data": {
      "image/png": "[encoded data removed]",
      "text/plain": [
       "<Figure size 432x288 with 1 Axes>"
      ]
     },
     "metadata": {
      "needs_background": "light"
     },
     "output_type": "display_data"
    }
   ],
   "source": [
    "fig, ax = plt.subplots() # Создание окна и осей для графика\n",
    "ax.plot(x_plt,f_plt, c = 'black') # Отображение параболы\n",
    "point = ax.scatter(x,f(x),c = 'red') # отображение точки красным цветом\n",
    "for i in range(0,n): # [0,n)\n",
    "    x = x - alpha*df(x) # формула градиентного спуска \n",
    "    point.set_offsets([x,f(x)]) # отображение нового положения точки\n",
    "    # перерисовка графика;\n",
    "    fig.canvas.draw()\n",
    "    fig.canvas.flush_events()\n",
    "    # time.sleep(0.1)\n",
    "plt.ioff()\n",
    "print(f\"Стационарная точка x = {x}\")\n",
    "ax.scatter(x,f(x),c='blue')\n",
    "plt.show()"
   ]
  },
  {
   "cell_type": "markdown",
   "id": "2fedcd45-5542-410e-aa1c-b7548a5db849",
   "metadata": {},
   "source": [
    "После всего этого начинаются тонкости:\n",
    "\n",
    "- А как вычислять градиент?\n",
    "- А как выбрать размер шага?\n",
    "- А есть ли какие-то теоретические оценки сходимости?"
   ]
  },
  {
   "cell_type": "markdown",
   "id": "19df5fde-c866-4f90-8523-0369368755fc",
   "metadata": {},
   "source": [
    "**Выбор шага сходимости** $$\\alpha_i = \\frac{1}{min(i+1,m)},\\quad i = 0,1,2,\\dots,n-1$$"
   ]
  },
  {
   "cell_type": "markdown",
   "id": "c49997b6-da04-4efe-b523-037563ebe4d7",
   "metadata": {},
   "source": [
    "**На каждой итерации $\\alpha$ снижается и доходит до минимального значения $\\frac1{m}$,m - некоторая константа (нижняя граница), чтобы шаг не устремился к нулю**"
   ]
  },
  {
   "cell_type": "markdown",
   "id": "271c7ccf-86ec-47b0-af6f-d51d3bb98545",
   "metadata": {},
   "source": [
    "**Другой подход состоит в том, чтобы нормализовать градиент функции $\\frac{\\partial f(x)}{\\partial x}$, чтобы его норма (длина градиента) равнялась 1**"
   ]
  },
  {
   "cell_type": "markdown",
   "id": "f0bf735c-b02c-4ab5-833a-012f2bf46e1e",
   "metadata": {},
   "source": [
    "Градиент любой функции может быть представлен в виде вектора, элементы которого являются частные производные по аргументам функции:"
   ]
  },
  {
   "cell_type": "markdown",
   "id": "d509fc07-3546-4c54-bb57-7f72ccb3ce14",
   "metadata": {},
   "source": [
    "$$gradf(x,y,z,\\dots)=\\left\\{\n",
    "  \\begin{array}{ccc}\n",
    "  \\frac{\\partial f(x,y,z,\\dots}{\\partial x},\\frac{\\partial f(x,y,z,\\dots}{\\partial y},\\frac{\\partial f(x,y,z,\\dots}{\\partial z},\\dots \\\\\n",
    "  \\end{array}\n",
    "\\right\\}$$"
   ]
  },
  {
   "cell_type": "markdown",
   "id": "4697aa42-3f78-4163-bb33-97252df76a6b",
   "metadata": {},
   "source": [
    "Далее вычисляется норма вектора (длина вектора):"
   ]
  },
  {
   "cell_type": "markdown",
   "id": "7f8d4c68-6ab2-45d9-ab09-319fdd71b359",
   "metadata": {},
   "source": [
    "$$\\|gradf(x,y,z,\\dots)\\|=\\sqrt{{\\frac{\\partial f}{\\partial x}}^2+{\\frac{\\partial f}{\\partial y}}^2+{\\frac{\\partial f}{\\partial z}}^2+\\dots}$$"
   ]
  },
  {
   "cell_type": "markdown",
   "id": "dbf6a658-5fe0-4c23-bb50-e41125bf77ec",
   "metadata": {},
   "source": [
    "Производим нормировку вектора $f$"
   ]
  },
  {
   "cell_type": "markdown",
   "id": "56dc8d29-b354-44a5-98b2-81e5988c3130",
   "metadata": {},
   "source": [
    "$$grad\\:\\psi(x,y,z,\\dots)=\\frac{gradf(x,y,z,\\dots)}{\\|gradf(x,y,z,\\dots)\\|}$$"
   ]
  },
  {
   "cell_type": "markdown",
   "id": "c56078aa-2540-47c8-8b24-8c9287bbc1ae",
   "metadata": {},
   "source": [
    "$$\\Rightarrow\\|grad\\:\\psi(x,y,z,\\dots)\\|=1$$"
   ]
  },
  {
   "cell_type": "markdown",
   "id": "679285c2-9998-436d-8006-aa7a0c1d34c5",
   "metadata": {},
   "source": [
    "$grad\\:\\psi(x,y,z,\\dots)$ уже будет иметь единичную длину. Если градиент имеет единичную длину,то его величина не будет влиять на скорость сходимости алгоритма. То есть нам важно направление градиента, а не его значение"
   ]
  },
  {
   "cell_type": "markdown",
   "id": "9fa8d4e4-fd1e-45ba-a5ab-dec37d8dbe06",
   "metadata": {},
   "source": [
    "$$\\overline{x}_{n+1}=\\overline{x}_{n}-\\alpha\\cdot grad\\:\\psi=\\overline{x}_{n}-\\frac{\\alpha}{\\|gradf\\|}gradf$$"
   ]
  },
  {
   "cell_type": "markdown",
   "id": "74c0ab90-9574-49e1-99af-307e2e4449d3",
   "metadata": {},
   "source": [
    "В одномерном случае это будет означать, что мы берем знак градиента \n",
    "\n",
    "$$\\begin{equation*}\n",
    "sign\\:\\psi=grad\\:\\psi = \n",
    " \\begin{cases}\n",
    "   1 &\\frac{df(x)}{dx}\\gt0\\\\\n",
    "   0 &\\frac{df(x)}{dx}=0\\\\\n",
    "   -1 &\\frac{df(x)}{dx}\\lt0\\\\\n",
    " \\end{cases}\n",
    "\\end{equation*}$$"
   ]
  },
  {
   "cell_type": "code",
   "execution_count": 46,
   "id": "716578fa-b026-4e93-b505-b2e40dc750d6",
   "metadata": {},
   "outputs": [
    {
     "name": "stdout",
     "output_type": "stream",
     "text": [
      "Стационарная точка x = 2.49990313519834\n"
     ]
    },
    {
     "data": {
      "image/png": "[encoded data removed]",
      "text/plain": [
       "<Figure size 1080x360 with 1 Axes>"
      ]
     },
     "metadata": {
      "needs_background": "light"
     },
     "output_type": "display_data"
    }
   ],
   "source": [
    "fig, ax = plt.subplots(figsize = (15,5)) # Создание окна и осей для графика\n",
    "ax.plot(x_plt,f_plt) # Отображение параболы\n",
    "ax.grid(True)\n",
    "point = ax.scatter(x,f(x),c = 'red') # отображение точки красным цветом\n",
    "for i in range(n):\n",
    "    m = 100\n",
    "    alpha = 1/min(i+1,m)\n",
    "    x = x - alpha*np.sign(df(x)) # формула нормализованного градиентного спуска\n",
    "    \n",
    "    point.set_offsets([x,f(x)]) # отображение нового положения точки\n",
    "    \n",
    "    # перерисовка графика и задержка 100 мс\n",
    "    fig.canvas.draw()\n",
    "    fig.canvas.flush_events()\n",
    "    # time.sleep(0.1)\n",
    "plt.ioff()\n",
    "print(f\"Стационарная точка x = {x}\")\n",
    "ax.scatter(x,f(x),c='black')\n",
    "plt.show()"
   ]
  },
  {
   "cell_type": "markdown",
   "id": "242bfbd4-6e7a-4cb5-b48f-97b349dc7578",
   "metadata": {},
   "source": [
    "### Но бывают функции сложнее - с несколькими локальными экстремумами"
   ]
  },
  {
   "cell_type": "markdown",
   "id": "8a138d84-9ac4-4b79-9502-0de44ff9c01f",
   "metadata": {},
   "source": [
    "$$f(x) = \\sin(x) + 0.5\\cdot x\\\\\n",
    "\\frac{\\partial f(x)}{\\partial x}=\\cos(x) + 0.5$$\n"
   ]
  },
  {
   "cell_type": "code",
   "execution_count": 10,
   "id": "c33bd9af-e9aa-49da-b982-c0de85359d68",
   "metadata": {},
   "outputs": [],
   "source": [
    "# инициализируем функции\n",
    "def f(x):\n",
    "    return np.sin(x) + 0.5*x\n",
    "def df(x):\n",
    "    return np.cos(x) + 0.5"
   ]
  },
  {
   "cell_type": "code",
   "execution_count": 13,
   "id": "c4d1e918-4526-41be-8335-99bbce790487",
   "metadata": {},
   "outputs": [],
   "source": [
    "x_plt = np.arange(-5.,5.,0.1)\n",
    "f_plt = [f(x) for x in x_plt]\n",
    "x = 0 # начальная точка"
   ]
  },
  {
   "cell_type": "code",
   "execution_count": 14,
   "id": "0e92fc6e-b911-4630-ad94-8ad447a46c97",
   "metadata": {},
   "outputs": [
    {
     "name": "stdout",
     "output_type": "stream",
     "text": [
      "Стационарная точка x = -2.2\n"
     ]
    },
    {
     "data": {
      "image/png": "[encoded data removed]",
      "text/plain": [
       "<Figure size 1080x360 with 1 Axes>"
      ]
     },
     "metadata": {
      "needs_background": "light"
     },
     "output_type": "display_data"
    }
   ],
   "source": [
    "fig, ax = plt.subplots(figsize = (15,5)) # Создание окна и осей для графика\n",
    "ax.plot(x_plt,f_plt) # Отображение параболы\n",
    "ax.grid(True)\n",
    "point = ax.scatter(x,f(x),c = 'red') # отображение точки красным цветом\n",
    "for i in range(n):\n",
    "    m = 100\n",
    "    alpha = 1/min(i+1,m)\n",
    "    x = x - alpha*np.sign(df(x)) # формула градиентного спуска\n",
    "    \n",
    "    point.set_offsets([x,f(x)]) # отображение нового положения точки\n",
    "    \n",
    "    # перерисовка графика и задержка 100 мс\n",
    "    fig.canvas.draw()\n",
    "    fig.canvas.flush_events()\n",
    "    # time.sleep(0.1)\n",
    "plt.ioff()\n",
    "print(f\"Стационарная точка x = {round(x,1)}\")\n",
    "ax.scatter(x,f(x),c='black')\n",
    "plt.show()"
   ]
  },
  {
   "cell_type": "markdown",
   "id": "9ea5a180-b798-4a3e-ac61-8422dace7280",
   "metadata": {
    "tags": []
   },
   "source": [
    "## Градиентный спуск при двух параметрах"
   ]
  },
  {
   "cell_type": "markdown",
   "id": "904c710b-1650-496b-9871-c33c3a20323f",
   "metadata": {},
   "source": [
    "$$y=kx+b$$"
   ]
  },
  {
   "cell_type": "code",
   "execution_count": 47,
   "id": "e361fad2-60db-4423-86a0-063ade795815",
   "metadata": {},
   "outputs": [],
   "source": [
    "from mpl_toolkits.mplot3d import Axes3D\n",
    "import warnings\n",
    "warnings.filterwarnings('ignore')"
   ]
  },
  {
   "cell_type": "code",
   "execution_count": 48,
   "id": "c3b9ef9c-7108-4aff-861e-5fe97a8563b8",
   "metadata": {},
   "outputs": [],
   "source": [
    "n = 100 # количество наблюдений\n",
    "n_iter = 50 # число итераций алгоритма градиентного спуска\n",
    "sigma = 3 # стандартное отклонение наблюдаемых значений\n",
    "k = 0.5 # теоретическое значение параметра k\n",
    "b = 2 # теоретическое значение параметра b\n",
    "\n",
    "k_estimate = 0 # начальное приближение истинного параметра k\n",
    "b_estimate = 0 # начальное приближение истинного параметра b\n",
    "alpha1 = 0.000001 # шаг сходимости\n",
    "alpha2 = 0.0005 # шаг сходимости\n"
   ]
  },
  {
   "cell_type": "markdown",
   "id": "a8e5b859-7453-4829-a82b-a20a163c30d8",
   "metadata": {},
   "source": [
    "$$RSS =e^Te=\\sum \\limits_{i=1}^{n}e_i^2$$"
   ]
  },
  {
   "cell_type": "code",
   "execution_count": 55,
   "id": "c4eb31c4-091b-4b62-9460-cb05db5aada0",
   "metadata": {},
   "outputs": [],
   "source": [
    "fff = np.array([k*x + b for x in range(n)]) # теоретическая прямая\n",
    "y = np.array(fff+np.random.normal(0,sigma,n)) # экспериментальные значения"
   ]
  },
  {
   "cell_type": "code",
   "execution_count": 56,
   "id": "cffb639f-5f10-4f79-89cf-12acf858c51b",
   "metadata": {},
   "outputs": [],
   "source": [
    "def RSS(y,k,b):\n",
    "    f = np.array([k*x+b for x in range(n)]) # расчетные значения\n",
    "    return np.dot((y-f).T,(y-f))\n",
    "def dRSS_dk(y,k,b):\n",
    "    f = np.array([k*x+b for x in range(n)])\n",
    "    return -2*np.dot((y-f).T, range(n))\n",
    "def dRSS_db(y,k,b):\n",
    "    f = np.array([k*x+b for x in range(n)])\n",
    "    return -2*(y-f).sum()"
   ]
  },
  {
   "cell_type": "code",
   "execution_count": 57,
   "id": "16e9d009-5492-4a09-a3f9-8133bcb87729",
   "metadata": {},
   "outputs": [],
   "source": [
    "k_plt = np.arange(1,2,0.1)\n",
    "b_plt = np.arange(0,3,0.1)\n",
    "RSS_plt = np.array([[RSS(y,k,b) for k in k_plt] for b in b_plt])"
   ]
  },
  {
   "cell_type": "code",
   "execution_count": 58,
   "id": "1743d081-9397-4a6a-8c53-76ff4922d72e",
   "metadata": {},
   "outputs": [
    {
     "name": "stdout",
     "output_type": "stream",
     "text": [
      "0.35247748314695687 0.9668081393034448\n",
      "0.4639116025322031 1.285336573719576\n",
      "0.4990135042164384 1.3982577513571295\n",
      "0.5099460674060247 1.4457706234424756\n",
      "0.5132288389153646 1.4722824893480544\n",
      "0.5140933469020559 1.4918638541289535\n",
      "0.5141962769825561 1.5089775785332868\n",
      "0.5140621870075889 1.5250436758732744\n",
      "0.5138570995555167 1.5405183463670202\n",
      "0.5136334937953323 1.5555523983243045\n",
      "0.5134078928234839 1.5701997698965102\n",
      "0.5131854350312834 1.5844835703828872\n",
      "0.5129676556464059 1.5984169987757706\n",
      "0.5127549510424879 1.6120099721187597\n",
      "0.5125473591158672 1.625271228164222\n",
      "0.5123448063726084 1.6382089946842695\n",
      "0.512147186127299 1.6508312047665936\n",
      "0.5119543832172694 1.663145568245332\n",
      "0.5117662817798166 1.6751595974915876\n",
      "0.5115827676668012 1.6868806186726442\n",
      "0.5114037291621105 1.6983157783338139\n",
      "0.5112290571628046 1.7094720484254307\n",
      "0.511058645191536 1.7203562307656657\n",
      "0.5108923893566311 1.7309749612546566\n",
      "0.5107301882966673 1.741334713941569\n",
      "0.5105719431211813 1.751441804978446\n",
      "0.5104175573511718 1.7613023964731822\n",
      "0.5102669368605297 1.770922500247123\n",
      "0.5101199898187302 1.7803079815005773\n",
      "0.5099766266348713 1.789464562388788\n",
      "0.5098367599030592 1.7983978255106472\n",
      "0.5097003043491217 1.807113217312311\n",
      "0.5095671767786185 1.8156160514077995\n",
      "0.5094372960261194 1.8239115118186096\n",
      "0.5093105829057195 1.8320046561343184\n",
      "0.5091869601627607 1.8399004185961025\n",
      "0.5090663524267313 1.8476036131050537\n",
      "0.5089486861653137 1.8551189361571265\n",
      "0.5088338896395536 1.862450969706505\n",
      "0.5087218928601213 1.8696041839591355\n",
      "0.5086126275446411 1.8765829400981298\n",
      "0.5085060270760607 1.8833914929426974\n",
      "0.5084020264620358 1.8900339935422314\n",
      "0.5083005622953057 1.8965144917071262\n",
      "0.5082015727150349 1.9028369384778723\n",
      "0.5081049973690974 1.9090051885339339\n",
      "0.5080107773772821 1.9150230025438755\n",
      "0.5079188552953935 1.9208940494581712\n",
      "0.5078291750802296 1.9266219087460987\n",
      "0.5077416820554134 1.9322100725780738\n"
     ]
    },
    {
     "data": {
      "image/png": "[encoded data removed]",
      "text/plain": [
       "<Figure size 432x288 with 1 Axes>"
      ]
     },
     "metadata": {
      "needs_background": "light"
     },
     "output_type": "display_data"
    }
   ],
   "source": [
    "plt.ion() # включение интерактивного режима отображения графиков\n",
    "fig = plt.figure()\n",
    "ax = Axes3D(fig)\n",
    "kk,bb = np.meshgrid(k_plt,b_plt)\n",
    "ax.plot_surface(kk,bb,RSS_plt, color='y',alpha = 0.5)\n",
    "ax.set_ylabel('k')\n",
    "ax.set_xlabel('b')\n",
    "ax.set_zlabel('RSS')\n",
    "\n",
    "point = ax.scatter(k_estimate,b_estimate, RSS(y,k_estimate,b_estimate),c='red')\n",
    "for i in range(n_iter):\n",
    "    k_estimate = k_estimate - alpha1*dRSS_dk(y,k_estimate,b_estimate)\n",
    "    b_estimate = b_estimate - alpha2*dRSS_db(y,k_estimate,b_estimate)\n",
    "    ax.scatter(k_estimate,b_estimate,RSS(y,k_estimate,b_estimate), c = 'red')\n",
    "    \n",
    "    fig.canvas.draw()\n",
    "    fig.canvas.flush_events()\n",
    "    print(k_estimate,b_estimate)\n",
    "plt.ioff()\n",
    "plt.show()"
   ]
  },
  {
   "cell_type": "markdown",
   "id": "4d021bd9-1272-4dd3-b599-7802ce5ccce1",
   "metadata": {},
   "source": [
    "**Отображение графиков аппроксимации**"
   ]
  },
  {
   "cell_type": "code",
   "execution_count": 61,
   "id": "c29465d0-bc36-4fc1-a64f-aa67b8bffd33",
   "metadata": {},
   "outputs": [
    {
     "data": {
      "image/png": "[encoded data removed]",
      "text/plain": [
       "<Figure size 432x288 with 1 Axes>"
      ]
     },
     "metadata": {
      "needs_background": "light"
     },
     "output_type": "display_data"
    }
   ],
   "source": [
    "ff = np.array([k_estimate*x+b_estimate for x in range(n)]) # расчетные значения\n",
    "plt.scatter(range(n), y , s=2, c='red')\n",
    "plt.plot(fff,c = 'yellow')\n",
    "plt.plot(ff,c='blue')\n",
    "plt.grid(True)\n",
    "plt.legend(['Целевая переменная', 'Теоретическая пряммая','Оценка'])\n",
    "plt.show()"
   ]
  },
  {
   "cell_type": "markdown",
   "id": "ac1e95fa-7c22-4dd5-935f-501f906800a0",
   "metadata": {},
   "source": [
    "**Методы оптимизации**\n",
    "- Избежать попадания в локальный минимум;\n",
    "- Обеспечить наибольшую скорость сходимости"
   ]
  },
  {
   "cell_type": "markdown",
   "id": "a08f4247-b556-458d-9832-245c120f5292",
   "metadata": {},
   "source": [
    "**Как увеличить скорость сходимости?**"
   ]
  },
  {
   "cell_type": "code",
   "execution_count": 325,
   "id": "9823f50d-3bf2-4a3b-b81f-70f62fe62452",
   "metadata": {},
   "outputs": [
    {
     "data": {
      "image/png": "[encoded data removed]",
      "text/plain": [
       "<Figure size 432x288 with 1 Axes>"
      ]
     },
     "metadata": {
      "needs_background": "light"
     },
     "output_type": "display_data"
    }
   ],
   "source": [
    "def parab():\n",
    "    f = []\n",
    "    for i in range(-50,50,1):\n",
    "        if i <= 30:\n",
    "            f.append(i**2 + 2*i + 3)\n",
    "        else: f.append(963)\n",
    "    plt.plot(f)\n",
    "    plt.grid(True)\n",
    "    plt.xlabel('x')\n",
    "    plt.ylabel('y')\n",
    "    plt.show()\n",
    "parab()"
   ]
  },
  {
   "cell_type": "markdown",
   "id": "f65fe64c-b889-4b84-9785-19542c24d47f",
   "metadata": {},
   "source": [
    "**Градиентный спуск происходит по такому правилу:** $$x_{n+1} = x_n - \\nu_{n+1}$$"
   ]
  },
  {
   "cell_type": "markdown",
   "id": "dcaa755f-36c8-428b-892f-4d490d7b6b23",
   "metadata": {},
   "source": [
    "В случае, когда $\\nu_{n+1}$ имеет такой вид:"
   ]
  },
  {
   "cell_type": "markdown",
   "id": "a96bb18e-5dae-4310-bb89-3d3d4771dd3f",
   "metadata": {},
   "source": [
    "$$\\nu_{n+1} = \\alpha_n \\cdot \\frac{\\partial f(x)}{\\partial x}$$"
   ]
  },
  {
   "cell_type": "markdown",
   "id": "4d293754-93c8-47c5-b582-021055d3255a",
   "metadata": {},
   "source": [
    "Мы не будем смещаться в сторону минимума, а так и останемся в данной точке, если попадем на горизонтальный участок, потому что производная здесь равна нулю. В реальности такие вырожденные ситуации возникают не так часто, но в любом случае, чтобы увеличить скорость сходимости,можно $\\nu_{n+1}$ представить следующим образом:"
   ]
  },
  {
   "cell_type": "markdown",
   "id": "60733291-73af-4f1c-b7cb-c999197351d3",
   "metadata": {},
   "source": [
    "$$\\nu_{n+1}= \\gamma\\nu_n + \\alpha_n \\cdot \\frac{\\partial f(x)}{\\partial x},\\\\$$ $$где\\ \\gamma \\in [0,1] $$"
   ]
  },
  {
   "cell_type": "markdown",
   "id": "ee9e0725-8057-4e77-8774-d72a1f16bfd5",
   "metadata": {},
   "source": [
    "Обычно $0<\\gamma<1$ выбирается ближе к 1 (например, 0.9). Давайте разберемся, как работает слагаемое $\\gamma \\nu_n$ на примере $\\nu_5$:"
   ]
  },
  {
   "cell_type": "markdown",
   "id": "e546416e-e9a5-47ee-86d7-5c7fae37c9b5",
   "metadata": {},
   "source": [
    "$$\\nu_5 = \\gamma \\cdot \\nu_4 + \\nabla f_4 = \\gamma \\cdot(\\gamma \\nu_3 + \\nabla f_3)) + \\nabla f_4 = \\gamma \\cdot(\\gamma \\cdot(\\gamma \\nu_2 + \\nabla f_2)+\\nabla f_3) + \\nabla f_4 =\\\\ \\gamma \\cdot(\\gamma \\cdot(\\gamma \\cdot(\\gamma \\nu_1 + \\nabla f_1) + \\nabla f_2) + \\nabla f_3) + \\nabla f_4 =\\\\ \\nabla f_4 + \\gamma \\nabla f_3 + \\gamma^2 \\nabla f_2 + \\gamma^3 \\nabla f_1 + \\gamma^4 \\nu_1 $$"
   ]
  },
  {
   "cell_type": "markdown",
   "id": "188d5f28-12b9-48c7-96e1-6a5b23ac0abf",
   "metadata": {},
   "source": [
    "То есть мы в итоге получаем накопленную сумму $\\nu_5$. Раз $\\nu$ накапливается с каждым шагом, то и смещение ($\\nu_{n+1}$) в данной формуле $x_{n+1} = x_n - \\nu_{n+1}$ будет увеличиваться. И по инерции мы начинаем двигаться быстрее в сторону антиградиента."
   ]
  },
  {
   "cell_type": "markdown",
   "id": "568c1ab5-aa0d-4870-98bf-349f8dc326c2",
   "metadata": {},
   "source": [
    "**Ускоренные градиенты Нестерова**"
   ]
  },
  {
   "cell_type": "markdown",
   "id": "42349adb-98a5-477e-b498-d97fd295afde",
   "metadata": {},
   "source": [
    "Отличие заключается в том, что градиент берется не в самой точке $x_n$: $\\frac{\\partial (x_n)}{\\partial x}$, а в опережающей точке $x_n - \\gamma \\nu_n$: $\\frac{\\partial (x_n - \\gamma \\nu_n)}{\\partial x}$"
   ]
  },
  {
   "cell_type": "markdown",
   "id": "81d97aff-0523-4997-97e5-e6f5c0a44b9c",
   "metadata": {},
   "source": [
    "Такой подход повышает скорость градиентного алгоритма еще больше"
   ]
  },
  {
   "cell_type": "markdown",
   "id": "09df17bc-9397-4ac4-b00f-75dc66e623d0",
   "metadata": {},
   "source": [
    "Другие методы оптимизации:\n",
    "- **Adagrad** - учитывает при оптимизации квадраты градиентов;\n",
    "- **RMSProp** и **Adadelta** - подобны Adagrad, но пытаются бороться с чрезмерным накоплением квадратов градиентов;\n",
    "- **Adam** - смесь алгоритма с моментом и квадратом градиентов"
   ]
  },
  {
   "cell_type": "markdown",
   "id": "737a1315-8413-4485-b7ee-30fd3d75ec70",
   "metadata": {},
   "source": [
    "## Стохастический градиентный спуск (SGD - Stochastic Gradient Descent)"
   ]
  },
  {
   "cell_type": "markdown",
   "id": "661f7936-9315-4621-9830-30c9d995e765",
   "metadata": {},
   "source": [
    "Когда признаков \"очень много\" матрица $(X^TX)^{-1}$ может быть плохо обусловлена: она может не существовать или иметь большую размерность. Обращать такие матрицы численно очень сложно, а иногда невозможно"
   ]
  },
  {
   "cell_type": "markdown",
   "id": "edd9f520-bbeb-41a1-bcc8-9aaeb87f82a2",
   "metadata": {},
   "source": [
    "Для дифференцируемых функций потерь самым простым и действенным методом оптимизации (нахождения минимума) является применение градиентных алгоритмов."
   ]
  },
  {
   "cell_type": "markdown",
   "id": "085ac3e6-316a-44c8-9476-23f8a8249260",
   "metadata": {},
   "source": [
    "$$Q(\\omega)=\\frac1n\\sum\\limits_{i=1}^nL_i(\\omega) \\rightarrow \\min\\limits_{\\omega}$$"
   ]
  },
  {
   "cell_type": "markdown",
   "id": "8f649460-4203-447d-9f4d-f99ebcd4eaf1",
   "metadata": {},
   "source": [
    "Прицнип работы градиентого спуска для вектора параметров $\\omega = [\\omega_1,\\omega_2,\\dots,\\omega_n]^T$ - в каждой точке определяется не одна производная, а вектор производных (n штук), который и будет определять направление в n-мерном пространстве"
   ]
  },
  {
   "cell_type": "markdown",
   "id": "6a2fa621-bf66-4a11-997f-4628066bbaf6",
   "metadata": {},
   "source": [
    "$$\\begin{equation*}\n",
    "\\nabla Q(\\omega_t) = \\left(\n",
    "\\begin{array}{cccc}\n",
    "\\frac{\\partial Q(\\omega_t)}{\\partial \\omega_1^(t)}\\\\\n",
    "\\ldots\\\\\n",
    "\\frac{\\partial Q(\\omega_t)}{\\partial \\omega_n^(t)}\n",
    "\\end{array}\n",
    "\\right)\n",
    "\\end{equation*}$$"
   ]
  },
  {
   "cell_type": "markdown",
   "id": "f83e8e86-f595-4bde-ac4d-66b51b8e2b8d",
   "metadata": {},
   "source": [
    "- Далее уточняется каждый раз значение $\\omega$ на каждой новой итерации $t$"
   ]
  },
  {
   "cell_type": "markdown",
   "id": "8a2acc71-3414-4fef-a203-75e30a33ef62",
   "metadata": {},
   "source": [
    "$$\\omega^{(t+1)} = \\omega^{(t)} - \\eta_t \\nabla Q(\\omega^{(t)})$$"
   ]
  },
  {
   "cell_type": "markdown",
   "id": "0d5e8015-8f14-4be6-862a-75fccf3f8b3c",
   "metadata": {},
   "source": [
    "$$\\omega^{(t+1)} = \\omega^{(t)} - \\eta_t \\sum\\limits_{i=1}^{n}\\nabla L_i(\\omega^{(t)},x_i)$$"
   ]
  },
  {
   "cell_type": "markdown",
   "id": "6c79d289-f95e-4b1f-9f08-adad8b868826",
   "metadata": {},
   "source": [
    "Представьте, что выборка состоит из 1 млн. объектов (наблюдений), что часто встречается в задачах машинного обучения. Поэтому в практической реализации считать градиент по всем обьектам на каждой итерации вычислительно \"очень дорого\". Как же тогда поступить? "
   ]
  },
  {
   "cell_type": "markdown",
   "id": "9eaa4efc-7447-4c5d-bce2-3160adb0a583",
   "metadata": {},
   "source": [
    "Градиент заменяют псевдоградиентом (или субградиентом), который должен обладать одним главным свойством: в среднем субградиент должен образовывать острый угол в n-мерном признаковом пространстве с истинным градиентом (В среднем, а не всегда!). Если это выполняется, то за конечное число шагов мы придем к точке минимума. И второе условие, которое накладывается на псевдоградиент - чтоб он вычислялся проще. \n",
    "- ***Вопрос***: что взять в качестве псевдоградиента? То есть как можно сократить объем вычислений истинного градиента, при этом сохранив сходимость алгоритма к точке локального минимума?"
   ]
  },
  {
   "cell_type": "markdown",
   "id": "80648a30-1393-468b-856d-a4ad24d03b94",
   "metadata": {},
   "source": [
    "Самое простое, что можно сделать - брать по одному наблюдению каждую итерацию: на каждом шаге берется одно случайное слагаемое $k$ и по нему вычисляется приближение"
   ]
  },
  {
   "cell_type": "markdown",
   "id": "25f36754-703c-4ce8-98d5-968723cde390",
   "metadata": {},
   "source": [
    "$$\\omega^{(t+1)} = \\omega^{(t)} - \\eta_t \\cdot \\nabla L_k(\\omega^{(t)},x_k),\\\\ \\text{k - случайный объект, который берется из обучающей выборки}$$"
   ]
  },
  {
   "cell_type": "markdown",
   "id": "cb2d55c6-8f98-481e-b30e-095fb2bba582",
   "metadata": {},
   "source": [
    "$$\\nabla \\tilde{Q}(\\omega^{(t)})=\\nabla L_k(\\omega^{(t)},x_k) - \\text{псевдоградиент для k-ого случайного объекта}$$"
   ]
  },
  {
   "cell_type": "markdown",
   "id": "8bfb58b9-23d1-422e-b19c-2a20d102690a",
   "metadata": {},
   "source": [
    "Вот такая идея,когда мы вычисляем градиент не по всей выборке, а только по k-му случайному объекту и называется **\"стохастический градиентный спуск\" или метод Роббинсона-Монро**"
   ]
  },
  {
   "cell_type": "markdown",
   "id": "c06dc798-1a75-45ab-b543-79b479bb83ad",
   "metadata": {},
   "source": [
    "**Алгоритм работы SGD:**"
   ]
  },
  {
   "cell_type": "markdown",
   "id": "6a76f385-e385-4531-b8ce-704621246b1f",
   "metadata": {},
   "source": [
    "- Вход: обучающая выборка $X_{n}$, шаг сходимости $\\eta$, скорость \"забывания\" $\\lambda$.\n",
    "- Выход: вектор весовых коэффициентов $\\omega$.\n",
    "1) Инициализация весов с некоторыми начальными значениями;\n",
    "2) Начальное вычисление функционала качества: $$\\bar Q(w) = \\frac{1}{n}\\sum\\limits_{i=1}^{n}L_i(\\omega) - \\text{среднее арифметическое по объектам обучающейся выборки}$$\n",
    "3) Запускаем цикл:\n",
    "4) | случайный выбор наблюдения $x_{k}$ из $X_{n}$\n",
    "5) | вычисление функции потерь $\\varepsilon_k = L_l(\\omega)$\n",
    "6) | шаг псевдоградиентного алгоримта: $\\omega = \\omega - \\eta \\nabla L_k(\\omega)$\n",
    "7) | пересчет функционала качества: $\\bar Q = \\lambda \\varepsilon_k + (1-\\lambda)\\bar Q - \\text{экспоненциальное скользящее среднее}$\n",
    "8) | пока $\\bar Q$ и/или $\\omega$ не достигнут заданных значений"
   ]
  },
  {
   "cell_type": "markdown",
   "id": "314bf5e9-f2a2-4386-a5bd-505eb806db92",
   "metadata": {},
   "source": [
    "**Скользящее экспоненциальное среднее**\n",
    "\n",
    "$$\\bar Q_m = \\frac1m \\varepsilon_m + \\frac1m \\varepsilon_{m-1} + \\frac1m \\varepsilon_{m-2} + \\dots + \\frac1m \\varepsilon_{1}$$\n",
    "\n",
    "Ту же самую формулу можно переписать так:\n",
    "\n",
    "$$m \\cdot \\bar Q_m - \\varepsilon_m = \\varepsilon_{m-1} + \\varepsilon_{m-2} + \\dots + \\varepsilon_{1}$$\n",
    "\n",
    "$$\\bar Q_{m-1} =\\frac{1}{m-1}[m \\cdot \\bar {Q}_m - \\varepsilon_m] = \\frac{m}{m-1} \\bar Q_m - \\frac{1}{m-1}\\varepsilon_m$$\n",
    "\n",
    "Выражаем $\\bar Q_m$:\n",
    "\n",
    "$$\\bar Q_m = \\frac{1}{m}\\varepsilon_m + (1-\\frac{1}{m})\\bar Q_{m-1} =  \\lambda\\varepsilon_m + (1-\\lambda)\\bar Q_{m-1} - \\text{формула рекурентного счета среднего арифметического при появлении нового слагамоего } \\varepsilon_m$$"
   ]
  },
  {
   "cell_type": "markdown",
   "id": "7645fe60-e6fb-4865-9e22-3293f74c3e6b",
   "metadata": {},
   "source": [
    "Почему так называется - скользящее экспоненциальное среднее?\n",
    "$$\\bar Q_m = \\lambda\\varepsilon_m + (1-\\lambda)\\bar Q_{m-1}$$"
   ]
  },
  {
   "cell_type": "markdown",
   "id": "77a4abf9-6140-4934-ac83-6521b0e1ad15",
   "metadata": {},
   "source": [
    "$$\\bar Q_m = \\lambda\\varepsilon_m + (1-\\lambda) \\lambda \\varepsilon_{m-1} + (1-\\lambda)^2 \\lambda \\varepsilon_{m-2} + \\dots$$"
   ]
  },
  {
   "cell_type": "markdown",
   "id": "12029b0c-2c26-4a4a-9c00-b90dacb70588",
   "metadata": {},
   "source": [
    "### Алгоритм SAG (Stochastic Average Gradient)"
   ]
  },
  {
   "cell_type": "markdown",
   "id": "ddb60643-cf36-48fb-a896-6227356496e3",
   "metadata": {},
   "source": [
    "Еще одна реализация стохастического градиентного спуска, предложенной группой зарубежных ученых в 2013 году.\n",
    "- Вход: обучающая выборка $X_{n}$, шаг сходимости $\\eta$, скорость \"забывания\" $\\lambda$.\n",
    "- Выход: вектор весовых коэффициентов $\\omega$.\n",
    "1) Инициализация весов $\\omega$ с некоторыми начальными значениями;\n",
    "2) Инициализация всех градиентов $G_i = \\nabla L_i(\\omega), i = 1,2,\\dots,n$\n",
    "3) Вычисление среднего градиента по всей выборке $\\bar G = \\frac{1}{n}\\sum\\limits_{i=1}^{n}G_i$\n",
    "4) Начальное вычисление функционала качества: $$\\bar Q(w) = \\frac{1}{n}\\sum\\limits_{i=1}^{n}L_i(\\omega) - \\text{среднее арифметическое по объектам обучающейся выборки}$$\n",
    "5) Запускаем цикл:\n",
    "6) | случайный выбор наблюдения $x_{k}$ из $X_{n}$\n",
    "7) | вычисление функции потерь $\\varepsilon_k = L_l(\\omega)$\n",
    "8) | вычисление градиента $G_k = \\nabla L_k(\\omega)$\n",
    "9) | шаг псевдоградиентного алгоритма: $\\omega = \\omega -\\eta \\cdot \\frac1n \\cdot \\sum\\limits_{i=1}^{n}G_i$\n",
    "10) | пересчет функционала качества: $\\bar Q = \\lambda \\varepsilon_k + (1-\\lambda)\\bar Q - \\text{экспоненциальное скользящее среднее}$\n",
    "8) | пока $\\bar Q$ и/или $\\omega$ не достигнут заданных значений"
   ]
  }
 ],
 "metadata": {
  "kernelspec": {
   "display_name": "Python 3 (ipykernel)",
   "language": "python",
   "name": "python3"
  },
  "language_info": {
   "codemirror_mode": {
    "name": "ipython",
    "version": 3
   },
   "file_extension": ".py",
   "mimetype": "text/x-python",
   "name": "python",
   "nbconvert_exporter": "python",
   "pygments_lexer": "ipython3",
   "version": "3.9.7"
  }
 },
 "nbformat": 4,
 "nbformat_minor": 5
}
