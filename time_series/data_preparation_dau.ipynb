{
 "cells": [
  {
   "cell_type": "markdown",
   "id": "f49a638d-c7eb-430e-abf4-858a89d7daff",
   "metadata": {},
   "source": [
    "## Libraries"
   ]
  },
  {
   "cell_type": "code",
   "execution_count": 1,
   "id": "257f3c38-691d-4af3-a21d-a4c3a823294e",
   "metadata": {},
   "outputs": [],
   "source": [
    "%load_ext autoreload\n",
    "%autoreload 2"
   ]
  },
  {
   "cell_type": "code",
   "execution_count": 2,
   "id": "86ddbe7d-d9a4-4161-9faf-8c7eb8631e6c",
   "metadata": {},
   "outputs": [
    {
     "ename": "ModuleNotFoundError",
     "evalue": "No module named 'media_transformation'",
     "output_type": "error",
     "traceback": [
      "\u001b[0;31m---------------------------------------------------------------------------\u001b[0m",
      "\u001b[0;31mModuleNotFoundError\u001b[0m                       Traceback (most recent call last)",
      "Cell \u001b[0;32mIn[2], line 18\u001b[0m\n\u001b[1;32m     16\u001b[0m \u001b[38;5;28;01mfrom\u001b[39;00m \u001b[38;5;21;01mprophet\u001b[39;00m \u001b[38;5;28;01mimport\u001b[39;00m Prophet\n\u001b[1;32m     17\u001b[0m sys\u001b[38;5;241m.\u001b[39mpath\u001b[38;5;241m.\u001b[39mappend(\u001b[38;5;124m'\u001b[39m\u001b[38;5;124m/Users/i.nuriev/repository/mmm-tools/mmm_tools\u001b[39m\u001b[38;5;124m'\u001b[39m)\n\u001b[0;32m---> 18\u001b[0m \u001b[38;5;28;01mfrom\u001b[39;00m \u001b[38;5;21;01mmedia_transformation\u001b[39;00m \u001b[38;5;28;01mimport\u001b[39;00m \u001b[38;5;241m*\u001b[39m\n\u001b[1;32m     19\u001b[0m \u001b[38;5;28;01mfrom\u001b[39;00m \u001b[38;5;21;01mmodel_building\u001b[39;00m \u001b[38;5;28;01mimport\u001b[39;00m build_models\n\u001b[1;32m     20\u001b[0m \u001b[38;5;28;01mimport\u001b[39;00m \u001b[38;5;21;01mwarnings\u001b[39;00m\n",
      "\u001b[0;31mModuleNotFoundError\u001b[0m: No module named 'media_transformation'"
     ]
    }
   ],
   "source": [
    "from typing import List, Dict, Tuple\n",
    "import pandas as pd\n",
    "import numpy as np\n",
    "from matplotlib import pyplot as plt\n",
    "import seaborn as sns\n",
    "from scipy.optimize import minimize\n",
    "import statsmodels.api as sm\n",
    "from scipy.stats import spearmanr\n",
    "from sklearn.preprocessing import MinMaxScaler\n",
    "from statsmodels.tsa.seasonal import seasonal_decompose\n",
    "import holidays\n",
    "from matplotlib.dates import WeekdayLocator\n",
    "import matplotlib.dates as mdates\n",
    "from sklearn.linear_model import Ridge\n",
    "import sys\n",
    "from prophet import Prophet\n",
    "sys.path.append('/Users/i.nuriev/repository/mmm-tools/mmm_tools')\n",
    "from media_transformation import *\n",
    "from model_building import build_models\n",
    "import warnings\n",
    "warnings.filterwarnings('ignore')"
   ]
  },
  {
   "cell_type": "markdown",
   "id": "536749f7-b429-41c0-80e1-224fb16fd0b3",
   "metadata": {},
   "source": [
    "### Input Data"
   ]
  },
  {
   "cell_type": "markdown",
   "id": "f4b93d46-c96e-4f3a-98db-ef758a6715d3",
   "metadata": {},
   "source": [
    "**Источники данных**"
   ]
  },
  {
   "cell_type": "markdown",
   "id": "465d59f7-ead1-4905-bf41-be2e7f08f811",
   "metadata": {},
   "source": [
    "**Ключевые метрики для бизнеса: DAU и TimeSpent** "
   ]
  },
  {
   "cell_type": "markdown",
   "id": "2c61f255-765c-4ad6-bd80-b4e101a2d29d",
   "metadata": {},
   "source": [
    "Данные по DAU Одноклассников и ее конкурентов были собраны из MediaScope:\n",
    "Конкуренты Одноклассников - это соц.сети и мессенджеры:\n",
    "- dau_telegram_35_plus - активные пользователи telegram в возрастной категории 35+\n",
    "- dau_dzen_35_plus - активные пользователи Дзена в возрастной категории 35+\n",
    "- dau_dzen_news_web_35_plus - активные пользователи новостного сайта Дзена в возрастной категории 35+\n",
    "- dau_facebook_35_plus - активные пользователи Facebook в возрастной категории 35+\n",
    "- dau_instagram_35_plus - активные пользователи Instagram в возрастной категории 35+\n",
    "- dau_ok_35_plus - активные пользователи OK в возрастной категории 35+ (целевая переменная)\n",
    "- dau_vkontakte_35_plus - активные пользователи Вконтакте в возрастной категории 35+\n",
    "- dau_whatsapp_35_plus - активные пользователи Whatsapp в возрастной категории 35+\n",
    "- dau_youtube_35_plus - активные пользователи Youtube в возрастной категории 35+\n",
    "- dau_tiktok_35_plus - активные пользователи Tiktok в возрастной категории 35+\n",
    "- dau_runet_35_plus - активные пользователи всего Рунета в возрастной категории 35+\n",
    "- dau_meta_35_plus - активные пользователи всех проектов Meta в возрастной категории 35+\n",
    "\n",
    "Далее некоторые факторы были отброшены"
   ]
  },
  {
   "attachments": {},
   "cell_type": "markdown",
   "id": "c942c533-4a13-47fc-a2a9-b83882da93d3",
   "metadata": {},
   "source": [
    "Данные из MyTracker:\n",
    "- returns_u_35_plus - Это пользователи 35 + , которые бездействовали в течение заданного интервала времени (окно неактивности для возвратов), но проявили активность в выбранный период отчёта.\n",
    "Окно неактивности для возвратов по умолчанию: 30 дней\n",
    "- returns_u_total - Это все пользователи, которые бездействовали в течение заданного интервала времени (окно неактивности для возвратов), но проявили активность в выбранный период отчёта.\n",
    "Окно неактивности для возвратов по умолчанию: 30 дней\n",
    "- installs_d_35_plus - Количество установок приложения пользователями 35 +, сделанных за период отчёта.\n",
    "- installs_d_total - Количество установок приложения всеми пользователями, сделанных за период отчёта."
   ]
  },
  {
   "cell_type": "markdown",
   "id": "dbeb239c-1ce5-4b4f-b955-612c46b74db6",
   "metadata": {},
   "source": [
    "## **Предобработка BHT-метрик**"
   ]
  },
  {
   "cell_type": "markdown",
   "id": "9b6e4c56-5725-4c82-9dd3-d5804b7175b9",
   "metadata": {},
   "source": [
    "**дезагрегирование недельных (или месячных) данных по дням**"
   ]
  },
  {
   "cell_type": "code",
   "execution_count": null,
   "id": "7ff68d5f-242e-41f6-9888-505251d22c8d",
   "metadata": {},
   "outputs": [],
   "source": [
    "df_bht = pd.read_excel('../actual_data.xlsx',sheet_name='bht',header=4)"
   ]
  },
  {
   "cell_type": "code",
   "execution_count": null,
   "id": "535875d7-19b6-4c21-b77b-e817442684b6",
   "metadata": {},
   "outputs": [],
   "source": [
    "# ставим дату в индекс\n",
    "df_bht.index = df_bht.date_start"
   ]
  },
  {
   "cell_type": "markdown",
   "id": "89a12824-efa3-4636-95fd-73a62c297187",
   "metadata": {},
   "source": [
    "**Вставляем последнюю дату из date_end в качестве последней строки, потому что дизагрегирование будет происходить по date_start и послядняя дата date_end не входит в индекс, соответственно одну неделю мы потеряем.**"
   ]
  },
  {
   "cell_type": "code",
   "execution_count": null,
   "id": "b24bbd0e-beec-4244-b09b-10ece8f2c1fa",
   "metadata": {},
   "outputs": [],
   "source": [
    "last_row = df_bht.iloc[[-1]] # дублируем последнюю строку\n",
    "last_row.index = [df_bht.date_end.max()]\n",
    "df_bht = pd.concat([df_bht,last_row])"
   ]
  },
  {
   "cell_type": "code",
   "execution_count": null,
   "id": "45814a1f-2a31-48a2-a1ac-bbe2b1d4fb45",
   "metadata": {},
   "outputs": [],
   "source": [
    "# дезагрегация по дням\n",
    "df_bht = df_bht.asfreq('D').interpolate(method='linear')"
   ]
  },
  {
   "cell_type": "code",
   "execution_count": null,
   "id": "3e6e1b59-2f01-4d73-8125-497f826c16b4",
   "metadata": {},
   "outputs": [],
   "source": [
    "df_bht = df_bht[['aa_prompted_kpi_percent_ttl_roll',\n",
    "       'ba_spontaneous_kpi_percent_ttl_roll',\n",
    "       'consid_kpi_percent_ttl_roll']].reset_index().rename(columns={'index':'dt'})"
   ]
  },
  {
   "cell_type": "markdown",
   "id": "65a9143c-28ba-4824-8a17-4e079bf5525e",
   "metadata": {},
   "source": [
    "## **Предобработка данных WordStat**"
   ]
  },
  {
   "cell_type": "markdown",
   "id": "88e49820-0725-4f0a-a2d7-51bb36da4fbb",
   "metadata": {},
   "source": [
    "**Статистика по поисковому слову \"Одноклассники\"**"
   ]
  },
  {
   "cell_type": "code",
   "execution_count": null,
   "id": "cd8f64f8-1b09-4f03-a0de-8852fa8ba352",
   "metadata": {},
   "outputs": [],
   "source": [
    "ws_weekly = pd.read_excel('../wordstat_dynamic.xlsx',sheet_name='weekly')\n",
    "ws_weekly.rename(columns={'Week from':'dt'},inplace=True)\n",
    "ws_weekly.index = ws_weekly.dt"
   ]
  },
  {
   "cell_type": "code",
   "execution_count": null,
   "id": "6beb1859-a5f0-4f24-a1d7-7bd7eb7a1bce",
   "metadata": {},
   "outputs": [],
   "source": [
    "ws_weekly = ws_weekly.asfreq('D').interpolate(method='linear')"
   ]
  },
  {
   "cell_type": "code",
   "execution_count": null,
   "id": "826b93fd-d1b0-4389-be13-82d5354d315d",
   "metadata": {},
   "outputs": [],
   "source": [
    "ws_daily = pd.read_excel('../wordstat_dynamic.xlsx',sheet_name='daily')\n",
    "ws_daily.rename(columns={'Date':'dt'},inplace=True)\n",
    "ws_daily.index = ws_daily.dt"
   ]
  },
  {
   "cell_type": "code",
   "execution_count": null,
   "id": "91f66edb-9ff6-42a8-8d2c-1913ba4b2102",
   "metadata": {},
   "outputs": [],
   "source": [
    "ws_weekly = ws_weekly[ws_weekly.dt.lt(ws_daily.dt.min())]\n",
    "ws_ok = pd.concat([ws_weekly,ws_daily])"
   ]
  },
  {
   "cell_type": "code",
   "execution_count": null,
   "id": "972e78b6-e962-4a99-b651-1f6cf34b2bf6",
   "metadata": {},
   "outputs": [],
   "source": [
    "ws_ok.rename(columns={'Number of queries':'wordstat_num_of_queries',\n",
    "                      'Percentage of total queries, %':'wordstat_perc_of_total_queries'},\n",
    "            inplace=True)"
   ]
  },
  {
   "cell_type": "code",
   "execution_count": null,
   "id": "9804ceb0-01fa-42cd-832a-923edce3cbe0",
   "metadata": {},
   "outputs": [],
   "source": [
    "ws_ok.reset_index(drop=True,inplace=True)"
   ]
  },
  {
   "cell_type": "markdown",
   "id": "6712ce8f-6bcb-49da-a36a-f778b5556e01",
   "metadata": {},
   "source": [
    "## **Предобработка блогеров**"
   ]
  },
  {
   "cell_type": "code",
   "execution_count": null,
   "id": "32d46402-bbd8-4dab-a389-b4ab78423f20",
   "metadata": {},
   "outputs": [],
   "source": [
    "df = pd.read_excel('../actual_data.xlsx',\n",
    "                   sheet_name='dau')"
   ]
  },
  {
   "cell_type": "code",
   "execution_count": null,
   "id": "289b1588-381d-467e-89bf-41708202189f",
   "metadata": {},
   "outputs": [],
   "source": [
    "# применим линейную интерполяцию для блогеров для одного периода\n",
    "# df.loc[df.dt.ge('2023-04-10')&df.dt.le('2023-04-24'),'bloggers'] = df[df.dt.ge('2023-04-10')&df.dt.le('2023-04-24')].bloggers.interpolate(method='linear')"
   ]
  },
  {
   "cell_type": "markdown",
   "id": "2e8ccb9e-d673-4bcb-942c-99c0eef6b33f",
   "metadata": {},
   "source": [
    "### **Целевая переменная**"
   ]
  },
  {
   "cell_type": "markdown",
   "id": "f344cc92-11dd-4caa-95ac-0fd1e048196d",
   "metadata": {},
   "source": [
    "$$\\widehat{DAU_t^{ok}} = \\frac{DAU_t^{ok}}{DAU_t^{runet}}$$"
   ]
  },
  {
   "cell_type": "code",
   "execution_count": null,
   "id": "8a34207a-b9c3-423d-81e4-4262c62dc706",
   "metadata": {},
   "outputs": [],
   "source": [
    "df.dt = pd.to_datetime(df.dt)"
   ]
  },
  {
   "cell_type": "code",
   "execution_count": null,
   "id": "beb03649-8407-40d6-9a5e-1eae9ff9d04e",
   "metadata": {},
   "outputs": [],
   "source": [
    "df['dau_ok_35_plus_relative'] = df['dau_ok_35_plus']/df['dau_runet_35_plus']"
   ]
  },
  {
   "cell_type": "code",
   "execution_count": null,
   "id": "ff54c6ef-3c26-4df8-b5ff-8562dfbb6c60",
   "metadata": {},
   "outputs": [],
   "source": [
    "df = df.merge(ws_ok, how='left', on='dt')\n",
    "df = df.merge(df_bht,how='left', on='dt') # данные с 2022-09-19"
   ]
  },
  {
   "cell_type": "code",
   "execution_count": null,
   "id": "5d63e0af-adf1-4ef7-8508-51977bc85459",
   "metadata": {},
   "outputs": [],
   "source": [
    "df.index = df.dt"
   ]
  },
  {
   "cell_type": "code",
   "execution_count": null,
   "id": "aed0729b-6aea-4b59-b8d7-cb20cf8dd2ec",
   "metadata": {},
   "outputs": [],
   "source": [
    "df.ba_spontaneous_kpi_percent_ttl_roll=df.ba_spontaneous_kpi_percent_ttl_roll.ffill()"
   ]
  },
  {
   "cell_type": "markdown",
   "id": "bd2bb865-2f04-415a-9185-c955ab538e90",
   "metadata": {},
   "source": [
    "**Добавим колонку с праздниками**"
   ]
  },
  {
   "cell_type": "code",
   "execution_count": null,
   "id": "10c516a0-63ac-4cf3-a55b-bc4a5efe63ec",
   "metadata": {},
   "outputs": [],
   "source": [
    "holid = holidays.Russia()\n",
    "df['dummy_holidays'] = df.dt.apply(lambda x: 1 if x in holid else 0)\n",
    "\n",
    "# 1-ое сентября тоже праздник и в данных наблюдается всплеск\n",
    "df.loc[df.index == '2022-09-01','dummy_holidays'] = 1\n",
    "df.loc[df.index == '2023-09-01','dummy_holidays'] = 1\n",
    "\n",
    "# Православная Пасха\n",
    "df.loc[df.index == '2023-04-16','dummy_holidays'] = 1\n",
    "df.loc[df.index == '2024-05-05','dummy_holidays'] = 1\n",
    "\n",
    "# Добавим единицы на выходные дни, пришедшиеся на будни из-за праздников \n",
    "df.loc[(df.index >= '2024-04-29')&(df.index <= '2024-05-01') ,'dummy_holidays'] = 1\n",
    "df.loc[(df.index >= '2024-05-09')&(df.index <= '2024-05-10') ,'dummy_holidays'] = 1"
   ]
  },
  {
   "cell_type": "code",
   "execution_count": null,
   "id": "8bdffe35-76e9-4366-b6dd-6f9b682e3bfc",
   "metadata": {},
   "outputs": [],
   "source": [
    "print(f'Минимальная дата: {df.dt.min()}\\nМаксимальная дата: {df.dt.max()}')"
   ]
  },
  {
   "cell_type": "markdown",
   "id": "eb8d7cef-2347-4834-8f36-9407f30c6fee",
   "metadata": {},
   "source": [
    "**Список целевых переменных**\n",
    "- Возврат (u) [beta]_total - количество всех пользователей, которые проявили активность в этот день, при этом 30 + дней до этого были неактивны, шт\n",
    "- Возврат (u) [beta]_35_plus - количество пользователей с возрастом 35+, которые проявили активность в этот день, при этом 30 + дней до этого были неактивны, шт\n",
    "- Установки (d)_total - тотальные установки из MyTracker всех юзеров из РФ\n",
    "-  Установки (d)_35_plus - Количество установок приложения пользователями 35 +, сделанных за период отчёта.\n",
    "-  dau_ok_ttl - DAU для людей возрастом 35+ MediaScope, в миллионах\n",
    "-  dau_ok_35_plus - все активные пользователи по дням в миллионах\n",
    "-  tdd_ok_35_plus - времяпровождение в миллионах минут для 35 + в ОК\n",
    "-  tdd_ok_ttl - общее времяпровождение в миллионах минут в ОК\n",
    "\n",
    "**Медиа-переменные**\n",
    "-  digital_media_ots - показы в интернете, ots\n",
    "-  performance_ots - показы контекстной рекламы, ots\n",
    "-  bloggers_ots - показы у блогеров в YouTube/Telegram\n",
    "-  tv_ots - просмотры в телевизоре, ots в штуках. (Бывает в штуках или в тысячах штук)\n",
    "-  ooh_ots - наружная реклама, ots\n",
    "-  radio_ots - радио, ots"
   ]
  },
  {
   "cell_type": "markdown",
   "id": "68e3bc95-0184-438b-a63c-f004c83001be",
   "metadata": {},
   "source": [
    "### Data quality"
   ]
  },
  {
   "cell_type": "code",
   "execution_count": null,
   "id": "38eb838f-2459-4e03-96f6-db91a8901676",
   "metadata": {},
   "outputs": [],
   "source": [
    "df.describe()"
   ]
  },
  {
   "cell_type": "markdown",
   "id": "48fae6bd-4dfe-41d3-8623-ffa34e682b4e",
   "metadata": {},
   "source": [
    "- Среднее количество активных пользователей в ОК составляет более 20 млн.в день\n",
    "- TimeSpent приведен в выражении в миллионах минут"
   ]
  },
  {
   "cell_type": "code",
   "execution_count": null,
   "id": "ca293897-11a8-4698-afdf-04102bfc0f81",
   "metadata": {},
   "outputs": [],
   "source": [
    "duplicates = df.duplicated(subset = ['dt']).sum()"
   ]
  },
  {
   "cell_type": "code",
   "execution_count": null,
   "id": "bbff89d9-dab0-4b91-a835-a467b1a1b928",
   "metadata": {},
   "outputs": [],
   "source": [
    "print(f'Размерность выборки: {df.shape}')\n",
    "print(f'Количество дубликатов по ключу (в датах): {duplicates}\\nПропуски в данных:')\n",
    "df.isna().sum()"
   ]
  },
  {
   "cell_type": "markdown",
   "id": "c63cb6b6-0102-4891-a509-dbd21414192a",
   "metadata": {},
   "source": [
    "impressions (для интернета - способ технической регистрации) = ots"
   ]
  },
  {
   "cell_type": "code",
   "execution_count": null,
   "id": "b72fe972-1bf2-4924-9b6e-bf6fd58030cf",
   "metadata": {},
   "outputs": [],
   "source": [
    "# df.OOH = df.Metro + df.OOH + df.Radio"
   ]
  },
  {
   "cell_type": "code",
   "execution_count": null,
   "id": "3422ff60-9541-459e-9eea-a25d898289a4",
   "metadata": {},
   "outputs": [],
   "source": [
    "df.fillna(0,inplace=True)"
   ]
  },
  {
   "cell_type": "markdown",
   "id": "22264d5d-3ff2-41eb-a61a-7674ad715a85",
   "metadata": {},
   "source": [
    "**Data types**"
   ]
  },
  {
   "cell_type": "code",
   "execution_count": null,
   "id": "67aaac3b-b5c6-4569-8ebe-176195ebd7c5",
   "metadata": {},
   "outputs": [],
   "source": [
    "df.dtypes"
   ]
  },
  {
   "cell_type": "code",
   "execution_count": null,
   "id": "a4418048-f777-4d09-b076-74b352791143",
   "metadata": {},
   "outputs": [],
   "source": [
    "# Переместим дату в индекс и удалим \n",
    "df.index = df.dt\n",
    "df.drop(columns=['dt'],inplace=True)"
   ]
  },
  {
   "cell_type": "code",
   "execution_count": null,
   "id": "e7cf336c-38b5-468a-bee5-6148c7ec4615",
   "metadata": {},
   "outputs": [],
   "source": [
    "kpi = 'dau_ok_35_plus_relative'"
   ]
  },
  {
   "cell_type": "markdown",
   "id": "e8aaa584-f89e-4f5d-bbb6-f4e217157593",
   "metadata": {},
   "source": [
    "## **Exloratory Data Analyses**"
   ]
  },
  {
   "cell_type": "markdown",
   "id": "75a72ea2-de51-4b0d-be17-04ee93c9688d",
   "metadata": {},
   "source": [
    "Вспомогательная строчка для отрисовки интерактивных графиков"
   ]
  },
  {
   "cell_type": "code",
   "execution_count": null,
   "id": "e315fb63-e794-4511-9144-44f10d34911f",
   "metadata": {},
   "outputs": [],
   "source": [
    "import cufflinks as cf\n",
    "cf.go_offline()\n",
    "cf.set_config_file(offline=False, world_readable=True)"
   ]
  },
  {
   "cell_type": "markdown",
   "id": "23eb8f8c-3dd0-451a-9b74-fa36e909e000",
   "metadata": {},
   "source": [
    "**Plot variables**"
   ]
  },
  {
   "cell_type": "code",
   "execution_count": null,
   "id": "d63c4d8a-1510-40d0-886e-2b7c0ec99c16",
   "metadata": {},
   "outputs": [],
   "source": [
    "plt.figure(figsize = (20,12))\n",
    "# kpi\n",
    "plt.scatter(df.index, df[kpi], label=kpi)\n",
    "# вычисляем тренд\n",
    "horizont = range(len(df.index))\n",
    "coefs = np.polyfit(horizont, df[kpi], 1) # кф-ты тренда\n",
    "trend = np.poly1d(coefs) \n",
    "plt.plot(np.array(df.index), trend(horizont), \"r--\", label='Тренд')\n",
    "plt.xlabel('Дата',fontsize=20)\n",
    "plt.ylabel(kpi,fontsize=20)\n",
    "plt.grid(True)\n",
    "plt.legend(fontsize=20)\n",
    "# Отображаем график\n",
    "plt.show()"
   ]
  },
  {
   "cell_type": "code",
   "execution_count": null,
   "id": "68aa8b19-1ebc-4d1d-9e6d-8268ff61b8f2",
   "metadata": {},
   "outputs": [],
   "source": [
    "df[kpi].iplot()"
   ]
  },
  {
   "cell_type": "markdown",
   "id": "ae846848-a4e5-442f-aa6f-a00ad5fe8e25",
   "metadata": {},
   "source": [
    "### **Выделим сезонность в данных**"
   ]
  },
  {
   "cell_type": "markdown",
   "id": "2de5dc9f-0f8c-46b6-924a-f560be8a9d08",
   "metadata": {},
   "source": [
    "**Prophet**"
   ]
  },
  {
   "cell_type": "code",
   "execution_count": null,
   "id": "8182700e-6d21-49a2-a147-1e82868208a7",
   "metadata": {},
   "outputs": [],
   "source": [
    "data = pd.read_excel('../actual_data.xlsx', sheet_name='seasonal')\n",
    "data['y'] = data.dau_ok_35_plus/data.dau_runet_35_plus\n",
    "data.rename(columns={'dt':'ds'},inplace=True)"
   ]
  },
  {
   "cell_type": "code",
   "execution_count": null,
   "id": "0c5c82b2-f761-46e2-9379-a093456484d8",
   "metadata": {},
   "outputs": [],
   "source": [
    "df_holidays = pd.DataFrame({\n",
    "  'holiday': 'dummy_holidays',\n",
    "  'ds': pd.to_datetime(df.dummy_holidays.eq(1).index),\n",
    "  'lower_window': 0,\n",
    "  'upper_window': 1,\n",
    "})"
   ]
  },
  {
   "cell_type": "code",
   "execution_count": null,
   "id": "ccb9a63a-e0ec-40ef-9dd0-0e0938cb8b38",
   "metadata": {},
   "outputs": [],
   "source": [
    "# data['cap'] = trend(horizont)"
   ]
  },
  {
   "cell_type": "code",
   "execution_count": null,
   "id": "eccab90f-bce3-4a00-8284-56768114c788",
   "metadata": {},
   "outputs": [],
   "source": [
    "model = Prophet(growth='linear',\n",
    "                seasonality_mode='additive', \n",
    "                weekly_seasonality=True, \n",
    "                yearly_seasonality=2, # 2 гармоники \n",
    "                holidays=df_holidays,\n",
    "               seasonality_prior_scale=30)\n",
    "model.fit(data)\n",
    "\n",
    "future = model.make_future_dataframe(periods=0)\n",
    "\n",
    "# future['cap'] = trend(horizont)\n",
    "\n",
    "forecast = model.predict(future)\n",
    "\n",
    "# Визуализация результатов\n",
    "fig = model.plot(forecast)"
   ]
  },
  {
   "cell_type": "code",
   "execution_count": null,
   "id": "ceb38c2d-f78a-4241-b564-a73cffa4c5ff",
   "metadata": {},
   "outputs": [],
   "source": [
    "forecast = forecast[:len(data)]"
   ]
  },
  {
   "cell_type": "code",
   "execution_count": null,
   "id": "c7622210-c32a-4010-ae76-aaf862ba7ef7",
   "metadata": {},
   "outputs": [],
   "source": [
    "# Визуализация результатов\n",
    "fig, ax = plt.subplots(figsize=(15, 7))\n",
    "ax.plot(data['ds'], data['y'], label='Исходный ряд', color='blue')\n",
    "ax.plot(data['ds'], forecast['trend'], label='Тренд', color='green')\n",
    "ax.plot(data['ds'], forecast['weekly'], label='Сезонность (недельная)', color='orange')\n",
    "ax.plot(data['ds'], forecast['yearly'], label='Сезонность (годовая)', color='black')\n",
    "# ax.plot(data['ds'], forecast['holiday'], label='праздники', color='red')\n",
    "plt.legend()\n",
    "plt.grid(True)\n",
    "plt.title('Выделение сезонности и тренда с помощью Prophet')\n",
    "plt.xticks(fontsize=12)\n",
    "plt.ylabel('Относительное DAU OK',fontsize=14)\n",
    "ax.xaxis.set_major_locator(mdates.MonthLocator())\n",
    "plt.gcf().autofmt_xdate()\n",
    "plt.show()"
   ]
  },
  {
   "cell_type": "code",
   "execution_count": null,
   "id": "7e00e166-b1c6-417d-be0f-78ae03431b2e",
   "metadata": {},
   "outputs": [],
   "source": [
    "forecast = forecast[forecast.ds.ge('2022-08-01')].reset_index(drop=True)"
   ]
  },
  {
   "cell_type": "code",
   "execution_count": null,
   "id": "d8623330-64dc-4f3e-91b6-c4d05fa59f68",
   "metadata": {},
   "outputs": [],
   "source": [
    "forecast.index = df.index\n",
    "df['seasonality_weekly_dau'] = forecast['weekly']\n",
    "df['seasonality_yearly_dau'] = forecast['yearly']\n",
    "df['trend_linear_dau'] = trend(horizont) \n",
    "df['trend_prophet_dau'] = forecast['trend']"
   ]
  },
  {
   "cell_type": "markdown",
   "id": "20c09ad9-61e3-4408-bb04-3cb27041d1d0",
   "metadata": {},
   "source": [
    "**Построим рассчитаем корреляции факторов с целевой переменной**"
   ]
  },
  {
   "cell_type": "markdown",
   "id": "eb2bee05-98ab-4185-bb4a-d6dca95e45ef",
   "metadata": {},
   "source": [
    "Так как для решения нашей задачи мы бы хотели обучить линейную регрессию, было бы хорошо найти признаки, \"наиболее линейно\" связанные с целевой переменной, иначе говоря, посмотреть на коэффициент корреляции Пирсона между признаками и целевой переменной."
   ]
  },
  {
   "cell_type": "code",
   "execution_count": null,
   "id": "45a9a145-2f26-498c-97d2-6b8e51c31800",
   "metadata": {},
   "outputs": [],
   "source": [
    "# X = df.drop(columns=kpi_all_colls)\n",
    "\n",
    "# for i in kpi_DAU:\n",
    "#     corr = X.corrwith(df[i]).sort_values(ascending=False)\n",
    "#     sns.barplot(y=corr.index, x=corr)\n",
    "#     plt.title(i,fontsize=15)\n",
    "#     plt.xlabel('Корреляция')\n",
    "#     plt.ylabel('Факторы')\n",
    "#     plt.grid(True)\n",
    "#     plt.show()"
   ]
  },
  {
   "cell_type": "markdown",
   "id": "eb731d70-d8c2-4ff9-bc84-967ca83764c1",
   "metadata": {},
   "source": [
    "Radio, OOH, Ditital_impr - отрицательно коррелируют с DAU. Попробуем медиа-трансформации"
   ]
  },
  {
   "cell_type": "markdown",
   "id": "6779828e-13c4-4660-9b28-fc5280a8848c",
   "metadata": {},
   "source": [
    "## **Стандартизация переменных**"
   ]
  },
  {
   "cell_type": "code",
   "execution_count": null,
   "id": "c10400e5-e99c-43db-8660-2c5ea165857f",
   "metadata": {},
   "outputs": [],
   "source": [
    "media_factors = ['tv_ots', 'metro_ots', 'ooh_ots', 'radio_ots','bloggers_ots','digital_media_ots','performance_ots']\n",
    "competitors = ['dau_meta_35_plus', 'dau_telegram_35_plus',\n",
    "       'dau_dzen_35_plus', 'dau_dzen_news_web_35_plus', 'dau_facebook_35_plus',\n",
    "       'dau_instagram_35_plus',\n",
    "       'dau_whatsapp_35_plus', 'dau_youtube_35_plus',\n",
    "       'dau_tiktok_35_plus'] # Cross Web\n",
    "dummy_variables = ['dummy_holidays','dummy_show_bur']\n",
    "other_factors = ['seasonality_weekly_dau','trend_linear_dau',\n",
    "                 'trend_prophet_dau','seasonality_yearly_dau'] # Prophet\n",
    "ws_factors = ['wordstat_num_of_queries', 'wordstat_perc_of_total_queries']\n",
    "bht_factors = ['aa_prompted_kpi_percent_ttl_roll',\n",
    "       'ba_spontaneous_kpi_percent_ttl_roll', 'consid_kpi_percent_ttl_roll']\n",
    "non_media_factors = competitors + dummy_variables + bht_factors + ws_factors + other_factors + ['product_performance_ots','product_activity_piar_ots']"
   ]
  },
  {
   "cell_type": "code",
   "execution_count": null,
   "id": "fb69496a-cc89-4132-acf8-a1bcc87db3fd",
   "metadata": {},
   "outputs": [],
   "source": [
    "numeric_data = df[media_factors+competitors+other_factors + bht_factors + ws_factors + ['product_performance_ots','product_activity_piar_ots']] #.select_dtypes([np.number, float]).copy()\n",
    "numeric_features = numeric_data.columns"
   ]
  },
  {
   "cell_type": "code",
   "execution_count": null,
   "id": "ee7b8f64-fd11-4500-82d3-dded0d7976a4",
   "metadata": {},
   "outputs": [],
   "source": [
    "scaler = MinMaxScaler()\n",
    "scaled_data = scaler.fit_transform(df[numeric_features])\n",
    "scaled_df = pd.DataFrame(scaled_data,columns=numeric_features)\n",
    "scaled_df.index = df.index\n",
    "scaled_df['dummy_holidays'] = df['dummy_holidays']\n",
    "scaled_df['dummy_show_bur'] = df['dummy_show_bur']"
   ]
  },
  {
   "cell_type": "markdown",
   "id": "f0d3d8b6-b05b-4187-bb26-f0cfa7d154f7",
   "metadata": {},
   "source": [
    "**Media-transformation**"
   ]
  },
  {
   "cell_type": "code",
   "execution_count": null,
   "id": "65004352-ce84-4300-ac5f-511f01020c46",
   "metadata": {},
   "outputs": [],
   "source": [
    "media_configs_file_path = '/Users/i.nuriev/repository/MMM/ok/media_configs_ok_initial.xlsx'"
   ]
  },
  {
   "cell_type": "code",
   "execution_count": null,
   "id": "1e9c8ec4-3fe2-44b7-bb60-ae9615ebefe1",
   "metadata": {},
   "outputs": [],
   "source": [
    "df_params = upload_media_params_file(media_configs_file_path)"
   ]
  },
  {
   "cell_type": "code",
   "execution_count": null,
   "id": "0ed4b7e3-8151-40b1-841b-7e122c80af95",
   "metadata": {},
   "outputs": [],
   "source": [
    "init_params = prepare_media_params_init(df_params)"
   ]
  },
  {
   "cell_type": "code",
   "execution_count": null,
   "id": "5afade1a-4f41-4ab7-af1e-1eaf539f3721",
   "metadata": {},
   "outputs": [],
   "source": [
    "params_init_dict = create_media_params_dict(params=init_params['params'], \n",
    "                                       media_factors=init_params['media'])"
   ]
  },
  {
   "cell_type": "markdown",
   "id": "806b133c-6d16-4eac-8180-0d9fc1120f15",
   "metadata": {},
   "source": [
    "## **Для каждой РК сделаем свои медиа-трансформации**"
   ]
  },
  {
   "cell_type": "markdown",
   "id": "5a6f1983-bac8-47ca-ab97-4c14539273eb",
   "metadata": {},
   "source": [
    "**Разделим данные на 4 периода и подберем для каждой РК свои параметры медиа-преобразования:**\n",
    "- c 2022-08-01 по 2022-12-31\n",
    "- c 2023-01-01 по 2023-05-19\n",
    "- с 2023-05-20 по 2023-12-31\n",
    "- c 2024-01-01 по 2024-05-01"
   ]
  },
  {
   "cell_type": "code",
   "execution_count": null,
   "id": "71f5dfa0-8667-4a82-8dde-14eff2fecf08",
   "metadata": {},
   "outputs": [],
   "source": [
    "df_first_rk = df.loc[df.index <= '2022-12-31']\n",
    "df_second_rk = df.loc[(df.index >= '2023-01-01')&(df.index <= '2023-05-19')]\n",
    "df_third_rk = df.loc[(df.index > '2023-05-19')&(df.index <= '2023-12-31')]\n",
    "df_fourth_rk = df.loc[df.index > '2023-12-31']\n",
    "\n",
    "scaled_df_first_rk = scaled_df.loc[scaled_df.index <= '2022-12-31']\n",
    "scaled_df_second_rk = scaled_df.loc[(scaled_df.index >= '2023-01-01')&(scaled_df.index <= '2023-05-19')]\n",
    "scaled_df_third_rk = scaled_df.loc[(df.index > '2023-05-19')&(df.index <= '2023-12-31')]\n",
    "scaled_df_fourth_rk = scaled_df.loc[df.index > '2023-12-31']\n",
    "\n",
    "scaled_df_first_rk[kpi] = df_first_rk[kpi]\n",
    "scaled_df_second_rk[kpi] = df_second_rk[kpi]\n",
    "scaled_df_third_rk[kpi] = df_third_rk[kpi]\n",
    "scaled_df_fourth_rk[kpi] = df_fourth_rk[kpi]"
   ]
  },
  {
   "cell_type": "markdown",
   "id": "72a2ce67-1d2c-4702-a96f-db897bcf8bbb",
   "metadata": {},
   "source": [
    "# Обучить ридж-регрессию на всех факторах и выбрать из них наиболее релевантные"
   ]
  },
  {
   "cell_type": "code",
   "execution_count": null,
   "id": "0224a54d-cedb-4760-9136-c0285c9c054b",
   "metadata": {},
   "outputs": [],
   "source": [
    "non_media_final_factors = ['dau_dzen_35_plus',\n",
    "                           'dummy_holidays',\n",
    "                           'dau_youtube_35_plus',\n",
    "                           'product_performance_ots',\n",
    "                           'product_activity_piar_ots',\n",
    "                           #'dummy_show_bur',\n",
    "                           #'dau_instagram_35_plus',\n",
    "                           #'seasonality_weekly_dau',\n",
    "                           # 'trend_linear_dau',\n",
    "                           'seasonality_yearly_dau',\n",
    "                           'wordstat_num_of_queries', \n",
    "                           # 'wordstat_perc_of_total_queries',\n",
    "                           # 'aa_prompted_kpi_percent_ttl_roll',\n",
    "                           'ba_spontaneous_kpi_percent_ttl_roll',]\n",
    "                           # 'consid_kpi_percent_ttl_roll']\n",
    "\n",
    "model_factors = non_media_final_factors+media_factors"
   ]
  },
  {
   "cell_type": "code",
   "execution_count": null,
   "id": "bcd096d6-050e-4a9a-956f-77908f32dd21",
   "metadata": {},
   "outputs": [],
   "source": [
    "# ridge-регрессия\n",
    "model = Ridge()\n",
    "model.fit(scaled_df[model_factors], df[kpi])\n",
    "y_model = model.predict(scaled_df[model_factors])"
   ]
  },
  {
   "cell_type": "code",
   "execution_count": null,
   "id": "c6c9e60b-4924-4e81-81f5-a4016cd99764",
   "metadata": {},
   "outputs": [],
   "source": [
    "def show_weights(features, weights, scales):\n",
    "    fig, axs = plt.subplots(figsize=(14, 10), ncols=2)\n",
    "    sorted_weights = sorted(zip(weights, features, scales), reverse=True)\n",
    "    weights = [x[0] for x in sorted_weights]\n",
    "    features = [x[1] for x in sorted_weights]\n",
    "    scales = [x[2] for x in sorted_weights]\n",
    "    sns.barplot(y=features, x=weights, ax=axs[0])\n",
    "    axs[0].set_xlabel(\"Weight\")\n",
    "    sns.barplot(y=features, x=scales, ax=axs[1])\n",
    "    axs[1].set_xlabel(\"Scale\")\n",
    "    plt.tight_layout()"
   ]
  },
  {
   "cell_type": "code",
   "execution_count": null,
   "id": "5bebdc03-a87c-4e0e-a289-7e4671cb6406",
   "metadata": {},
   "outputs": [],
   "source": [
    "scales = pd.Series(data=scaled_df[model_factors].std(axis=0), index=scaled_df[model_factors].columns.values)\n",
    "show_weights(scaled_df[model_factors].columns.values, model.coef_, scales)"
   ]
  },
  {
   "cell_type": "markdown",
   "id": "2d8aa0be-2c20-4935-9491-cb6c856c032c",
   "metadata": {},
   "source": [
    "**Обучим линейную регрессию**"
   ]
  },
  {
   "cell_type": "code",
   "execution_count": null,
   "id": "3fdf6b9a-ea3e-4b28-aea6-3d8c2d055ca2",
   "metadata": {},
   "outputs": [],
   "source": [
    "lag_value = 1 # количество лагов для вычисления HAC оценки\n",
    "y = df[kpi]\n",
    "X = sm.add_constant(scaled_df[model_factors])\n",
    "model = sm.OLS(y,X)\n",
    "result = model.fit(cov_type='HAC', cov_kwds={'maxlags': lag_value})\n",
    "print(result.summary())"
   ]
  },
  {
   "cell_type": "markdown",
   "id": "43faa293-9c6a-4c32-8be8-4d47932f940b",
   "metadata": {},
   "source": [
    "### **Оптимизация со штрафом за отрицательные коэффициенты перед медиа-факторами**"
   ]
  },
  {
   "cell_type": "code",
   "execution_count": null,
   "id": "43a8de57-1f66-4c60-92df-bd08a162a499",
   "metadata": {},
   "outputs": [],
   "source": [
    "df_params = upload_media_params_file(media_configs_file_path)\n",
    "init_params = prepare_media_params_init(df_params)\n",
    "params_init_dict = create_media_params_dict(params=init_params['params'], \n",
    "                                            media_factors=init_params['media'])"
   ]
  },
  {
   "cell_type": "code",
   "execution_count": null,
   "id": "8bd04849-af7a-4e6a-b501-40574207df28",
   "metadata": {},
   "outputs": [],
   "source": [
    "opt_params_first_rk = optimize_media_params_penalty(y=df_first_rk[kpi],\n",
    "                      df=scaled_df_first_rk[media_factors],\n",
    "                      media_factors=init_params['media'],\n",
    "                      params_init=init_params['params'],\n",
    "                      bounds_init=init_params['bounds'],\n",
    "                      tol=0.000000001,\n",
    "                      epsilon_step=0.01\n",
    "                     )\n",
    "opt_params_second_rk = optimize_media_params_penalty(y=df_second_rk[kpi],\n",
    "                      df=scaled_df_second_rk[media_factors],\n",
    "                      media_factors=init_params['media'],\n",
    "                      params_init=init_params['params'],\n",
    "                      bounds_init=init_params['bounds'],\n",
    "                      tol=0.000000001,\n",
    "                      epsilon_step=0.01\n",
    "                     )\n",
    "opt_params_third_rk = optimize_media_params_penalty(y=df_third_rk[kpi],\n",
    "                      df=scaled_df_third_rk[media_factors],\n",
    "                      media_factors=init_params['media'],\n",
    "                      params_init=init_params['params'],\n",
    "                      bounds_init=init_params['bounds'],\n",
    "                      tol=0.000000001,\n",
    "                      epsilon_step=0.01\n",
    "                     )\n",
    "opt_params_fourth_rk = optimize_media_params_penalty(y=df_fourth_rk[kpi],\n",
    "                      df=scaled_df_fourth_rk[media_factors],\n",
    "                      media_factors=init_params['media'],\n",
    "                      params_init=init_params['params'],\n",
    "                      bounds_init=init_params['bounds'],\n",
    "                      tol=0.000000001,\n",
    "                      epsilon_step=0.01\n",
    "                     )"
   ]
  },
  {
   "cell_type": "code",
   "execution_count": null,
   "id": "e021faa0-0341-48a3-9565-63ae2776b1df",
   "metadata": {},
   "outputs": [],
   "source": [
    "optimal_params_dict_first_rk = create_media_params_dict(params=opt_params_first_rk, \n",
    "                         media_factors=init_params['media'])\n",
    "optimal_params_dict_second_rk = create_media_params_dict(params=opt_params_second_rk, \n",
    "                         media_factors=init_params['media'])\n",
    "optimal_params_dict_third_rk = create_media_params_dict(params=opt_params_third_rk, \n",
    "                         media_factors=init_params['media'])\n",
    "optimal_params_dict_fourth_rk = create_media_params_dict(params=opt_params_fourth_rk, \n",
    "                         media_factors=init_params['media'])"
   ]
  },
  {
   "cell_type": "code",
   "execution_count": null,
   "id": "e48362d1-9b3c-4fda-98ea-a43eb7b7daac",
   "metadata": {},
   "outputs": [],
   "source": [
    "optimal_params_dict_third_rk['performance_ots']['gamma'] = 0.8\n",
    "optimal_params_dict_third_rk['performance_ots']['beta'] = 1.2\n",
    "\n",
    "\n",
    "\n",
    "optimal_params_dict_third_rk['radio_ots']['beta'] = 1.1\n",
    "optimal_params_dict_third_rk['radio_ots']['alpha'] = 0.9\n",
    "optimal_params_dict_second_rk['radio_ots']['alpha'] = 1.1\n",
    "\n",
    "optimal_params_dict_second_rk['ooh_ots']['beta'] = 1.2\n",
    "\n",
    "optimal_params_dict_third_rk['ooh_ots']['alpha'] = 2.5\n",
    "optimal_params_dict_third_rk['ooh_ots']['beta'] = 1.2\n",
    "\n",
    "optimal_params_dict_fourth_rk['ooh_ots']['alpha'] = 1.6\n",
    "optimal_params_dict_fourth_rk['ooh_ots']['gamma'] = 1.1\n",
    "optimal_params_dict_fourth_rk['ooh_ots']['beta'] = 1.2\n",
    "\n",
    "optimal_params_dict_third_rk['bloggers_ots']['alpha'] = 0.8\n",
    "optimal_params_dict_third_rk['bloggers_ots']['beta'] = 1.2\n",
    "\n",
    "optimal_params_dict_second_rk['digital_media_ots']['alpha'] = 1.1\n",
    "optimal_params_dict_third_rk['digital_media_ots']['alpha'] = 1.1\n",
    "optimal_params_dict_second_rk['digital_media_ots']['decay'] = 0.4\n",
    "optimal_params_dict_third_rk['digital_media_ots']['decay'] = 0.4\n",
    "optimal_params_dict_second_rk['digital_media_ots']['beta'] = 0.4\n",
    "optimal_params_dict_third_rk['digital_media_ots']['beta'] = 0.4\n",
    "optimal_params_dict_second_rk['digital_media_ots']['gamma'] = 1\n",
    "optimal_params_dict_third_rk['digital_media_ots']['gamma'] = 1\n",
    "\n",
    "\n",
    "optimal_params_dict_fourth_rk['digital_media_ots']['alpha'] = 1.9"
   ]
  },
  {
   "cell_type": "code",
   "execution_count": null,
   "id": "6d25b262-420d-46ff-862d-b72beb0f3316",
   "metadata": {},
   "outputs": [],
   "source": [
    "sorted_inital_dict = {key: params_init_dict[key] for key in media_factors}\n",
    "show_comparison(media_params_optimal=optimal_params_dict_first_rk,\n",
    "                media_params_init=sorted_inital_dict)"
   ]
  },
  {
   "cell_type": "code",
   "execution_count": null,
   "id": "5a6de500-b27e-485d-b1ea-15de52cabd53",
   "metadata": {},
   "outputs": [],
   "source": [
    "show_comparison(media_params_optimal=optimal_params_dict_second_rk,\n",
    "                media_params_init=sorted_inital_dict)"
   ]
  },
  {
   "cell_type": "code",
   "execution_count": null,
   "id": "b8365260-7efd-43af-b65e-d27c441334e6",
   "metadata": {},
   "outputs": [],
   "source": [
    "show_comparison(media_params_optimal=optimal_params_dict_third_rk,\n",
    "                media_params_init=sorted_inital_dict) "
   ]
  },
  {
   "cell_type": "code",
   "execution_count": null,
   "id": "6218b513-97a5-4849-8056-82d4f7b8d92d",
   "metadata": {},
   "outputs": [],
   "source": [
    "show_comparison(media_params_optimal=optimal_params_dict_fourth_rk,\n",
    "                media_params_init=sorted_inital_dict) "
   ]
  },
  {
   "cell_type": "code",
   "execution_count": null,
   "id": "0413416b-48de-4ad7-93c9-c2e96c52fe09",
   "metadata": {},
   "outputs": [],
   "source": [
    "transform_df_first_rk = transform_media_data(scaled_df_first_rk,optimal_params_dict_first_rk,media_factors)\n",
    "transform_df_second_rk = transform_media_data(scaled_df_second_rk,optimal_params_dict_second_rk,media_factors)\n",
    "transform_df_third_rk = transform_media_data(scaled_df_third_rk,optimal_params_dict_third_rk,media_factors)\n",
    "transform_df_fourth_rk = transform_media_data(scaled_df_fourth_rk,optimal_params_dict_fourth_rk,media_factors)"
   ]
  },
  {
   "cell_type": "code",
   "execution_count": null,
   "id": "f4eb0f2e-6952-4df2-9766-01097e981ed3",
   "metadata": {},
   "outputs": [],
   "source": [
    "df_transf = pd.concat([transform_df_first_rk,transform_df_second_rk,transform_df_third_rk,transform_df_fourth_rk]) # медиа-факторы\n",
    "df_final = pd.concat([df_transf, scaled_df[non_media_factors],df[kpi]],axis=1) # контрольные факторы"
   ]
  },
  {
   "cell_type": "code",
   "execution_count": null,
   "id": "15d08a87-02fd-4ee0-a0e9-c5b51b0b8b8d",
   "metadata": {},
   "outputs": [],
   "source": [
    "# plot_saturation_points(media_factors, optimal_params_dict_first_rk,scaled_df_first_rk,'saturate_power',\n",
    "#                       sorted_inital_dict)"
   ]
  },
  {
   "cell_type": "code",
   "execution_count": null,
   "id": "1e10a838-ee52-4f25-8ab3-457d182a85a0",
   "metadata": {},
   "outputs": [],
   "source": [
    "# plot_saturation_points(media_factors, optimal_params_dict_second_rk,scaled_df_second_rk,'saturate_power',\n",
    "#                       sorted_inital_dict)"
   ]
  },
  {
   "cell_type": "code",
   "execution_count": null,
   "id": "31e5843f-78c2-410f-bdd9-ca5df9344274",
   "metadata": {},
   "outputs": [],
   "source": [
    "# plot_saturation_points(media_factors, optimal_params_dict_third_rk,scaled_df_third_rk,'saturate_power',\n",
    "#                       sorted_inital_dict)"
   ]
  },
  {
   "cell_type": "code",
   "execution_count": null,
   "id": "6d4a0853-18ea-4c87-b500-c28ed5a26bd9",
   "metadata": {},
   "outputs": [],
   "source": [
    "# plot_saturation_points(media_factors, optimal_params_dict_fourth_rk,scaled_df_fourth_rk,'saturate_power',\n",
    "#                       sorted_inital_dict)"
   ]
  },
  {
   "cell_type": "code",
   "execution_count": null,
   "id": "da0f7fae-2e68-450b-b4d9-6dc47f5436e2",
   "metadata": {},
   "outputs": [],
   "source": [
    "plot_transformed_data(scaled_df,df_final,media_factors + ['product_activity_piar_ots','product_performance_ots'])"
   ]
  },
  {
   "cell_type": "code",
   "execution_count": null,
   "id": "0f88a950-22e9-40e1-a808-1537d5e960d1",
   "metadata": {},
   "outputs": [],
   "source": [
    "df_final=pd.concat([df_final,df.dau_runet_35_plus],axis=1)"
   ]
  },
  {
   "cell_type": "code",
   "execution_count": null,
   "id": "cf7fdd6f-7673-4e85-af88-086f7d025b70",
   "metadata": {},
   "outputs": [],
   "source": [
    "df_final.to_csv('df_final_dau.csv')"
   ]
  },
  {
   "cell_type": "code",
   "execution_count": null,
   "id": "e557707f-a3c8-4e84-a79d-0b26cd1d633d",
   "metadata": {},
   "outputs": [],
   "source": [
    "pd.DataFrame(optimal_params_dict_first_rk).to_excel('best_params_first_rk.xlsx')"
   ]
  },
  {
   "cell_type": "code",
   "execution_count": null,
   "id": "1baad3e8-6ea5-495d-bbd8-37240dd8cb0d",
   "metadata": {},
   "outputs": [],
   "source": [
    "pd.DataFrame(optimal_params_dict_second_rk).to_excel('best_params_second_rk.xlsx')"
   ]
  },
  {
   "cell_type": "code",
   "execution_count": null,
   "id": "8fa15826-8f55-475c-a945-b31f4f15ab0d",
   "metadata": {},
   "outputs": [],
   "source": [
    "pd.DataFrame(optimal_params_dict_third_rk).to_excel('best_params_third_rk.xlsx')"
   ]
  },
  {
   "cell_type": "code",
   "execution_count": null,
   "id": "8568064b-a055-4b57-b7cd-f5c38551de31",
   "metadata": {},
   "outputs": [],
   "source": [
    "pd.DataFrame(optimal_params_dict_fourth_rk).to_excel('best_params_fourth_rk.xlsx')"
   ]
  }
 ],
 "metadata": {
  "kernelspec": {
   "display_name": "Python 3 (ipykernel)",
   "language": "python",
   "name": "python3"
  },
  "language_info": {
   "codemirror_mode": {
    "name": "ipython",
    "version": 3
   },
   "file_extension": ".py",
   "mimetype": "text/x-python",
   "name": "python",
   "nbconvert_exporter": "python",
   "pygments_lexer": "ipython3",
   "version": "3.12.4"
  }
 },
 "nbformat": 4,
 "nbformat_minor": 5
}
