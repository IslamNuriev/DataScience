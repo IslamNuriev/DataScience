{
 "cells": [
  {
   "cell_type": "markdown",
   "id": "3acf690f-3105-4d97-82c3-9270fd34afc8",
   "metadata": {},
   "source": [
    "# Binary Search"
   ]
  },
  {
   "cell_type": "markdown",
   "id": "053c270d",
   "metadata": {},
   "source": [
    "- У бинарного поиска логарифмическая сложность"
   ]
  },
  {
   "cell_type": "code",
   "execution_count": 49,
   "id": "474ac537",
   "metadata": {},
   "outputs": [
    {
     "name": "stdout",
     "output_type": "stream",
     "text": [
      "Индекс:0\n",
      "Значение:9\n"
     ]
    }
   ],
   "source": [
    "# d = [-3,-1,2,4,5,7,8,9]\n",
    "d = [9,10,11,12,13,14,15,16]\n",
    "n = len(d)\n",
    "\n",
    "search_v = 9\n",
    "left, right = 0,n-1\n",
    "\n",
    "while left <= right:\n",
    "    middle = (left + right)//2\n",
    "    v = d[middle]\n",
    "    if v == search_v:\n",
    "        print(f'Индекс:{middle}\\nЗначение:{v}')\n",
    "        break\n",
    "    if v < search_v:\n",
    "        left = middle + 1\n",
    "    if v > search_v:\n",
    "        right = middle -1"
   ]
  },
  {
   "cell_type": "markdown",
   "id": "86800304",
   "metadata": {},
   "source": [
    "# deque "
   ]
  },
  {
   "cell_type": "code",
   "execution_count": 43,
   "id": "215e6bdf",
   "metadata": {},
   "outputs": [
    {
     "name": "stdout",
     "output_type": "stream",
     "text": [
      "deque([2, 3, 4, 5, 6], maxlen=5)\n",
      "deque([1, 2, 3, 4, 5], maxlen=5)\n",
      "deque([2, 3, 4], maxlen=5)\n"
     ]
    }
   ],
   "source": [
    "from collections import deque\n",
    "dq = deque([1,2,3,4,5], maxlen=5)\n",
    "dq.append(6) # lifo\n",
    "print(dq)\n",
    "dq.appendleft(1) # fifo\n",
    "print(dq)\n",
    "\n",
    "dq.pop()\n",
    "dq.popleft()\n",
    "print(dq)"
   ]
  },
  {
   "cell_type": "code",
   "execution_count": null,
   "id": "eccc37a0",
   "metadata": {},
   "outputs": [
    {
     "name": "stdout",
     "output_type": "stream",
     "text": [
      "pop from an empty deque\n"
     ]
    }
   ],
   "source": [
    "dq = deque()\n",
    "try:\n",
    "    value = dq.popleft()\n",
    "    print(value)\n",
    "except IndexError as e:\n",
    "    print(e)"
   ]
  },
  {
   "cell_type": "code",
   "execution_count": 50,
   "id": "563b26a0",
   "metadata": {},
   "outputs": [
    {
     "name": "stdout",
     "output_type": "stream",
     "text": [
      "deque([-1, 100, 0, 1, 2, 3, 4, 5, 6, 7, 8, 9])\n"
     ]
    }
   ],
   "source": [
    "dq = deque([1,2,3,4,5,6])\n",
    "dq.extend([7,8,9])\n",
    "dq.extendleft((0,-1))\n",
    "dq.insert(1,100)\n",
    "print(dq)"
   ]
  },
  {
   "cell_type": "code",
   "execution_count": 51,
   "id": "4f9b6f28",
   "metadata": {},
   "outputs": [
    {
     "name": "stdout",
     "output_type": "stream",
     "text": [
      "deque([1, 2, 4, 5, 3])\n"
     ]
    }
   ],
   "source": [
    "dq = deque([1,2,3,4,5,3])\n",
    "dq.remove(3)\n",
    "print(dq)"
   ]
  },
  {
   "cell_type": "code",
   "execution_count": 52,
   "id": "b7b3a198",
   "metadata": {},
   "outputs": [
    {
     "name": "stdout",
     "output_type": "stream",
     "text": [
      "deque([])\n"
     ]
    }
   ],
   "source": [
    "dq.clear()\n",
    "print(dq)"
   ]
  },
  {
   "cell_type": "code",
   "execution_count": 54,
   "id": "2cea5f31",
   "metadata": {},
   "outputs": [
    {
     "name": "stdout",
     "output_type": "stream",
     "text": [
      "deque([1, 2, 3, 4, 5]) deque([1, 2, 3, 4, 5, 100])\n"
     ]
    }
   ],
   "source": [
    "dq = deque((1,2,3,4,5))\n",
    "dq2 = dq.copy()\n",
    "dq2.append(100)\n",
    "print(dq, dq2)"
   ]
  },
  {
   "cell_type": "markdown",
   "id": "22937f1a",
   "metadata": {},
   "source": [
    "## FIFO LIFO"
   ]
  },
  {
   "cell_type": "code",
   "execution_count": 57,
   "id": "868f2d9a",
   "metadata": {},
   "outputs": [
    {
     "name": "stdout",
     "output_type": "stream",
     "text": [
      "deque([10, 1, 2, 3, 4])\n",
      "deque([1, 2, 3, 4, 10])\n",
      "deque([1, 2, 3, 4, 10])\n",
      "deque([1, 2, 3, 4, 10])\n"
     ]
    }
   ],
   "source": [
    "# FIFO\n",
    "dq.appendleft(10)\n",
    "value = dq.pop()\n",
    "print(dq)\n",
    "# FIFO\n",
    "dq.append(10)\n",
    "value = dq.popleft()\n",
    "print(dq)\n",
    "\n",
    "# LIFO\n",
    "dq.append(55)\n",
    "value = dq.pop()\n",
    "print(dq)\n",
    "\n",
    "# LIFO\n",
    "dq.appendleft(55)\n",
    "value = dq.popleft()\n",
    "print(dq)"
   ]
  },
  {
   "cell_type": "markdown",
   "id": "a14b98a0",
   "metadata": {},
   "source": [
    "## Stack"
   ]
  },
  {
   "cell_type": "markdown",
   "id": "68edc41b",
   "metadata": {},
   "source": [
    "Очередь типа LIFO"
   ]
  },
  {
   "cell_type": "markdown",
   "id": "3f9710cd",
   "metadata": {},
   "source": [
    "# Бинарное дерево"
   ]
  },
  {
   "cell_type": "markdown",
   "id": "09900026",
   "metadata": {},
   "source": [
    "- Если добавляемое значение меньше значения в родительском узле, то новая вершина добавляется в левую ветвь, иначе - вправую;\n",
    "- Если добавляемое значение уже присутствует в дереве, то оно игнорируется (то есть дубли отсутствуют)\n",
    "\n",
    "\n",
    "- Поиск значений в бинарном дереве O(logn)"
   ]
  },
  {
   "cell_type": "markdown",
   "id": "b31ef756",
   "metadata": {},
   "source": [
    "## BFS"
   ]
  },
  {
   "cell_type": "code",
   "execution_count": 356,
   "id": "dfafb97f",
   "metadata": {},
   "outputs": [],
   "source": [
    "class TreeNode:\n",
    "    def __init__(self, val=0, left=None, right=None):\n",
    "        self.val = val\n",
    "        self.left = left\n",
    "        self.right = right\n",
    "\n",
    "def averageOfLevels(root):\n",
    "    if not root:\n",
    "        return []\n",
    "    queue = deque([root])\n",
    "    result = []\n",
    "    while queue:\n",
    "        len_level = len(queue)\n",
    "        sum_level = 0\n",
    "\n",
    "        for i in range(len_level):\n",
    "            node = queue.popleft()\n",
    "            sum_level += node.val\n",
    "            if node.left:\n",
    "                queue.append(node.left)\n",
    "            if node.right:\n",
    "                queue.append(node.right)\n",
    "\n",
    "        result.append(sum_level/len_level)\n",
    "    return result\n"
   ]
  },
  {
   "cell_type": "markdown",
   "id": "178553b4",
   "metadata": {},
   "source": [
    "## DFS"
   ]
  },
  {
   "cell_type": "code",
   "execution_count": null,
   "id": "3dd96470",
   "metadata": {},
   "outputs": [],
   "source": [
    "import numpy as np\n",
    "from collections import deque\n",
    "\n",
    "class TreeNode:\n",
    "    def __init__(self, val=0, left=None, right=None):\n",
    "        self.val = val\n",
    "        self.left = left\n",
    "        self.right = right\n",
    "\n",
    "def create_tree(v):\n",
    "    \"\"\"Создает дерево из списка с np.nan\"\"\"\n",
    "    v = [None if isinstance(x, float) and x != x else x for x in v]\n",
    "    if not v: return None\n",
    "    root = TreeNode(v[0])\n",
    "    queue = deque([root])\n",
    "    i = 1\n",
    "    while queue and i < len(v):\n",
    "        node = queue.popleft()\n",
    "        if i < len(v) and v[i] is not None:\n",
    "            node.left = TreeNode(v[i])\n",
    "            queue.append(node.left)\n",
    "        i += 1\n",
    "        if i < len(v) and v[i] is not None:\n",
    "            node.right = TreeNode(v[i])\n",
    "            queue.append(node.right)\n",
    "        i += 1\n",
    "    return root\n",
    "\n",
    "def dfs_average(root):\n",
    "    \"\"\"Вычисляет среднее значение всех узлов через DFS\"\"\"\n",
    "    if not root: return 0.0\n",
    "    \n",
    "    values = []  # Список для сбора значений\n",
    "    \n",
    "    def dfs(node):\n",
    "        if not node: return\n",
    "        values.append(node.val)  # Запись значения\n",
    "        dfs(node.left)           # Рекурсия в левое поддерево\n",
    "        dfs(node.right)          # Рекурсия в правое поддерево\n",
    "    \n",
    "    dfs(root)\n",
    "    return sum(values) / len(values)  # Среднее арифметическое\n",
    "\n",
    "# Пример использования\n",
    "v = [3, 9, 20, np.nan, np.nan, 15, 7]\n",
    "tree = create_tree(v)\n",
    "print(f\"Среднее значение дерева (DFS): {dfs_average(tree)}\")  # 10.8"
   ]
  },
  {
   "cell_type": "markdown",
   "id": "7fe1fc89",
   "metadata": {},
   "source": [
    "### Способы обхода и удаления вершин"
   ]
  },
  {
   "cell_type": "code",
   "execution_count": 305,
   "id": "130c7a8b",
   "metadata": {},
   "outputs": [],
   "source": [
    "# класс Node определяет вершины бинарного дерева\n",
    "class Node:\n",
    "    def __init__(self, data):\n",
    "        self.data = data\n",
    "        self.left = None\n",
    "        self.right = None\n",
    "\n",
    "class Tree:\n",
    "    def __init__(self):\n",
    "        self.root = None\n",
    "\n",
    "    def __find(self, node, parent, value):\n",
    "        if node is None:\n",
    "            return None, parent, False\n",
    "        if value == node.data:\n",
    "            return node, parent , True\n",
    "        if value < node.data:\n",
    "            if node.left:\n",
    "                return self.__find(node.left, node, value)\n",
    "            \n",
    "        if value > node.data:\n",
    "            if node.right:\n",
    "                return self.__find(node.right, node, value)\n",
    "        return node, parent, False\n",
    "    \n",
    "    def append(self,obj):\n",
    "        if self.root is None:\n",
    "            self.root = obj\n",
    "            return obj\n",
    "        \n",
    "        s, p, fl_find = self.__find(self.root, None, obj.data)\n",
    "        \n",
    "        if not fl_find and s:\n",
    "            if obj.data < s.data:\n",
    "                s.left = obj\n",
    "            else:\n",
    "                s.right = obj \n",
    "        \n",
    "        return obj\n",
    "    \n",
    "    def show_tree(self,node):\n",
    "        if node is None:\n",
    "            return\n",
    "        self.show_tree(node.left)\n",
    "        print(node.data)\n",
    "        self.show_tree(node.right)\n",
    "\n",
    "    def __del_leaf(self, s, p):\n",
    "        if p.left == s:\n",
    "            p.left = None\n",
    "        elif p.right == s:\n",
    "            p.right = None\n",
    "\n",
    "    def __del_one_child(self, s, p):\n",
    "        if p.left == s:\n",
    "            if s.left is None:\n",
    "                p.left = s.right\n",
    "            elif s.right is None:\n",
    "                p.left = s.left\n",
    "\n",
    "        elif p.right == s:\n",
    "            if s.right is None:\n",
    "                p.left = s.right\n",
    "            elif s.right is None:\n",
    "                p.right = s.left\n",
    "\n",
    "                 \n",
    "    def del_node(self, key):\n",
    "        s, p, fl_find = self.__find((self.root, None, key))\n",
    "\n",
    "        if not fl_find:\n",
    "            return None\n",
    "        if s.left is None and s.right is None:\n",
    "            self.__del_leaf(s,p)\n",
    "        elif s.left is None or s.right is None:\n",
    "            self.__del_one_child(s,p)"
   ]
  },
  {
   "cell_type": "code",
   "execution_count": 306,
   "id": "03017b5a",
   "metadata": {},
   "outputs": [
    {
     "name": "stdout",
     "output_type": "stream",
     "text": [
      "2\n",
      "5\n",
      "7\n",
      "10\n",
      "13\n",
      "16\n",
      "20\n"
     ]
    }
   ],
   "source": [
    "v = [10,5, 7, 16, 13, 2, 20]\n",
    "t = Tree()\n",
    "for x in v:\n",
    "    t.append(Node(x))\n",
    "t.show_tree(t.root)"
   ]
  },
  {
   "cell_type": "markdown",
   "id": "c9fcbcaf",
   "metadata": {},
   "source": [
    "# Алгоритм Кнута-Морриса-Пратта"
   ]
  },
  {
   "cell_type": "markdown",
   "id": "63fc5e62",
   "metadata": {},
   "source": [
    "Алгоритм формирования массива $\\pi$"
   ]
  },
  {
   "cell_type": "code",
   "execution_count": 291,
   "id": "4ec7e1ac",
   "metadata": {},
   "outputs": [
    {
     "data": {
      "text/plain": [
       "[0, 0, 1, 2, 3, 0]"
      ]
     },
     "execution_count": 291,
     "metadata": {},
     "output_type": "execute_result"
    }
   ],
   "source": [
    "t = 'лилила'\n",
    "p = [0]*len(t)\n",
    "j = 0\n",
    "i = 1\n",
    "while i <= len(t)-1:\n",
    "    if t[j] == t[i]:\n",
    "        p[i] = j+1\n",
    "        i += 1\n",
    "        j += 1\n",
    "    else:\n",
    "        if j == 0:\n",
    "            p[i] = 0\n",
    "            i += 1\n",
    "        else:\n",
    "            j = p[j-1]\n",
    "p # O(m)"
   ]
  },
  {
   "cell_type": "markdown",
   "id": "9cf1649c",
   "metadata": {},
   "source": [
    "Алгоритм поиска образа в строке"
   ]
  },
  {
   "cell_type": "code",
   "execution_count": 292,
   "id": "198b1896",
   "metadata": {},
   "outputs": [
    {
     "name": "stdout",
     "output_type": "stream",
     "text": [
      "образ найден\n"
     ]
    }
   ],
   "source": [
    "a = 'лилилось лилилась'\n",
    "\n",
    "m = len(t)\n",
    "n = len(a)\n",
    "i = 0\n",
    "j = 0\n",
    "while i < n:\n",
    "    if a[i] == t[j]:\n",
    "        i += 1\n",
    "        j += 1\n",
    "        if j == m:\n",
    "            print('образ найден')\n",
    "            break\n",
    "    else:\n",
    "        if j>0:\n",
    "            j = p[j-1]\n",
    "        else:\n",
    "            i += 1\n",
    "if i == n:\n",
    "    print('образ не найден')"
   ]
  },
  {
   "cell_type": "markdown",
   "id": "f0f05f42",
   "metadata": {},
   "source": [
    "# Алгоритм Бойера-Мура-Хорспула"
   ]
  },
  {
   "cell_type": "code",
   "execution_count": 304,
   "id": "136e0eaf",
   "metadata": {},
   "outputs": [
    {
     "name": "stdout",
     "output_type": "stream",
     "text": [
      "{'ы': 1, 'н': 2, 'а': 4, 'д': 5, 'е': 6, '*': 6}\n",
      "Образ найден по индексу 13\n"
     ]
    }
   ],
   "source": [
    "t = 'данные'\n",
    "# Этап 1. Формирование таблицы смещений. \n",
    "\n",
    "S = set() # уникальные символы в образе\n",
    "M = len(t) # числом символов в образе\n",
    "d = {} # словарь смещений\n",
    "\n",
    "for i in range(M-2, -1, -1):\n",
    "    if t[i] not in S: # если символ еще не добавлен в таблицу\n",
    "        d[t[i]] = M-i-1\n",
    "        S.add(t[i])\n",
    "if t[M-1] not in S: # отдельно формируем последний символ\n",
    "    d[t[M-1]] = M\n",
    "\n",
    "d['*'] = M # смещения для прочих символов\n",
    "\n",
    "print(d)\n",
    "\n",
    "# Этап 2. Поиск образа в строке\n",
    "a = 'большие метеоданные'\n",
    "N = len(a)\n",
    "\n",
    "if N >= M:\n",
    "    i = M-1 # счетчик проверяемого символа в строке\n",
    "\n",
    "    while(i< N):\n",
    "        k = 0\n",
    "        for j in range(M-1, -1, -1):\n",
    "            if a[i-k] != t[j]:\n",
    "                if j == M-1:\n",
    "                    off = d[a[i]] if d.get(a[i], False) else d['*'] # смещение, если не равен последний символ образа\n",
    "                else:\n",
    "                    off = d[t[j]]\n",
    "                i += off\n",
    "                break\n",
    "            k += 1\n",
    "        if j == 0:\n",
    "            print(f'Образ найден по индексу {i-k+1}')\n",
    "            break\n",
    "else:\n",
    "    print(\"Образ не найден\")"
   ]
  },
  {
   "cell_type": "markdown",
   "id": "1d2c3f27",
   "metadata": {},
   "source": [
    "# Решение задач (подготовка к собесу)"
   ]
  },
  {
   "cell_type": "markdown",
   "id": "89541891",
   "metadata": {},
   "source": [
    "## Задача из собеседования в Yandex"
   ]
  },
  {
   "cell_type": "markdown",
   "id": "c8eb67a2",
   "metadata": {},
   "source": [
    "даны 2 массива:\n",
    "\n",
    "- a = [1,2,3,4,5]\n",
    "- b= [1,2,3]\n",
    "\n",
    "\n",
    "Нужно вернуть список, в котором элементы списка a, которых нет в b"
   ]
  },
  {
   "cell_type": "code",
   "execution_count": 577,
   "id": "26361b98",
   "metadata": {},
   "outputs": [],
   "source": [
    "from typing import List\n",
    "def solve(a : List, b: List):\n",
    "    n = len(a)\n",
    "    m = len(b)\n",
    "    l = n-1\n",
    "    r = m-1\n",
    "    results = []\n",
    "    while l >= 0:\n",
    "        if a[l] > b[r]:\n",
    "            results.append(a[l])\n",
    "            l -= 1\n",
    "        elif a[l] == b[r]:\n",
    "            l -= 1\n",
    "        else:\n",
    "            if r == 0:\n",
    "                results.append(a[l])\n",
    "                l -= 1\n",
    "            else:\n",
    "                r -= 1\n",
    "    return results[::-1]"
   ]
  },
  {
   "cell_type": "code",
   "execution_count": 579,
   "id": "da7ca4e1",
   "metadata": {},
   "outputs": [
    {
     "data": {
      "text/plain": [
       "[1, 2, 3, 4, 4, 4, 4, 5]"
      ]
     },
     "execution_count": 579,
     "metadata": {},
     "output_type": "execute_result"
    }
   ],
   "source": [
    "a = [1,2,3,4,4, 4, 4, 5]\n",
    "b= [98,99]\n",
    "solve(a,b)"
   ]
  },
  {
   "cell_type": "markdown",
   "id": "2276079e",
   "metadata": {},
   "source": [
    "### Задачи из собеседования в Сбер"
   ]
  },
  {
   "cell_type": "markdown",
   "id": "558c4999",
   "metadata": {},
   "source": [
    "1. Есть последовательность чисел 11123333445. Нужно вернуть следующее: 1321344251"
   ]
  },
  {
   "cell_type": "code",
   "execution_count": null,
   "id": "cf14b13a",
   "metadata": {},
   "outputs": [],
   "source": [
    "def solve(nums: str) -> str:\n",
    "    n = len(nums)\n",
    "    if n == 0:\n",
    "        return 'пустая строка'\n",
    "    l = 0\n",
    "    r = 1\n",
    "    result = ''\n",
    "    count = 1\n",
    "    while (r <= n-1):\n",
    "        if nums[l] == nums[r]:\n",
    "            count += 1\n",
    "            r += 1\n",
    "        else:\n",
    "            result = result + f'{nums[l]}{count}'\n",
    "            count = 1\n",
    "            l = r\n",
    "            r+=1\n",
    "    if count == 1:\n",
    "        result = result + f'{nums[l]}{count}'\n",
    "    else:\n",
    "        result = result + f'{nums[r-1]}{count}'\n",
    "\n",
    "    return result"
   ]
  },
  {
   "cell_type": "code",
   "execution_count": 55,
   "id": "c39341f4",
   "metadata": {},
   "outputs": [
    {
     "data": {
      "text/plain": [
       "'17213116'"
      ]
     },
     "execution_count": 55,
     "metadata": {},
     "output_type": "execute_result"
    }
   ],
   "source": [
    "solve('111111123111111')"
   ]
  },
  {
   "cell_type": "code",
   "execution_count": 56,
   "id": "dd970b6d",
   "metadata": {},
   "outputs": [],
   "source": [
    "def solve(nums: str) -> str:\n",
    "    if not nums:\n",
    "        return \"\"\n",
    "    \n",
    "    result = []          # Используем список для эффективного накопления частей результата\n",
    "    current_char = nums[0]\n",
    "    count = 1\n",
    "    \n",
    "    for i in range(1, len(nums)):\n",
    "        if nums[i] == current_char:\n",
    "            count += 1   # Увеличиваем счетчик для текущего символа\n",
    "        else:\n",
    "            result.append(f\"{current_char}{count}\")  # Добавляем группу в результат\n",
    "            current_char = nums[i]   # Начинаем новую группу\n",
    "            count = 1\n",
    "    \n",
    "    result.append(f\"{current_char}{count}\")  # Добавляем последнюю группу\n",
    "    return \"\".join(result)  # Объединяем части в строку"
   ]
  },
  {
   "cell_type": "code",
   "execution_count": 57,
   "id": "378076ae",
   "metadata": {},
   "outputs": [
    {
     "data": {
      "text/plain": [
       "'17'"
      ]
     },
     "execution_count": 57,
     "metadata": {},
     "output_type": "execute_result"
    }
   ],
   "source": [
    "solve('1111111')"
   ]
  },
  {
   "cell_type": "markdown",
   "id": "8339156d",
   "metadata": {},
   "source": [
    "2. Дана матрица: нужно найти седловую точкку, не используя цикл"
   ]
  },
  {
   "cell_type": "markdown",
   "id": "619b6523",
   "metadata": {},
   "source": [
    "Седловая точка - это такая точка, у которой максимум по столбцу и минимум по строке"
   ]
  },
  {
   "cell_type": "code",
   "execution_count": 97,
   "id": "772552a5",
   "metadata": {},
   "outputs": [
    {
     "data": {
      "text/plain": [
       "array([2, 0, 2])"
      ]
     },
     "execution_count": 97,
     "metadata": {},
     "output_type": "execute_result"
    }
   ],
   "source": [
    "matrix.argmax(axis=0)"
   ]
  },
  {
   "cell_type": "code",
   "execution_count": 98,
   "id": "93949404",
   "metadata": {},
   "outputs": [
    {
     "data": {
      "text/plain": [
       "array([6, 2, 9])"
      ]
     },
     "execution_count": 98,
     "metadata": {},
     "output_type": "execute_result"
    }
   ],
   "source": [
    "matrix[matrix.argmax(axis=0),[0,1,2]]"
   ]
  },
  {
   "cell_type": "code",
   "execution_count": 101,
   "id": "452b3816",
   "metadata": {},
   "outputs": [
    {
     "data": {
      "text/plain": [
       "array([2, 1, 0])"
      ]
     },
     "execution_count": 101,
     "metadata": {},
     "output_type": "execute_result"
    }
   ],
   "source": [
    "matrix[[0,1,2], matrix.argmin(axis=1)]"
   ]
  },
  {
   "cell_type": "code",
   "execution_count": 89,
   "id": "07abe3ee",
   "metadata": {},
   "outputs": [
    {
     "data": {
      "text/plain": [
       "array([1, 2, 1])"
      ]
     },
     "execution_count": 89,
     "metadata": {},
     "output_type": "execute_result"
    }
   ],
   "source": [
    "matrix.argmin(axis=0)"
   ]
  },
  {
   "cell_type": "code",
   "execution_count": null,
   "id": "3c803e14",
   "metadata": {},
   "outputs": [
    {
     "data": {
      "text/plain": [
       "array([[5, 2, 7],\n",
       "       [3, 1, 4],\n",
       "       [6, 0, 9]])"
      ]
     },
     "execution_count": 79,
     "metadata": {},
     "output_type": "execute_result"
    }
   ],
   "source": [
    "import numpy as np\n",
    "matrix = np.array([ [5, 2, 7], \n",
    "                    [3,1,4],\n",
    "                    [6, 0, 9]\n",
    "                    ])\n",
    "matrix"
   ]
  },
  {
   "cell_type": "markdown",
   "id": "f6d4664a",
   "metadata": {},
   "source": [
    "## Сумма диагональных элементов в матрице"
   ]
  },
  {
   "cell_type": "code",
   "execution_count": 472,
   "id": "0a4aa0d1",
   "metadata": {},
   "outputs": [],
   "source": [
    "import numpy as np"
   ]
  },
  {
   "cell_type": "code",
   "execution_count": 473,
   "id": "630ac201",
   "metadata": {},
   "outputs": [],
   "source": [
    "def sum_diag_matrix(matrix : np.array) -> int:\n",
    "    sum_main_diag = 0\n",
    "    sum_add_diag = 0\n",
    "    n = matrix.shape[0]\n",
    "    for i in range(n):\n",
    "        if i == n-1-i:\n",
    "            sum_main_diag += matrix[i][i]\n",
    "        else:\n",
    "            sum_main_diag += matrix[i][i]\n",
    "            sum_add_diag += matrix[i][n-i-1]\n",
    "\n",
    "    return sum_main_diag + sum_add_diag"
   ]
  },
  {
   "cell_type": "code",
   "execution_count": null,
   "id": "7e66c26f",
   "metadata": {},
   "outputs": [
    {
     "data": {
      "text/plain": [
       "10"
      ]
     },
     "execution_count": 479,
     "metadata": {},
     "output_type": "execute_result"
    }
   ],
   "source": [
    "matrix = np.arange(1,5).reshape(2,2)\n",
    "sum_diag_matrix(matrix) "
   ]
  },
  {
   "cell_type": "markdown",
   "id": "7407878b",
   "metadata": {},
   "source": [
    "## Максимальная сумма k подряд идущих элементов"
   ]
  },
  {
   "cell_type": "markdown",
   "id": "e3e6e6a2",
   "metadata": {},
   "source": [
    "Дан массив чисел nums и число k. Нужно вернуть максимальную сумму k подряд идущих элементов."
   ]
  },
  {
   "cell_type": "code",
   "execution_count": 489,
   "id": "d7999c48",
   "metadata": {},
   "outputs": [],
   "source": [
    "def max_sum_k_elements(arr : list, k: int) -> int:\n",
    "    l = 0\n",
    "    r = k\n",
    "    cur_sum = sum(arr[l:r])\n",
    "    max_sum = cur_sum\n",
    "    while r < len(arr):\n",
    "        max_sum = max(max_sum, cur_sum)\n",
    "        cur_sum -= arr[l]\n",
    "        cur_sum += arr[r]\n",
    "        l += 1\n",
    "        r += 1\n",
    "    return max_sum"
   ]
  },
  {
   "cell_type": "code",
   "execution_count": 490,
   "id": "79d241dd",
   "metadata": {},
   "outputs": [
    {
     "data": {
      "text/plain": [
       "18"
      ]
     },
     "execution_count": 490,
     "metadata": {},
     "output_type": "execute_result"
    }
   ],
   "source": [
    "nums = [3,2,5,9,4,1]\n",
    "max_sum_k_elements(nums,k=3)"
   ]
  },
  {
   "cell_type": "markdown",
   "id": "48226d1d",
   "metadata": {},
   "source": [
    "## Максимальное произведение k подряд идущих элементов"
   ]
  },
  {
   "cell_type": "markdown",
   "id": "66783b6d",
   "metadata": {},
   "source": [
    "Дан массив чисел nums и число k. Нужно вернуть максимальное произведение k подряд идущих элементов."
   ]
  },
  {
   "cell_type": "code",
   "execution_count": null,
   "id": "23a65637",
   "metadata": {},
   "outputs": [],
   "source": [
    "def max_product(nums, k):\n",
    "    if len(nums) < k:\n",
    "        return 0  # или другое значение, указывающее на невозможность выбрать k элементов\n",
    "    \n",
    "    # Начальное произведение первых k элементов\n",
    "    max_product = float('-inf')\n",
    "    current_product = 1\n",
    "    \n",
    "    for i in range(k):\n",
    "        current_product *= nums[i]\n",
    "    \n",
    "    max_product = current_product\n",
    "    \n",
    "    # Скользящее окно\n",
    "    for i in range(k, len(nums)):\n",
    "        if nums[i - k] != 0:  # Избегаем деления на ноль\n",
    "            current_product = (current_product // nums[i - k]) * nums[i]\n",
    "        else:  # Если элемент, который выходит из окна, равен нулю\n",
    "            current_product = 1\n",
    "            for j in range(i - k + 1, i + 1):  # Пересчитываем произведение заново\n",
    "                current_product *= nums[j]\n",
    "        \n",
    "        max_product = max(max_product, current_product)\n",
    "    \n",
    "    return max_product\n",
    "\n",
    "# Пример использования\n",
    "nums = [1, 2, 3, 4, 5]\n",
    "k = 3\n",
    "print(max_product(nums, k))  # Вывод: 60 (3*4*5)\n"
   ]
  },
  {
   "cell_type": "markdown",
   "id": "6658efa2",
   "metadata": {},
   "source": [
    "## 2 указателя"
   ]
  },
  {
   "cell_type": "code",
   "execution_count": null,
   "id": "85e7babd",
   "metadata": {},
   "outputs": [],
   "source": [
    "from typing import List\n",
    "def func(chars: List):\n",
    "    l = 0\n",
    "    r = 0\n",
    "    res = []\n",
    "    count = 0\n",
    "    while r < len(chars):\n",
    "        if chars[l] == chars[r]:\n",
    "            r += 1\n",
    "            count += 1\n",
    "        else:\n",
    "            if count > 1:\n",
    "                res.append(chars[l])\n",
    "                res.append(f\"{count}\")\n",
    "            else:\n",
    "                res.append(chars[l])\n",
    "            \n",
    "            count = 0\n",
    "            l = r\n",
    "\n",
    "    if count > 1:\n",
    "        res.extend([chars[r-1], count])\n",
    "    else:\n",
    "        res.append(chars[r-1])\n",
    "\n",
    "    return res"
   ]
  },
  {
   "cell_type": "code",
   "execution_count": 571,
   "id": "94838d13",
   "metadata": {},
   "outputs": [
    {
     "data": {
      "text/plain": [
       "['x', '2', 'y', 'z', '2']"
      ]
     },
     "execution_count": 571,
     "metadata": {},
     "output_type": "execute_result"
    }
   ],
   "source": [
    "chars = ['x','x', 'y', 'z', 'z', 'x']\n",
    "func(chars)"
   ]
  },
  {
   "cell_type": "markdown",
   "id": "d2da1bf0",
   "metadata": {},
   "source": []
  },
  {
   "cell_type": "code",
   "execution_count": null,
   "id": "82dfd929",
   "metadata": {},
   "outputs": [],
   "source": []
  },
  {
   "cell_type": "code",
   "execution_count": null,
   "id": "9b7c0e41",
   "metadata": {},
   "outputs": [],
   "source": []
  },
  {
   "cell_type": "code",
   "execution_count": null,
   "id": "bcd0dd3a",
   "metadata": {},
   "outputs": [],
   "source": []
  },
  {
   "cell_type": "markdown",
   "id": "88d31f07",
   "metadata": {},
   "source": [
    "## Sampling from Uniform distribution"
   ]
  },
  {
   "cell_type": "code",
   "execution_count": null,
   "id": "bb4bb240",
   "metadata": {},
   "outputs": [],
   "source": [
    "# Нужно реализовать аналог этой функции\n",
    "def sample(size, probs):\n",
    "    return np.random.choice(len(probs), size=size,replace=True, p = probs)"
   ]
  },
  {
   "cell_type": "code",
   "execution_count": 374,
   "id": "dc8c433f",
   "metadata": {},
   "outputs": [
    {
     "data": {
      "text/plain": [
       "array([0, 2, 1, 2, 3, 1, 2, 2, 2, 3])"
      ]
     },
     "execution_count": 374,
     "metadata": {},
     "output_type": "execute_result"
    }
   ],
   "source": [
    "probs = [0.1, 0.4, 0.2, 0.3]\n",
    "size = 10\n",
    "sample(size,probs)"
   ]
  },
  {
   "cell_type": "code",
   "execution_count": 375,
   "id": "a2d7d7ea",
   "metadata": {},
   "outputs": [],
   "source": [
    "import random\n",
    "def cum_sum(probs):\n",
    "    p = 0.\n",
    "    res = []\n",
    "    for i in probs:\n",
    "        p += i\n",
    "        res.append(p)\n",
    "    return res\n",
    "def sample(size,probs):\n",
    "    cums = cum_sum(probs)\n",
    "    results = []\n",
    "    for i in range(size):\n",
    "        r = random.uniform(0,1)\n",
    "        for j, c in enumerate(cums):\n",
    "            if r <= c:\n",
    "                results.append(j)\n",
    "                break\n",
    "    return results"
   ]
  },
  {
   "cell_type": "markdown",
   "id": "7a3a5588",
   "metadata": {},
   "source": [
    "## K Ближайших соседей"
   ]
  },
  {
   "cell_type": "code",
   "execution_count": null,
   "id": "bcddfc6d",
   "metadata": {},
   "outputs": [],
   "source": [
    "def find_k_closest(a, index, k):\n",
    "    n = len(a)\n",
    "    l = index\n",
    "    r = index + 1\n",
    "    res = []\n",
    "    while len(res) < k:\n",
    "        if r >= n:\n",
    "            res.append(a[l])\n",
    "            l -= 1\n",
    "        elif l < 0:\n",
    "            res.append(a[r])\n",
    "            r += 1\n",
    "        else:\n",
    "            diff_left = abs(a[l] - a[index])\n",
    "            diff_right = abs(a[r] - a[index])\n",
    "            if diff_left <= diff_right:\n",
    "                res.append(a[l])\n",
    "                l -= 1\n",
    "            else:\n",
    "                res.append(a[r])\n",
    "                r += 1\n",
    "    return res"
   ]
  },
  {
   "cell_type": "code",
   "execution_count": 396,
   "id": "16e9719d",
   "metadata": {},
   "outputs": [
    {
     "name": "stdout",
     "output_type": "stream",
     "text": [
      "[5, 3, 7]\n"
     ]
    }
   ],
   "source": [
    "arr = [1, 3, 5, 7, 9]\n",
    "index = 2  # Элемент 5\n",
    "k = 3\n",
    "print(find_k_closest(arr, index, k))  # Вывод: [5, 3, 7]"
   ]
  },
  {
   "cell_type": "markdown",
   "id": "2bf35dbf",
   "metadata": {},
   "source": [
    "## Поиск подстроки в строке без учета порядка букв"
   ]
  },
  {
   "cell_type": "markdown",
   "id": "b61908be",
   "metadata": {},
   "source": [
    "Дан текст T и строка S. Требуется найти подстроку S в T такую, что она совпадает с S с точностью до перестановки букв. В качестве ответа стоит вернуть индекс первого вхождения, или −1, если такая подстрока S не нашлась."
   ]
  },
  {
   "cell_type": "code",
   "execution_count": 434,
   "id": "6db3e428",
   "metadata": {},
   "outputs": [],
   "source": [
    "def findSubstring(t, s):\n",
    "    hash_table_s = {}\n",
    "    for char in s:\n",
    "            hash_table_s[char] = hash_table_s.get(char, 0) + 1\n",
    "    for i in range(len(t)-len(s) + 1):\n",
    "        hash_table_t = {}\n",
    "        for char in t[i:i+len(s)]:\n",
    "             hash_table_t[char] = hash_table_t.get(char, 0) + 1\n",
    "\n",
    "        if hash_table_t == hash_table_s:\n",
    "            return i\n",
    "    return -1"
   ]
  },
  {
   "cell_type": "code",
   "execution_count": 435,
   "id": "18622e73",
   "metadata": {},
   "outputs": [
    {
     "data": {
      "text/plain": [
       "1"
      ]
     },
     "execution_count": 435,
     "metadata": {},
     "output_type": "execute_result"
    }
   ],
   "source": [
    "findSubstring(\"abcdefg\", \"bcd\")"
   ]
  },
  {
   "cell_type": "markdown",
   "id": "e0dc70fe",
   "metadata": {},
   "source": [
    "## Контейнер с наибольшим количеством воды"
   ]
  },
  {
   "cell_type": "code",
   "execution_count": 428,
   "id": "4b40f13c",
   "metadata": {},
   "outputs": [],
   "source": [
    "def max_area(height):\n",
    "    n = len(height)\n",
    "    l,r = 0, n - 1\n",
    "    max_area = 0\n",
    "    while l <= r:\n",
    "        h = min(height[l], height[r])\n",
    "        w = r - l\n",
    "        max_area = max(max_area, w*h)\n",
    "        \n",
    "        if height[l] <= height[r]:\n",
    "            l += 1\n",
    "        else:\n",
    "            r -= 1\n",
    "    return max_area"
   ]
  },
  {
   "cell_type": "code",
   "execution_count": 429,
   "id": "d8cd2d15",
   "metadata": {},
   "outputs": [
    {
     "data": {
      "text/plain": [
       "49"
      ]
     },
     "execution_count": 429,
     "metadata": {},
     "output_type": "execute_result"
    }
   ],
   "source": [
    "height = [1,8,6,2,5,4,8,3,7]\n",
    "max_area(height)"
   ]
  },
  {
   "cell_type": "markdown",
   "id": "bb0bb3b3",
   "metadata": {},
   "source": [
    "## Is Anagram"
   ]
  },
  {
   "cell_type": "code",
   "execution_count": 437,
   "id": "ca9fef9f",
   "metadata": {},
   "outputs": [],
   "source": [
    "class Solution:\n",
    "    def isAnagram(self, s:str, t:str) -> bool:\n",
    "        count_of_laters = 26\n",
    "        lst_s = [0]*count_of_laters\n",
    "        lst_t = [0]*count_of_laters\n",
    "\n",
    "        for char in s:\n",
    "            lst_s[ord(char) - ord('a')] += 1\n",
    "\n",
    "        for char in t:\n",
    "            lst_t[ord(char) - ord('a')] += 1\n",
    "        \n",
    "        if lst_s == lst_t:\n",
    "            return True\n",
    "        else:\n",
    "            return False"
   ]
  },
  {
   "cell_type": "code",
   "execution_count": null,
   "id": "d86c77ec",
   "metadata": {},
   "outputs": [],
   "source": []
  },
  {
   "cell_type": "markdown",
   "id": "727c28b5",
   "metadata": {},
   "source": [
    "## №1 Подотрезок"
   ]
  },
  {
   "cell_type": "markdown",
   "id": "36e13fd0",
   "metadata": {},
   "source": [
    "Задан массив a из n целых чисел. Подотрезком будем называть последовательность из одного и более подряд идуших элементов массива. Подотрезок будем называть k-хорошим, если в нем не более k различных чисел. Найдите длину наибольшего k-хорошего подотрезка."
   ]
  },
  {
   "cell_type": "code",
   "execution_count": 2,
   "id": "b9a478f6",
   "metadata": {},
   "outputs": [
    {
     "data": {
      "text/plain": [
       "8"
      ]
     },
     "execution_count": 2,
     "metadata": {},
     "output_type": "execute_result"
    }
   ],
   "source": [
    "a = [1,2,3,7,8,9,1,2,3,4,5,6,7,8]\n",
    "from typing import Dict, List\n",
    "class Solution:\n",
    "    def subCut(self, a: List[int]) -> int:\n",
    "        num = 1\n",
    "        stack = []\n",
    "        n = len(a)\n",
    "        for i in range(1,n):\n",
    "            if a[i] - a[i-1] == 1:\n",
    "                num += 1\n",
    "            else:\n",
    "                stack.append(num)\n",
    "                num = 1\n",
    "        stack.append(num)\n",
    "        return max(stack)\n",
    "\n",
    "sol = Solution()\n",
    "sol.subCut(a) "
   ]
  },
  {
   "cell_type": "markdown",
   "id": "cd8d0fee",
   "metadata": {},
   "source": [
    "#### Найти подотрезок"
   ]
  },
  {
   "cell_type": "markdown",
   "id": "5247a9f9",
   "metadata": {},
   "source": [
    "Найти подстроку максимальной длинны все символы которой будут уникальными"
   ]
  },
  {
   "cell_type": "code",
   "execution_count": null,
   "id": "22eb29ed",
   "metadata": {},
   "outputs": [],
   "source": [
    "class Solution:\n",
    "    def subCut(self, s: str) -> str:\n",
    "        q = {}\n",
    "        left = 0\n",
    "        n = len(s)\n",
    "        for right in range(n):\n",
    "            if char not in q:\n",
    "                q.append(char)\n",
    "                s_ += char\n",
    "            else: \n",
    "                return s_\n",
    "        return s_"
   ]
  },
  {
   "cell_type": "code",
   "execution_count": 80,
   "id": "c7437a2f",
   "metadata": {},
   "outputs": [
    {
     "data": {
      "text/plain": [
       "'ab'"
      ]
     },
     "execution_count": 80,
     "metadata": {},
     "output_type": "execute_result"
    }
   ],
   "source": [
    "s = 'abbdrfp'\n",
    "sol = Solution()\n",
    "sol.subCut(s)"
   ]
  },
  {
   "cell_type": "markdown",
   "id": "674fe1af",
   "metadata": {},
   "source": [
    "Нужно найти максимальное число одинаковых подряд идущих символов в строке."
   ]
  },
  {
   "cell_type": "code",
   "execution_count": 88,
   "id": "814c8c31",
   "metadata": {},
   "outputs": [],
   "source": [
    "def max_consecutive_chars(s):\n",
    "    if not s:  # Пустая строка\n",
    "        return 0\n",
    "        \n",
    "    max_len = 1\n",
    "    current_len = 1\n",
    "    \n",
    "    for i in range(1, len(s)):\n",
    "        if s[i] == s[i-1]:\n",
    "            current_len += 1\n",
    "            max_len = max(max_len, current_len)\n",
    "        else:\n",
    "            current_len = 1  # Сброс при смене символа\n",
    "            \n",
    "    return max_len"
   ]
  },
  {
   "cell_type": "code",
   "execution_count": null,
   "id": "5c18db0c",
   "metadata": {},
   "outputs": [],
   "source": [
    "def max_consecutive_chars(s):\n",
    "    max_count = 0\n",
    "    i = 0\n",
    "    n = len(s)\n",
    "    \n",
    "    while i < n:\n",
    "        j = i + 1\n",
    "        # Пропускаем все одинаковые символы\n",
    "        while j < n and s[j] == s[i]:\n",
    "            j += 1\n",
    "        max_count = max(max_count, j - i)\n",
    "        i = j  # Перескакиваем на следующий блок\n",
    "        \n",
    "    return max_count"
   ]
  },
  {
   "cell_type": "code",
   "execution_count": 89,
   "id": "01ec6264",
   "metadata": {},
   "outputs": [
    {
     "data": {
      "text/plain": [
       "11"
      ]
     },
     "execution_count": 89,
     "metadata": {},
     "output_type": "execute_result"
    }
   ],
   "source": [
    "s = 'aaaaaaaaaaa'\n",
    "max_consecutive_chars(s)"
   ]
  },
  {
   "cell_type": "markdown",
   "id": "157120ff",
   "metadata": {},
   "source": [
    "### Дан массив целых чисел arr и целое число X. Определите, существует ли в массиве такой непрерывный подмассив, что сумма его элементов равна X."
   ]
  },
  {
   "cell_type": "code",
   "execution_count": null,
   "id": "9627a7c8",
   "metadata": {},
   "outputs": [
    {
     "name": "stdout",
     "output_type": "stream",
     "text": [
      "Найдены подмассивы:\n",
      "[3, 4]\n",
      "[3, 4, -7, 1, 3, 3]\n",
      "[1, 3, 3]\n",
      "[3, 3, 1]\n"
     ]
    }
   ],
   "source": [
    "def find_subarrays_with_sum(arr, X):\n",
    "    prefix_sum = 0\n",
    "    prefix_map = {}  \n",
    "    prefix_map[0] = [-1]  # Базовый случай для суммы 0\n",
    "    result = []\n",
    "\n",
    "    for i, num in enumerate(arr):\n",
    "        prefix_sum += num\n",
    "        target = prefix_sum - X\n",
    "        \n",
    "        # Проверяем наличие target в словаре\n",
    "        if target in prefix_map:\n",
    "            for start_idx in prefix_map[target]:\n",
    "                result.append(arr[start_idx + 1 : i + 1])\n",
    "        \n",
    "        # Обновляем словарь для текущей префиксной суммы\n",
    "        if prefix_sum in prefix_map:\n",
    "            prefix_map[prefix_sum].append(i)\n",
    "        else:\n",
    "            prefix_map[prefix_sum] = [i]\n",
    "    \n",
    "    return result\n",
    "\n",
    "# Пример использования\n",
    "arr = [3, 4, -7, 1, 3, 3, 1, -4]\n",
    "X = 7\n",
    "result = find_subarrays_with_sum(arr, X)\n",
    "\n",
    "if result:\n",
    "    print(\"Найдены подмассивы:\")\n",
    "    for subarray in result:\n",
    "        print(subarray)\n",
    "else:\n",
    "    print(\"Подмассив не найден\")"
   ]
  },
  {
   "cell_type": "code",
   "execution_count": 109,
   "id": "d295c6f6",
   "metadata": {},
   "outputs": [
    {
     "data": {
      "text/plain": [
       "[[1, 3, 3], [3, 3, 1]]"
      ]
     },
     "execution_count": 109,
     "metadata": {},
     "output_type": "execute_result"
    }
   ],
   "source": [
    "a = [1000, 2000, -7, 1, 3, 3, 1, -4]\n",
    "x = 7\n",
    "find_subarrays_with_sum(a,x)"
   ]
  },
  {
   "cell_type": "markdown",
   "id": "9c6f7f7e",
   "metadata": {},
   "source": [
    "Есть упорядоченный массив целых чисел arr, нужно определить, есть ли в нём число X."
   ]
  },
  {
   "cell_type": "code",
   "execution_count": null,
   "id": "9da3d958",
   "metadata": {},
   "outputs": [],
   "source": [
    "def find_num(arr:list, x:int):\n",
    "    \"\"\"\n",
    "    arr - sorted list\n",
    "    \"\"\"\n",
    "    n = len(arr)\n",
    "    left, right = 0, n-1\n",
    "    while left <= right:\n",
    "        mid = (left + right) // 2\n",
    "        if arr[mid] == x:\n",
    "            return True\n",
    "        if arr[mid] < x:\n",
    "            left = mid + 1\n",
    "        if arr[mid] > x:\n",
    "            right = mid\n",
    "    return False"
   ]
  },
  {
   "cell_type": "markdown",
   "id": "24e5117a",
   "metadata": {},
   "source": [
    "## Удалить последнее повторяющееся значение из списка"
   ]
  },
  {
   "cell_type": "code",
   "execution_count": null,
   "id": "0ff606fc",
   "metadata": {},
   "outputs": [],
   "source": [
    "class Solution:\n",
    "    def delete_last_duplicate(self, array: List) -> List:\n",
    "        hash_table_1 = {}\n",
    "        for i, num in enumerate(array):\n",
    "            hash_table_1[num] = hash_table_1.get(num, 0) + 1\n",
    "        new_array = array\n",
    "        for i in array:\n",
    "            if hash_table_1[array[i]] > 1:\n",
    "                new_array =  new_array[:i] + ['duplicate'] + new_array[i+1:]\n",
    "        return [i for i in new_array if i != 'duplicate']"
   ]
  },
  {
   "cell_type": "code",
   "execution_count": 397,
   "id": "e5b38b65",
   "metadata": {},
   "outputs": [
    {
     "data": {
      "text/plain": [
       "[1, 3, 5, 6]"
      ]
     },
     "execution_count": 397,
     "metadata": {},
     "output_type": "execute_result"
    }
   ],
   "source": [
    "sol = Solution()\n",
    "a = [1,2,2,3,4,4,5,6]\n",
    "sol.delete_last_duplicate(a)"
   ]
  },
  {
   "cell_type": "markdown",
   "id": "b8ae94f8",
   "metadata": {},
   "source": [
    "## Максимальная сумма подмассива (алгоритм Кадане)"
   ]
  },
  {
   "cell_type": "code",
   "execution_count": 403,
   "id": "543e1554",
   "metadata": {},
   "outputs": [],
   "source": [
    "def max_subarray(nums):\n",
    "    max_sum = current_sum = nums[0]\n",
    "    for num in nums[1:]:\n",
    "        current_sum = max(num, current_sum + num)\n",
    "        max_sum = max(max_sum, current_sum)\n",
    "    return max_sum"
   ]
  },
  {
   "cell_type": "code",
   "execution_count": 404,
   "id": "f25c3531",
   "metadata": {},
   "outputs": [
    {
     "data": {
      "text/plain": [
       "6"
      ]
     },
     "execution_count": 404,
     "metadata": {},
     "output_type": "execute_result"
    }
   ],
   "source": [
    "sub = [-2, 1, -3, 4, -1, 2, 1, -5, 4]\n",
    "max_subarray(sub)"
   ]
  },
  {
   "cell_type": "markdown",
   "id": "1b76b7ed",
   "metadata": {},
   "source": [
    "## Слияние интервалов"
   ]
  },
  {
   "cell_type": "code",
   "execution_count": 474,
   "id": "85bcdf08",
   "metadata": {},
   "outputs": [],
   "source": [
    "# Объедините пересекающиеся интервалы.\n",
    "def merge_intervals(intervals: List[List]) -> List[List]:\n",
    "    sorted_intervals = sorted(intervals, key = lambda x: x[0])\n",
    "    current_interval = sorted_intervals[0]\n",
    "    lst = []\n",
    "    n = len(sorted_intervals)\n",
    "    for i in range(1, n):\n",
    "        if (current_interval[1] >= sorted_intervals[i][0])&(current_interval[1] <= sorted_intervals[i][1]):\n",
    "            current_interval = [current_interval[0], sorted_intervals[i][1]]\n",
    "            lst.append(current_interval)\n",
    "        elif (current_interval[1] > sorted_intervals[i][1]):\n",
    "            continue\n",
    "        else:\n",
    "            current_interval = sorted_intervals[i]\n",
    "            lst.append(current_interval)\n",
    "    return lst"
   ]
  },
  {
   "cell_type": "code",
   "execution_count": 477,
   "id": "c18676dd",
   "metadata": {},
   "outputs": [
    {
     "data": {
      "text/plain": [
       "[[1, 10], [15, 18]]"
      ]
     },
     "execution_count": 477,
     "metadata": {},
     "output_type": "execute_result"
    }
   ],
   "source": [
    "# a = [[1,5], [4,10], [11,29000], [15,18]]\n",
    "a = [[1,8], [2,6], [8,10], [15,18]]\n",
    "merge_intervals(a)"
   ]
  },
  {
   "cell_type": "code",
   "execution_count": null,
   "id": "ade96a11",
   "metadata": {},
   "outputs": [],
   "source": [
    "def merge_intervals(intervals: List[List]) -> List[List]:\n",
    "    "
   ]
  },
  {
   "cell_type": "markdown",
   "id": "3d551ffd",
   "metadata": {},
   "source": [
    "1. Задача с двумя максимумами - Дан массив целых чисел, нужно вернуть список с двумя максимумами. В оптимальном решении нужно было пройтись по массиву только 1 раз.\n",
    "\n",
    "2. Дан список из нулей и единиц, нужно вернуть длину минимального подмассива, в котором сумма >= 3."
   ]
  },
  {
   "cell_type": "code",
   "execution_count": 125,
   "id": "aca3caf2",
   "metadata": {},
   "outputs": [],
   "source": [
    "def sub_array(lst: List[List]) -> List[List]:\n",
    "    if sum(lst) < 3:\n",
    "        return 0\n",
    "    min_length = float('inf')\n",
    "    left = 0\n",
    "    n = len(lst)\n",
    "    current_sum = 0 \n",
    "    for right in range(n):\n",
    "        current_sum += lst[right]\n",
    "\n",
    "        while (current_sum >= 3) and (right >= left):\n",
    "            min_length = min(min_length, right-left+1)\n",
    "            current_sum -= lst[left]\n",
    "            left += 1\n",
    "    return min_length\n"
   ]
  },
  {
   "cell_type": "code",
   "execution_count": 126,
   "id": "f21dba52",
   "metadata": {},
   "outputs": [
    {
     "data": {
      "text/plain": [
       "3"
      ]
     },
     "execution_count": 126,
     "metadata": {},
     "output_type": "execute_result"
    }
   ],
   "source": [
    "a = [1,0,0,1,1,0,1,1,1,0,1,0,1,0,1]\n",
    "sub_array(a)"
   ]
  },
  {
   "cell_type": "code",
   "execution_count": 117,
   "id": "990ddc6c",
   "metadata": {},
   "outputs": [],
   "source": [
    "def min_subarray_length(arr: list) -> int:\n",
    "    min_length = float('inf')\n",
    "    left = 0\n",
    "    current_sum = 0\n",
    "    \n",
    "    for right in range(len(arr)):\n",
    "        current_sum += arr[right]  # Расширяем окно справа\n",
    "        \n",
    "        # Сужаем окно слева, пока сумма >= 3\n",
    "        while current_sum >= 3 and left <= right:\n",
    "            min_length = min(min_length, right - left + 1)\n",
    "            current_sum -= arr[left]\n",
    "            left += 1\n",
    "    \n",
    "    return min_length if min_length != float('inf') else 0"
   ]
  },
  {
   "cell_type": "code",
   "execution_count": 122,
   "id": "bec73839",
   "metadata": {},
   "outputs": [
    {
     "data": {
      "text/plain": [
       "4"
      ]
     },
     "execution_count": 122,
     "metadata": {},
     "output_type": "execute_result"
    }
   ],
   "source": [
    "a = [1,0,0,1,1,0,1,0,1,0,1,0,1]\n",
    "min_subarray_length(a)"
   ]
  },
  {
   "cell_type": "code",
   "execution_count": 123,
   "id": "a574f1ad",
   "metadata": {},
   "outputs": [
    {
     "data": {
      "text/plain": [
       "4"
      ]
     },
     "execution_count": 123,
     "metadata": {},
     "output_type": "execute_result"
    }
   ],
   "source": [
    "sub_array(a)"
   ]
  },
  {
   "cell_type": "code",
   "execution_count": null,
   "id": "b648780f",
   "metadata": {},
   "outputs": [],
   "source": [
    "from typing import List\n",
    "def two_max(lst: List[List]) -> List[List]:\n",
    "    if len(lst)==0:\n",
    "        return []\n",
    "    if len(lst)==1:\n",
    "        return lst\n",
    "    stack = [lst[0],lst[1]]\n",
    "    n = len(lst)\n",
    "    for i in range(2,n):\n",
    "        if (lst[i] > stack[0]) or (lst[i] > stack[1]):\n",
    "            if stack[0] > stack[1]:\n",
    "                stack[1] = lst[i]\n",
    "            else:\n",
    "                stack[0] = lst[i]\n",
    "    return stack"
   ]
  },
  {
   "cell_type": "markdown",
   "id": "fcf3a42c",
   "metadata": {},
   "source": [
    "Дан отсортированный по неубыванию массив целых чисел **a**, индекс элемента **index** и целое число **k**. \n",
    "\n",
    "Необходимо вернуть в любом порядке **k** чисел из массива, которые являются ближайшими по значению к элементу a[index]. "
   ]
  },
  {
   "cell_type": "code",
   "execution_count": 47,
   "id": "4de3f3e3",
   "metadata": {},
   "outputs": [],
   "source": [
    "from typing import List\n",
    "def k_nearest_neighbours(nums: List, k: int, index: int) -> List:\n",
    "\n",
    "    if index - k <= 0:\n",
    "        left = 0\n",
    "    else:\n",
    "        left = index - k\n",
    "    n = len(nums)\n",
    "    right = left + k - 1\n",
    "    min_diff = nums[right] - nums[left]\n",
    "    results = []\n",
    "    while (left <= index) and (right <= n - 1):\n",
    "        if min_diff  >= nums[right] - nums[left]:\n",
    "            results.append(nums[left:right + 1])\n",
    "            min_diff = nums[right] - nums[left]\n",
    "        \n",
    "        left += 1\n",
    "        right += 1\n",
    "    if (len(results) > 1) and (results[0][-1] - results[0][0] != results[1][-1] - results[1][0]):\n",
    "        return results[1:]\n",
    "    return results"
   ]
  },
  {
   "cell_type": "code",
   "execution_count": 50,
   "id": "f7578947",
   "metadata": {},
   "outputs": [
    {
     "data": {
      "text/plain": [
       "[[1, 100, 101]]"
      ]
     },
     "execution_count": 50,
     "metadata": {},
     "output_type": "execute_result"
    }
   ],
   "source": [
    "nums = [1, 100, 101, 102]\n",
    "k = 3\n",
    "index = 0\n",
    "k_nearest_neighbours(nums,k,index)"
   ]
  },
  {
   "cell_type": "code",
   "execution_count": null,
   "id": "ec1c3861",
   "metadata": {},
   "outputs": [],
   "source": []
  },
  {
   "cell_type": "markdown",
   "id": "ba0fcaea-1250-4441-9fab-cbe431345128",
   "metadata": {},
   "source": [
    "# Решение задач (LeetCode)"
   ]
  },
  {
   "cell_type": "markdown",
   "id": "39e2b08f-eaba-46c0-b7a9-0e304e25addb",
   "metadata": {},
   "source": [
    "## 1. Two Sum"
   ]
  },
  {
   "cell_type": "markdown",
   "id": "7a825d8b-6afd-4386-a61d-18518454a79a",
   "metadata": {},
   "source": [
    "Brute Force"
   ]
  },
  {
   "cell_type": "code",
   "execution_count": 50,
   "id": "0d5e0cad-e73c-4962-95f8-0e777d09bf62",
   "metadata": {},
   "outputs": [],
   "source": [
    "from typing import Dict, List\n",
    "class Solution:\n",
    "    def twoSum(self, nums: List[int], target: int) -> List[int]:\n",
    "        results=[]\n",
    "        for i in range(len(nums)):\n",
    "            for j in range(i+1, len(nums)):\n",
    "                if nums[i] + nums[j] == target:\n",
    "                    results.append([i,j])\n",
    "        return results"
   ]
  },
  {
   "cell_type": "code",
   "execution_count": null,
   "id": "2c20a394-c54c-40a2-b594-6034d2477bae",
   "metadata": {},
   "outputs": [
    {
     "data": {
      "text/plain": [
       "[[0, 1], [3, 4]]"
      ]
     },
     "execution_count": 51,
     "metadata": {},
     "output_type": "execute_result"
    }
   ],
   "source": [
    "sol = Solution()\n",
    "sol.twoSum(nums = [7,2,3,4,5],target=9)"
   ]
  },
  {
   "cell_type": "markdown",
   "id": "34f2bf64-4ea5-4b63-9449-18d36bfd606a",
   "metadata": {},
   "source": [
    "Использование хэш-таблицы (словаря)"
   ]
  },
  {
   "cell_type": "code",
   "execution_count": 52,
   "id": "1cd8a012-1e24-481e-a9e6-9a41dcfe4ec1",
   "metadata": {},
   "outputs": [],
   "source": [
    "class Solution1:\n",
    "    def twoSum(self, nums: List[int], target: int) -> List[int]:\n",
    "        hash_table = {}\n",
    "        results = []\n",
    "        for i, num in enumerate(nums):\n",
    "            complement = target - num\n",
    "            if complement in hash_table:\n",
    "                results.append([hash_table[complement], i])\n",
    "            hash_table[num] = i\n",
    "        return results"
   ]
  },
  {
   "cell_type": "code",
   "execution_count": 53,
   "id": "65ba4b11-9870-4e5f-a026-c1ba71c7cc79",
   "metadata": {},
   "outputs": [
    {
     "data": {
      "text/plain": [
       "[[0, 1], [3, 4], [2, 5]]"
      ]
     },
     "execution_count": 53,
     "metadata": {},
     "output_type": "execute_result"
    }
   ],
   "source": [
    "sol = Solution1()\n",
    "sol.twoSum(nums = [7,2,3,4,5,6],target=9)"
   ]
  },
  {
   "cell_type": "markdown",
   "id": "002a20cb-5728-495a-926c-ec1d89bbb437",
   "metadata": {},
   "source": [
    "Использование двух указателей (для отсортированного массива)"
   ]
  },
  {
   "cell_type": "code",
   "execution_count": 54,
   "id": "9ebf9ae6-6dca-4bb8-8591-8699a568bcba",
   "metadata": {},
   "outputs": [],
   "source": [
    "from typing import Dict, List,Optional\n",
    "class Solution2:\n",
    "    def twoSum(self, nums: List[int], target: int) -> List[int]:\n",
    "        nums_sorted = sorted(nums)\n",
    "        left, right = 0, len(nums_sorted) - 1\n",
    "        while left < right:\n",
    "            current_sum = nums_sorted[left] + nums_sorted[right]\n",
    "            if current_sum == target:\n",
    "                # Находим индексы в исходном массиве\n",
    "                index1 = nums.index(nums_sorted[left])\n",
    "                index2 = nums.index(nums_sorted[right])\n",
    "                return [index1, index2]\n",
    "            elif current_sum < target:\n",
    "                left += 1\n",
    "            else:\n",
    "                right -= 1\n",
    "        return None"
   ]
  },
  {
   "cell_type": "code",
   "execution_count": 55,
   "id": "6174eec8",
   "metadata": {},
   "outputs": [
    {
     "data": {
      "text/plain": [
       "[1, 0]"
      ]
     },
     "execution_count": 55,
     "metadata": {},
     "output_type": "execute_result"
    }
   ],
   "source": [
    "sol = Solution2()\n",
    "sol.twoSum(nums = [7,2,3,4,5,6],target=9)"
   ]
  },
  {
   "cell_type": "markdown",
   "id": "d975dcdf",
   "metadata": {},
   "source": [
    "## 2. Add Two Numbers"
   ]
  },
  {
   "cell_type": "code",
   "execution_count": 56,
   "id": "8a94bcfd",
   "metadata": {},
   "outputs": [
    {
     "name": "stdout",
     "output_type": "stream",
     "text": [
      "7 -> 0 -> 8 -> "
     ]
    }
   ],
   "source": [
    "from typing import Dict, List,Optional\n",
    "class ListNode:\n",
    "    def __init__(self, val=0, next=None):\n",
    "        self.val = val\n",
    "        self.next = next\n",
    "\n",
    "class Solution:\n",
    "    def addTwoNumbers(self, l1: Optional[ListNode], l2: Optional[ListNode]) -> Optional[ListNode]:\n",
    "        dummy = ListNode()  # Фиктивный узел для упрощения кода\n",
    "        current = dummy\n",
    "        carry = 0  # Переменная для хранения переноса\n",
    "\n",
    "        while l1 or l2 or carry:\n",
    "            # Получаем значения текущих узлов\n",
    "            val1 = l1.val if l1 else 0\n",
    "            val2 = l2.val if l2 else 0\n",
    "\n",
    "            # Суммируем значения и перенос\n",
    "            total = val1 + val2 + carry\n",
    "            carry = total // 10  # Обновляем перенос\n",
    "            current.next = ListNode(total % 10) # Создаем новый узел для результата\n",
    "            current = current.next # Перемещаем указатель\n",
    "\n",
    "            # Переходим к следующим узлам\n",
    "            if l1:\n",
    "                l1 = l1.next\n",
    "            if l2:\n",
    "                l2 = l2.next\n",
    "                \n",
    "        return dummy.next  # Возвращаем результат, начиная с первого узла\n",
    "\n",
    "# Пример использования:\n",
    "# Создаем связные списки: 2 -> 4 -> 3 (число 342) и 5 -> 6 -> 4 (число 465)\n",
    "l1 = ListNode(2, ListNode(4, ListNode(3)))\n",
    "l2 = ListNode(5, ListNode(6, ListNode(4)))\n",
    "# инициализируем экземпляр класса\n",
    "sol = Solution()\n",
    "result = sol.addTwoNumbers(l1, l2)\n",
    "\n",
    "# Выводим результат: 7 -> 0 -> 8 (число 807)\n",
    "while result:\n",
    "    print(result.val, end=\" -> \")\n",
    "    result = result.next\n",
    "# Output: 7 -> 0 -> 8 ->"
   ]
  },
  {
   "cell_type": "code",
   "execution_count": 57,
   "id": "ffdb5e24",
   "metadata": {},
   "outputs": [
    {
     "name": "stdout",
     "output_type": "stream",
     "text": [
      "7 -> 0 -> 8 -> "
     ]
    }
   ],
   "source": [
    "from typing import Dict, List,Optional\n",
    "class ListNode:\n",
    "    def __init__(self, val=0, next=None):\n",
    "        self.val = val\n",
    "        self.next = next\n",
    "\n",
    "class Solution:\n",
    "    def addTwoNumbers(self, l1: Optional[ListNode], \n",
    "                      l2: Optional[ListNode],\n",
    "                      carry:int = 0) -> Optional[ListNode]:\n",
    " \n",
    "        if not l1 and not l2 and carry == 0:\n",
    "            return None\n",
    "\n",
    "        val1 = l1.val if l1 else 0\n",
    "        val2 = l2.val if l2 else 0\n",
    "\n",
    "        total = val1 + val2 + carry\n",
    "        carry = total // 10\n",
    "        result_node = ListNode(total % 10)\n",
    "\n",
    "        next1 = l1.next if l1 else None\n",
    "        next2 = l2.next if l2 else None\n",
    "        result_node.next = self.addTwoNumbers(next1, next2, carry)\n",
    "\n",
    "        return result_node\n",
    "\n",
    "# Пример использования:\n",
    "l1 = ListNode(2, ListNode(4, ListNode(3)))\n",
    "l2 = ListNode(5, ListNode(6, ListNode(4)))\n",
    "sol = Solution()\n",
    "result = sol.addTwoNumbers(l1, l2)\n",
    "\n",
    "# Выводим результат: 7 -> 0 -> 8 (число 807)\n",
    "while result:\n",
    "    print(result.val, end=\" -> \")\n",
    "    result = result.next\n",
    "# Output: 7 -> 0 -> 8 ->"
   ]
  },
  {
   "cell_type": "markdown",
   "id": "68eb989e",
   "metadata": {},
   "source": [
    "## 9. Palindrome Number"
   ]
  },
  {
   "cell_type": "markdown",
   "id": "b2357eca",
   "metadata": {},
   "source": [
    "Given an integer x, return true if x is a palindrome, and false otherwise"
   ]
  },
  {
   "cell_type": "markdown",
   "id": "82a4af9a",
   "metadata": {},
   "source": [
    "Способ 1: Преобразование числа в строку и сравнение с обратной строкой"
   ]
  },
  {
   "cell_type": "code",
   "execution_count": 58,
   "id": "5dd56408",
   "metadata": {},
   "outputs": [],
   "source": [
    "class Solution:\n",
    "    def isPalindrome(self, x: int) -> bool:\n",
    "        # отрицательные числа не могут быть палиндромами\n",
    "        if x < 0:\n",
    "            return False\n",
    "        return str(x) == str(x)[::-1]"
   ]
  },
  {
   "cell_type": "code",
   "execution_count": 59,
   "id": "dcba5d89",
   "metadata": {},
   "outputs": [
    {
     "data": {
      "text/plain": [
       "True"
      ]
     },
     "execution_count": 59,
     "metadata": {},
     "output_type": "execute_result"
    }
   ],
   "source": [
    "x = 111222111\n",
    "palindropme = Solution()\n",
    "palindropme.isPalindrome(x)"
   ]
  },
  {
   "cell_type": "markdown",
   "id": "0bec8ac1",
   "metadata": {},
   "source": [
    "Способ 2: Решение без преобразования в строку (математический подход)"
   ]
  },
  {
   "cell_type": "code",
   "execution_count": 60,
   "id": "82c2a839",
   "metadata": {},
   "outputs": [],
   "source": [
    "class Solution:\n",
    "    def isPalindrome(self, x: int) -> bool:\n",
    "        # Отрицательные числа не могут быть палиндромами\n",
    "        if x < 0:\n",
    "            return False\n",
    "        original = x\n",
    "        reversed_num = 0\n",
    "        while x > 0:\n",
    "            digit = x % 10  # Получаем последнюю цифру\n",
    "            reversed_num = reversed_num * 10 + digit  # Добавляем её к обратному числу\n",
    "            x = x // 10  # Убираем последнюю цифру из исходного числа\n",
    "        return original == reversed_num"
   ]
  },
  {
   "cell_type": "code",
   "execution_count": 61,
   "id": "79dec12f",
   "metadata": {},
   "outputs": [
    {
     "data": {
      "text/plain": [
       "True"
      ]
     },
     "execution_count": 61,
     "metadata": {},
     "output_type": "execute_result"
    }
   ],
   "source": [
    "x = 111222111\n",
    "palindropme = Solution()\n",
    "palindropme.isPalindrome(x)"
   ]
  },
  {
   "cell_type": "markdown",
   "id": "de2ef47c",
   "metadata": {},
   "source": [
    "Способ 3: Использование двух указателей (для строки)"
   ]
  },
  {
   "cell_type": "code",
   "execution_count": 62,
   "id": "4eddfcb0",
   "metadata": {},
   "outputs": [],
   "source": [
    "class Solution:\n",
    "    def isPalindrome(self, x: int) -> bool:\n",
    "        if x < 0:\n",
    "            return False\n",
    "        s = str(x)\n",
    "        left, right = 0, len(s) - 1\n",
    "        while left < right:\n",
    "            if s[left] != s[right]:\n",
    "                return False\n",
    "            left += 1\n",
    "            right -= 1\n",
    "        return True"
   ]
  },
  {
   "cell_type": "code",
   "execution_count": 63,
   "id": "4dd436a0",
   "metadata": {},
   "outputs": [
    {
     "data": {
      "text/plain": [
       "True"
      ]
     },
     "execution_count": 63,
     "metadata": {},
     "output_type": "execute_result"
    }
   ],
   "source": [
    "x = 3122222222213\n",
    "pm = Solution()\n",
    "pm.isPalindrome(x)"
   ]
  },
  {
   "cell_type": "markdown",
   "id": "0d7f9e80",
   "metadata": {},
   "source": [
    "Способ 4: Использование рекурсии"
   ]
  },
  {
   "cell_type": "code",
   "execution_count": 64,
   "id": "8ef7b222",
   "metadata": {},
   "outputs": [],
   "source": [
    "class Solution:\n",
    "    def isPalindrome(self, x: int) -> bool:\n",
    "        # Отрицательные числа не могут быть палиндромами\n",
    "        if x < 0:\n",
    "            return False\n",
    "        s = str(x)\n",
    "        if len(s) <= 1:\n",
    "            return True\n",
    "        if s[0] != s[-1]:\n",
    "            return False\n",
    "        return Solution.isPalindrome(self,int(s[1:-1]))\n"
   ]
  },
  {
   "cell_type": "code",
   "execution_count": 65,
   "id": "a8333930",
   "metadata": {},
   "outputs": [
    {
     "data": {
      "text/plain": [
       "True"
      ]
     },
     "execution_count": 65,
     "metadata": {},
     "output_type": "execute_result"
    }
   ],
   "source": [
    "x = 3122222222213\n",
    "pm = Solution()\n",
    "pm.isPalindrome(x)"
   ]
  },
  {
   "cell_type": "markdown",
   "id": "826fa21b",
   "metadata": {},
   "source": [
    "Способ 5: Использование стека"
   ]
  },
  {
   "cell_type": "code",
   "execution_count": 66,
   "id": "f376aa12",
   "metadata": {},
   "outputs": [],
   "source": [
    "class Solution:\n",
    "    def isPalindrome(self, x: int) -> bool:\n",
    "    # Отрицательные числа не могут быть палиндромами\n",
    "        if x < 0:\n",
    "            return False\n",
    "        s = str(x)\n",
    "        stack = list(s)\n",
    "        reversed_s = []\n",
    "        while stack:\n",
    "            reversed_s.append(stack.pop())\n",
    "        return s == ''.join(reversed_s)"
   ]
  },
  {
   "cell_type": "markdown",
   "id": "f6cb6c41",
   "metadata": {},
   "source": [
    "## 12. Integer to Roman"
   ]
  },
  {
   "cell_type": "code",
   "execution_count": null,
   "id": "3b8b7a44",
   "metadata": {},
   "outputs": [],
   "source": []
  },
  {
   "cell_type": "markdown",
   "id": "c4abf51c",
   "metadata": {},
   "source": [
    "## 13. Roman to Integer"
   ]
  },
  {
   "cell_type": "markdown",
   "id": "7e7d8749",
   "metadata": {},
   "source": [
    "Способ 1: Итеративный подход с использованием словаря"
   ]
  },
  {
   "cell_type": "code",
   "execution_count": 178,
   "id": "0cc6af8a",
   "metadata": {},
   "outputs": [],
   "source": [
    "class Solution:\n",
    "    def romanToInt(self, s: str) -> int:\n",
    "        # Словарь для хранения значений римских символов\n",
    "        roman_to_int = {\n",
    "            'I': 1,\n",
    "            'V': 5,\n",
    "            'X': 10,\n",
    "            'L': 50,\n",
    "            'C': 100,\n",
    "            'D': 500,\n",
    "            'M': 1000\n",
    "        }\n",
    "        n = len(s)\n",
    "        result = 0\n",
    "        for i in range(n):\n",
    "            if i < n-1 and roman_to_int[s[i]] < roman_to_int[s[i+1]]:\n",
    "                result -= roman_to_int[s[i]]\n",
    "            else:\n",
    "                result += roman_to_int[s[i]]\n",
    "        return result"
   ]
  },
  {
   "cell_type": "code",
   "execution_count": 183,
   "id": "9901c0a0",
   "metadata": {},
   "outputs": [
    {
     "data": {
      "text/plain": [
       "13"
      ]
     },
     "execution_count": 183,
     "metadata": {},
     "output_type": "execute_result"
    }
   ],
   "source": [
    "sol = Solution()\n",
    "sol.romanToInt(\"XIII\")"
   ]
  },
  {
   "cell_type": "markdown",
   "id": "beab010f",
   "metadata": {},
   "source": [
    "Способ 2: Рекурсивный подход"
   ]
  },
  {
   "cell_type": "code",
   "execution_count": 69,
   "id": "dcd782aa",
   "metadata": {},
   "outputs": [
    {
     "name": "stdout",
     "output_type": "stream",
     "text": [
      "3\n",
      "4\n",
      "9\n",
      "58\n",
      "1994\n"
     ]
    }
   ],
   "source": [
    "class Solution:\n",
    "    def romanToInt(self, s: str, index=0, total=0) -> int:\n",
    "        # Словарь для хранения значений римских символов\n",
    "        roman_to_int = {\n",
    "            'I': 1,\n",
    "            'V': 5,\n",
    "            'X': 10,\n",
    "            'L': 50,\n",
    "            'C': 100,\n",
    "            'D': 500,\n",
    "            'M': 1000\n",
    "        }\n",
    "\n",
    "        # Базовый случай: если индекс достиг конца строки, возвращаем накопленный результат\n",
    "        if index >= len(s):\n",
    "            return total\n",
    "\n",
    "        # Получаем значение текущего символа\n",
    "        current_value = roman_to_int[s[index]]\n",
    "\n",
    "        # Если текущий символ меньше следующего, это случай вычитания\n",
    "        if index < len(s) - 1 and current_value < roman_to_int[s[index + 1]]:\n",
    "            # Вычитаем текущее значение и переходим к следующему символу\n",
    "            return self.romanToInt(s, index + 2, total + roman_to_int[s[index + 1]] - current_value)\n",
    "        else:\n",
    "            # Добавляем текущее значение и переходим к следующему символу\n",
    "            return self.romanToInt(s, index + 1, total + current_value)\n",
    "\n",
    "# Примеры использования:\n",
    "sol = Solution()\n",
    "print(sol.romanToInt(\"III\"))      # Output: 3\n",
    "print(sol.romanToInt(\"IV\"))       # Output: 4\n",
    "print(sol.romanToInt(\"IX\"))       # Output: 9\n",
    "print(sol.romanToInt(\"LVIII\"))    # Output: 58\n",
    "print(sol.romanToInt(\"MCMXCIV\"))  # Output: 1994"
   ]
  },
  {
   "cell_type": "markdown",
   "id": "998d5ae4",
   "metadata": {},
   "source": [
    "## 14. Longest Common Prefix"
   ]
  },
  {
   "cell_type": "markdown",
   "id": "fa48d071",
   "metadata": {},
   "source": [
    "Write a function to find the longest common prefix string amongst an array of strings.\n",
    "\n",
    "If there is no common prefix, return an empty string \"\"."
   ]
  },
  {
   "cell_type": "markdown",
   "id": "7cf5bbf3",
   "metadata": {},
   "source": [
    "Способ 1: Горизонтальное сравнение"
   ]
  },
  {
   "cell_type": "code",
   "execution_count": 70,
   "id": "b0f9ca1f",
   "metadata": {},
   "outputs": [],
   "source": [
    "class Solution:\n",
    "    def longestCommonPrefix(self, strs: List[str]) -> str:\n",
    "        prefix = strs[0]\n",
    "        for i in strs[1:]:\n",
    "            while i[:len(prefix)] != prefix:\n",
    "                prefix = prefix[:-1]\n",
    "                if not prefix:\n",
    "                    return \"\"\n",
    "        return prefix\n"
   ]
  },
  {
   "cell_type": "code",
   "execution_count": 71,
   "id": "44b96870",
   "metadata": {},
   "outputs": [
    {
     "name": "stdout",
     "output_type": "stream",
     "text": [
      "fl\n"
     ]
    }
   ],
   "source": [
    "sol = Solution()\n",
    "print(sol.longestCommonPrefix([\"flower\", \"flow\", \"flight\"]))  # Output: \"fl\""
   ]
  },
  {
   "cell_type": "markdown",
   "id": "4a2c95b1",
   "metadata": {},
   "source": [
    "Способ 2: Вертикальное сравнение"
   ]
  },
  {
   "cell_type": "code",
   "execution_count": 72,
   "id": "800dd999",
   "metadata": {},
   "outputs": [
    {
     "name": "stdout",
     "output_type": "stream",
     "text": [
      "flow\n",
      "\n"
     ]
    }
   ],
   "source": [
    "def longestCommonPrefix(strs):\n",
    "    if not strs:\n",
    "        return \"\"\n",
    "    for i in range(len(strs[0])):\n",
    "        char = strs[0][i]  # Текущий символ первой строки\n",
    "        for s in strs[1:]:\n",
    "            # Если символы не совпадают или строка закончилась\n",
    "            if i >= len(s) or s[i] != char:\n",
    "                return strs[0][:i]  # Возвращаем префикс до текущего символа\n",
    "    return strs[0]  # Если все символы совпали, возвращаем первую строку\n",
    "\n",
    "# Пример использования:\n",
    "print(longestCommonPrefix([\"flower\", \"flow\", \"flowight\"]))  # Output: \"fl\"\n",
    "print(longestCommonPrefix([\"dog\", \"racecar\", \"car\"]))     # Output: \"\""
   ]
  },
  {
   "cell_type": "markdown",
   "id": "1753ecc9",
   "metadata": {},
   "source": [
    "Способ 3: Бинарный поиск"
   ]
  },
  {
   "cell_type": "code",
   "execution_count": 73,
   "id": "cbff252e",
   "metadata": {},
   "outputs": [
    {
     "name": "stdout",
     "output_type": "stream",
     "text": [
      "fl\n",
      "\n"
     ]
    }
   ],
   "source": [
    "def longestCommonPrefix(strs):\n",
    "    if not strs:\n",
    "        return \"\"\n",
    "\n",
    "    def isCommonPrefix(length):\n",
    "        prefix = strs[0][:length]\n",
    "        for s in strs[1:]:\n",
    "            if not s.startswith(prefix):\n",
    "                return False\n",
    "        return True\n",
    "\n",
    "    min_len = min(len(s) for s in strs)  # Минимальная длина строки\n",
    "    low, high = 0, min_len\n",
    "\n",
    "    # Бинарный поиск\n",
    "    while low <= high:\n",
    "        mid = (low + high) // 2\n",
    "        if isCommonPrefix(mid):\n",
    "            low = mid + 1\n",
    "        else:\n",
    "            high = mid - 1\n",
    "\n",
    "    return strs[0][:high]\n",
    "\n",
    "# Пример использования:\n",
    "print(longestCommonPrefix([\"flower\", \"flow\", \"flight\"]))  # Output: \"fl\"\n",
    "print(longestCommonPrefix([\"dog\", \"racecar\", \"car\"]))     # Output: \"\""
   ]
  },
  {
   "cell_type": "markdown",
   "id": "db77d9df",
   "metadata": {},
   "source": [
    "## 15. 3Sum"
   ]
  },
  {
   "cell_type": "code",
   "execution_count": null,
   "id": "eb319547",
   "metadata": {},
   "outputs": [],
   "source": [
    "from typing import Dict, List,Optional\n",
    "class Solution:\n",
    "    def threeSum(self, nums: List[int]) -> List[List[int]]:\n",
    "        if len(nums) < 3:\n",
    "            return []\n",
    "        sorted_nums = nums.sort()\n",
    "        results = []\n",
    "        n = len(sorted_nums)\n",
    "        for i, num in range(n-2):\n",
    "            left = i+1\n",
    "            right = n-1\n",
    "            while left < right:\n",
    "                three_sum = sorted_nums[i] + sorted_nums[left] + sorted_nums[right]\n",
    "                if  three_sum == 0:\n",
    "                    results.append([sorted_nums[i], sorted_nums[left], sorted_nums[right]])\n",
    "                    right -= 1\n",
    "                elif three_sum < 0:\n",
    "                    left += 1\n",
    "                else: \n",
    "                    right -= 1\n",
    "        return results          "
   ]
  },
  {
   "cell_type": "code",
   "execution_count": 88,
   "id": "95c0eacb",
   "metadata": {},
   "outputs": [],
   "source": [
    "from typing import Dict, List,Optional\n",
    "class Solution:\n",
    "    def threeSum(self, nums: List[int]) -> List[List[int]]:\n",
    "        nums.sort()\n",
    "        stack = []\n",
    "        n = len(nums)\n",
    "\n",
    "        for i in range(n - 2):\n",
    "            if i > 0 and nums[i] == nums[i - 1]:\n",
    "                continue  # Пропускаем дубликаты для nums[i]\n",
    "\n",
    "            left = i+1\n",
    "            right = n-1\n",
    "            while left < right:\n",
    "                total = nums[i] + nums[left] + nums[right]\n",
    "                if total == 0:\n",
    "                    res = [nums[i],nums[left],nums[right]]\n",
    "                    stack.append(res)\n",
    "                    # Пропускаем дубликаты для nums[left] и nums[right]\n",
    "                    while left < right and nums[left] == nums[left + 1]:\n",
    "                        left += 1\n",
    "                    while left < right and nums[right] == nums[right - 1]:\n",
    "                        right -= 1\n",
    "                    left += 1\n",
    "                    right -= 1\n",
    "                elif total > 0:\n",
    "                    right -= 1\n",
    "                elif total < 0:\n",
    "                    left += 1\n",
    "        return stack"
   ]
  },
  {
   "cell_type": "code",
   "execution_count": 89,
   "id": "d963a9a2",
   "metadata": {},
   "outputs": [
    {
     "data": {
      "text/plain": [
       "[[-1, -1, 2], [-1, 0, 1]]"
      ]
     },
     "execution_count": 89,
     "metadata": {},
     "output_type": "execute_result"
    }
   ],
   "source": [
    "sol = Solution()\n",
    "sol.threeSum([-1,0,1,2,-1,-4])"
   ]
  },
  {
   "cell_type": "code",
   "execution_count": 78,
   "id": "2e8011bb",
   "metadata": {},
   "outputs": [],
   "source": [
    "class Solution:\n",
    "    def threeSum(self, nums: List[int]) -> List[List[int]]:\n",
    "        nums.sort()\n",
    "        result = []\n",
    "        n = len(nums)\n",
    "        \n",
    "        for i in range(n - 2):\n",
    "            if i > 0 and nums[i] == nums[i - 1]:\n",
    "                continue  # Пропускаем дубликаты для nums[i]\n",
    "            \n",
    "            left, right = i + 1, n - 1\n",
    "            while left < right:\n",
    "                total = nums[i] + nums[left] + nums[right]\n",
    "                if total < 0:\n",
    "                    left += 1\n",
    "                elif total > 0:\n",
    "                    right -= 1\n",
    "                else:\n",
    "                    result.append([nums[i], nums[left], nums[right]])\n",
    "                    # Пропускаем дубликаты для nums[left] и nums[right]\n",
    "                    while left < right and nums[left] == nums[left + 1]:\n",
    "                        left += 1\n",
    "                    while left < right and nums[right] == nums[right - 1]:\n",
    "                        right -= 1\n",
    "                    left += 1\n",
    "                    right -= 1\n",
    "        return result"
   ]
  },
  {
   "cell_type": "code",
   "execution_count": 79,
   "id": "f2bbaf03",
   "metadata": {},
   "outputs": [
    {
     "data": {
      "text/plain": [
       "[[-1, -1, 2], [-1, 0, 1]]"
      ]
     },
     "execution_count": 79,
     "metadata": {},
     "output_type": "execute_result"
    }
   ],
   "source": [
    "sol = Solution()\n",
    "sol.threeSum([-1,0,1,2,-1,-4])"
   ]
  },
  {
   "cell_type": "markdown",
   "id": "00467b60",
   "metadata": {},
   "source": [
    "## 16. 3Sum Closest"
   ]
  },
  {
   "cell_type": "code",
   "execution_count": 174,
   "id": "dafb5577",
   "metadata": {},
   "outputs": [],
   "source": [
    "class Solution:\n",
    "    def threeSumClosest(self, nums: List[int], target: int) -> int:\n",
    "        nums.sort()\n",
    "        result = {}\n",
    "        n = len(nums)\n",
    "        for i in range(n-2):\n",
    "            left,right = i+1, n-1\n",
    "            while left < right:\n",
    "                total = nums[i] + nums[left] + nums[right]\n",
    "                complement = target - total\n",
    "                if complement not in result:\n",
    "                    result[abs(complement)] = [[nums[i], nums[left], nums[right]]]\n",
    "                else:\n",
    "                    result[abs(complement)].append([nums[i], nums[left], nums[right]])\n",
    "                if complement < 0:\n",
    "                    right -= 1\n",
    "                elif complement > 0:\n",
    "                    left += 1\n",
    "                elif complement == 0:\n",
    "                    return total\n",
    "\n",
    "        min_differences = min(result.keys())\n",
    "        nearest_sum = sum(result[min_differences][0])\n",
    "        nearest_sum_values = result[min_differences][0]\n",
    "        return nearest_sum"
   ]
  },
  {
   "cell_type": "code",
   "execution_count": 175,
   "id": "0000d6a2",
   "metadata": {},
   "outputs": [
    {
     "data": {
      "text/plain": [
       "3"
      ]
     },
     "execution_count": 175,
     "metadata": {},
     "output_type": "execute_result"
    }
   ],
   "source": [
    "sol = Solution()\n",
    "sol.threeSumClosest([-1,0,1,2,-1,-4], 3)"
   ]
  },
  {
   "cell_type": "markdown",
   "id": "32406fb9",
   "metadata": {},
   "source": [
    "## 20. Valid Parentheses"
   ]
  },
  {
   "cell_type": "raw",
   "id": "6197b76f",
   "metadata": {},
   "source": [
    "Given a string s containing just the characters '(', ')', '{', '}', '[' and ']', determine if the input string is valid.\n",
    "\n",
    "An input string is valid if:\n",
    "\n",
    "Open brackets must be closed by the same type of brackets.\n",
    "Open brackets must be closed in the correct order.\n",
    "Every close bracket has a corresponding open bracket of the same type."
   ]
  },
  {
   "cell_type": "markdown",
   "id": "8fbfa74c",
   "metadata": {},
   "source": [
    "Решение с использованием стека (наиболее эффективное и популярное)"
   ]
  },
  {
   "cell_type": "code",
   "execution_count": null,
   "id": "bffd8a98",
   "metadata": {},
   "outputs": [],
   "source": [
    "class Solution:\n",
    "    def is_valid(self, s: str) -> bool:\n",
    "        stack = []\n",
    "        bracket_pairs = {')': '(', '}': '{', ']': '['}\n",
    "        \n",
    "        for char in s:\n",
    "            if char in bracket_pairs.values():  # Если открывающая скобка\n",
    "                stack.append(char)\n",
    "            elif char in bracket_pairs:  # Если закрывающая скобка\n",
    "                if not stack or stack.pop() != bracket_pairs[char]:\n",
    "                    return False\n",
    "            else:  # Недопустимый символ\n",
    "                return False\n",
    "        return not stack  # Стек должен быть пустым"
   ]
  },
  {
   "cell_type": "code",
   "execution_count": null,
   "id": "187e7e5d",
   "metadata": {},
   "outputs": [
    {
     "data": {
      "text/plain": [
       "True"
      ]
     },
     "execution_count": 253,
     "metadata": {},
     "output_type": "execute_result"
    }
   ],
   "source": [
    "sol = Solution()\n",
    "sol.is_valid('()')"
   ]
  },
  {
   "cell_type": "markdown",
   "id": "5626e28e",
   "metadata": {},
   "source": [
    " Решение с рекурсией (менее эффективное, но демонстрирует другой подход)"
   ]
  },
  {
   "cell_type": "code",
   "execution_count": null,
   "id": "81adde16",
   "metadata": {},
   "outputs": [],
   "source": [
    "def is_valid(s: str) -> bool:\n",
    "    while True:\n",
    "        if '()' in s:\n",
    "            s = s.replace('()', '')\n",
    "        elif '{}' in s:\n",
    "            s = s.replace('{}', '')\n",
    "        elif '[]' in s:\n",
    "            s = s.replace('[]', '')\n",
    "        else:\n",
    "            return not s"
   ]
  },
  {
   "cell_type": "markdown",
   "id": "771d88c3",
   "metadata": {},
   "source": [
    "## 49. Group Anagrams"
   ]
  },
  {
   "cell_type": "markdown",
   "id": "bf7125a8",
   "metadata": {},
   "source": [
    "Given an array of strings strs, group the anagrams together. You can return the answer in any order."
   ]
  },
  {
   "cell_type": "code",
   "execution_count": 455,
   "id": "478c7bcb",
   "metadata": {},
   "outputs": [],
   "source": [
    "class Solution:\n",
    "    def groupAnagrams(self, strs: List[str]) -> List[List[str]]:\n",
    "        d = {}\n",
    "        for char in strs:\n",
    "            sorted_char = ''.join(sorted(char))\n",
    "            if sorted_char not in d:\n",
    "                d[sorted_char] = [char]\n",
    "            else:\n",
    "                d[sorted_char].append(char)\n",
    "        return list(d.values())"
   ]
  },
  {
   "cell_type": "code",
   "execution_count": 457,
   "id": "de0467a8",
   "metadata": {},
   "outputs": [
    {
     "data": {
      "text/plain": [
       "[['eat', 'tea', 'ate', 'tae'], ['tan', 'nat'], ['bat']]"
      ]
     },
     "execution_count": 457,
     "metadata": {},
     "output_type": "execute_result"
    }
   ],
   "source": [
    "strs = [\"eat\",\"tea\",\"tan\",\"ate\",\"nat\",\"bat\",'tae']\n",
    "sol = Solution()\n",
    "sol.groupAnagrams(strs)"
   ]
  },
  {
   "cell_type": "code",
   "execution_count": null,
   "id": "79117a17",
   "metadata": {},
   "outputs": [],
   "source": [
    "class Solution:\n",
    "    def groupAnagrams(self, strs: List[str]) -> List[List[str]]:\n",
    "        anagrams = {}\n",
    "        for s in strs:\n",
    "            s_sorted = \"\".join(sorted(s))\n",
    "            if s_sorted not in anagrams:\n",
    "                anagrams[s_sorted] = []\n",
    "            anagrams[s_sorted].append(s)\n",
    "        return list(anagrams.values())"
   ]
  },
  {
   "cell_type": "code",
   "execution_count": null,
   "id": "cd3a193c",
   "metadata": {},
   "outputs": [
    {
     "data": {
      "text/plain": [
       "[['eat', 'tea', 'ate', 'tae'], ['tan', 'nat'], ['bat']]"
      ]
     },
     "execution_count": 208,
     "metadata": {},
     "output_type": "execute_result"
    }
   ],
   "source": [
    "strs = [\"eat\",\"tea\",\"tan\",\"ate\",\"nat\",\"bat\",'tae']\n",
    "sol = Solution()\n",
    "sol.groupAnagrams(strs)"
   ]
  },
  {
   "cell_type": "code",
   "execution_count": null,
   "id": "831e415b",
   "metadata": {},
   "outputs": [
    {
     "data": {
      "text/plain": [
       "defaultdict(list, {})"
      ]
     },
     "execution_count": 222,
     "metadata": {},
     "output_type": "execute_result"
    }
   ],
   "source": [
    "defaultdict(list)"
   ]
  },
  {
   "cell_type": "code",
   "execution_count": null,
   "id": "c2c1e0d8",
   "metadata": {},
   "outputs": [
    {
     "name": "stdout",
     "output_type": "stream",
     "text": [
      "[['eat', 'tea', 'ate'], ['tan', 'nat'], ['bat']]\n"
     ]
    }
   ],
   "source": [
    "from collections import defaultdict\n",
    "\n",
    "def groupAnagrams(strs):\n",
    "    anagrams = defaultdict(list)\n",
    "    for s in strs:\n",
    "        count = [0] * 26  # Счётчик для каждой буквы алфавита\n",
    "        for char in s:\n",
    "            count[ord(char) - ord('a')] += 1  # Увеличиваем счётчик для текущей буквы\n",
    "        anagrams[tuple(count)].append(s)  # Используем кортеж как ключ\n",
    "    return list(anagrams.values())\n",
    "\n",
    "# Пример использования:\n",
    "strs = [\"eat\", \"tea\", \"tan\", \"ate\", \"nat\", \"bat\"]\n",
    "print(groupAnagrams(strs))\n",
    "# Output: [[\"eat\", \"tea\", \"ate\"], [\"tan\", \"nat\"], [\"bat\"]]"
   ]
  },
  {
   "cell_type": "markdown",
   "id": "e4c848ca",
   "metadata": {},
   "source": [
    "## 322. Coin Change"
   ]
  },
  {
   "cell_type": "code",
   "execution_count": null,
   "id": "a5ac4b4f",
   "metadata": {},
   "outputs": [],
   "source": [
    "class Solution:\n",
    "    def coinChange(coins, amount):\n",
    "        dp = [amount + 1] * (amount + 1)\n",
    "        dp[0] = 0\n",
    "        \n",
    "        for i in range(1, amount + 1):\n",
    "            for coin in coins:\n",
    "                if coin <= i:\n",
    "                    dp[i] = min(dp[i], dp[i - coin] + 1)\n",
    "        \n",
    "        return dp[amount] if dp[amount] <= amount else -1"
   ]
  },
  {
   "cell_type": "code",
   "execution_count": null,
   "id": "d4599e59",
   "metadata": {},
   "outputs": [],
   "source": [
    "def max_num(arr):\n",
    "    n = len(arr)\n",
    "    left, right = 0, 3\n",
    "    stack = []\n",
    "    while right <= n:\n",
    "        max_val = max(arr[left:right])\n",
    "        stack.append(max_val)\n",
    "        right += 1\n",
    "        left += 1\n",
    "\n",
    "    return stack"
   ]
  },
  {
   "cell_type": "code",
   "execution_count": 154,
   "id": "76d3112b",
   "metadata": {},
   "outputs": [
    {
     "data": {
      "text/plain": [
       "[6, 7, 7, 7]"
      ]
     },
     "execution_count": 154,
     "metadata": {},
     "output_type": "execute_result"
    }
   ],
   "source": [
    "nums = [6,2,3,7,0,1]\n",
    "max_num(nums)"
   ]
  },
  {
   "cell_type": "markdown",
   "id": "8dc302fc",
   "metadata": {},
   "source": [
    "## 523. Continuous Subarray Sum"
   ]
  },
  {
   "cell_type": "code",
   "execution_count": 79,
   "id": "dfc0240c",
   "metadata": {},
   "outputs": [],
   "source": [
    "class Solution:\n",
    "    def checkSubarraySum(self, nums: List[int], k: int) -> bool:\n",
    "        n = len(nums)\n",
    "        for i in range(n):\n",
    "            sum_nums = nums[i]\n",
    "            for j in range(i+1,n):\n",
    "                sum_nums += nums[j]\n",
    "                if (sum_nums % k == 0) and (len(nums[i:j+1]) >=2):\n",
    "                    return True\n",
    "        return False"
   ]
  },
  {
   "cell_type": "code",
   "execution_count": 80,
   "id": "78b9fee4",
   "metadata": {},
   "outputs": [
    {
     "data": {
      "text/plain": [
       "True"
      ]
     },
     "execution_count": 80,
     "metadata": {},
     "output_type": "execute_result"
    }
   ],
   "source": [
    "sol = Solution()\n",
    "nums = [0,0]\n",
    "k = 1\n",
    "sol.checkSubarraySum(nums, k)"
   ]
  },
  {
   "cell_type": "markdown",
   "id": "b2951c14",
   "metadata": {},
   "source": [
    "## 557. Reverse Words in a String III"
   ]
  },
  {
   "cell_type": "code",
   "execution_count": 28,
   "id": "35752e51",
   "metadata": {},
   "outputs": [],
   "source": [
    "class Solution:\n",
    "    def reverseWords(self, s: str) -> str:\n",
    "        s_new = ''\n",
    "        for char in s.split():\n",
    "            s_new += char[::-1] + ' '\n",
    "        return s_new[:-1]"
   ]
  },
  {
   "cell_type": "code",
   "execution_count": 29,
   "id": "1746945c",
   "metadata": {},
   "outputs": [
    {
     "data": {
      "text/plain": [
       "\"s'teL ekat edoCteeL tsetnoc\""
      ]
     },
     "execution_count": 29,
     "metadata": {},
     "output_type": "execute_result"
    }
   ],
   "source": [
    "sol = Solution()\n",
    "s = \"Let's take LeetCode contest\"\n",
    "sol.reverseWords(s)"
   ]
  },
  {
   "cell_type": "markdown",
   "id": "a5b9054e",
   "metadata": {},
   "source": [
    "## 637. Average of Levels in Binary Tree"
   ]
  },
  {
   "cell_type": "code",
   "execution_count": 349,
   "id": "f9fc34ab",
   "metadata": {},
   "outputs": [],
   "source": [
    "from collections import deque\n",
    "\n",
    "class TreeNode:\n",
    "    def __init__(self, val=0, left=None, right=None):\n",
    "        self.val = val\n",
    "        self.left = left\n",
    "        self.right = right\n",
    "\n",
    "def create_tree(v):\n",
    "    # Заменяем np.nan на None\n",
    "    v = [None if isinstance(x, float) and x != x else x for x in v]\n",
    "    \n",
    "    if not v or v[0] is None:\n",
    "        return None\n",
    "    \n",
    "    root = TreeNode(v[0])\n",
    "    queue = deque([root])\n",
    "    i = 1\n",
    "    \n",
    "    while queue and i < len(v):\n",
    "        node = queue.popleft()\n",
    "        \n",
    "        # Левый потомок\n",
    "        if i < len(v) and v[i] is not None:\n",
    "            node.left = TreeNode(v[i])\n",
    "            queue.append(node.left)\n",
    "        i += 1\n",
    "        \n",
    "        # Правый потомок\n",
    "        if i < len(v) and v[i] is not None:\n",
    "            node.right = TreeNode(v[i])\n",
    "            queue.append(node.right)\n",
    "        i += 1\n",
    "    \n",
    "    return root\n",
    "\n",
    "# Пример использования:\n",
    "import numpy as np\n",
    "v = [3, 9, 20, np.nan, np.nan, 15, 7]\n",
    "tree = create_tree(v)"
   ]
  },
  {
   "cell_type": "code",
   "execution_count": 354,
   "id": "9d6526c4",
   "metadata": {},
   "outputs": [],
   "source": [
    "class TreeNode:\n",
    "    def __init__(self, val=0, left=None, right=None):\n",
    "        self.val = val\n",
    "        self.left = left\n",
    "        self.right = right\n",
    "\n",
    "def averageOfLevels(root):\n",
    "    if not root:\n",
    "        return []\n",
    "    queue = deque([root])\n",
    "    result = []\n",
    "    while queue:\n",
    "        len_level = len(queue)\n",
    "        sum_level = 0\n",
    "\n",
    "        for i in range(len_level):\n",
    "            node = queue.popleft()\n",
    "            sum_level += node.val\n",
    "            if node.left:\n",
    "                queue.append(node.left)\n",
    "            if node.right:\n",
    "                queue.append(node.right)\n",
    "\n",
    "        result.append(sum_level/len_level)\n",
    "    return result"
   ]
  },
  {
   "cell_type": "code",
   "execution_count": 355,
   "id": "03a923a6",
   "metadata": {},
   "outputs": [
    {
     "data": {
      "text/plain": [
       "[3.0, 14.5, 11.0]"
      ]
     },
     "execution_count": 355,
     "metadata": {},
     "output_type": "execute_result"
    }
   ],
   "source": [
    "v = [3,9,20,15,7]\n",
    "tree = create_tree(v)\n",
    "averageOfLevels(tree)\n"
   ]
  },
  {
   "cell_type": "code",
   "execution_count": 311,
   "id": "36015cd3",
   "metadata": {},
   "outputs": [],
   "source": [
    "from collections import deque\n",
    "\n",
    "class TreeNode:\n",
    "    def __init__(self, val=0, left=None, right=None):\n",
    "        self.val = val\n",
    "        self.left = left\n",
    "        self.right = right\n",
    "\n",
    "def averageOfLevels(root):\n",
    "    if not root:\n",
    "        return []\n",
    "    \n",
    "    result = []\n",
    "    queue = deque([root])\n",
    "    \n",
    "    while queue:\n",
    "        level_size = len(queue)\n",
    "        level_sum = 0.0\n",
    "        \n",
    "        for _ in range(level_size):\n",
    "            node = queue.popleft()\n",
    "            level_sum += node.val\n",
    "            if node.left:\n",
    "                queue.append(node.left)\n",
    "            if node.right:\n",
    "                queue.append(node.right)\n",
    "        \n",
    "        result.append(level_sum / level_size)\n",
    "    \n",
    "    return result"
   ]
  },
  {
   "cell_type": "code",
   "execution_count": 329,
   "id": "b64a9f0e",
   "metadata": {},
   "outputs": [
    {
     "data": {
      "text/plain": [
       "[3.0, 14.5, 11.0]"
      ]
     },
     "execution_count": 329,
     "metadata": {},
     "output_type": "execute_result"
    }
   ],
   "source": [
    "averageOfLevels(tree)"
   ]
  },
  {
   "cell_type": "code",
   "execution_count": 314,
   "id": "cca28be2",
   "metadata": {},
   "outputs": [
    {
     "data": {
      "text/plain": [
       "3"
      ]
     },
     "execution_count": 314,
     "metadata": {},
     "output_type": "execute_result"
    }
   ],
   "source": [
    "root = deque([3,9,20,np.nan,np.nan,15,7])\n",
    "q = root.popleft()\n",
    "q\n"
   ]
  },
  {
   "cell_type": "markdown",
   "id": "5ac3740c",
   "metadata": {},
   "source": [
    "## 658. Find K Closest Elements"
   ]
  },
  {
   "cell_type": "code",
   "execution_count": 397,
   "id": "4a3949a5",
   "metadata": {},
   "outputs": [],
   "source": [
    "class Solution:\n",
    "    def findClosestElements(self, arr: List[int], k: int, x: int) -> List[int]:\n",
    "        index = 0\n",
    "        for i, num in enumerate(arr):\n",
    "            if num == x:\n",
    "                index = i\n",
    "                break\n",
    "        l = index\n",
    "        r = index + 1\n",
    "        n = len(arr)\n",
    "        res = []\n",
    "\n",
    "        while len(res) < k:\n",
    "            if r >= n:\n",
    "                res.append(arr[l])\n",
    "                l -= 1\n",
    "            elif l < 0:\n",
    "                res.append(arr[r])\n",
    "                r += 1\n",
    "            else:\n",
    "                diff_left = abs(arr[l] - arr[index])\n",
    "                diff_right = abs(arr[r] - arr[index])\n",
    "\n",
    "                if diff_left <= diff_right:\n",
    "                    res.append(arr[l])\n",
    "                    l -= 1\n",
    "                else:\n",
    "                    res.append(arr[r])\n",
    "                    r += 1\n",
    "        return res"
   ]
  },
  {
   "cell_type": "code",
   "execution_count": 398,
   "id": "574bdce3",
   "metadata": {},
   "outputs": [
    {
     "data": {
      "text/plain": [
       "[5, 3, 7]"
      ]
     },
     "execution_count": 398,
     "metadata": {},
     "output_type": "execute_result"
    }
   ],
   "source": [
    "arr = [1, 3, 5, 7, 9]\n",
    "x = 5 \n",
    "k = 3 \n",
    "sol = Solution()\n",
    "sol.findClosestElements(arr,k,x)"
   ]
  },
  {
   "cell_type": "code",
   "execution_count": null,
   "id": "2c88df09",
   "metadata": {},
   "outputs": [],
   "source": []
  },
  {
   "cell_type": "markdown",
   "id": "161e1b88",
   "metadata": {},
   "source": [
    "## 748. Shortest Completing Word"
   ]
  },
  {
   "cell_type": "code",
   "execution_count": 209,
   "id": "b8d56a42",
   "metadata": {},
   "outputs": [],
   "source": [
    "class Solution:\n",
    "    def shortestCompletingWord(self, licensePlate: str, words: List[str]) -> str:\n",
    "        hash_table = {}\n",
    "        for char in words:\n",
    "            licensePlate_new = licensePlate.lower()\n",
    "            for j in char:\n",
    "                if j in licensePlate_new:\n",
    "                    licensePlate_new = licensePlate_new.replace(j,'',1)\n",
    "                    hash_table[char] = hash_table.get(char, 0) + 1\n",
    "        max_value = max(hash_table.values())\n",
    "        final_res = {key:len(key) for key,value in hash_table.items() if value==max_value}\n",
    "        min_completingword = min(final_res, key=final_res.get)\n",
    "        return min_completingword"
   ]
  },
  {
   "cell_type": "code",
   "execution_count": 210,
   "id": "076b984f",
   "metadata": {},
   "outputs": [
    {
     "data": {
      "text/plain": [
       "'ten'"
      ]
     },
     "execution_count": 210,
     "metadata": {},
     "output_type": "execute_result"
    }
   ],
   "source": [
    "sol = Solution()\n",
    "licensePlate = \"TE73696\"\n",
    "words = [\"ten\",\"two\",\"better\",\"talk\",\"suddenly\",\"stand\",\n",
    "         \"protect\",\"collection\",\"about\",\"southern\"]\n",
    "sol.shortestCompletingWord(licensePlate,words)"
   ]
  },
  {
   "cell_type": "markdown",
   "id": "122a5006",
   "metadata": {},
   "source": [
    "## 929. Unique Email Addresses"
   ]
  },
  {
   "cell_type": "code",
   "execution_count": null,
   "id": "22d03051",
   "metadata": {},
   "outputs": [],
   "source": [
    "# class Solution:\n",
    "#     def numUniqueEmails(self, emails: List[str]) -> int:\n",
    "#         logins = []\n",
    "#         domen = []\n",
    "#         for email in emails:\n",
    "#             for i, char in enumerate(email):\n",
    "#                 if char == '@':\n",
    "#                     logins.append(email[:i])\n",
    "#                     domen.append(email[i:])\n",
    "#                 else:\n",
    "#                     continue\n",
    "\n",
    "#         correct_logs = set()\n",
    "#         for j, log in enumerate(logins):\n",
    "#             correct_log = log\n",
    "#             for i, char in enumerate(log):\n",
    "#                 if char == '+':\n",
    "#                     correct_log = correct_log[:i]\n",
    "#             for i, char in enumerate(log):\n",
    "#                 if char == '.':\n",
    "#                     correct_log = correct_log.replace(char,'')\n",
    "\n",
    "#             correct_logs.add(correct_log + domen[j])\n",
    "#         return len(correct_logs)"
   ]
  },
  {
   "cell_type": "code",
   "execution_count": 297,
   "id": "5f8f5767",
   "metadata": {},
   "outputs": [],
   "source": [
    "# class Solution:\n",
    "#     def numUniqueEmails(self, emails: List[str]) -> int:\n",
    "#         fin_emails = set()\n",
    "#         for email in emails:\n",
    "#             login, domen = email.split('@')\n",
    "#             login = login.replace('.','')\n",
    "#             login = login.split('+')[0]\n",
    "#             fin_emails.add(login + '@' + domen)\n",
    "#         return len(fin_emails)\n",
    "\n",
    "\n",
    "class Solution:\n",
    "    def numUniqueEmails(self, emails: List[str]) -> int:\n",
    "        def parse(email):\n",
    "            local, domain = email.split('@')\n",
    "            local = local.split('+')[0].replace('.',\"\")\n",
    "            return f\"{local}@{domain}\"\n",
    "        \n",
    "        return len(set(map(parse, emails)))"
   ]
  },
  {
   "cell_type": "code",
   "execution_count": 298,
   "id": "3f005e55",
   "metadata": {},
   "outputs": [
    {
     "data": {
      "text/plain": [
       "2"
      ]
     },
     "execution_count": 298,
     "metadata": {},
     "output_type": "execute_result"
    }
   ],
   "source": [
    "emails = [\"test.email+alex@leetcode.com\",\n",
    "          \"test.e.mail+bob.cathy@leetcode.com\",\n",
    "          \"testemail+david@lee.tcode.com\"]\n",
    "sol = Solution()\n",
    "sol.numUniqueEmails(emails)"
   ]
  },
  {
   "cell_type": "markdown",
   "id": "a119bf9d",
   "metadata": {},
   "source": [
    "## 1763. Longest Nice Substring"
   ]
  },
  {
   "cell_type": "code",
   "execution_count": 123,
   "id": "7087d443",
   "metadata": {},
   "outputs": [],
   "source": [
    "class Solution:\n",
    "    def longestNiceSubstring(self, s: str) -> str:\n",
    "        n = len(s)\n",
    "        max_nice_str = ''\n",
    "        for i, char in enumerate(s):\n",
    "            for j in range(i+1,n+1):\n",
    "                hash_str = set(s[i:j])\n",
    "                hash_str_lower = set(str_.lower() for str_ in hash_str)\n",
    "                if 2*len(hash_str_lower) != len(hash_str):\n",
    "                    pass\n",
    "                else:\n",
    "                    if len(s[i:j]) > len(max_nice_str):\n",
    "                        max_nice_str = s[i:j]\n",
    "        return max_nice_str"
   ]
  },
  {
   "cell_type": "code",
   "execution_count": null,
   "id": "1885f3cf",
   "metadata": {},
   "outputs": [],
   "source": [
    "class Solution:\n",
    "    def longestNiceSubstring(self, s: str) -> str:\n",
    "        if len(s) < 2:\n",
    "            return \"\"\n",
    "        \n",
    "        chars = set(s)\n",
    "        bad_chars = set()\n",
    "        \n",
    "        for char in chars:\n",
    "            if char.islower() and char.upper() not in chars:\n",
    "                bad_chars.add(char)\n",
    "            elif char.isupper() and char.lower() not in chars:\n",
    "                bad_chars.add(char)\n",
    "        \n",
    "        if not bad_chars:\n",
    "            return s\n",
    "        \n",
    "        parts = []\n",
    "        start = 0\n",
    "        for i, char in enumerate(s):\n",
    "            if char in bad_chars:\n",
    "                if start < i:\n",
    "                    parts.append(s[start:i])\n",
    "                start = i + 1\n",
    "        \n",
    "        if start < len(s):\n",
    "            parts.append(s[start:])\n",
    "        \n",
    "        longest = \"\"\n",
    "        for part in parts:\n",
    "            candidate = self.longestNiceSubstring(part)\n",
    "            if len(candidate) > len(longest):\n",
    "                longest = candidate\n",
    "        \n",
    "        return longest"
   ]
  },
  {
   "cell_type": "code",
   "execution_count": 124,
   "id": "79790cb4",
   "metadata": {},
   "outputs": [
    {
     "data": {
      "text/plain": [
       "'Bb'"
      ]
     },
     "execution_count": 124,
     "metadata": {},
     "output_type": "execute_result"
    }
   ],
   "source": [
    "sol = Solution()\n",
    "s = 'Bb'\n",
    "sol.longestNiceSubstring(s)"
   ]
  },
  {
   "cell_type": "markdown",
   "id": "6bf638cb",
   "metadata": {},
   "source": [
    "## 2089. Find Target Indices After Sorting Array"
   ]
  },
  {
   "cell_type": "code",
   "execution_count": 3,
   "id": "99b459cf",
   "metadata": {},
   "outputs": [],
   "source": [
    "from typing import List\n",
    "class Solution:\n",
    "    def targetIndices(self, nums: List[int], target: int) -> List[int]:\n",
    "        sorted_nums = sorted(nums)\n",
    "        stack = []\n",
    "        for i, num in enumerate(sorted_nums):\n",
    "            if num == target:\n",
    "                stack.append(i)\n",
    "        return stack"
   ]
  },
  {
   "cell_type": "code",
   "execution_count": 5,
   "id": "a734a200",
   "metadata": {},
   "outputs": [
    {
     "data": {
      "text/plain": [
       "[1, 2]"
      ]
     },
     "execution_count": 5,
     "metadata": {},
     "output_type": "execute_result"
    }
   ],
   "source": [
    "nums = [1,2,5,2,3]\n",
    "target = 2\n",
    "sol = Solution()\n",
    "sol.targetIndices(nums, target)"
   ]
  },
  {
   "cell_type": "code",
   "execution_count": null,
   "id": "e1aa2ea6",
   "metadata": {},
   "outputs": [],
   "source": [
    "class Solution:\n",
    "    def targetIndices(self, nums: List[int], target: int) -> List[int]:\n",
    "        startIndex = 0\n",
    "        repetition = 0\n",
    "        for i in range(len(nums)):\n",
    "            if nums[i] < target:\n",
    "                startIndex+=1\n",
    "            elif nums[i] == target:\n",
    "                repetition +=1\n",
    "        return [i for i in range(startIndex,startIndex+repetition)]"
   ]
  },
  {
   "cell_type": "markdown",
   "id": "8db10c4f",
   "metadata": {},
   "source": [
    "## 2273. Find Resultant Array After Removing Anagrams"
   ]
  },
  {
   "cell_type": "code",
   "execution_count": 102,
   "id": "f9611456",
   "metadata": {},
   "outputs": [],
   "source": [
    "class Solution:\n",
    "    def removeAnagrams(self, words: List[str]) -> List[str]:\n",
    "        hash_table = {}\n",
    "        results = []\n",
    "        for i, char in enumerate(words):\n",
    "            sorted_char = ''.join(sorted(words[i]))\n",
    "            if sorted_char not in hash_table:\n",
    "                hash_table[sorted_char] = [char]\n",
    "                results.append(char)\n",
    "            else:\n",
    "                 hash_table[sorted_char].append(char)\n",
    "        return results"
   ]
  },
  {
   "cell_type": "code",
   "execution_count": 103,
   "id": "8b9822a1",
   "metadata": {},
   "outputs": [
    {
     "data": {
      "text/plain": [
       "['a', 'b']"
      ]
     },
     "execution_count": 103,
     "metadata": {},
     "output_type": "execute_result"
    }
   ],
   "source": [
    "sol = Solution()\n",
    "words = [\"a\",\"b\",\"a\"] #[\"abba\",\"baba\",\"bbaa\",\"cd\",\"cd\", \"cd\",\"qr\"]\n",
    "sol.removeAnagrams(words)"
   ]
  },
  {
   "cell_type": "markdown",
   "id": "ac9c438d",
   "metadata": {},
   "source": [
    "## 2367. Number of Arithmetic Triplets"
   ]
  },
  {
   "cell_type": "code",
   "execution_count": null,
   "id": "a84918a5",
   "metadata": {},
   "outputs": [],
   "source": [
    "# class Solution:\n",
    "#     def arithmeticTriplets(self, nums: List[int], diff: int) -> int:\n",
    "#         n  = len(nums)\n",
    "#         num = 0\n",
    "#         for i in range(n):\n",
    "#             for j in range(i+1,n):\n",
    "#                 for k in range(j+1, n):\n",
    "#                     if (i < j < k) and (nums[j] - nums[i] ==diff) and (nums[k] - nums[j] ==diff):\n",
    "#                         num += 1\n",
    "#         return num"
   ]
  },
  {
   "cell_type": "code",
   "execution_count": 573,
   "id": "a25aca4c",
   "metadata": {},
   "outputs": [
    {
     "data": {
      "text/plain": [
       "2"
      ]
     },
     "execution_count": 573,
     "metadata": {},
     "output_type": "execute_result"
    }
   ],
   "source": [
    "'qwdqd'.count('q')"
   ]
  },
  {
   "cell_type": "markdown",
   "id": "db4f4995",
   "metadata": {},
   "source": [
    "num[j] = nums[i] + diff\n",
    "nums[k] = nums[i] + 2*diff"
   ]
  },
  {
   "cell_type": "code",
   "execution_count": 18,
   "id": "89ffe698",
   "metadata": {},
   "outputs": [],
   "source": [
    "class Solution:\n",
    "    def arithmeticTriplets(self, nums: List[int], diff: int) -> int:\n",
    "        n = len(nums)\n",
    "        num = 0\n",
    "        for i in range(n):\n",
    "            SetNums = set(nums)\n",
    "            if (nums[i] + diff in SetNums) and (nums[i] + 2*diff in SetNums):\n",
    "                num += 1\n",
    "        return num"
   ]
  },
  {
   "cell_type": "code",
   "execution_count": 20,
   "id": "729dbe68",
   "metadata": {},
   "outputs": [
    {
     "data": {
      "text/plain": [
       "3"
      ]
     },
     "execution_count": 20,
     "metadata": {},
     "output_type": "execute_result"
    }
   ],
   "source": [
    "sol = Solution()\n",
    "nums = [0,1,4,6,7,10,2,1]\n",
    "diff = 3\n",
    "sol.arithmeticTriplets(nums,diff)"
   ]
  },
  {
   "cell_type": "markdown",
   "id": "ddf13851",
   "metadata": {},
   "source": [
    "## 2516. Take K of Each Character From Left and Right"
   ]
  },
  {
   "cell_type": "code",
   "execution_count": 273,
   "id": "143f95e4",
   "metadata": {},
   "outputs": [],
   "source": [
    "class Solution:\n",
    "    def takeCharacters(self, s: str, k: int) -> int:\n",
    "        hash_table = {'a':0, 'b':0,'c':0}\n",
    "        n = len(s)\n",
    "        left, right = 0, n-1\n",
    "        num = 0\n",
    "        while (min(hash_table.values()) != k) and (left <= right):\n",
    "\n",
    "            if hash_table[s[left]] < k:\n",
    "                hash_table[s[left]] += 1\n",
    "                num += 1\n",
    "                if left == right:\n",
    "                    break \n",
    "                left += 1\n",
    "            else:\n",
    "                if hash_table[s[left]] == hash_table[s[right]]:\n",
    "                    num += 1\n",
    "                    left += 1\n",
    "                    right -= 1\n",
    "\n",
    "\n",
    "            if hash_table[s[right]] < k:\n",
    "                hash_table[s[right]] += 1\n",
    "                right -= 1       \n",
    "                num += 1\n",
    "            else:\n",
    "                if hash_table[s[left]] == hash_table[s[right]]:\n",
    "                    if left == right:\n",
    "                        break \n",
    "                    num += 1\n",
    "                    left += 1\n",
    "                    right -= 1\n",
    "\n",
    "        if min(hash_table.values()) == k:\n",
    "            return num\n",
    "        else:\n",
    "            return -1"
   ]
  },
  {
   "cell_type": "code",
   "execution_count": null,
   "id": "7464fcb8",
   "metadata": {},
   "outputs": [],
   "source": [
    "class Solution:\n",
    "    def takeCharacters(self, s: str, k: int) -> int:\n",
    "        n = len(s)\n",
    "        l, r = 0, 0\n",
    "        ans = n\n",
    "        a, b, c = 0, 0, 0\n",
    "\n",
    "        # Count total occurrences of 'a', 'b', and 'c'\n",
    "        totalA, totalB, totalC = s.count('a'), s.count('b'), s.count('c')\n",
    "\n",
    "        # If there are not enough 'a', 'b', or 'c', return -1\n",
    "        if totalA < k or totalB < k or totalC < k:\n",
    "            return -1\n",
    "\n",
    "        # Reset counters and start sliding window\n",
    "        while r < n:\n",
    "            if s[r] == 'a': a += 1\n",
    "            if s[r] == 'b': b += 1\n",
    "            if s[r] == 'c': c += 1\n",
    "            r += 1\n",
    "\n",
    "            # Shrink window if it exceeds the limits\n",
    "            while a > totalA - k or b > totalB - k or c > totalC - k:\n",
    "                if s[l] == 'a': a -= 1\n",
    "                if s[l] == 'b': b -= 1\n",
    "                if s[l] == 'c': c -= 1\n",
    "                l += 1\n",
    "\n",
    "            # Update the answer with the minimum number of characters to remove\n",
    "            ans = min(ans, n - (r - l))\n",
    "\n",
    "        return ans"
   ]
  },
  {
   "cell_type": "code",
   "execution_count": 279,
   "id": "d7bda177",
   "metadata": {},
   "outputs": [
    {
     "data": {
      "text/plain": [
       "{'a': 0, 'b': 1, 'c': 1}"
      ]
     },
     "execution_count": 279,
     "metadata": {},
     "output_type": "execute_result"
    }
   ],
   "source": [
    "s = 'cbbac'\n",
    "total_counts = Counter(s)\n",
    "k = 1\n",
    "limits = {char: total_counts[char] - k for char in 'abc'}\n",
    "limits"
   ]
  },
  {
   "cell_type": "code",
   "execution_count": 275,
   "id": "47551ae4",
   "metadata": {},
   "outputs": [],
   "source": [
    "from collections import Counter\n",
    "\n",
    "class Solution:\n",
    "    def takeCharacters(self, s: str, k: int) -> int:\n",
    "        n = len(s)\n",
    "        total_counts = Counter(s)\n",
    "        for char in 'abc':\n",
    "            if total_counts[char] < k:\n",
    "                return -1\n",
    "        \n",
    "        limits = {char: total_counts[char] - k for char in 'abc'}\n",
    "        current_counts = {'a': 0, 'b': 0, 'c': 0}\n",
    "        left = 0\n",
    "        max_mid_len = 0\n",
    "        \n",
    "        for right in range(n):\n",
    "            char_right = s[right]\n",
    "            current_counts[char_right] += 1\n",
    "            \n",
    "            while current_counts['a'] > limits['a'] or current_counts['b'] > limits['b'] or current_counts['c'] > limits['c']:\n",
    "                char_left = s[left]\n",
    "                current_counts[char_left] -= 1\n",
    "                left += 1\n",
    "                \n",
    "            current_len = right - left + 1\n",
    "            if current_len > max_mid_len:\n",
    "                max_mid_len = current_len\n",
    "                \n",
    "        return n - max_mid_len"
   ]
  },
  {
   "cell_type": "code",
   "execution_count": 274,
   "id": "16394892",
   "metadata": {},
   "outputs": [
    {
     "data": {
      "text/plain": [
       "4"
      ]
     },
     "execution_count": 274,
     "metadata": {},
     "output_type": "execute_result"
    }
   ],
   "source": [
    "sol = Solution()\n",
    "s = \"cbbac\"\n",
    "k = 1\n",
    "sol.takeCharacters(s,k)"
   ]
  }
 ],
 "metadata": {
  "kernelspec": {
   "display_name": "mmm-tools-9U9JP_nD-py3.11",
   "language": "python",
   "name": "python3"
  },
  "language_info": {
   "codemirror_mode": {
    "name": "ipython",
    "version": 3
   },
   "file_extension": ".py",
   "mimetype": "text/x-python",
   "name": "python",
   "nbconvert_exporter": "python",
   "pygments_lexer": "ipython3",
   "version": "3.11.9"
  }
 },
 "nbformat": 4,
 "nbformat_minor": 5
}
