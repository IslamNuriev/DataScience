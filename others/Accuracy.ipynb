{
 "cells": [
  {
   "cell_type": "code",
   "execution_count": 1,
   "id": "0da91b97",
   "metadata": {},
   "outputs": [],
   "source": [
    "import pandas as pd\n",
    "import numpy as np\n",
    "import matplotlib.pyplot as plt"
   ]
  },
  {
   "cell_type": "markdown",
   "id": "41f952da",
   "metadata": {},
   "source": [
    "Метрики в машинном обучении нужны для того, чтобы оценивать качество работы модели, чтобы понимать, а насколько модель хорошо запомнила закономерности из обучающей выборки.\n",
    "\n",
    "Сегодня будем рассматривать метрики для задачи классификации - предсказания номинативной (качественной) целевой переменной. Для такой задачи хочется, чтобы наши модели как можно чаще предсказывали верную метку класса объекта.\n",
    "\n",
    "<img src='https://static.javatpoint.com/tutorial/machine-learning/images/classification-algorithm-in-machine-learning.png' width=600>\n",
    "\n",
    "\n",
    "Для подсчета разных метрик классификации сгенерируем данные с помощью `sklearn`."
   ]
  },
  {
   "cell_type": "markdown",
   "id": "6515f73d",
   "metadata": {},
   "source": [
    "**Генарация данных**"
   ]
  },
  {
   "cell_type": "code",
   "execution_count": 2,
   "id": "d3838868",
   "metadata": {},
   "outputs": [],
   "source": [
    "from sklearn import datasets"
   ]
  },
  {
   "cell_type": "code",
   "execution_count": 3,
   "id": "964b4c21",
   "metadata": {},
   "outputs": [],
   "source": [
    "X, y = datasets.make_classification(\n",
    "    # выборка будет состоять из\n",
    "    n_samples=20, # 20 штук объектов\n",
    "    n_features=2, # из 2-х признаков\n",
    "    n_informative=2, # 2 из которых информативны\n",
    "    n_redundant=0, # и ни одного бесполезного\n",
    "    n_classes=2, # предсказываем целевую переменную, которая будет состоять из 2-х классов\n",
    "    random_state=2)"
   ]
  },
  {
   "cell_type": "markdown",
   "id": "f36ea5b9",
   "metadata": {},
   "source": [
    "Получили 20 объектов из двух признаков, можем их визуализировать и сделать раскрашивание в зависимости от метки класса:"
   ]
  },
  {
   "cell_type": "markdown",
   "id": "14a57c02",
   "metadata": {},
   "source": [
    "**Обучение модели**"
   ]
  },
  {
   "cell_type": "code",
   "execution_count": 9,
   "id": "0937c804",
   "metadata": {},
   "outputs": [
    {
     "data": {
      "image/png": "[encoded data removed]",
      "text/plain": [
       "<Figure size 720x432 with 1 Axes>"
      ]
     },
     "metadata": {
      "needs_background": "light"
     },
     "output_type": "display_data"
    }
   ],
   "source": [
    "plt.figure(figsize=(10, 6))\n",
    "\n",
    "class_0 = X[y == 0]\n",
    "class_1 = X[y == 1]\n",
    "plt.scatter(class_0[:, 0], class_0[:, 1], label='0 класс')\n",
    "plt.scatter(class_1[:, 0], class_1[:, 1], label='1 класс')\n",
    "\n",
    "plt.legend()\n",
    "plt.xlabel('X1')\n",
    "plt.ylabel('X2');"
   ]
  },
  {
   "cell_type": "code",
   "execution_count": 11,
   "id": "7c0ddf8d",
   "metadata": {},
   "outputs": [
    {
     "data": {
      "text/plain": [
       "LogisticRegression()"
      ]
     },
     "execution_count": 11,
     "metadata": {},
     "output_type": "execute_result"
    }
   ],
   "source": [
    "from sklearn.linear_model import LogisticRegression\n",
    "logreg = LogisticRegression()\n",
    "logreg.fit(X,y)"
   ]
  },
  {
   "cell_type": "markdown",
   "id": "648d2fd3",
   "metadata": {},
   "source": [
    "**Предскажем модель на всех данных, чтобы понять, насколько хорошо наша модель научилась предсказывать целевую переменную**"
   ]
  },
  {
   "cell_type": "code",
   "execution_count": 12,
   "id": "5a55702c",
   "metadata": {},
   "outputs": [],
   "source": [
    "pred = logreg.predict(X)"
   ]
  },
  {
   "cell_type": "markdown",
   "id": "a5a2caa0",
   "metadata": {},
   "source": [
    "Выведем рядом истинные значения целевой переменной и предсказанные моделью классы"
   ]
  },
  {
   "cell_type": "code",
   "execution_count": 16,
   "id": "5c0644e6",
   "metadata": {},
   "outputs": [
    {
     "data": {
      "text/html": [
       "<div>\n",
       "<style scoped>\n",
       "    .dataframe tbody tr th:only-of-type {\n",
       "        vertical-align: middle;\n",
       "    }\n",
       "\n",
       "    .dataframe tbody tr th {\n",
       "        vertical-align: top;\n",
       "    }\n",
       "\n",
       "    .dataframe thead th {\n",
       "        text-align: right;\n",
       "    }\n",
       "</style>\n",
       "<table border=\"1\" class=\"dataframe\">\n",
       "  <thead>\n",
       "    <tr style=\"text-align: right;\">\n",
       "      <th></th>\n",
       "      <th>y_true</th>\n",
       "      <th>y_pred</th>\n",
       "      <th>right</th>\n",
       "    </tr>\n",
       "  </thead>\n",
       "  <tbody>\n",
       "    <tr>\n",
       "      <th>0</th>\n",
       "      <td>1</td>\n",
       "      <td>0</td>\n",
       "      <td>False</td>\n",
       "    </tr>\n",
       "    <tr>\n",
       "      <th>1</th>\n",
       "      <td>0</td>\n",
       "      <td>0</td>\n",
       "      <td>True</td>\n",
       "    </tr>\n",
       "    <tr>\n",
       "      <th>2</th>\n",
       "      <td>1</td>\n",
       "      <td>0</td>\n",
       "      <td>False</td>\n",
       "    </tr>\n",
       "    <tr>\n",
       "      <th>3</th>\n",
       "      <td>1</td>\n",
       "      <td>1</td>\n",
       "      <td>True</td>\n",
       "    </tr>\n",
       "    <tr>\n",
       "      <th>4</th>\n",
       "      <td>1</td>\n",
       "      <td>1</td>\n",
       "      <td>True</td>\n",
       "    </tr>\n",
       "    <tr>\n",
       "      <th>5</th>\n",
       "      <td>1</td>\n",
       "      <td>1</td>\n",
       "      <td>True</td>\n",
       "    </tr>\n",
       "    <tr>\n",
       "      <th>6</th>\n",
       "      <td>0</td>\n",
       "      <td>0</td>\n",
       "      <td>True</td>\n",
       "    </tr>\n",
       "    <tr>\n",
       "      <th>7</th>\n",
       "      <td>0</td>\n",
       "      <td>0</td>\n",
       "      <td>True</td>\n",
       "    </tr>\n",
       "    <tr>\n",
       "      <th>8</th>\n",
       "      <td>1</td>\n",
       "      <td>1</td>\n",
       "      <td>True</td>\n",
       "    </tr>\n",
       "    <tr>\n",
       "      <th>9</th>\n",
       "      <td>1</td>\n",
       "      <td>0</td>\n",
       "      <td>False</td>\n",
       "    </tr>\n",
       "    <tr>\n",
       "      <th>10</th>\n",
       "      <td>0</td>\n",
       "      <td>0</td>\n",
       "      <td>True</td>\n",
       "    </tr>\n",
       "    <tr>\n",
       "      <th>11</th>\n",
       "      <td>0</td>\n",
       "      <td>0</td>\n",
       "      <td>True</td>\n",
       "    </tr>\n",
       "    <tr>\n",
       "      <th>12</th>\n",
       "      <td>1</td>\n",
       "      <td>1</td>\n",
       "      <td>True</td>\n",
       "    </tr>\n",
       "    <tr>\n",
       "      <th>13</th>\n",
       "      <td>1</td>\n",
       "      <td>1</td>\n",
       "      <td>True</td>\n",
       "    </tr>\n",
       "    <tr>\n",
       "      <th>14</th>\n",
       "      <td>0</td>\n",
       "      <td>0</td>\n",
       "      <td>True</td>\n",
       "    </tr>\n",
       "    <tr>\n",
       "      <th>15</th>\n",
       "      <td>0</td>\n",
       "      <td>1</td>\n",
       "      <td>False</td>\n",
       "    </tr>\n",
       "    <tr>\n",
       "      <th>16</th>\n",
       "      <td>0</td>\n",
       "      <td>0</td>\n",
       "      <td>True</td>\n",
       "    </tr>\n",
       "    <tr>\n",
       "      <th>17</th>\n",
       "      <td>0</td>\n",
       "      <td>0</td>\n",
       "      <td>True</td>\n",
       "    </tr>\n",
       "    <tr>\n",
       "      <th>18</th>\n",
       "      <td>1</td>\n",
       "      <td>1</td>\n",
       "      <td>True</td>\n",
       "    </tr>\n",
       "    <tr>\n",
       "      <th>19</th>\n",
       "      <td>0</td>\n",
       "      <td>0</td>\n",
       "      <td>True</td>\n",
       "    </tr>\n",
       "  </tbody>\n",
       "</table>\n",
       "</div>"
      ],
      "text/plain": [
       "    y_true  y_pred  right\n",
       "0        1       0  False\n",
       "1        0       0   True\n",
       "2        1       0  False\n",
       "3        1       1   True\n",
       "4        1       1   True\n",
       "5        1       1   True\n",
       "6        0       0   True\n",
       "7        0       0   True\n",
       "8        1       1   True\n",
       "9        1       0  False\n",
       "10       0       0   True\n",
       "11       0       0   True\n",
       "12       1       1   True\n",
       "13       1       1   True\n",
       "14       0       0   True\n",
       "15       0       1  False\n",
       "16       0       0   True\n",
       "17       0       0   True\n",
       "18       1       1   True\n",
       "19       0       0   True"
      ]
     },
     "execution_count": 16,
     "metadata": {},
     "output_type": "execute_result"
    }
   ],
   "source": [
    "pred_df = pd.DataFrame({'y_true':y,'y_pred':pred})\n",
    "pred_df['right'] = pred_df['y_true'] == pred_df['y_pred']\n",
    "pred_df"
   ]
  },
  {
   "cell_type": "markdown",
   "id": "05f641e9",
   "metadata": {},
   "source": [
    "Если сравним истину с предасказанным классом, то узнаем сколько раз модель ответила правильно - это и есть наша первая метрика Accuracy.\n",
    "\n",
    "\n",
    "Это наиболее очевидный и простой способ расчета качества предсказаний:\n",
    "\n",
    "$$accuracy(a,x) = \\frac{1}{l} \\sum^{l}_{i=1}[a(x_{i})=y_{i}].$$\n",
    "\n",
    "\n",
    "Доля правильных ответов может изменяться от 0 до 1, где 0 - модель ни разу не попала правильно, все её предсказания ошибочные, а 1 - модель предсказала всё идеально."
   ]
  },
  {
   "cell_type": "markdown",
   "id": "bcad9b04",
   "metadata": {},
   "source": [
    "Найдем объекты, на которых модель ошиблась:"
   ]
  },
  {
   "cell_type": "code",
   "execution_count": 19,
   "id": "4cab8a57",
   "metadata": {},
   "outputs": [],
   "source": [
    "wrong_objects_0_class = X[~(pred_df.right)&(pred_df.y_true.eq(0))]\n",
    "wrong_objects_1_class = X[~(pred_df.right)&(pred_df.y_true.eq(1))]"
   ]
  },
  {
   "cell_type": "markdown",
   "id": "5d16a096",
   "metadata": {},
   "source": [
    "И визуализируем, пометив зеленым цветом объекты 1 класса, на которых модель ошибочно сделала предсказания нулевого класса и красным цветом - объекты 0 класса, которые модель ошибочно отнесла к 1 классу."
   ]
  },
  {
   "cell_type": "code",
   "execution_count": 20,
   "id": "7057d2d8",
   "metadata": {},
   "outputs": [
    {
     "data": {
      "image/png": "[encoded data removed]",
      "text/plain": [
       "<Figure size 504x432 with 1 Axes>"
      ]
     },
     "metadata": {
      "needs_background": "light"
     },
     "output_type": "display_data"
    }
   ],
   "source": [
    "plt.figure(figsize=(7, 6))\n",
    "\n",
    "# визуализация данных по классам\n",
    "class_0 = X[y == 0]\n",
    "class_1 = X[y == 1]\n",
    "plt.scatter(class_0[:, 0], class_0[:, 1], label='0 класс')\n",
    "plt.scatter(class_1[:, 0], class_1[:, 1], label='1 класс')\n",
    "\n",
    "# визуализация ошибок по классам\n",
    "plt.scatter(wrong_objects_0_class[:, 0], wrong_objects_0_class[:, 1], c='r', label='Ошибочно предсказан 1', s=100)\n",
    "plt.scatter(wrong_objects_1_class[:, 0], wrong_objects_1_class[:, 1], c='g', label='Ошибочно предсказан 0', s=100)\n",
    "\n",
    "plt.legend()\n",
    "plt.xlabel('X')\n",
    "plt.ylabel('y');"
   ]
  },
  {
   "cell_type": "markdown",
   "id": "8503cb17",
   "metadata": {},
   "source": [
    "Ошибок вышло 4 штуки.\n",
    "Посчитаем, сколько раз модель сделала верное предсказание:"
   ]
  },
  {
   "cell_type": "code",
   "execution_count": 21,
   "id": "d75c8d15",
   "metadata": {},
   "outputs": [
    {
     "data": {
      "text/plain": [
       "16"
      ]
     },
     "execution_count": 21,
     "metadata": {},
     "output_type": "execute_result"
    }
   ],
   "source": [
    "pred_df[pred_df['right']].shape[0]"
   ]
  },
  {
   "cell_type": "markdown",
   "id": "a7d4fda1",
   "metadata": {},
   "source": [
    "Посчитаем долю правильно предсказанных в общем количестве предсказаний"
   ]
  },
  {
   "cell_type": "code",
   "execution_count": 32,
   "id": "d5ad9af3",
   "metadata": {},
   "outputs": [
    {
     "data": {
      "text/plain": [
       "0.8"
      ]
     },
     "execution_count": 32,
     "metadata": {},
     "output_type": "execute_result"
    }
   ],
   "source": [
    "pred_df['right'].sum()/pred_df.shape[0]"
   ]
  },
  {
   "cell_type": "markdown",
   "id": "8c64b2bc",
   "metadata": {},
   "source": [
    "Либо можем воспользоваться реализацией `sklearn'a`:"
   ]
  },
  {
   "cell_type": "code",
   "execution_count": 23,
   "id": "dfaf8f39",
   "metadata": {},
   "outputs": [
    {
     "data": {
      "text/plain": [
       "0.8"
      ]
     },
     "execution_count": 23,
     "metadata": {},
     "output_type": "execute_result"
    }
   ],
   "source": [
    "from sklearn.metrics import accuracy_score\n",
    "\n",
    "accuracy_score(pred_df['y_true'], pred_df['y_pred'])"
   ]
  },
  {
   "cell_type": "markdown",
   "id": "f7ef1017",
   "metadata": {},
   "source": [
    "Получили 0.8 или 80% - доля верных предсказаний относительно всех предсказаний."
   ]
  },
  {
   "cell_type": "markdown",
   "id": "43ed20da",
   "metadata": {},
   "source": [
    "Метрика accuracy хорошая, простая, но у неё есть пара проблем."
   ]
  },
  {
   "cell_type": "markdown",
   "id": "4009a4a3",
   "metadata": {},
   "source": [
    "### Дисбаланс классов"
   ]
  },
  {
   "cell_type": "markdown",
   "id": "d00a8d98",
   "metadata": {},
   "source": [
    "Представим, что в нашей выборке очень много объектов нулевого класса и совсем ничего объектов первого класса, к тому же такое встречается очень часто, примером служит задача предсказания мошеннических транзакций, или она ещё называется fraud detection: очень много совершается обычных транзакций и крайне мало транзакций со злым умыслом."
   ]
  },
  {
   "cell_type": "markdown",
   "id": "d7dd62c6",
   "metadata": {},
   "source": [
    "Сгенерируем такую выборку, где есть дисбаланс классов, объектов 0 класса в 9 раз больше, чем объектов 1 класса (`weights=(0.9, 0.1)`).  \n",
    "Для простоты понимания, будем считать, что 0 класс - это обычные транзакции в банке, а 1 класс - это подозрительные мошеннические транзакции."
   ]
  },
  {
   "cell_type": "code",
   "execution_count": 39,
   "id": "a67bd292",
   "metadata": {},
   "outputs": [
    {
     "data": {
      "text/plain": [
       "(array([[ 0.66930255, -0.35556485],\n",
       "        [ 0.96417816, -0.37583852],\n",
       "        [-1.1177634 , -0.85116212],\n",
       "        [-0.26257856, -1.50684503],\n",
       "        [ 1.27004352, -2.01184296],\n",
       "        [ 0.72576002,  0.53047004],\n",
       "        [-0.77546276, -0.9788468 ],\n",
       "        [ 1.03317819, -0.88253973],\n",
       "        [ 0.7545933 ,  1.11410377],\n",
       "        [ 0.37973272,  0.79063286],\n",
       "        [ 1.2610877 , -1.3003902 ],\n",
       "        [-2.44391337, -0.56099989],\n",
       "        [-0.66010918, -1.0843706 ],\n",
       "        [-0.90474756,  0.59452911],\n",
       "        [-2.51019507, -0.30991259],\n",
       "        [ 0.9153728 ,  0.08016006],\n",
       "        [ 1.28700068, -1.90827144],\n",
       "        [-1.94625628, -0.53314708],\n",
       "        [-0.85711456, -1.16420714],\n",
       "        [-1.33222706, -0.85982898]]),\n",
       " array([0, 0, 0, 0, 0, 1, 0, 0, 0, 0, 0, 0, 0, 1, 0, 0, 0, 0, 0, 0]))"
      ]
     },
     "execution_count": 39,
     "metadata": {},
     "output_type": "execute_result"
    }
   ],
   "source": [
    "from sklearn import datasets\n",
    "\n",
    "\n",
    "X_disbalance, y_disbalance = datasets.make_classification(\n",
    "    n_samples=20,\n",
    "    n_features=2,\n",
    "    n_informative=2,\n",
    "    n_redundant=0,\n",
    "    n_classes=2,\n",
    "    random_state = 2,\n",
    "    weights=(0.9, 0.1)\n",
    ")\n",
    "\n",
    "X_disbalance, y_disbalance"
   ]
  },
  {
   "cell_type": "markdown",
   "id": "d6522e9a",
   "metadata": {},
   "source": [
    "Получили 20 объектов, где 18 - объекты нулевого класса (нормальная транзакция) и только 2 объекта первого класса (мошенническая транзакция), визуализируем:"
   ]
  },
  {
   "cell_type": "code",
   "execution_count": 40,
   "id": "b0e5d669",
   "metadata": {},
   "outputs": [
    {
     "data": {
      "image/png": "[encoded data removed]",
      "text/plain": [
       "<Figure size 504x432 with 1 Axes>"
      ]
     },
     "metadata": {
      "needs_background": "light"
     },
     "output_type": "display_data"
    }
   ],
   "source": [
    "plt.figure(figsize=(7, 6))\n",
    "\n",
    "class_0 = X_disbalance[y_disbalance == 0]\n",
    "class_1 = X_disbalance[y_disbalance == 1]\n",
    "plt.scatter(class_0[:, 0], class_0[:, 1], label='не фрод')\n",
    "plt.scatter(class_1[:, 0], class_1[:, 1], label='фрод')\n",
    "\n",
    "plt.legend()\n",
    "plt.xlabel('X1')\n",
    "plt.ylabel('X2');"
   ]
  },
  {
   "cell_type": "markdown",
   "id": "d53be3ba",
   "metadata": {},
   "source": [
    "Если мы возьмем константную модель (a(x) = 0), которая всегда будет отвечать 0 класс на любой объект, который бы не видела, то получим приличную метрику accuracy:"
   ]
  },
  {
   "cell_type": "code",
   "execution_count": 41,
   "id": "05bd52f3",
   "metadata": {},
   "outputs": [
    {
     "data": {
      "text/plain": [
       "[0, 0, 0, 0, 0, 0, 0, 0, 0, 0, 0, 0, 0, 0, 0, 0, 0, 0, 0, 0]"
      ]
     },
     "execution_count": 41,
     "metadata": {},
     "output_type": "execute_result"
    }
   ],
   "source": [
    "pred = [0 for i in X_disbalance]\n",
    "pred"
   ]
  },
  {
   "cell_type": "code",
   "execution_count": 42,
   "id": "9c1f9e02",
   "metadata": {},
   "outputs": [
    {
     "data": {
      "text/html": [
       "<div>\n",
       "<style scoped>\n",
       "    .dataframe tbody tr th:only-of-type {\n",
       "        vertical-align: middle;\n",
       "    }\n",
       "\n",
       "    .dataframe tbody tr th {\n",
       "        vertical-align: top;\n",
       "    }\n",
       "\n",
       "    .dataframe thead th {\n",
       "        text-align: right;\n",
       "    }\n",
       "</style>\n",
       "<table border=\"1\" class=\"dataframe\">\n",
       "  <thead>\n",
       "    <tr style=\"text-align: right;\">\n",
       "      <th></th>\n",
       "      <th>y_true</th>\n",
       "      <th>y_pred</th>\n",
       "    </tr>\n",
       "  </thead>\n",
       "  <tbody>\n",
       "    <tr>\n",
       "      <th>0</th>\n",
       "      <td>0</td>\n",
       "      <td>0</td>\n",
       "    </tr>\n",
       "    <tr>\n",
       "      <th>1</th>\n",
       "      <td>0</td>\n",
       "      <td>0</td>\n",
       "    </tr>\n",
       "    <tr>\n",
       "      <th>2</th>\n",
       "      <td>0</td>\n",
       "      <td>0</td>\n",
       "    </tr>\n",
       "    <tr>\n",
       "      <th>3</th>\n",
       "      <td>0</td>\n",
       "      <td>0</td>\n",
       "    </tr>\n",
       "    <tr>\n",
       "      <th>4</th>\n",
       "      <td>0</td>\n",
       "      <td>0</td>\n",
       "    </tr>\n",
       "    <tr>\n",
       "      <th>5</th>\n",
       "      <td>1</td>\n",
       "      <td>0</td>\n",
       "    </tr>\n",
       "    <tr>\n",
       "      <th>6</th>\n",
       "      <td>0</td>\n",
       "      <td>0</td>\n",
       "    </tr>\n",
       "    <tr>\n",
       "      <th>7</th>\n",
       "      <td>0</td>\n",
       "      <td>0</td>\n",
       "    </tr>\n",
       "    <tr>\n",
       "      <th>8</th>\n",
       "      <td>0</td>\n",
       "      <td>0</td>\n",
       "    </tr>\n",
       "    <tr>\n",
       "      <th>9</th>\n",
       "      <td>0</td>\n",
       "      <td>0</td>\n",
       "    </tr>\n",
       "    <tr>\n",
       "      <th>10</th>\n",
       "      <td>0</td>\n",
       "      <td>0</td>\n",
       "    </tr>\n",
       "    <tr>\n",
       "      <th>11</th>\n",
       "      <td>0</td>\n",
       "      <td>0</td>\n",
       "    </tr>\n",
       "    <tr>\n",
       "      <th>12</th>\n",
       "      <td>0</td>\n",
       "      <td>0</td>\n",
       "    </tr>\n",
       "    <tr>\n",
       "      <th>13</th>\n",
       "      <td>1</td>\n",
       "      <td>0</td>\n",
       "    </tr>\n",
       "    <tr>\n",
       "      <th>14</th>\n",
       "      <td>0</td>\n",
       "      <td>0</td>\n",
       "    </tr>\n",
       "    <tr>\n",
       "      <th>15</th>\n",
       "      <td>0</td>\n",
       "      <td>0</td>\n",
       "    </tr>\n",
       "    <tr>\n",
       "      <th>16</th>\n",
       "      <td>0</td>\n",
       "      <td>0</td>\n",
       "    </tr>\n",
       "    <tr>\n",
       "      <th>17</th>\n",
       "      <td>0</td>\n",
       "      <td>0</td>\n",
       "    </tr>\n",
       "    <tr>\n",
       "      <th>18</th>\n",
       "      <td>0</td>\n",
       "      <td>0</td>\n",
       "    </tr>\n",
       "    <tr>\n",
       "      <th>19</th>\n",
       "      <td>0</td>\n",
       "      <td>0</td>\n",
       "    </tr>\n",
       "  </tbody>\n",
       "</table>\n",
       "</div>"
      ],
      "text/plain": [
       "    y_true  y_pred\n",
       "0        0       0\n",
       "1        0       0\n",
       "2        0       0\n",
       "3        0       0\n",
       "4        0       0\n",
       "5        1       0\n",
       "6        0       0\n",
       "7        0       0\n",
       "8        0       0\n",
       "9        0       0\n",
       "10       0       0\n",
       "11       0       0\n",
       "12       0       0\n",
       "13       1       0\n",
       "14       0       0\n",
       "15       0       0\n",
       "16       0       0\n",
       "17       0       0\n",
       "18       0       0\n",
       "19       0       0"
      ]
     },
     "execution_count": 42,
     "metadata": {},
     "output_type": "execute_result"
    }
   ],
   "source": [
    "pred_df_disbalance = pd.DataFrame({\n",
    "    'y_true': y_disbalance,\n",
    "    'y_pred': pred\n",
    "})\n",
    "\n",
    "pred_df_disbalance"
   ]
  },
  {
   "cell_type": "markdown",
   "id": "7650b1ff",
   "metadata": {},
   "source": [
    "Сделаем новый столбец в датафрейме, который будет показывать, угадала ли наша модель истинный класс, False - если предсказание неправильное и True - если правильное:"
   ]
  },
  {
   "cell_type": "code",
   "execution_count": 43,
   "id": "5171d084",
   "metadata": {},
   "outputs": [],
   "source": [
    "pred_df_disbalance['right'] = pred_df_disbalance['y_true']==pred_df_disbalance['y_pred']"
   ]
  },
  {
   "cell_type": "markdown",
   "id": "d74e92f4",
   "metadata": {},
   "source": [
    "Далее можем посчитать долю правильных ответов (количество значений True поделить на количество объектов):"
   ]
  },
  {
   "cell_type": "code",
   "execution_count": 44,
   "id": "d1e16296",
   "metadata": {},
   "outputs": [
    {
     "data": {
      "text/plain": [
       "0.9"
      ]
     },
     "execution_count": 44,
     "metadata": {},
     "output_type": "execute_result"
    }
   ],
   "source": [
    "pred_df_disbalance['right'].sum()/pred_df_disbalance.shape[0]"
   ]
  },
  {
   "cell_type": "markdown",
   "id": "73b9b4cf",
   "metadata": {},
   "source": [
    "Получается очень высокая доля правильных ответов, которая стремится к 1, но по факту, модель бесполезная, алгоритм отвечает всегда нулевым классом, модель никогда не будет отвечать первым классом. Так что метрика accuracy хоть и высокая, но говорить о качественной модели мы здесь не можем."
   ]
  },
  {
   "cell_type": "markdown",
   "id": "98fcaa07",
   "metadata": {},
   "source": [
    "Найдем объекты, на которых модель ошиблась:"
   ]
  },
  {
   "cell_type": "code",
   "execution_count": 45,
   "id": "6cf814d7",
   "metadata": {},
   "outputs": [],
   "source": [
    "wrong_objects_0_class = X_disbalance[~(pred_df_disbalance.right)&(pred_df_disbalance.y_true.eq(0))]\n",
    "wrong_objects_1_class = X_disbalance[~(pred_df_disbalance.right)&(pred_df_disbalance.y_true.eq(1))]"
   ]
  },
  {
   "cell_type": "markdown",
   "id": "ed9de679",
   "metadata": {},
   "source": [
    "И визуализируем, пометив зеленым цветом - объекты с мошеннической транзакцией, которые наша константная модель ошибочно отнесла к классу нормальной не фродовой транзакции"
   ]
  },
  {
   "cell_type": "code",
   "execution_count": 46,
   "id": "91e4b6f6",
   "metadata": {},
   "outputs": [
    {
     "data": {
      "image/png": "[encoded data removed]",
      "text/plain": [
       "<Figure size 504x432 with 1 Axes>"
      ]
     },
     "metadata": {
      "needs_background": "light"
     },
     "output_type": "display_data"
    }
   ],
   "source": [
    "plt.figure(figsize=(7, 6))\n",
    "\n",
    "# визуализация данных по классам\n",
    "class_0 = X_disbalance[y_disbalance == 0]\n",
    "class_1 = X_disbalance[y_disbalance == 1]\n",
    "plt.scatter(class_0[:, 0], class_0[:, 1], label='не фрод')\n",
    "plt.scatter(class_1[:, 0], class_1[:, 1], label='фрод')\n",
    "\n",
    "# визуализация ошибок по классам\n",
    "plt.scatter(wrong_objects_0_class[:, 0], wrong_objects_0_class[:, 1], c='r', label='Ошибочный фрод', s=100)\n",
    "plt.scatter(wrong_objects_1_class[:, 0], wrong_objects_1_class[:, 1], c='g', label='Ошибочный не фрод', s=100)\n",
    "\n",
    "plt.legend()\n",
    "plt.xlabel('X')\n",
    "plt.ylabel('y');"
   ]
  },
  {
   "cell_type": "markdown",
   "id": "71d4747f",
   "metadata": {},
   "source": [
    "Ошибок вышло 2 штуки, ни одну мошенническую транзакцию мы так и не нашли, а соответственно даже и не помогли банку."
   ]
  },
  {
   "cell_type": "markdown",
   "id": "99b6f23a",
   "metadata": {},
   "source": [
    "### Ошибки имеют разную цену"
   ]
  },
  {
   "cell_type": "markdown",
   "id": "e8dbc3ce",
   "metadata": {},
   "source": [
    "Теперь поговорим про другую проблему метрики accuracy. Продолжаем знакомиться с задачами банков, обучили модель кредитного скоринга, с помощью неё, банк принимает решение о выдачи кредита человеку.\n",
    "Модель предсказывает, кому кредит выдавать (добропорядочный гражданин и будет исправно платить), а кому нет (человек постоянно просрачивает платежи по кредиту)."
   ]
  },
  {
   "cell_type": "markdown",
   "id": "60dd3aa3",
   "metadata": {},
   "source": [
    "У нас вышло две модели, протестируем их работу на 10 клиентах.\n",
    "\n",
    "0 будем помечать клиентов, которые кредит не вернут, а 1 - которые вернут. Предсказания моделей соответственно так же, 0 - модель предсказывает не возврат кредита, значит кредит не выдаем, а 1 - клиент кредит выплатит, значит можем быть в нём уверенными и выдаем ему деньги."
   ]
  },
  {
   "cell_type": "code",
   "execution_count": 47,
   "id": "e12e6888",
   "metadata": {},
   "outputs": [
    {
     "data": {
      "text/html": [
       "<div>\n",
       "<style scoped>\n",
       "    .dataframe tbody tr th:only-of-type {\n",
       "        vertical-align: middle;\n",
       "    }\n",
       "\n",
       "    .dataframe tbody tr th {\n",
       "        vertical-align: top;\n",
       "    }\n",
       "\n",
       "    .dataframe thead th {\n",
       "        text-align: right;\n",
       "    }\n",
       "</style>\n",
       "<table border=\"1\" class=\"dataframe\">\n",
       "  <thead>\n",
       "    <tr style=\"text-align: right;\">\n",
       "      <th></th>\n",
       "      <th>clients</th>\n",
       "      <th>first_model</th>\n",
       "      <th>second_model</th>\n",
       "    </tr>\n",
       "  </thead>\n",
       "  <tbody>\n",
       "    <tr>\n",
       "      <th>0</th>\n",
       "      <td>0</td>\n",
       "      <td>0</td>\n",
       "      <td>0</td>\n",
       "    </tr>\n",
       "    <tr>\n",
       "      <th>1</th>\n",
       "      <td>0</td>\n",
       "      <td>0</td>\n",
       "      <td>0</td>\n",
       "    </tr>\n",
       "    <tr>\n",
       "      <th>2</th>\n",
       "      <td>0</td>\n",
       "      <td>1</td>\n",
       "      <td>0</td>\n",
       "    </tr>\n",
       "    <tr>\n",
       "      <th>3</th>\n",
       "      <td>0</td>\n",
       "      <td>1</td>\n",
       "      <td>0</td>\n",
       "    </tr>\n",
       "    <tr>\n",
       "      <th>4</th>\n",
       "      <td>0</td>\n",
       "      <td>1</td>\n",
       "      <td>0</td>\n",
       "    </tr>\n",
       "    <tr>\n",
       "      <th>5</th>\n",
       "      <td>1</td>\n",
       "      <td>1</td>\n",
       "      <td>1</td>\n",
       "    </tr>\n",
       "    <tr>\n",
       "      <th>6</th>\n",
       "      <td>1</td>\n",
       "      <td>1</td>\n",
       "      <td>1</td>\n",
       "    </tr>\n",
       "    <tr>\n",
       "      <th>7</th>\n",
       "      <td>1</td>\n",
       "      <td>1</td>\n",
       "      <td>0</td>\n",
       "    </tr>\n",
       "    <tr>\n",
       "      <th>8</th>\n",
       "      <td>1</td>\n",
       "      <td>1</td>\n",
       "      <td>0</td>\n",
       "    </tr>\n",
       "    <tr>\n",
       "      <th>9</th>\n",
       "      <td>1</td>\n",
       "      <td>1</td>\n",
       "      <td>0</td>\n",
       "    </tr>\n",
       "  </tbody>\n",
       "</table>\n",
       "</div>"
      ],
      "text/plain": [
       "   clients  first_model  second_model\n",
       "0        0            0             0\n",
       "1        0            0             0\n",
       "2        0            1             0\n",
       "3        0            1             0\n",
       "4        0            1             0\n",
       "5        1            1             1\n",
       "6        1            1             1\n",
       "7        1            1             0\n",
       "8        1            1             0\n",
       "9        1            1             0"
      ]
     },
     "execution_count": 47,
     "metadata": {},
     "output_type": "execute_result"
    }
   ],
   "source": [
    "clients = [0, 0, 0, 0, 0, \n",
    "           1, 1, 1, 1, 1]\n",
    "first_model_pred = [0, 0, 1, 1, 1,\n",
    "                    1, 1, 1, 1, 1]\n",
    "second_model_pred = [0, 0, 0, 0, 0,\n",
    "                     1, 1, 0, 0, 0]\n",
    "\n",
    "df = pd.DataFrame({\n",
    "    'clients': clients,\n",
    "    'first_model': first_model_pred,\n",
    "    'second_model': second_model_pred\n",
    "})\n",
    "\n",
    "df"
   ]
  },
  {
   "cell_type": "markdown",
   "id": "df4c5c0e",
   "metadata": {},
   "source": [
    "Выборка сбалансированная, 5 клиентов имеют класс 0, а 5 имеют класс 1. Посмотрим на предсказания моделей:\n",
    "\n",
    "1. Первая выдает кредит 8 людям, по итогу 5 людей кредит возвращают, а 3 не возвращают\n",
    "2. Вторая модель выдает кредит 2 людям, и все 2 возвращают.\n",
    "\n",
    "Можете подумать, какая модель лучше? Какую модель вы бы взяли себе в банк оценивать клиентов?"
   ]
  },
  {
   "cell_type": "markdown",
   "id": "faac4446",
   "metadata": {},
   "source": [
    "На самом деле правильного ответа нет, всё зависит от стратегии банка.  \n",
    "- Если банку хочется больше заработать, то лучше выдавать больше кредитов, значит, лучше пользоваться первой моделью.   \n",
    "- Если банку хочется меньше потерять, то лучше выдавать кредиты только проверенным людям, а значит, лучше пользоваться второй моделью."
   ]
  },
  {
   "cell_type": "markdown",
   "id": "f7d0eb96",
   "metadata": {},
   "source": [
    "Но при этом, метрика accuracy будет одинаковая на этих двух моделях, хотя они совершенно разные."
   ]
  },
  {
   "cell_type": "code",
   "execution_count": 63,
   "id": "9546bc09",
   "metadata": {},
   "outputs": [
    {
     "data": {
      "text/html": [
       "<div>\n",
       "<style scoped>\n",
       "    .dataframe tbody tr th:only-of-type {\n",
       "        vertical-align: middle;\n",
       "    }\n",
       "\n",
       "    .dataframe tbody tr th {\n",
       "        vertical-align: top;\n",
       "    }\n",
       "\n",
       "    .dataframe thead th {\n",
       "        text-align: right;\n",
       "    }\n",
       "</style>\n",
       "<table border=\"1\" class=\"dataframe\">\n",
       "  <thead>\n",
       "    <tr style=\"text-align: right;\">\n",
       "      <th></th>\n",
       "      <th>clients</th>\n",
       "      <th>first_model</th>\n",
       "      <th>second_model</th>\n",
       "      <th>first_model_right</th>\n",
       "      <th>second_model_right</th>\n",
       "    </tr>\n",
       "  </thead>\n",
       "  <tbody>\n",
       "    <tr>\n",
       "      <th>0</th>\n",
       "      <td>0</td>\n",
       "      <td>0</td>\n",
       "      <td>0</td>\n",
       "      <td>True</td>\n",
       "      <td>True</td>\n",
       "    </tr>\n",
       "    <tr>\n",
       "      <th>1</th>\n",
       "      <td>0</td>\n",
       "      <td>0</td>\n",
       "      <td>0</td>\n",
       "      <td>True</td>\n",
       "      <td>True</td>\n",
       "    </tr>\n",
       "    <tr>\n",
       "      <th>2</th>\n",
       "      <td>0</td>\n",
       "      <td>1</td>\n",
       "      <td>0</td>\n",
       "      <td>False</td>\n",
       "      <td>True</td>\n",
       "    </tr>\n",
       "    <tr>\n",
       "      <th>3</th>\n",
       "      <td>0</td>\n",
       "      <td>1</td>\n",
       "      <td>0</td>\n",
       "      <td>False</td>\n",
       "      <td>True</td>\n",
       "    </tr>\n",
       "    <tr>\n",
       "      <th>4</th>\n",
       "      <td>0</td>\n",
       "      <td>1</td>\n",
       "      <td>0</td>\n",
       "      <td>False</td>\n",
       "      <td>True</td>\n",
       "    </tr>\n",
       "    <tr>\n",
       "      <th>5</th>\n",
       "      <td>1</td>\n",
       "      <td>1</td>\n",
       "      <td>1</td>\n",
       "      <td>True</td>\n",
       "      <td>True</td>\n",
       "    </tr>\n",
       "    <tr>\n",
       "      <th>6</th>\n",
       "      <td>1</td>\n",
       "      <td>1</td>\n",
       "      <td>1</td>\n",
       "      <td>True</td>\n",
       "      <td>True</td>\n",
       "    </tr>\n",
       "    <tr>\n",
       "      <th>7</th>\n",
       "      <td>1</td>\n",
       "      <td>1</td>\n",
       "      <td>0</td>\n",
       "      <td>True</td>\n",
       "      <td>False</td>\n",
       "    </tr>\n",
       "    <tr>\n",
       "      <th>8</th>\n",
       "      <td>1</td>\n",
       "      <td>1</td>\n",
       "      <td>0</td>\n",
       "      <td>True</td>\n",
       "      <td>False</td>\n",
       "    </tr>\n",
       "    <tr>\n",
       "      <th>9</th>\n",
       "      <td>1</td>\n",
       "      <td>1</td>\n",
       "      <td>0</td>\n",
       "      <td>True</td>\n",
       "      <td>False</td>\n",
       "    </tr>\n",
       "  </tbody>\n",
       "</table>\n",
       "</div>"
      ],
      "text/plain": [
       "   clients  first_model  second_model  first_model_right  second_model_right\n",
       "0        0            0             0               True                True\n",
       "1        0            0             0               True                True\n",
       "2        0            1             0              False                True\n",
       "3        0            1             0              False                True\n",
       "4        0            1             0              False                True\n",
       "5        1            1             1               True                True\n",
       "6        1            1             1               True                True\n",
       "7        1            1             0               True               False\n",
       "8        1            1             0               True               False\n",
       "9        1            1             0               True               False"
      ]
     },
     "execution_count": 63,
     "metadata": {},
     "output_type": "execute_result"
    }
   ],
   "source": [
    "df['first_model_right'] = df['clients'] == df['first_model']\n",
    "df['second_model_right'] = df['clients'] == df['second_model']\n",
    "df"
   ]
  },
  {
   "cell_type": "code",
   "execution_count": 64,
   "id": "eb029501",
   "metadata": {},
   "outputs": [
    {
     "name": "stdout",
     "output_type": "stream",
     "text": [
      "Accuracy первой модели 0.7\n",
      "Accuracy второй модели 0.7\n"
     ]
    }
   ],
   "source": [
    "print(f\"Accuracy первой модели {df['first_model_right'].sum() / df.shape[0]}\")\n",
    "print(f\"Accuracy второй модели {df['second_model_right'].sum() / df.shape[0]}\")"
   ]
  },
  {
   "cell_type": "markdown",
   "id": "9350884a",
   "metadata": {},
   "source": [
    "Так получается из-за того, что метрика accuracy берет в расчет только правильные срабатывания на всех классах, поэтому обе модели получились одинаково хорошими по этой метрике, ведь они вдвоем дали одинаковое количество правильных ответов, по 7 штук, только вот у них были разные ошибки. Давайте их найдем.\n",
    "\n",
    "Сначала посмотрим на ошибки первой модели:"
   ]
  },
  {
   "cell_type": "code",
   "execution_count": 65,
   "id": "c4f7a6a5",
   "metadata": {},
   "outputs": [
    {
     "data": {
      "text/html": [
       "<div>\n",
       "<style scoped>\n",
       "    .dataframe tbody tr th:only-of-type {\n",
       "        vertical-align: middle;\n",
       "    }\n",
       "\n",
       "    .dataframe tbody tr th {\n",
       "        vertical-align: top;\n",
       "    }\n",
       "\n",
       "    .dataframe thead th {\n",
       "        text-align: right;\n",
       "    }\n",
       "</style>\n",
       "<table border=\"1\" class=\"dataframe\">\n",
       "  <thead>\n",
       "    <tr style=\"text-align: right;\">\n",
       "      <th></th>\n",
       "      <th>clients</th>\n",
       "      <th>first_model</th>\n",
       "      <th>second_model</th>\n",
       "      <th>first_model_right</th>\n",
       "      <th>second_model_right</th>\n",
       "    </tr>\n",
       "  </thead>\n",
       "  <tbody>\n",
       "    <tr>\n",
       "      <th>2</th>\n",
       "      <td>0</td>\n",
       "      <td>1</td>\n",
       "      <td>0</td>\n",
       "      <td>False</td>\n",
       "      <td>True</td>\n",
       "    </tr>\n",
       "    <tr>\n",
       "      <th>3</th>\n",
       "      <td>0</td>\n",
       "      <td>1</td>\n",
       "      <td>0</td>\n",
       "      <td>False</td>\n",
       "      <td>True</td>\n",
       "    </tr>\n",
       "    <tr>\n",
       "      <th>4</th>\n",
       "      <td>0</td>\n",
       "      <td>1</td>\n",
       "      <td>0</td>\n",
       "      <td>False</td>\n",
       "      <td>True</td>\n",
       "    </tr>\n",
       "  </tbody>\n",
       "</table>\n",
       "</div>"
      ],
      "text/plain": [
       "   clients  first_model  second_model  first_model_right  second_model_right\n",
       "2        0            1             0              False                True\n",
       "3        0            1             0              False                True\n",
       "4        0            1             0              False                True"
      ]
     },
     "execution_count": 65,
     "metadata": {},
     "output_type": "execute_result"
    }
   ],
   "source": [
    "# отсортируемся по ошибке в столбике first_model_right\n",
    "df[~df['first_model_right']]"
   ]
  },
  {
   "cell_type": "code",
   "execution_count": 66,
   "id": "fc88d8d5",
   "metadata": {},
   "outputs": [
    {
     "data": {
      "text/html": [
       "<div>\n",
       "<style scoped>\n",
       "    .dataframe tbody tr th:only-of-type {\n",
       "        vertical-align: middle;\n",
       "    }\n",
       "\n",
       "    .dataframe tbody tr th {\n",
       "        vertical-align: top;\n",
       "    }\n",
       "\n",
       "    .dataframe thead th {\n",
       "        text-align: right;\n",
       "    }\n",
       "</style>\n",
       "<table border=\"1\" class=\"dataframe\">\n",
       "  <thead>\n",
       "    <tr style=\"text-align: right;\">\n",
       "      <th></th>\n",
       "      <th>clients</th>\n",
       "      <th>first_model</th>\n",
       "    </tr>\n",
       "  </thead>\n",
       "  <tbody>\n",
       "    <tr>\n",
       "      <th>2</th>\n",
       "      <td>0</td>\n",
       "      <td>1</td>\n",
       "    </tr>\n",
       "    <tr>\n",
       "      <th>3</th>\n",
       "      <td>0</td>\n",
       "      <td>1</td>\n",
       "    </tr>\n",
       "    <tr>\n",
       "      <th>4</th>\n",
       "      <td>0</td>\n",
       "      <td>1</td>\n",
       "    </tr>\n",
       "  </tbody>\n",
       "</table>\n",
       "</div>"
      ],
      "text/plain": [
       "   clients  first_model\n",
       "2        0            1\n",
       "3        0            1\n",
       "4        0            1"
      ]
     },
     "execution_count": 66,
     "metadata": {},
     "output_type": "execute_result"
    }
   ],
   "source": [
    "# и выведем только истинные значения и предсказания первой моделью\n",
    "df[~df['first_model_right']][['clients', 'first_model']]"
   ]
  },
  {
   "cell_type": "markdown",
   "id": "e7800724",
   "metadata": {},
   "source": [
    "В этих трех ошибках первая модель ошибочно выдала кредит 3 людям, которые и не планировали его выплачивать."
   ]
  },
  {
   "cell_type": "markdown",
   "id": "f64dd097",
   "metadata": {},
   "source": [
    "Теперь очередь второй модели:"
   ]
  },
  {
   "cell_type": "code",
   "execution_count": 67,
   "id": "4f8228f8",
   "metadata": {},
   "outputs": [
    {
     "data": {
      "text/html": [
       "<div>\n",
       "<style scoped>\n",
       "    .dataframe tbody tr th:only-of-type {\n",
       "        vertical-align: middle;\n",
       "    }\n",
       "\n",
       "    .dataframe tbody tr th {\n",
       "        vertical-align: top;\n",
       "    }\n",
       "\n",
       "    .dataframe thead th {\n",
       "        text-align: right;\n",
       "    }\n",
       "</style>\n",
       "<table border=\"1\" class=\"dataframe\">\n",
       "  <thead>\n",
       "    <tr style=\"text-align: right;\">\n",
       "      <th></th>\n",
       "      <th>clients</th>\n",
       "      <th>first_model</th>\n",
       "      <th>second_model</th>\n",
       "      <th>first_model_right</th>\n",
       "      <th>second_model_right</th>\n",
       "    </tr>\n",
       "  </thead>\n",
       "  <tbody>\n",
       "    <tr>\n",
       "      <th>7</th>\n",
       "      <td>1</td>\n",
       "      <td>1</td>\n",
       "      <td>0</td>\n",
       "      <td>True</td>\n",
       "      <td>False</td>\n",
       "    </tr>\n",
       "    <tr>\n",
       "      <th>8</th>\n",
       "      <td>1</td>\n",
       "      <td>1</td>\n",
       "      <td>0</td>\n",
       "      <td>True</td>\n",
       "      <td>False</td>\n",
       "    </tr>\n",
       "    <tr>\n",
       "      <th>9</th>\n",
       "      <td>1</td>\n",
       "      <td>1</td>\n",
       "      <td>0</td>\n",
       "      <td>True</td>\n",
       "      <td>False</td>\n",
       "    </tr>\n",
       "  </tbody>\n",
       "</table>\n",
       "</div>"
      ],
      "text/plain": [
       "   clients  first_model  second_model  first_model_right  second_model_right\n",
       "7        1            1             0               True               False\n",
       "8        1            1             0               True               False\n",
       "9        1            1             0               True               False"
      ]
     },
     "execution_count": 67,
     "metadata": {},
     "output_type": "execute_result"
    }
   ],
   "source": [
    "# отсортируемся по ошибке в столбике second_model_right\n",
    "df[~df['second_model_right']]"
   ]
  },
  {
   "cell_type": "code",
   "execution_count": 68,
   "id": "10640aaf",
   "metadata": {},
   "outputs": [
    {
     "data": {
      "text/html": [
       "<div>\n",
       "<style scoped>\n",
       "    .dataframe tbody tr th:only-of-type {\n",
       "        vertical-align: middle;\n",
       "    }\n",
       "\n",
       "    .dataframe tbody tr th {\n",
       "        vertical-align: top;\n",
       "    }\n",
       "\n",
       "    .dataframe thead th {\n",
       "        text-align: right;\n",
       "    }\n",
       "</style>\n",
       "<table border=\"1\" class=\"dataframe\">\n",
       "  <thead>\n",
       "    <tr style=\"text-align: right;\">\n",
       "      <th></th>\n",
       "      <th>clients</th>\n",
       "      <th>second_model</th>\n",
       "    </tr>\n",
       "  </thead>\n",
       "  <tbody>\n",
       "    <tr>\n",
       "      <th>7</th>\n",
       "      <td>1</td>\n",
       "      <td>0</td>\n",
       "    </tr>\n",
       "    <tr>\n",
       "      <th>8</th>\n",
       "      <td>1</td>\n",
       "      <td>0</td>\n",
       "    </tr>\n",
       "    <tr>\n",
       "      <th>9</th>\n",
       "      <td>1</td>\n",
       "      <td>0</td>\n",
       "    </tr>\n",
       "  </tbody>\n",
       "</table>\n",
       "</div>"
      ],
      "text/plain": [
       "   clients  second_model\n",
       "7        1             0\n",
       "8        1             0\n",
       "9        1             0"
      ]
     },
     "execution_count": 68,
     "metadata": {},
     "output_type": "execute_result"
    }
   ],
   "source": [
    "# и выведем только истинные значения и предсказания второй моделью\n",
    "df[~df['second_model_right']][['clients', 'second_model']]"
   ]
  },
  {
   "cell_type": "markdown",
   "id": "20d53ddd",
   "metadata": {},
   "source": [
    "А здесь всё наоборот. Модель не стала одобрять кредиты людям, которые были в силах всё исправно платить."
   ]
  },
  {
   "cell_type": "markdown",
   "id": "2322e8f1",
   "metadata": {},
   "source": [
    "Вот они и есть разные ошибки, которые могут по-разному влиять на наши модели и на принимаемые нами решения о полезности обученных алгоритмов."
   ]
  },
  {
   "cell_type": "markdown",
   "id": "3b8a94d7",
   "metadata": {},
   "source": [
    "<table>\n",
    "\n",
    "<tr>\n",
    "<td>\n",
    "Метрика\n",
    "</td>\n",
    "\n",
    "<td>\n",
    "Формула\n",
    "</td>\n",
    "\n",
    "<td>\n",
    "Диапазоны значений\n",
    "</td>\n",
    "\n",
    "<td>\n",
    "Идеальное значение\n",
    "</td>\n",
    "</tr>\n",
    "\n",
    "<tr>\n",
    "<td>\n",
    "Accuracy\n",
    "</td>\n",
    "\n",
    "<td>\n",
    "$$accuracy(a,x) = \\frac{1}{l} \\sum^{l}_{i=1}[a(x_{i})=y_{i}].$$\n",
    "\n",
    "</td>\n",
    "\n",
    "<td>\n",
    "[0, 1]\n",
    "</td>\n",
    "\n",
    "<td>\n",
    "1\n",
    "</td>\n",
    "</tr>\n",
    "\n",
    "<table>"
   ]
  },
  {
   "cell_type": "markdown",
   "id": "8fe73976",
   "metadata": {},
   "source": [
    "Мы посмотрели на метрику для задачи классификации Accuracy.   \n",
    "Метрика хороша для\n",
    "- Начала работы над новой задачей\n",
    "- Для выборок без дисбаланса классов\n",
    "- Для задач, где ошибки имеют одинаковый вес"
   ]
  }
 ],
 "metadata": {
  "kernelspec": {
   "display_name": "Python 3 (ipykernel)",
   "language": "python",
   "name": "python3"
  },
  "language_info": {
   "codemirror_mode": {
    "name": "ipython",
    "version": 3
   },
   "file_extension": ".py",
   "mimetype": "text/x-python",
   "name": "python",
   "nbconvert_exporter": "python",
   "pygments_lexer": "ipython3",
   "version": "3.9.7"
  }
 },
 "nbformat": 4,
 "nbformat_minor": 5
}
